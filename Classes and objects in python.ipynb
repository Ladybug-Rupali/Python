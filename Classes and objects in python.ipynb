{
 "cells": [
  {
   "cell_type": "markdown",
   "id": "9fd7db36-2c4f-4868-925f-5c81e1f6d31a",
   "metadata": {
    "editable": true,
    "slideshow": {
     "slide_type": ""
    },
    "tags": []
   },
   "source": [
    "# 11. Classes and objects\n",
    "\n",
    "* __Python is an object-oriented programming language.__\n",
    "* __In Procedure-oriented language, the focus is on function but in Python, it is on object.__\n",
    "* __An object is a collection of data (variables).__\n",
    "* __Method is Function.__\n",
    "* __Class is a blueprint of an object.__\n",
    "* __Function defined by def keyword.__\n",
    "* __Class defined by class keyword.__\n",
    "* __The first string inside a class is called docstring and it is the brief description of the class.__\n",
    "* __Although it is not mandatory it is highly recommended.__"
   ]
  },
  {
   "cell_type": "code",
   "execution_count": 4,
   "id": "5297a376-3b6f-4398-ac54-858d8b806007",
   "metadata": {},
   "outputs": [
    {
     "name": "stdout",
     "output_type": "stream",
     "text": [
      "10\n"
     ]
    }
   ],
   "source": [
    "class data:\n",
    "    num = 10\n",
    "\n",
    "print(data.num)"
   ]
  },
  {
   "cell_type": "markdown",
   "id": "11eaa016-8002-426c-9cdc-94ab274efddc",
   "metadata": {},
   "source": [
    "### self parameter\n",
    "\n",
    "* __The self parameter is a reference to the current instance of the class, it is used to access variables that belong to the class.__\n",
    "* __It can be named anything but globally it is used as 'self'.__"
   ]
  },
  {
   "cell_type": "code",
   "execution_count": 4,
   "id": "a11aec3c-49e7-436f-94cb-3a00930ce6db",
   "metadata": {},
   "outputs": [
    {
     "name": "stdout",
     "output_type": "stream",
     "text": [
      "Thar\n",
      "Pink\n",
      "20 lacs\n"
     ]
    }
   ],
   "source": [
    "class Mahindra: #Class is a blueprint of an object.\n",
    "    def __init__(self,name,color,price): # Initialise instance or method\n",
    "        self.name = name\n",
    "        self.color = color\n",
    "        self.price = price \n",
    "\n",
    "car = Mahindra(\"Thar\",\"Pink\",\"20 lacs\")\n",
    "print(car.name)\n",
    "print(car.color)\n",
    "print(car.price)\n",
    "    "
   ]
  },
  {
   "cell_type": "code",
   "execution_count": 6,
   "id": "bc6321e1-4c60-4e05-8430-b8188dad00c2",
   "metadata": {},
   "outputs": [
    {
     "name": "stdout",
     "output_type": "stream",
     "text": [
      "Your model is : Thar\n",
      "Your car color is : Pink\n",
      "Your car price is : 20 lacs\n"
     ]
    }
   ],
   "source": [
    "class Mahindra: #Class is a blueprint of an object.\n",
    "    def __init__(self,name,color,price): #  Constructor Initialise instance or method\n",
    "        self.name = name\n",
    "        self.color = color\n",
    "        self.price = pr ice\n",
    "    def details(self):\n",
    "        print(f\"Your model is : {self.name}\")\n",
    "        print(f\"Your car color is : {self.color}\")\n",
    "        print(f\"Your car price is : {self.price}\")\n",
    "\n",
    "car = Mahindra(\"Thar\",\"Pink\",\"20 lacs\")\n",
    "car.details()\n"
   ]
  },
  {
   "cell_type": "code",
   "execution_count": 24,
   "id": "a8d531b7-46e5-46c5-bede-49b208844bc2",
   "metadata": {},
   "outputs": [
    {
     "name": "stdin",
     "output_type": "stream",
     "text": [
      "Enter your name Rupali\n",
      "Enter your age 26 years\n",
      "Enter your roll_number 101\n",
      "Enter your college name Fergusson College\n",
      "Enter your email address xyz@gmail.com\n",
      "Enter your address Pune\n",
      "Enter your phone number 123443546\n"
     ]
    },
    {
     "name": "stdout",
     "output_type": "stream",
     "text": [
      "--------------------------------\n",
      "Your name is : Rupali\n",
      "Your age is : 26 years\n",
      "Your roll no is : 101\n",
      "Your college name  is : Fergusson College\n",
      "Your email id is : xyz@gmail.com\n",
      "Your address is : Pune\n",
      "Your phone number is : 123443546\n"
     ]
    }
   ],
   "source": [
    "class student:\n",
    "    def __init__(self,name,age,roll_no,college,email,add,phone):\n",
    "        self.name = name\n",
    "        self.age = age\n",
    "        self.roll_no = roll_no\n",
    "        self.college = college\n",
    "        self.email = email\n",
    "        self.add = add\n",
    "        self.phone = phone\n",
    "    \n",
    "    def fill_details(self):\n",
    "        print('--------------------------------')\n",
    "        print(f\"Your name is : {self.name}\")\n",
    "        print(f\"Your age is : {self.age}\")\n",
    "        print(f\"Your roll no is : {self.roll_no}\")\n",
    "        print(f\"Your college name  is : {self.college}\")\n",
    "        print(f\"Your email id is : {self.email}\")\n",
    "        print(f\"Your address is : {self.add}\")\n",
    "        print(f\"Your phone number is : {self.phone}\")\n",
    "        \n",
    "name = input(\"Enter your name\")\n",
    "age = input(\"Enter your age\")\n",
    "roll_no = input(\"Enter your roll_number\")\n",
    "college = input(\"Enter your college name\")\n",
    "email = input(\"Enter your email address\")\n",
    "add = input(\"Enter your address\")\n",
    "phone = input(\"Enter your phone number\")\n",
    "\n",
    "student_1 = student(name,age,roll_no,college,email,add,phone)\n",
    "student_1.fill_details()\n",
    "        "
   ]
  },
  {
   "cell_type": "code",
   "execution_count": 37,
   "id": "6e743245-46e4-4b04-83d5-aa85eb8206a8",
   "metadata": {},
   "outputs": [
    {
     "name": "stdout",
     "output_type": "stream",
     "text": [
      "* Comic->>\n",
      "Book name is : Nagraj\n",
      "Book is written by: Parshuram Sharma\n",
      "The Nagraj is published by : Raj Comics\n",
      "\n",
      "---------------------------------------------------------\n",
      "\n",
      "* Autobiography->>\n",
      "Book name is : Wings of fire\n",
      "Book is written by: A.P.J.Abdul Kalam\n",
      "The Wings of fire is published by : Universities Press\n",
      "\n",
      "---------------------------------------------------------\n",
      "\n",
      "* Novel->>\n",
      "Book name is : Wise and Otherwise\n",
      "Book is written by: Sudha Murty\n",
      "The Wise and Otherwise is published by : Mehta Publishing House\n",
      "\n",
      "---------------------------------------------------------\n",
      "\n",
      "* Fiction->>\n",
      "Book name is : Harry Potter and Philosopher's Stone\n",
      "Book is written by: J.K.Rowling\n",
      "The Harry Potter and Philosopher's Stone is published by : Bloomsbury\n",
      "\n",
      "---------------------------------------------------------\n",
      "\n",
      "* Romance->>\n",
      "Book name is : Half Girlfriend\n",
      "Book is written by: Chetan Bahgat\n",
      "The Half Girlfriend is published by : Rupa and Co.\n",
      "\n",
      "---------------------------------------------------------\n",
      "\n"
     ]
    }
   ],
   "source": [
    "class book:\n",
    "    def __init__(self,name,author,publish):\n",
    "        self.name = name\n",
    "        self.author = author\n",
    "        self.publish = publish\n",
    "    def details(self):\n",
    "        print(f\"Book name is : {self.name}\")\n",
    "        print(f\"Book is written by: {self.author}\")\n",
    "        print(f\"The {self.name} is published by : {self.publish}\")\n",
    "        \n",
    "comic = book(\"Nagraj\",\"Parshuram Sharma\",\"Raj Comics\")\n",
    "autobiography = book(\"Wings of fire\",\"A.P.J.Abdul Kalam\",\"Universities Press\")\n",
    "novel = book(\"Wise and Otherwise\",\"Sudha Murty\",\"Mehta Publishing House\")\n",
    "fiction =book(\"Harry Potter and Philosopher's Stone\",\"J.K.Rowling\",\"Bloomsbury\")\n",
    "romance =book(\"Half Girlfriend\",\"Chetan Bahgat\",\"Rupa and Co.\")\n",
    "\n",
    "print(\"* Comic->>\")\n",
    "comic.details()\n",
    "print(\"\\n---------------------------------------------------------\\n\")\n",
    "print(\"* Autobiography->>\")\n",
    "autobiography.details()\n",
    "print(\"\\n---------------------------------------------------------\\n\")\n",
    "print(\"* Novel->>\")\n",
    "novel.details()\n",
    "print(\"\\n---------------------------------------------------------\\n\")\n",
    "print(\"* Fiction->>\")\n",
    "fiction.details()\n",
    "print(\"\\n---------------------------------------------------------\\n\")\n",
    "print(\"* Romance->>\")\n",
    "romance.details()\n",
    "print(\"\\n---------------------------------------------------------\\n\")"
   ]
  },
  {
   "cell_type": "code",
   "execution_count": 1,
   "id": "4be88ddc-f525-4c0a-bdc6-b66638cc1b8d",
   "metadata": {},
   "outputs": [
    {
     "name": "stdout",
     "output_type": "stream",
     "text": [
      "\n",
      "----------------------------------------------------------------------------------------------------------------------------------\n",
      "\n",
      "* Tiger -->>\n",
      "\n",
      "Scientific name of animal is : Panthera tigris\n",
      "kingdom of animal is : Animalia\n",
      "phylum of animal is : Chordata\n",
      "class1 of animal is : Mammalia\n",
      "order of animal is : Carnivora\n",
      "family of animal is : Felidae\n",
      "genus of animal is : Panthera\n",
      "species of animal is : tigris\n",
      "\n",
      "----------------------------------------------------------------------------------------------------------------------------------\n",
      "\n",
      "* Horsee -->>\n",
      "\n",
      "Scientific name of animal is : Equus caballus\n",
      "kingdom of animal is : Animalia\n",
      "phylum of animal is : Chordata\n",
      "class1 of animal is : Mammalia\n",
      "order of animal is : Perissodactyla\n",
      "family of animal is : Equidae\n",
      "genus of animal is : Equus\n",
      "species of animal is : E. ferus\n",
      "\n",
      "----------------------------------------------------------------------------------------------------------------------------------\n",
      "\n",
      "* Dog -->>\n",
      "\n",
      "Scientific name of animal is : Canis lupus familiarise\n",
      "kingdom of animal is : Animalia\n",
      "phylum of animal is : Chordata\n",
      "class1 of animal is : Mammalia\n",
      "order of animal is : Carnivora\n",
      "family of animal is : Canidae\n",
      "genus of animal is : Canis\n",
      "species of animal is : Canis lupus\n",
      "\n",
      "----------------------------------------------------------------------------------------------------------------------------------\n",
      "\n",
      "* Cat -->>\n",
      "\n",
      "Scientific name of animal is : Felis catus\n",
      "kingdom of animal is : Animalia\n",
      "phylum of animal is : Chordata\n",
      "class1 of animal is : Mammalia\n",
      "order of animal is : Carnivora\n",
      "family of animal is : Felidae\n",
      "genus of animal is : Felis\n",
      "species of animal is : Catus\n",
      "\n",
      "----------------------------------------------------------------------------------------------------------------------------------\n",
      "\n"
     ]
    }
   ],
   "source": [
    "#Cleat a class animal\n",
    "#Construct the following : (1) kingdom, (2) phylum or division, (3) class1, (4) order, (5) family, (6) genus, and (7) species.\n",
    "# For animals Tiger, Horse, Cat, Dog\n",
    "\n",
    "class animal:\n",
    "    def __init__(self,name,kingdom,phylum,class1,order,family,genus,species):\n",
    "        self.name = name\n",
    "        self.kingdom = kingdom\n",
    "        self.phylum = phylum\n",
    "        self.class1 = class1\n",
    "        self.order = order\n",
    "        self.family = family\n",
    "        self.genus = genus\n",
    "        self.species = species\n",
    "    def details(self):\n",
    "        print(f\"Scientific name of animal is : {self.name}\")\n",
    "        print(f\"kingdom of animal is : {self.kingdom}\")\n",
    "        print(f\"phylum of animal is : {self.phylum}\")\n",
    "        print(f\"class1 of animal is : {self.class1}\")\n",
    "        print(f\"order of animal is : {self.order}\")\n",
    "        print(f\"family of animal is : {self.family}\")\n",
    "        print(f\"genus of animal is : {self.genus}\")\n",
    "        print(f\"species of animal is : {self.species}\")\n",
    "\n",
    "Tiger = animal(\"Panthera tigris\",\"Animalia\",\"Chordata\",\"Mammalia\",\"Carnivora\",\"Felidae\",\"Panthera\",\"tigris\")\n",
    "Horse =animal(\"Equus caballus\",\"Animalia\",\"Chordata\",\"Mammalia\",\"Perissodactyla\",\"Equidae\",\"Equus\",\"E. ferus\")\n",
    "Dog = animal(\"Canis lupus familiarise\",\"Animalia\",\"Chordata\",\"Mammalia\",\"Carnivora\",\"Canidae\",\"Canis\",\"Canis lupus\")\n",
    "Cat = animal(\"Felis catus\",\"Animalia\",\"Chordata\",\"Mammalia\",\"Carnivora\",\"Felidae\",\"Felis\",\"Catus\")\n",
    "\n",
    "print(\"\\n----------------------------------------------------------------------------------------------------------------------------------\\n\")\n",
    "print(\"* Tiger -->>\\n\")\n",
    "Tiger.details()\n",
    "print(\"\\n----------------------------------------------------------------------------------------------------------------------------------\\n\")\n",
    "print(\"* Horsee -->>\\n\")\n",
    "Horse.details()\n",
    "print(\"\\n----------------------------------------------------------------------------------------------------------------------------------\\n\")\n",
    "print(\"* Dog -->>\\n\")\n",
    "Dog.details()\n",
    "print(\"\\n----------------------------------------------------------------------------------------------------------------------------------\\n\")\n",
    "print(\"* Cat -->>\\n\")\n",
    "Cat.details()\n",
    "print(\"\\n----------------------------------------------------------------------------------------------------------------------------------\\n\")"
   ]
  },
  {
   "cell_type": "code",
   "execution_count": null,
   "id": "107e7d5a-8ed5-46c1-abc3-d8f7940c1475",
   "metadata": {},
   "outputs": [],
   "source": [
    "#Area and circumference of circle using class and object\n",
    "\n",
    "import math\n",
    "class area:\n",
    "    def __init__(self,radius):\n",
    "        self.radius = radius\n",
    "    def calc(self):\n",
    "        area = math.pi*(self.radius*self.radius)\n",
    "        circum = 2*math.pi*self.radius\n",
    "        print(f\"Area of circle is : \",area)\n",
    "        print(f\"Cicumference of circle is : \",circum)\n",
    "\n",
    "radius = int(input(\"Enter radius\"))\n",
    "\n",
    "circle = area(radius)\n",
    "circle.calc()        "
   ]
  },
  {
   "cell_type": "code",
   "execution_count": 52,
   "id": "e38a4c66-5c22-4dfd-a9b6-93987ad15de9",
   "metadata": {},
   "outputs": [
    {
     "name": "stdin",
     "output_type": "stream",
     "text": [
      "Enter radius 44\n",
      "Enter height 33\n"
     ]
    },
    {
     "name": "stdout",
     "output_type": "stream",
     "text": [
      "Surface Area of cylinder is :  21287.431820724436\n",
      "Volume  of cylinder is :  200710.07145254468\n"
     ]
    }
   ],
   "source": [
    "#Surface area and volume cylinder using class and object\n",
    "\n",
    "import math\n",
    "class area:\n",
    "    def __init__(self,radius,height):\n",
    "        self.radius = radius\n",
    "        self.height = height\n",
    "    def calc(self):\n",
    "        surface_area = 2*math.pi*self.radius*(self.height + self.radius)\n",
    "        volume = math.pi*(self.radius)*(self.radius)*(self.height)\n",
    "        print(f\"Surface Area of cylinder is : \",surface_area)\n",
    "        print(f\"Volume  of cylinder is : \",volume)\n",
    "\n",
    "radius = int(input(\"Enter radius\"))\n",
    "height = int(input(\"Enter height\"))\n",
    "\n",
    "cylinder = area(radius,height)\n",
    "cylinder.calc()        "
   ]
  },
  {
   "cell_type": "markdown",
   "id": "adbe0e83-1c3f-422a-be0f-17c7a57c14c7",
   "metadata": {},
   "source": [
    "# Inheritance\n",
    "\n",
    "* __Single(Simple) Inheritance : Pareant and child class__\n",
    "* ---\n",
    "* __Multiple Inheritance__\n",
    "* ---\n",
    "* __Multilvel__\n",
    "* ---\n",
    "* __Hierarchial__\n",
    "* ---\n",
    "* __Hybrid__\n",
    "* ---"
   ]
  },
  {
   "cell_type": "code",
   "execution_count": 3,
   "id": "42424ce8-c732-4fc0-a186-554a4bb4ca8b",
   "metadata": {},
   "outputs": [
    {
     "name": "stdout",
     "output_type": "stream",
     "text": [
      "Amazon is an Online commerce store\n"
     ]
    }
   ],
   "source": [
    "#Single\n",
    "\n",
    "#PArent class:\n",
    "\n",
    "class Brands:\n",
    "    br_1 = \"Amazon\"\n",
    "    br_2 = \"Flipkart\"\n",
    "    br_3 = \"Myntra\"\n",
    "    \n",
    "\n",
    "#CHild class(Sub class) :\n",
    "class child(Brands):\n",
    "    pr_1 = \"Online commerce store\"\n",
    "    pr_2 = \"Online second commerce store\"\n",
    "    pr_3 = \"Clothing store\"\n",
    "\n",
    "object_1 = child()\n",
    "\n",
    "print(object_1.br_1+' is an '+object_1.pr_1)\n",
    "\n",
    "\n"
   ]
  },
  {
   "cell_type": "code",
   "execution_count": 8,
   "id": "9ac49b3c-143c-45d5-801b-8970082ba87f",
   "metadata": {},
   "outputs": [
    {
     "name": "stdout",
     "output_type": "stream",
     "text": [
      "My grandfather is Ramlal, My father name is Mahesh, My name is Bob\n"
     ]
    }
   ],
   "source": [
    "#Multilevel\n",
    "\n",
    "class grand_father:\n",
    "    grand_father_name = \"Ramlal\"\n",
    "\n",
    "class Father(grand_father):\n",
    "    father_name = \"Mahesh\"\n",
    "\n",
    "class child(Father):\n",
    "    child_name = \"Bob\"\n",
    "\n",
    "obj = child()\n",
    "\n",
    "print('My grandfather is ' + obj.grand_father_name + ', My father name is '+obj.father_name+', My name is '+obj.child_name )"
   ]
  },
  {
   "cell_type": "code",
   "execution_count": 24,
   "id": "94a21626-d607-4326-b0cb-74e8b510b925",
   "metadata": {},
   "outputs": [
    {
     "name": "stdout",
     "output_type": "stream",
     "text": [
      "My father name is Shivshankar, my mother name is Pooja, my name is Rupali\n"
     ]
    }
   ],
   "source": [
    "#Multiple parent1 and paren2 : child inherith both parents\n",
    "\n",
    "class mom:\n",
    "    mom_name = \"Pooja\"\n",
    "class Dad:\n",
    "    dad_name = \"Shivshankar\"\n",
    "class child(mom,Dad):\n",
    "    child_name = \"Rupali\"\n",
    "\n",
    "new_ob = child()\n",
    "print(\"My father name is \"+new_ob.dad_name+\", my mother name is \"+new_ob.mom_name+\", my name is \"+new_ob.child_name)\n",
    "    "
   ]
  },
  {
   "cell_type": "code",
   "execution_count": 18,
   "id": "cfc6c8c3-5a2c-4d98-b526-512faa227c89",
   "metadata": {},
   "outputs": [
    {
     "name": "stdout",
     "output_type": "stream",
     "text": [
      "Sharma Kapil\n",
      "Sharma Rahul\n",
      "Sharma Prem\n"
     ]
    }
   ],
   "source": [
    "#Hierarchial\n",
    "\n",
    "class parent:\n",
    "    sir_name = \"Sharma\"\n",
    "\n",
    "class child_1(parent): \n",
    "    chi_name = \"Kapil\"\n",
    "\n",
    "class child_2(parent):\n",
    "    chi2_name = \"Rahul\"\n",
    "\n",
    "class child_3(parent):\n",
    "    chi3_name = \"Prem\"\n",
    "\n",
    "obj_1 = child_1()\n",
    "obj_2 = child_2()\n",
    "obj_3 = child_3()\n",
    "\n",
    "print(obj_1.sir_name,obj_1.chi_name)\n",
    "print(obj_2.sir_name,obj_2.chi2_name)\n",
    "print(obj_3.sir_name,obj_3.chi3_name)\n"
   ]
  },
  {
   "cell_type": "code",
   "execution_count": 8,
   "id": "0913b328-2df3-44e3-b102-0b2d07b976e1",
   "metadata": {},
   "outputs": [
    {
     "name": "stdout",
     "output_type": "stream",
     "text": [
      "Johar\n",
      "Karan\n",
      "yash\n",
      "Ruhi\n"
     ]
    }
   ],
   "source": [
    " class a:\n",
    "     variable = \"Johar\"\n",
    "\n",
    "class b:\n",
    "    variable_2 = \"Karan\"\n",
    "\n",
    "class c(a):\n",
    "    variable_3 = \"yash\"\n",
    "\n",
    "class d(b,c):\n",
    "    variable_4 = \"Ruhi\"\n",
    "\n",
    "\n",
    "# obj_new = d()\n",
    "# obj_new.variable()\n",
    "# obj_new.variable_2()\n",
    "# obj_new.variable_3()\n",
    "# obj_new.variable_4()\n",
    "\n",
    "print(d.variable)\n",
    "print(d.variable_2)\n",
    "print(d.variable_3)\n",
    "print(d.variable_4)"
   ]
  },
  {
   "cell_type": "code",
   "execution_count": null,
   "id": "6b1dedb3-caae-4e55-923c-3984039b2354",
   "metadata": {},
   "outputs": [],
   "source": [
    "# 4 methods of oops: \n",
    "#Inheritance\n",
    "#Polymorphism\n",
    "#Encapsulation \n",
    "#Abstraction "
   ]
  },
  {
   "cell_type": "code",
   "execution_count": 5,
   "id": "831f4ea1-5210-486f-847c-642d78c59b4b",
   "metadata": {},
   "outputs": [
    {
     "name": "stdout",
     "output_type": "stream",
     "text": [
      "Rupali\n",
      "Hello\n"
     ]
    }
   ],
   "source": [
    "#SUPER()\n",
    "\n",
    "class parent:\n",
    "    def parent_method(self):\n",
    "        print(\"Hello\")\n",
    "\n",
    "class child(parent):\n",
    "    def parent_method(self):\n",
    "        print(\"Rupali\")\n",
    "        super().parent_method()\n",
    "\n",
    "x = child()\n",
    "x.parent_method()"
   ]
  },
  {
   "cell_type": "code",
   "execution_count": 12,
   "id": "0da731ed-5dda-49b5-9edf-8ddb7c83f51f",
   "metadata": {},
   "outputs": [
    {
     "name": "stdout",
     "output_type": "stream",
     "text": [
      "Rose belongs to kingdom Plantae.\n",
      "Rose belongs to divsion Magnoliophyta.\n",
      "Rose belongs to class Magnoliopsida.\n",
      "Rose belongs to order Rosales.\n",
      "Rose belongs to family Rosaceae.\n",
      "Rose color is Red\n",
      "\n",
      "-------------------------------------------------------\n",
      "\n",
      "Jasmine belongs to kingdom Plantae.\n",
      "Jasmine belongs to divsion Oleaceae.\n",
      "Jasmine belongs to class Magnoliopsida.\n",
      "Jasmine belongs to order Lamiales.\n",
      "Jasmine belongs to family Olessea.\n",
      "Jasmine color is White\n",
      "Jasmine has many varities.\n"
     ]
    }
   ],
   "source": [
    "#Using super()\n",
    "#Multilevel Inheritance\n",
    "\n",
    "class plant:\n",
    "    def __init__(self,kingdom,division,class1,order,family):\n",
    "        self.kingdom = kingdom\n",
    "        self.division = division\n",
    "        self.class1 = class1\n",
    "        self.order = order\n",
    "        self.family = family\n",
    "\n",
    "class rose(plant):\n",
    "    def __init__(self,kingdom,division,class1,order,family,color,flower):\n",
    "        super().__init__(kingdom,division,class1,order,family)\n",
    "        self.color = color\n",
    "        self.flower = flower\n",
    "    def rose_details(self):\n",
    "        print(f\"{self.flower} belongs to kingdom {self.kingdom}.\")\n",
    "        print(f\"{self.flower} belongs to divsion {self.division}.\")\n",
    "        print(f\"{self.flower} belongs to class {self.class1}.\")\n",
    "        print(f\"{self.flower} belongs to order {self.order}.\")\n",
    "        print(f\"{self.flower} belongs to family {self.family}.\")\n",
    "        print(f\"{self.flower} color is {self.color}\")\n",
    "\n",
    "class jasmine(rose):\n",
    "    def __init__(self,kingdom,division,class1,order,family,color,flower,variety):\n",
    "        super().__init__(kingdom,division,class1,order,family,color,flower)\n",
    "        self.variety = variety\n",
    "    def jasmine_details(self):\n",
    "        print(f\"{self.flower} has {self.variety} varities.\")\n",
    "\n",
    "x = rose(\"Plantae\",\"Magnoliophyta\",\"Magnoliopsida\",\"Rosales\",\"Rosaceae\",\"Red\",\"Rose\")\n",
    "x.rose_details()\n",
    "print(\"\\n-------------------------------------------------------\\n\")\n",
    "y = jasmine(\"Plantae\",\"Oleaceae\",\"Magnoliopsida\",\"Lamiales\",\"Olessea\",\"White\",\"Jasmine\",\"many\")\n",
    "y.rose_details()\n",
    "y.jasmine_details()"
   ]
  },
  {
   "cell_type": "markdown",
   "id": "cea620ba-350e-4a6f-8185-1901deca14bc",
   "metadata": {},
   "source": [
    "# >> Methods OOP \n",
    "* __1. Inheritance: Inherit character__\n",
    "* ---\n",
    "* __2. Polymorphism: Having many forms => A woman can be a mother, daughter, etc__\n",
    "* ---\n",
    "* __3. Encapsulation: Wrapping data and the methods that work on data within a unit. (Wraps everything shows only required.)__\n",
    "* ---\n",
    "* __4. Abstraction: Hides unnecessary code details from user (When we don't want to give out sensitive parts of our code) (Hides atm pin only sensitive info other info is invisible.)__\n",
    "* ---\n",
    "\n"
   ]
  },
  {
   "cell_type": "code",
   "execution_count": 2,
   "id": "63908d2c-cfdb-4113-a576-fb009e1acde3",
   "metadata": {},
   "outputs": [
    {
     "name": "stdout",
     "output_type": "stream",
     "text": [
      "Dog Bark!\n",
      "Meow!\n",
      "talk\n"
     ]
    }
   ],
   "source": [
    "# Polymorphism: One  common function acts differently in all other classes\n",
    "\n",
    "\n",
    "class animal:\n",
    "    def speak(self,name): # speak() function common in all classes\n",
    "      self.name = name\n",
    "\n",
    "class dog(animal):\n",
    "    def speak(self):\n",
    "        print(\"Dog Bark!\") # speak() acts differently \n",
    "\n",
    "class cat(animal):\n",
    "    def speak(self):\n",
    "        print(\"Meow!\") # speak() acts differently\n",
    "\n",
    "class man(animal):\n",
    "    def speak(Self):\n",
    "        print(\"talk\") # speak() acts differently\n",
    "        \n",
    "x = [dog(), cat(), man()]      #Using list\n",
    "for i in x:        #Using loop to iterate over the list\n",
    "    i.speak()      #calling the common function"
   ]
  },
  {
   "cell_type": "code",
   "execution_count": 18,
   "id": "ff95b865-ecdb-4282-bc46-c7de353a32cb",
   "metadata": {},
   "outputs": [
    {
     "data": {
      "text/plain": [
       "100"
      ]
     },
     "execution_count": 18,
     "metadata": {},
     "output_type": "execute_result"
    }
   ],
   "source": [
    "#Encapsulation : \n",
    "\n",
    "class encaps:\n",
    "\n",
    "    def __init__(self,value):\n",
    "        self._private_var=value\n",
    "\n",
    "    def get_var(self):\n",
    "        return self._private_var\n",
    "\n",
    "    def update_var(self,new_val):\n",
    "        self._private_var=new_val\n",
    "\n",
    "euu = encaps(100)\n",
    "euu.get_var() \n",
    "\n",
    "    \n",
    "\n"
   ]
  },
  {
   "cell_type": "code",
   "execution_count": 5,
   "id": "51c994a6-0c5a-4990-87af-347db483c552",
   "metadata": {},
   "outputs": [
    {
     "name": "stdout",
     "output_type": "stream",
     "text": [
      "Rita 3 100000 WebAshaLive\n"
     ]
    },
    {
     "data": {
      "text/plain": [
       "300000"
      ]
     },
     "execution_count": 5,
     "metadata": {},
     "output_type": "execute_result"
    }
   ],
   "source": [
    "#Encapsulation:\n",
    "\n",
    "#Employee as class, take parameters name, id,salary, project then show and update.\n",
    "\n",
    "\n",
    "\n",
    "class employee:\n",
    "    def __init__(self,name,id,salary,project):\n",
    "        self.name = name\n",
    "        self.id = id\n",
    "        self.salary = salary\n",
    "        self.project = project\n",
    "\n",
    "    def show_name(self):\n",
    "        return self.name\n",
    "\n",
    "    def show_id(self):\n",
    "        return self.id\n",
    "\n",
    "    def show_salary(self):\n",
    "        return self.salary\n",
    "\n",
    "    def show_project(self):\n",
    "        return self.project\n",
    "\n",
    "    def update_name(self,new_name):\n",
    "        self.name=new_name\n",
    "\n",
    "    def update_id(self,new_id):\n",
    "        self.id=new_id\n",
    "\n",
    "    def update_salary(self,new_salary):\n",
    "        self.salary=new_salary\n",
    "\n",
    "    def update_project(self,new_project):\n",
    "        self.project=new_project\n",
    "\n",
    "\n",
    "\n",
    "\n",
    "\n",
    "rupali = employee(\"Rita\",3,100000,\"WebAshaLive\")\n",
    "\n",
    "print(rupali.show_name(),rupali.show_id(),rupali.show_salary(),rupali.show_project())\n",
    "\n",
    "\n",
    "print(rupali.update_name(\"\"))\n",
    "rupali.update_salary(300000)\n",
    "rupali.show_salary()\n",
    "\n",
    "\n",
    "\n",
    "        "
   ]
  },
  {
   "cell_type": "markdown",
   "id": "fbc44572-e578-4e8e-9ae4-4605ff823abc",
   "metadata": {},
   "source": [
    "## Abstraction \n",
    "\n"
   ]
  },
  {
   "cell_type": "code",
   "execution_count": 7,
   "id": "50fe5dc6-63ec-4298-8b09-66d9e67c316d",
   "metadata": {},
   "outputs": [
    {
     "name": "stdout",
     "output_type": "stream",
     "text": [
      "log in to mobile\n",
      "Connect to database\n"
     ]
    }
   ],
   "source": [
    "from abc import ABC,abstractmethod   #Import required module\n",
    "\n",
    "class bank(ABC):   #always ABC as an argument in the main class\n",
    "    def database(self):\n",
    "        print('Connect to database')\n",
    "\n",
    "    @abstractmethod     #Condition applied\n",
    "    def security(self):\n",
    "        pass\n",
    "\n",
    "class mob(bank):     #Child class\n",
    "    def mob_log(self):\n",
    "        print('log in to mobile')\n",
    "\n",
    "    def security(self):\n",
    "        print('mobile security')\n",
    "\n",
    "mob_x = mob()\n",
    "mob_x.mob_log()\n",
    "mob_x.security()\n",
    "mob_x.database()"
   ]
  },
  {
   "cell_type": "code",
   "execution_count": 2,
   "id": "731251e3-e9ae-4b50-9279-0341b9da30f5",
   "metadata": {},
   "outputs": [
    {
     "name": "stdout",
     "output_type": "stream",
     "text": [
      "Human can talk any language\n",
      "Human can walk and run\n",
      "Parent class\n",
      "\n",
      "--------------------------------------\n",
      "\n",
      "Snake sound is called hissing\n",
      "Snake can crawl\n",
      "\n",
      "--------------------------------------\n",
      "\n",
      "Lion sound is roaring\n",
      "Lion can walk and run\n"
     ]
    }
   ],
   "source": [
    "# class animal, aabstractmethod move(),speak:, child class human_run walk,snake(crawl),dog(),lion\n",
    "\n",
    "from abc import ABC,abstractmethod\n",
    "\n",
    "class animal(ABC):\n",
    "\n",
    "    def myself(self):\n",
    "        print(\"Parent class\")\n",
    "        \n",
    "    @abstractmethod\n",
    "    def move(self):\n",
    "        pass\n",
    "\n",
    "    @abstractmethod\n",
    "    def speak(self):\n",
    "        pass\n",
    "\n",
    "class human(animal):\n",
    "    def move(self):\n",
    "        print(\"Human can walk and run\")\n",
    "\n",
    "    def speak(self):\n",
    "        print(\"Human can talk any language\")\n",
    "\n",
    "class snake(animal):\n",
    "    def move(self):\n",
    "        print(\"Snake can crawl\")\n",
    "\n",
    "    def speak(self):\n",
    "        print(\"Snake sound is called hissing\")\n",
    "\n",
    "class lion(animal):\n",
    "    def move(self):\n",
    "        print(\"Lion can walk and run\")\n",
    "\n",
    "    def speak(self):\n",
    "        print(\"Lion sound is roaring\")\n",
    "\n",
    "object_1 = human()\n",
    "object_1.speak()\n",
    "object_1.move()\n",
    "object_1.myself()\n",
    "print(\"\\n--------------------------------------\\n\")\n",
    "object_2 = snake()\n",
    "object_2.speak()\n",
    "object_2.move()\n",
    "print(\"\\n--------------------------------------\\n\")\n",
    "object_3 = lion()\n",
    "object_3.speak()\n",
    "object_3.move()\n",
    "\n",
    "\n",
    "\n",
    "\n"
   ]
  },
  {
   "cell_type": "code",
   "execution_count": 26,
   "id": "d58134b0-a8b6-4eb5-993c-fe55116354f5",
   "metadata": {},
   "outputs": [
    {
     "name": "stdout",
     "output_type": "stream",
     "text": [
      "Human Movement: Walk and run\n",
      "Human Sound : Talk any language\n"
     ]
    }
   ],
   "source": [
    "# class animal, aabstractmethod move(),speak:, child class human_run walk,snake(crawl),dog(),lion\n",
    "\n",
    "from abc import ABC,abstractmethod\n",
    "\n",
    "class animal(ABC):\n",
    "    def __init__(self,move,speak):\n",
    "        self.move = move\n",
    "        self.speak = speak\n",
    "    \n",
    "    @abstractmethod\n",
    "    def details(self):\n",
    "        pass\n",
    "\n",
    "class human(animal):\n",
    "    def details(self):\n",
    "          print(\"Human Movement:\",self.move)\n",
    "          print(\"Human Sound :\",self.speak)\n",
    "      \n",
    "\n",
    "object_1 = human(\"Walk and run\",\"Talk any language\")\n",
    "object_1.details()\n",
    "\n",
    "\n",
    "\n",
    "\n",
    "\n"
   ]
  },
  {
   "cell_type": "code",
   "execution_count": null,
   "id": "4b759381-b399-42a6-bfcf-c12bb38f0654",
   "metadata": {},
   "outputs": [],
   "source": [
    "# Homework: Write a program that behaves like an ATM using classes, encapsulate important data and store balance amount.\n",
    "\n",
    "class atm():\n",
    "    def __init__(self,name,acc,pin,balance=0):\n",
    "        self.name=name\n",
    "        self.acc=acc\n",
    "        self.pin=pin\n",
    "        self.balance=balance\n",
    "    def detail(self):\n",
    "        print(f'\\nAccount Owner Name: {self.name}\\nAccount Number: {self.acc}\\nAccount PIN: ####\\nAccount Balance: {self.balance}')\n",
    "    def dep(self,depo):\n",
    "        self.balance=self.balance+depo\n",
    "        print(f\"\\nCurrent account balance: Rs.{self.balance}\\n\")\n",
    "    def wit(self,witt):\n",
    "        if witt>self.balance:\n",
    "            print(f\"Insufficient Funds, the amount of money you have is Rs.{self.balance}\")\n",
    "        else:\n",
    "            self.balance=self.balance-witt\n",
    "            print(f\"You have withdrawn: Rs.{witt}\\nCurrent Balance: Rs.{self.balance}\")\n",
    "    def bal(self):\n",
    "        print(f\"Available Funds: Rs.{self.balance}\")\n",
    "    def pinchange(self,oldpin,newpin=0):\n",
    "        if oldpin!=self.pin:\n",
    "            print(\"Invalid PIN.\")\n",
    "        else:\n",
    "            newpin=int(input(\"Enter your new PIN:\"))\n",
    "            self.pin=newpin\n",
    "            print(\"PIN has been updated.\")\n",
    "        \n",
    "    def trans(self):\n",
    "        print(\"\"\"\\nList of Options:\n",
    "              \\n1. Account Details\n",
    "              \\n2. Check Balance\n",
    "              \\n3. Deposit\n",
    "              \\n4. Withdraw\n",
    "              \\n5. Change PIN\n",
    "              \\n6. Exit\"\"\")\n",
    "        while True:\n",
    "            try:\n",
    "                opt=int(input(\"\\nChoose an option:\"))\n",
    "                print(trans())\n",
    "            except:\n",
    "                print(\"Error: Enter a correct option.\\n\")\n",
    "                continue\n",
    "            else:\n",
    "                if opt==1:\n",
    "                    atm.detail(self)\n",
    "                elif opt==2:\n",
    "                    atm.bal(self)\n",
    "                elif opt==3:\n",
    "                    depo=int(input(\"Enter Deposit Amount:\"))\n",
    "                    atm.dep(self,depo)\n",
    "                elif opt==4:\n",
    "                    witt=int(input(\"Enter Withdraw Amount:\"))\n",
    "                    atm.wit(self,witt)\n",
    "                elif opt==5:\n",
    "                    oldpin=int(input(\"Enter your current PIN:\"))\n",
    "                    atm.pinchange(self,oldpin)\n",
    "                elif opt==6:\n",
    "                    print(\"Thank you for using this ATM.\")\n",
    "                    break\n",
    "name=input(\"Enter your name:\")\n",
    "acc=int(input(\"Enter your account number:\"))\n",
    "pin=int(input(\"Enter your PIN:\"))\n",
    "value=atm(name,acc,pin)\n",
    "value.trans()"
   ]
  },
  {
   "cell_type": "code",
   "execution_count": null,
   "id": "39c22f97-63c7-4bcc-953e-b6466d0f2e88",
   "metadata": {},
   "outputs": [],
   "source": []
  }
 ],
 "metadata": {
  "kernelspec": {
   "display_name": "Python 3 (ipykernel)",
   "language": "python",
   "name": "python3"
  },
  "language_info": {
   "codemirror_mode": {
    "name": "ipython",
    "version": 3
   },
   "file_extension": ".py",
   "mimetype": "text/x-python",
   "name": "python",
   "nbconvert_exporter": "python",
   "pygments_lexer": "ipython3",
   "version": "3.12.4"
  }
 },
 "nbformat": 4,
 "nbformat_minor": 5
}
