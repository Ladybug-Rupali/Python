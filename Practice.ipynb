{
 "cells": [
  {
   "cell_type": "code",
   "execution_count": 1,
   "id": "17f88d1c-7a60-4a81-b24b-278dc47362c9",
   "metadata": {},
   "outputs": [],
   "source": [
    "#Given the list of names count the number of names having more than five characters.\n",
    "\n",
    "names = ['Google','Yahoo','Welcome','John','Bob','Pritam','Raspberry','Cat','Animal','Mahi','Sonal']\n",
    "\n",
    "i = 0\n",
    "list_2 = []\n",
    "while i>= len(names):\n",
    "    if len(names[i]) > 5:\n",
    "        list_2.append(names[i])\n",
    "        print(list_2)\n",
    "    i+=1\n"
   ]
  },
  {
   "cell_type": "code",
   "execution_count": 13,
   "id": "91be0051-0eef-4879-913b-58ea02111b32",
   "metadata": {},
   "outputs": [
    {
     "name": "stdin",
     "output_type": "stream",
     "text": [
      "Enter name 1 bella\n",
      "Enter name 2 hello\n"
     ]
    },
    {
     "name": "stdout",
     "output_type": "stream",
     "text": [
      "List of your names :  ['bella', 'hello']\n",
      "['bella']\n"
     ]
    }
   ],
   "source": [
    "names = []\n",
    "b = []\n",
    "for i in range(1,11):\n",
    "    x = input(f\"Enter name {i}\")\n",
    "    names.append(x)\n",
    "print(\"List of your names : \",names)\n",
    "for y in names:\n",
    "    if y[0].lower()==\"b\":\n",
    "        b.append(y)\n",
    "print(\"Starting with b words are:\",b)\n",
    "\n",
    "\n",
    "\n",
    "   \n"
   ]
  },
  {
   "cell_type": "code",
   "execution_count": 3,
   "id": "944512b8-8ec9-4cfd-84ce-1607dbbbdaab",
   "metadata": {},
   "outputs": [
    {
     "name": "stdout",
     "output_type": "stream",
     "text": [
      "b\n"
     ]
    }
   ],
   "source": [
    "y = \"bella\"\n",
    "print(y[0])"
   ]
  },
  {
   "cell_type": "code",
   "execution_count": 10,
   "id": "5406e489-fb78-454f-b2ab-72ff82293c6d",
   "metadata": {},
   "outputs": [
    {
     "name": "stdout",
     "output_type": "stream",
     "text": [
      "105,98,91,84,77,70,63,56,49,42,35,28,21,14,7,"
     ]
    }
   ],
   "source": [
    "#Wr8 a while loop statement to print series = list = [105,98,91,.........7]\n",
    "\n",
    "i = 105\n",
    "while i>=7:\n",
    "    \n",
    "    print(i,end=',')\n",
    "    i-=7\n",
    "   \n",
    "    \n",
    "    "
   ]
  },
  {
   "cell_type": "code",
   "execution_count": 5,
   "id": "9c370f2d-c265-4fff-9103-7b7d626db247",
   "metadata": {},
   "outputs": [
    {
     "name": "stdout",
     "output_type": "stream",
     "text": [
      "10,9,8,7,6,5,4,3,2,1,"
     ]
    }
   ],
   "source": [
    "#6. Write a while loop to print the first 10 natural number in reverse order using while loop.\n",
    "\n",
    "\n",
    "i = 10\n",
    "\n",
    "while i > 0:\n",
    "    print(i,end=',')\n",
    "    i -= 1"
   ]
  },
  {
   "cell_type": "code",
   "execution_count": null,
   "id": "5925a57e-d89a-4264-86c7-140f361cf178",
   "metadata": {},
   "outputs": [],
   "source": [
    "#8. Write a program to print all even numbers that falls between two numbers(exclusing both numbers) entered from the user using\n",
    "# while loop\n",
    "\n",
    "s = int(input('enter starting range:'))\n",
    "e = int(input('enter ending range:'))\n",
    "t=s+2\n",
    "list = []\n",
    "while t<=e:\n",
    "    if t % 2 ==0:\n",
    "        list.append(s)\n",
    "        t+=1\n",
    "print(list)\n",
    "    \n",
    "    \n",
    "\n"
   ]
  },
  {
   "cell_type": "code",
   "execution_count": 13,
   "id": "e29de408-eb37-45ce-b00e-7518298eeee0",
   "metadata": {},
   "outputs": [
    {
     "name": "stdout",
     "output_type": "stream",
     "text": [
      "0,1,2,3,4,5,6,7,8,9,10,11,12,13,14,15,16,17,18,19,20,21,22,23,24,25,26,27,28,29,30,31,32,33,34,35,36,37,38,39,40,41,42,43,44,45,46,47,48,49,50,Sum of whole numbers is = 1275\n"
     ]
    }
   ],
   "source": [
    "#7. Write a program to print sum of first 50 whole numbers.\n",
    "\n",
    "i = 0\n",
    "sum1 = 0\n",
    "while i<=50:\n",
    "    print(i,end=',')\n",
    "    sum1=sum1+i\n",
    "    i+=1\n",
    "print ('Sum of whole numbers is =',sum1)\n",
    "    "
   ]
  },
  {
   "cell_type": "code",
   "execution_count": null,
   "id": "14f0c075-0fa7-4b67-8994-0f9912312c81",
   "metadata": {},
   "outputs": [],
   "source": [
    "# 10. Write a program to find the sum of the digits of a number accepted from the user."
   ]
  },
  {
   "cell_type": "code",
   "execution_count": null,
   "id": "3c4a1d4b-2af0-43c5-b462-1560d3c15128",
   "metadata": {},
   "outputs": [],
   "source": [
    "#8. Write a program to print all even numbers that falls between two numbers(exclusing both numbers) entered from the user using\n",
    "# while loop\n",
    "\n",
    "s = int(input('enter starting range:'))\n",
    "e = int(input('enter ending range:'))\n",
    "t=s+1\n",
    "list = []\n",
    "while t<=e:\n",
    "    if t % 2 == 0:\n",
    "   \n",
    "        \n",
    "        t+=1\n",
    "print(t,end=',')\n",
    "\n",
    "    \n",
    "    \n",
    "\n"
   ]
  },
  {
   "cell_type": "code",
   "execution_count": null,
   "id": "a2efaa96-eb89-4a7d-80bf-5a668a837e24",
   "metadata": {},
   "outputs": [],
   "source": [
    "if num <= 1:\n",
    "    x = 0 \n",
    "else:\n",
    "    i = 2\n",
    "    while i <= num // 2:\n",
    "        if num % i == 0:\n",
    "            x = 0        \n",
    "        i += 1\n",
    "if x == 1:\n",
    "    print(num, \"is a prime number\")\n",
    "else:\n",
    "    print(num, \"is not a prime number\")"
   ]
  },
  {
   "cell_type": "code",
   "execution_count": null,
   "id": "38147a66-cd47-4f84-945c-ec19605e59d8",
   "metadata": {},
   "outputs": [],
   "source": []
  }
 ],
 "metadata": {
  "kernelspec": {
   "display_name": "Python 3 (ipykernel)",
   "language": "python",
   "name": "python3"
  },
  "language_info": {
   "codemirror_mode": {
    "name": "ipython",
    "version": 3
   },
   "file_extension": ".py",
   "mimetype": "text/x-python",
   "name": "python",
   "nbconvert_exporter": "python",
   "pygments_lexer": "ipython3",
   "version": "3.12.4"
  }
 },
 "nbformat": 4,
 "nbformat_minor": 5
}
