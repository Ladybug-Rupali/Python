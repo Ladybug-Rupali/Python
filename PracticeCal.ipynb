{
 "cells": [
  {
   "cell_type": "code",
   "execution_count": 1,
   "id": "4d5bcc6e-acf8-4d81-9a87-73eaaff3e0bd",
   "metadata": {},
   "outputs": [
    {
     "ename": "KeyboardInterrupt",
     "evalue": "Interrupted by user",
     "output_type": "error",
     "traceback": [
      "\u001b[1;31m---------------------------------------------------------------------------\u001b[0m",
      "\u001b[1;31mKeyboardInterrupt\u001b[0m                         Traceback (most recent call last)",
      "Cell \u001b[1;32mIn[1], line 12\u001b[0m\n\u001b[0;32m      9\u001b[0m \u001b[38;5;28;01mimport\u001b[39;00m \u001b[38;5;21;01mrandom\u001b[39;00m\n\u001b[0;32m     10\u001b[0m words \u001b[38;5;241m=\u001b[39m [\u001b[38;5;124m'\u001b[39m\u001b[38;5;124mhello\u001b[39m\u001b[38;5;124m'\u001b[39m,\u001b[38;5;124m'\u001b[39m\u001b[38;5;124mpython\u001b[39m\u001b[38;5;124m'\u001b[39m,\u001b[38;5;124m'\u001b[39m\u001b[38;5;124m interpreted\u001b[39m\u001b[38;5;124m'\u001b[39m,\u001b[38;5;124m'\u001b[39m\u001b[38;5;124mhigh\u001b[39m\u001b[38;5;124m'\u001b[39m,\u001b[38;5;124m'\u001b[39m\u001b[38;5;124mlevel\u001b[39m\u001b[38;5;124m'\u001b[39m,\u001b[38;5;124m'\u001b[39m\u001b[38;5;124m language\u001b[39m\u001b[38;5;124m'\u001b[39m,\u001b[38;5;124m'\u001b[39m\u001b[38;5;124mobject\u001b[39m\u001b[38;5;124m'\u001b[39m,\u001b[38;5;124m'\u001b[39m\u001b[38;5;124moriented\u001b[39m\u001b[38;5;124m'\u001b[39m]\n\u001b[1;32m---> 12\u001b[0m name \u001b[38;5;241m=\u001b[39m \u001b[38;5;28;43minput\u001b[39;49m\u001b[43m(\u001b[49m\u001b[38;5;124;43m'\u001b[39;49m\u001b[38;5;124;43mPlease enter your name : \u001b[39;49m\u001b[38;5;124;43m'\u001b[39;49m\u001b[43m)\u001b[49m\n\u001b[0;32m     13\u001b[0m \u001b[38;5;28mprint\u001b[39m(\u001b[38;5;124m\"\u001b[39m\u001b[38;5;124mHello\u001b[39m\u001b[38;5;124m\"\u001b[39m,name,\u001b[38;5;124m\"\u001b[39m\u001b[38;5;124mGood to see you, let\u001b[39m\u001b[38;5;124m'\u001b[39m\u001b[38;5;124ms start!\u001b[39m\u001b[38;5;124m\"\u001b[39m)\n\u001b[0;32m     15\u001b[0m x\u001b[38;5;241m=\u001b[39mrandom\u001b[38;5;241m.\u001b[39mchoice(words)\n",
      "File \u001b[1;32m~\\AppData\\Local\\Packages\\PythonSoftwareFoundation.Python.3.12_qbz5n2kfra8p0\\LocalCache\\local-packages\\Python312\\site-packages\\ipykernel\\kernelbase.py:1270\u001b[0m, in \u001b[0;36mKernel.raw_input\u001b[1;34m(self, prompt)\u001b[0m\n\u001b[0;32m   1268\u001b[0m     msg \u001b[38;5;241m=\u001b[39m \u001b[38;5;124m\"\u001b[39m\u001b[38;5;124mraw_input was called, but this frontend does not support input requests.\u001b[39m\u001b[38;5;124m\"\u001b[39m\n\u001b[0;32m   1269\u001b[0m     \u001b[38;5;28;01mraise\u001b[39;00m StdinNotImplementedError(msg)\n\u001b[1;32m-> 1270\u001b[0m \u001b[38;5;28;01mreturn\u001b[39;00m \u001b[38;5;28;43mself\u001b[39;49m\u001b[38;5;241;43m.\u001b[39;49m\u001b[43m_input_request\u001b[49m\u001b[43m(\u001b[49m\n\u001b[0;32m   1271\u001b[0m \u001b[43m    \u001b[49m\u001b[38;5;28;43mstr\u001b[39;49m\u001b[43m(\u001b[49m\u001b[43mprompt\u001b[49m\u001b[43m)\u001b[49m\u001b[43m,\u001b[49m\n\u001b[0;32m   1272\u001b[0m \u001b[43m    \u001b[49m\u001b[38;5;28;43mself\u001b[39;49m\u001b[38;5;241;43m.\u001b[39;49m\u001b[43m_parent_ident\u001b[49m\u001b[43m[\u001b[49m\u001b[38;5;124;43m\"\u001b[39;49m\u001b[38;5;124;43mshell\u001b[39;49m\u001b[38;5;124;43m\"\u001b[39;49m\u001b[43m]\u001b[49m\u001b[43m,\u001b[49m\n\u001b[0;32m   1273\u001b[0m \u001b[43m    \u001b[49m\u001b[38;5;28;43mself\u001b[39;49m\u001b[38;5;241;43m.\u001b[39;49m\u001b[43mget_parent\u001b[49m\u001b[43m(\u001b[49m\u001b[38;5;124;43m\"\u001b[39;49m\u001b[38;5;124;43mshell\u001b[39;49m\u001b[38;5;124;43m\"\u001b[39;49m\u001b[43m)\u001b[49m\u001b[43m,\u001b[49m\n\u001b[0;32m   1274\u001b[0m \u001b[43m    \u001b[49m\u001b[43mpassword\u001b[49m\u001b[38;5;241;43m=\u001b[39;49m\u001b[38;5;28;43;01mFalse\u001b[39;49;00m\u001b[43m,\u001b[49m\n\u001b[0;32m   1275\u001b[0m \u001b[43m\u001b[49m\u001b[43m)\u001b[49m\n",
      "File \u001b[1;32m~\\AppData\\Local\\Packages\\PythonSoftwareFoundation.Python.3.12_qbz5n2kfra8p0\\LocalCache\\local-packages\\Python312\\site-packages\\ipykernel\\kernelbase.py:1313\u001b[0m, in \u001b[0;36mKernel._input_request\u001b[1;34m(self, prompt, ident, parent, password)\u001b[0m\n\u001b[0;32m   1310\u001b[0m \u001b[38;5;28;01mexcept\u001b[39;00m \u001b[38;5;167;01mKeyboardInterrupt\u001b[39;00m:\n\u001b[0;32m   1311\u001b[0m     \u001b[38;5;66;03m# re-raise KeyboardInterrupt, to truncate traceback\u001b[39;00m\n\u001b[0;32m   1312\u001b[0m     msg \u001b[38;5;241m=\u001b[39m \u001b[38;5;124m\"\u001b[39m\u001b[38;5;124mInterrupted by user\u001b[39m\u001b[38;5;124m\"\u001b[39m\n\u001b[1;32m-> 1313\u001b[0m     \u001b[38;5;28;01mraise\u001b[39;00m \u001b[38;5;167;01mKeyboardInterrupt\u001b[39;00m(msg) \u001b[38;5;28;01mfrom\u001b[39;00m \u001b[38;5;28;01mNone\u001b[39;00m\n\u001b[0;32m   1314\u001b[0m \u001b[38;5;28;01mexcept\u001b[39;00m \u001b[38;5;167;01mException\u001b[39;00m:\n\u001b[0;32m   1315\u001b[0m     \u001b[38;5;28mself\u001b[39m\u001b[38;5;241m.\u001b[39mlog\u001b[38;5;241m.\u001b[39mwarning(\u001b[38;5;124m\"\u001b[39m\u001b[38;5;124mInvalid Message:\u001b[39m\u001b[38;5;124m\"\u001b[39m, exc_info\u001b[38;5;241m=\u001b[39m\u001b[38;5;28;01mTrue\u001b[39;00m)\n",
      "\u001b[1;31mKeyboardInterrupt\u001b[0m: Interrupted by user"
     ]
    }
   ],
   "source": [
    "## Word Guessing Game.\n",
    "#In this game, there is a list of words, out of which our interpreter will choose random word.\n",
    "#The user first has to input their names and then,will be sked to guess any alphabate.If the random word contains the alphabate\n",
    "#it will show as output (with correct placement) else the program will ask you to guess another alphabateabs\n",
    "#The user will be given 12 turns (which can be changed accordingly) to guess the complete word\n",
    "\n",
    "\n",
    "\n",
    "import random\n",
    "words = ['hello','python',' interpreted','high','level',' language','object','oriented']\n",
    "\n",
    "name = input('Please enter your name : ')\n",
    "print(\"Hello\",name,\"Good to see you, let's start!\")\n",
    "\n",
    "x=random.choice(words)\n",
    "print(\"Your guessed characters :\")\n",
    "\n",
    "guessed = ''\n",
    "turn = 12\n",
    "while turn > 0:\n",
    "    failed = 0\n",
    " \n",
    "    for char in x:\n",
    "        if char in guessed:\n",
    "            print(char, end=\" \")\n",
    " \n",
    "        else:\n",
    "            print(\"_\")\n",
    "            failed += 1\n",
    "            \n",
    "    if failed == 0:\n",
    "        print(\"Congrats you won dear!\")\n",
    "        break\n",
    "    guess = input(\"guess a character:\")\n",
    "    guessed += guess\n",
    "    \n",
    "\n",
    "    if guess not in words:\n",
    "        print(\"wrong\")\n",
    "        turn-=1\n",
    "        print(\"You have\", + turn, 'more guesses')\n",
    "    \n",
    "    if turn == 0:\n",
    "            print(\"You Loose\")\n",
    "    \n",
    "            \n",
    "            \n",
    "            \n",
    "\n",
    "\n"
   ]
  },
  {
   "cell_type": "code",
   "execution_count": 13,
   "id": "2830bcd3-88b1-484b-91c0-e04aed40de74",
   "metadata": {},
   "outputs": [
    {
     "name": "stdin",
     "output_type": "stream",
     "text": [
      "number 2\n",
      "enter 11\n",
      "enter 22\n"
     ]
    },
    {
     "name": "stdout",
     "output_type": "stream",
     "text": [
      "[11, 22]\n",
      "16.5\n"
     ]
    }
   ],
   "source": [
    "# sum , div, sub, mult, average, modulus, remaider\n",
    "\n",
    "\n",
    "class Calculator:\n",
    "    def avge():\n",
    "        list1 = []\n",
    "        ele = int(input(\"number\"))\n",
    "        for i in range(1,ele+1):\n",
    "            i = int(input(\"enter\"))\n",
    "            list1.append(i)\n",
    "        print(list1)\n",
    "        average = sum(list1)/len(list1)\n",
    "        print(average)\n",
    "\n",
    "obj = Calculator\n",
    "obj.avge()"
   ]
  },
  {
   "cell_type": "code",
   "execution_count": 2,
   "id": "58f1b57b-564e-4282-b69a-10fb4fdc26fc",
   "metadata": {},
   "outputs": [
    {
     "name": "stdout",
     "output_type": "stream",
     "text": [
      "Please select what you want to perform -\n",
      "1. Add\n",
      "2. Subtract\n",
      "3. Multiply\n",
      "4. Divide\n",
      "\n"
     ]
    },
    {
     "name": "stdin",
     "output_type": "stream",
     "text": [
      "Select option: 1\n",
      "Enter first number:  45\n",
      "Enter second number:  67\n"
     ]
    },
    {
     "name": "stdout",
     "output_type": "stream",
     "text": [
      "45 + 67 = 112\n"
     ]
    }
   ],
   "source": [
    "class calculator:\n",
    "    def add(num1, num2):\n",
    "        return num1 + num2\n",
    "     \n",
    "    def subtract(num1, num2):\n",
    "        return num1 - num2\n",
    "     \n",
    "    def multiply(num1, num2):\n",
    "        return num1 * num2\n",
    "     \n",
    "    def divide(num1, num2):\n",
    "        return num1 / num2\n",
    "     \n",
    "    print(\"Please select what you want to perform -\\n\" \\\n",
    "            \"1. Add\\n\" \\\n",
    "            \"2. Subtract\\n\" \\\n",
    "            \"3. Multiply\\n\" \\\n",
    "            \"4. Divide\\n\")\n",
    "    select = int(input(\"Select option:\"))\n",
    "     \n",
    "    n1 = int(input(\"Enter first number: \"))\n",
    "    n2 = int(input(\"Enter second number: \"))\n",
    "     \n",
    "    if select == 1:\n",
    "        print(n1, \"+\", n2, \"=\", add(n1, n2))\n",
    "     \n",
    "    elif select == 2:\n",
    "        print(n1, \"-\", n2, \"=\", subtract(n1, n2))\n",
    "     \n",
    "    elif select == 3:\n",
    "        print(n1, \"*\", n2, \"=\", multiply(n1, n2))\n",
    "     \n",
    "    elif select == 4:\n",
    "        print(n1, \"/\", n2, \"=\", divide(n1, n2))\n",
    "    else:\n",
    "        print(\"Invalid input\")"
   ]
  },
  {
   "cell_type": "code",
   "execution_count": 14,
   "id": "789aceaa-7760-4f2f-8168-909e36060170",
   "metadata": {},
   "outputs": [
    {
     "name": "stdout",
     "output_type": "stream",
     "text": [
      "\n",
      "what you want to perform:\n",
      "        \n",
      "1.Addition\n",
      "        \n",
      "2.Subtraction\n",
      "        \n",
      "3.Multiplication\n",
      "        \n",
      "4.Division\n",
      "        \n"
     ]
    },
    {
     "name": "stdin",
     "output_type": "stream",
     "text": [
      "Choose an Option:  1\n",
      "Enter a number (or 'done' to perform calculation):  56\n"
     ]
    },
    {
     "name": "stdout",
     "output_type": "stream",
     "text": [
      "Error\n"
     ]
    }
   ],
   "source": [
    "class Calculator:\n",
    "    def __init__(self):\n",
    "        self.numbers = []\n",
    "\n",
    "    def accept(self,*args):\n",
    "        self.numbers.extend(args)\n",
    "        print(f\"Numbers added successfully.\")\n",
    "\n",
    "    def addition(self,*args):\n",
    "        x = sum(self.numbers)\n",
    "        print(\"Addition of numbers is : \",x)\n",
    "\n",
    "    def subtraction(self,*args):\n",
    "        diff = self.numbers[0]    \n",
    "\n",
    "        for each in range(1,len(self.numbers)):     \n",
    "            diff = diff - self.numbers[each]       \n",
    "        return diff\n",
    "        print(\"Subtraction of numbers is : \",diff)\n",
    "\n",
    "    def multiplication(self,*args):\n",
    "        mult = self.numbers[0]\n",
    "        for each in range(1,len(self.numbers)):\n",
    "            mult = mult * self.numbers[each]\n",
    "            return mult\n",
    "        print(\"Multiplication of numbers is : \",mult)\n",
    "\n",
    "    def Division(self,*args):\n",
    "        div = self.numbers[0]\n",
    "        for each in range(1,len(self.numbers)):\n",
    "            div = div / self.numbers[each]\n",
    "            return div\n",
    "        print(\"Division of numbers is : \",div)\n",
    "\n",
    "    def details(self):\n",
    "        print(\"\"\"\\nwhat you want to perform:\n",
    "        \\n1.Addition\n",
    "        \\n2.Subtraction\n",
    "        \\n3.Multiplication\n",
    "        \\n4.Division\n",
    "        \"\"\")\n",
    "        while True:\n",
    "            try:\n",
    "                option = int(input('Choose an Option: '))\n",
    "            except ValueError:\n",
    "                print('Error: Enter a correct option.')\n",
    "            else:\n",
    "                user_input = input(\"Enter a number (or 'done' to perform calculation): \")\n",
    "                if user_input.lower() == 'done':\n",
    "                    break\n",
    "                    try:\n",
    "                        num = float(user_input)\n",
    "                \n",
    "                    except ValueError:\n",
    "                        print(\"Invalid input. Please enter a valid number or 'done' to perform calculation.\")\n",
    "                        if option == 1:\n",
    "                            Calculator.addition(num)\n",
    "\n",
    "try:\n",
    "    Calculator().details()\n",
    "    \n",
    "except:\n",
    "    print('Error')\n",
    "                            \n",
    "\n",
    "            \n",
    "\n",
    "                   \n",
    "                    \n",
    "                    \n",
    "        \n",
    "        \n",
    "            \n",
    "        "
   ]
  },
  {
   "cell_type": "code",
   "execution_count": null,
   "id": "1787ffb7-af00-4aae-94c9-d9975592516a",
   "metadata": {},
   "outputs": [],
   "source": [
    "class Calculator:\n",
    "    def __init__(self):\n",
    "        pass\n",
    "\n",
    "    def add(self, *args):\n",
    "        return sum(args)\n",
    "\n",
    "    def subtract(self, *args):\n",
    "        result = args[0]\n",
    "        for num in args[1:]:\n",
    "            result -= num\n",
    "        return result\n",
    "\n",
    "    def multiply(self, *args):\n",
    "        result = 1\n",
    "        for num in args:\n",
    "            result *= num\n",
    "        return result\n",
    "\n",
    "    def divide(self, *args):\n",
    "        result = args[0]\n",
    "        for num in args[1:]:\n",
    "            result /= num\n",
    "        return result\n",
    "\n",
    "# Example usage:\n",
    "calculator = Calculator()\n",
    "print(calculator.add(5, 3, 2))  # Output: 10\n",
    "print(calculator.subtract(10, 3, 2))  # Output: 5\n",
    "print(calculator.multiply(2, 3, 4))  # Output: 24\n",
    "print(calculator.divide(20, 2, 2))  # Output: 5.0\n"
   ]
  },
  {
   "cell_type": "code",
   "execution_count": 2,
   "id": "19384af6-b2a9-4064-8dd5-1d61002f4b40",
   "metadata": {},
   "outputs": [
    {
     "name": "stdin",
     "output_type": "stream",
     "text": [
      "Enter a number (or 'done' to perform calculation):  4\n",
      "Enter a number (or 'done' to perform calculation):  34\n",
      "Enter a number (or 'done' to perform calculation):  34\n",
      "Enter a number (or 'done' to perform calculation):  34\n",
      "Enter a number (or 'done' to perform calculation):  34\n",
      "Enter a number (or 'done' to perform calculation):  34\n",
      "Enter a number (or 'done' to perform calculation):  done\n"
     ]
    },
    {
     "name": "stdout",
     "output_type": "stream",
     "text": [
      "Sum: 174.0\n",
      "Difference: -166.0\n",
      "Product: 181741696.0\n",
      "Quotient: 8.803703471546782e-08\n"
     ]
    }
   ],
   "source": [
    "class Calculator:\n",
    "    def __init__(self):\n",
    "        self.numbers = []\n",
    "\n",
    "    def add_numbers(self, *args):\n",
    "        self.numbers.extend(args)\n",
    "\n",
    "    def add(self):\n",
    "        return sum(self.numbers)\n",
    "\n",
    "    def subtract(self):\n",
    "        result = self.numbers[0]\n",
    "        for num in self.numbers[1:]:\n",
    "            result -= num\n",
    "        return result\n",
    "\n",
    "    def multiply(self):\n",
    "        result = 1\n",
    "        for num in self.numbers:\n",
    "            result *= num\n",
    "        return result\n",
    "\n",
    "    def divide(self):\n",
    "        result = self.numbers[0]\n",
    "        for num in self.numbers[1:]:\n",
    "            result /= num\n",
    "        return result\n",
    "\n",
    "# Example usage:\n",
    "calculator = Calculator()\n",
    "\n",
    "# Take inputs from the user\n",
    "while True:\n",
    "    user_input = input(\"Enter a number (or 'done' to perform calculation): \")\n",
    "    if user_input.lower() == 'done':\n",
    "        break\n",
    "    try:\n",
    "        num = float(user_input)\n",
    "        calculator.add_numbers(num)\n",
    "    except ValueError:\n",
    "        print(\"Invalid input. Please enter a valid number or 'done' to perform calculation.\")\n",
    "\n",
    "# Perform calculations\n",
    "print(\"Sum:\", calculator.add())\n",
    "print(\"Difference:\", calculator.subtract())\n",
    "print(\"Product:\", calculator.multiply())\n",
    "print(\"Quotient:\", calculator.divide())\n"
   ]
  },
  {
   "cell_type": "code",
   "execution_count": 15,
   "id": "5bc2d803-bee4-4138-bab0-dd2b1036c160",
   "metadata": {},
   "outputs": [
    {
     "name": "stdout",
     "output_type": "stream",
     "text": [
      "\n",
      "what you want to perform:\n",
      "        \n",
      "1.Addition\n",
      "        \n",
      "2.Subtraction\n",
      "        \n",
      "3.Multiplication\n",
      "        \n",
      "4.Division\n",
      "        \n"
     ]
    },
    {
     "name": "stdin",
     "output_type": "stream",
     "text": [
      "Choose an Option:  1\n",
      "Enter a number (or 'done' to perform calculation):  55\n"
     ]
    },
    {
     "name": "stdout",
     "output_type": "stream",
     "text": [
      "Numbers added successfully.\n"
     ]
    },
    {
     "name": "stdin",
     "output_type": "stream",
     "text": [
      "Enter a number (or 'done' to perform calculation):  66\n"
     ]
    },
    {
     "name": "stdout",
     "output_type": "stream",
     "text": [
      "Numbers added successfully.\n"
     ]
    },
    {
     "name": "stdin",
     "output_type": "stream",
     "text": [
      "Enter a number (or 'done' to perform calculation):  88\n"
     ]
    },
    {
     "name": "stdout",
     "output_type": "stream",
     "text": [
      "Numbers added successfully.\n"
     ]
    },
    {
     "name": "stdin",
     "output_type": "stream",
     "text": [
      "Enter a number (or 'done' to perform calculation):  done\n"
     ]
    },
    {
     "name": "stdout",
     "output_type": "stream",
     "text": [
      "Addition of numbers is :  209.0\n",
      "Error\n"
     ]
    }
   ],
   "source": [
    "class Calculator:\n",
    "    def __init__(self):\n",
    "        self.numbers = []\n",
    "\n",
    "    def accept(self, *args):\n",
    "        self.numbers.extend(args)\n",
    "        \n",
    "\n",
    "    def addition(self):\n",
    "        x = sum(self.numbers)\n",
    "        print(\"Addition of numbers is : \", x)\n",
    "\n",
    "    def subtraction(self):\n",
    "        diff = self.numbers[0]    \n",
    "        for each in range(1, len(self.numbers)):     \n",
    "            diff = diff - self.numbers[each]       \n",
    "        print(\"Subtraction of numbers is : \", diff)\n",
    "\n",
    "    def multiplication(self):\n",
    "        mult = self.numbers[0]\n",
    "        for each in range(1, len(self.numbers)):\n",
    "            mult = mult * self.numbers[each]\n",
    "        print(\"Multiplication of numbers is : \", mult)\n",
    "\n",
    "    def division(self):\n",
    "        div = self.numbers[0]\n",
    "        for each in range(1, len(self.numbers)):\n",
    "            if self.numbers[each]!= 0:\n",
    "                div = div / self.numbers[each]\n",
    "            else:\n",
    "                print(\"Error: Division by zero is not allowed.\")\n",
    "                return\n",
    "        print(\"Division of numbers is : \", div)\n",
    "        \n",
    "\n",
    "    def details(self):\n",
    "        print(\"\"\"\\nwhat you want to perform:\n",
    "        \\n1.Addition\n",
    "        \\n2.Subtraction\n",
    "        \\n3.Multiplication\n",
    "        \\n4.Division\n",
    "        \\n5.Modulus\n",
    "        \\n6.Exponant\n",
    "        \\n7.Remainder\n",
    "        \\n8.Exit\n",
    "        \"\"\")\n",
    "        while True:\n",
    "            try:\n",
    "                option = int(input('Choose an Option: '))\n",
    "            except ValueError:\n",
    "                print('Error: Enter a correct option.')\n",
    "                continue\n",
    "            else:\n",
    "                while True:\n",
    "                    user_input = input(\"Enter a number (or 'done' to perform calculation): \")\n",
    "                    if user_input.lower() == 'done':\n",
    "                        break\n",
    "                    try:\n",
    "                        num = float(user_input)\n",
    "                        self.accept(num)\n",
    "                    except ValueError:\n",
    "                        print(\"Invalid input. Please enter a valid number or 'done' to perform calculation.\")\n",
    "                if option == 1:\n",
    "                    self.addition()\n",
    "                elif option == 2:\n",
    "                    self.subtraction()\n",
    "                elif option == 3:\n",
    "                    self.multiplication()\n",
    "                elif option == 4:\n",
    "                    self.division()\n",
    "                else:\n",
    "                    print('Error: Enter a correct option.')\n",
    "\n",
    "try:\n",
    "    Calculator().details()\n",
    "except:\n",
    "    print('Error')"
   ]
  },
  {
   "cell_type": "code",
   "execution_count": null,
   "id": "55a9f6bc-983a-40c8-8453-867f2e0461fe",
   "metadata": {},
   "outputs": [],
   "source": []
  }
 ],
 "metadata": {
  "kernelspec": {
   "display_name": "Python 3 (ipykernel)",
   "language": "python",
   "name": "python3"
  },
  "language_info": {
   "codemirror_mode": {
    "name": "ipython",
    "version": 3
   },
   "file_extension": ".py",
   "mimetype": "text/x-python",
   "name": "python",
   "nbconvert_exporter": "python",
   "pygments_lexer": "ipython3",
   "version": "3.12.4"
  }
 },
 "nbformat": 4,
 "nbformat_minor": 5
}
