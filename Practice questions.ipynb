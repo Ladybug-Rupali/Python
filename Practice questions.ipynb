{
 "cells": [
  {
   "cell_type": "code",
   "execution_count": 9,
   "id": "4143bc22-1620-42e8-9c5a-50a2eb1312d1",
   "metadata": {},
   "outputs": [
    {
     "name": "stdout",
     "output_type": "stream",
     "text": [
      "\n",
      "Even numbers is given list are : 8\n",
      "\n",
      "Odd numbers is given list are : 8\n"
     ]
    }
   ],
   "source": [
    "#Rupali\n",
    "# 1. WAP to count the even numbers and odd numbers in a given array of integers using lambda function and for loop.\n",
    "\n",
    "array_nums = [10,20,30,50,25,26,78,79,45,45,62,53,51,1001,102,103]\n",
    "\n",
    "#For loop\n",
    "\n",
    "even = []\n",
    "odd = []\n",
    "for i in array_nums:\n",
    "    if i % 2 == 0:\n",
    "        even.append(i)\n",
    "    else:\n",
    "        odd.append(i)\n",
    "\n",
    "print(\"\\nEven numbers is given array are :\",len(even))\n",
    "print(\"\\nOdd numbers is given array are :\",len(odd))\n",
    "    \n",
    "        \n"
   ]
  },
  {
   "cell_type": "code",
   "execution_count": 10,
   "id": "97d7baee-281e-44c6-b1a0-ea32058d2af7",
   "metadata": {},
   "outputs": [
    {
     "name": "stdout",
     "output_type": "stream",
     "text": [
      "\n",
      "Number of even numbers in given array:  8\n",
      "\n",
      "Number of odd numbers in given array:  8\n"
     ]
    }
   ],
   "source": [
    "#Rupali\n",
    "# 1. WAP to count the even numbers and odd numbers in a given array of integers using lambda function and for loop.\n",
    "# Lambda\n",
    "array_nums = [10,20,30,50,25,26,78,79,45,45,62,53,51,1001,102,103]\n",
    "\n",
    "\n",
    "even_num = len(list(filter(lambda x: (x % 2 == 0), array_nums)))\n",
    "odd_num = len(list(filter(lambda x: (x % 2 != 0), array_nums)))\n",
    "\n",
    "print(\"\\nNumber of even numbers in given array: \", even_num)\n",
    "print(\"\\nNumber of odd numbers in given array: \", odd_num)"
   ]
  },
  {
   "cell_type": "code",
   "execution_count": 22,
   "id": "38570ae5-a2ca-4819-a03f-4da1876bc05b",
   "metadata": {},
   "outputs": [
    {
     "ename": "TypeError",
     "evalue": "can only concatenate str (not \"int\") to str",
     "output_type": "error",
     "traceback": [
      "\u001b[1;31m---------------------------------------------------------------------------\u001b[0m",
      "\u001b[1;31mTypeError\u001b[0m                                 Traceback (most recent call last)",
      "Cell \u001b[1;32mIn[22], line 11\u001b[0m\n\u001b[0;32m      8\u001b[0m filtered_list \u001b[38;5;241m=\u001b[39m []\n\u001b[0;32m     10\u001b[0m \u001b[38;5;28;01mfor\u001b[39;00m i \u001b[38;5;129;01min\u001b[39;00m weekdays:\n\u001b[1;32m---> 11\u001b[0m     \u001b[43mi\u001b[49m\u001b[38;5;241;43m+\u001b[39;49m\u001b[38;5;241;43m=\u001b[39;49m\u001b[38;5;241;43m1\u001b[39;49m\n\u001b[0;32m     12\u001b[0m     \u001b[38;5;28;01mif\u001b[39;00m \u001b[38;5;28mlen\u001b[39m(i) \u001b[38;5;241m==\u001b[39m \u001b[38;5;241m6\u001b[39m:\n\u001b[0;32m     13\u001b[0m         filtered_list\u001b[38;5;241m.\u001b[39mappend(i)\n",
      "\u001b[1;31mTypeError\u001b[0m: can only concatenate str (not \"int\") to str"
     ]
    }
   ],
   "source": [
    "#Rupali\n",
    "#WAP to filter the given list to determine if the values in the list have length of 6 using lambda \n",
    "\n",
    "weekdays = ['Monday', 'Tuesday',' Wednesday', 'Thursday',' Friday','Saturday']\n",
    "\n",
    "#Using for loop\n",
    "\n",
    "filtered_list = []\n",
    "\n",
    "for i in weekdays:\n",
    "    if len(i) == 6:\n",
    "        filtered_list.append(i)\n",
    "print(\"\\nThe value from list having length 6 are : \",filtered_list)\n",
    "        "
   ]
  },
  {
   "cell_type": "code",
   "execution_count": 28,
   "id": "28c5a5e1-f613-4748-9a32-d583656c5a0c",
   "metadata": {},
   "outputs": [
    {
     "ename": "SyntaxError",
     "evalue": "invalid syntax. Perhaps you forgot a comma? (2447570990.py, line 5)",
     "output_type": "error",
     "traceback": [
      "\u001b[1;36m  Cell \u001b[1;32mIn[28], line 5\u001b[1;36m\u001b[0m\n\u001b[1;33m    filter_list = list(filter(lambda x:x len(x) == 6, weekdays))\u001b[0m\n\u001b[1;37m                                       ^\u001b[0m\n\u001b[1;31mSyntaxError\u001b[0m\u001b[1;31m:\u001b[0m invalid syntax. Perhaps you forgot a comma?\n"
     ]
    }
   ],
   "source": [
    "weekdays = ['Monday', 'Tuesday',' Wednesday', 'Thursday','Friday','Saturday']\n",
    "#Rupali\n",
    "#using lambda\n",
    "\n",
    "filter_list = list(filter(lambda x:xlen(x) == 6, weekdays))\n",
    "\n",
    "\n",
    "\n",
    "print(\"\\nThe value from list having length 6 are : \",filter_list)"
   ]
  },
  {
   "cell_type": "code",
   "execution_count": 16,
   "id": "3926ec17-32d7-41a9-9167-e6f22c16ba4f",
   "metadata": {},
   "outputs": [
    {
     "name": "stdout",
     "output_type": "stream",
     "text": [
      "2024-04-11 19:12:48.983222\n"
     ]
    }
   ],
   "source": [
    "import datetime\n",
    "\n",
    "now = datetime.datetime.now()\n",
    "print(now)"
   ]
  },
  {
   "cell_type": "code",
   "execution_count": 31,
   "id": "168cc00f-47f7-49ab-ac5f-cb5939cc08f5",
   "metadata": {},
   "outputs": [
    {
     "name": "stdout",
     "output_type": "stream",
     "text": [
      "2024-04-11 19:23:39.001351\n",
      "2024\n",
      "4\n",
      "11\n",
      "19:23:39.001351\n"
     ]
    }
   ],
   "source": [
    "#Rupali\n",
    "# WAP to extract year , month, date , time using lambda function\n",
    "\n",
    "import datetime\n",
    "\n",
    "now = datetime.datetime.now()\n",
    "print(now)\n",
    "\n",
    "year = lambda x:x.year\n",
    "print(year(now))\n",
    "\n",
    "month = lambda x:x.month\n",
    "print(month(now))\n",
    "\n",
    "day = lambda x:x.day\n",
    "print(day(now))\n",
    "\n",
    "time = lambda x:x.time()\n",
    "print(time(now))"
   ]
  },
  {
   "cell_type": "code",
   "execution_count": 39,
   "id": "382fa738-161b-49c6-b2c5-a74441bcb73e",
   "metadata": {},
   "outputs": [
    {
     "name": "stdout",
     "output_type": "stream",
     "text": [
      "2024-04-11 20:12:36.103557\n"
     ]
    },
    {
     "ename": "TypeError",
     "evalue": "'datetime.datetime' object is not iterable",
     "output_type": "error",
     "traceback": [
      "\u001b[1;31m---------------------------------------------------------------------------\u001b[0m",
      "\u001b[1;31mTypeError\u001b[0m                                 Traceback (most recent call last)",
      "Cell \u001b[1;32mIn[39], line 6\u001b[0m\n\u001b[0;32m      3\u001b[0m now \u001b[38;5;241m=\u001b[39m datetime\u001b[38;5;241m.\u001b[39mdatetime\u001b[38;5;241m.\u001b[39mnow()\n\u001b[0;32m      4\u001b[0m \u001b[38;5;28mprint\u001b[39m(now)\n\u001b[1;32m----> 6\u001b[0m \u001b[38;5;28;43;01mfor\u001b[39;49;00m\u001b[43m \u001b[49m\u001b[43mi\u001b[49m\u001b[43m \u001b[49m\u001b[38;5;129;43;01min\u001b[39;49;00m\u001b[43m \u001b[49m\u001b[43mnow\u001b[49m\u001b[43m:\u001b[49m\n\u001b[0;32m      7\u001b[0m \u001b[43m    \u001b[49m\u001b[38;5;28;43mprint\u001b[39;49m\u001b[43m(\u001b[49m\u001b[43mi\u001b[49m\u001b[38;5;241;43m.\u001b[39;49m\u001b[43mmonth\u001b[49m\u001b[43m)\u001b[49m\n",
      "\u001b[1;31mTypeError\u001b[0m: 'datetime.datetime' object is not iterable"
     ]
    }
   ],
   "source": [
    "import datetime\n",
    "\n",
    "now = datetime.datetime.now()\n",
    "print(now)\n",
    "\n",
    "for i in now:\n",
    "    print(i.month)\n",
    "\n"
   ]
  },
  {
   "cell_type": "code",
   "execution_count": 36,
   "id": "18850ca5-68f9-47c3-b47d-4ee637a93f3d",
   "metadata": {},
   "outputs": [
    {
     "name": "stdout",
     "output_type": "stream",
     "text": [
      "['2022-01-01']\n"
     ]
    }
   ],
   "source": [
    "timestamp = \"2022-01-01\"\n",
    "print(timestamp.split(','))"
   ]
  },
  {
   "cell_type": "code",
   "execution_count": null,
   "id": "9e4826d7-6323-4f94-a1ff-72f1c8cc8def",
   "metadata": {},
   "outputs": [],
   "source": []
  }
 ],
 "metadata": {
  "kernelspec": {
   "display_name": "Python 3 (ipykernel)",
   "language": "python",
   "name": "python3"
  },
  "language_info": {
   "codemirror_mode": {
    "name": "ipython",
    "version": 3
   },
   "file_extension": ".py",
   "mimetype": "text/x-python",
   "name": "python",
   "nbconvert_exporter": "python",
   "pygments_lexer": "ipython3",
   "version": "3.12.2"
  }
 },
 "nbformat": 4,
 "nbformat_minor": 5
}
