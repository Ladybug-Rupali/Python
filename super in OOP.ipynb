{
 "cells": [
  {
   "cell_type": "markdown",
   "id": "bb93ab73-7736-4b88-9be6-f0058c7ac1b2",
   "metadata": {},
   "source": [
    "## Super in Single Inheritance\n",
    "\n",
    "\n",
    "\n",
    "        \n",
    "\n"
   ]
  },
  {
   "cell_type": "code",
   "execution_count": 44,
   "id": "64911071-d97c-4551-aa2a-3947801e4555",
   "metadata": {},
   "outputs": [
    {
     "name": "stdout",
     "output_type": "stream",
     "text": [
      "Child class\n",
      "First class\n"
     ]
    }
   ],
   "source": [
    "class Father():\n",
    "    def __init__(self):\n",
    "        print(\"First class\")\n",
    "\n",
    "class Child(Father):\n",
    "    def __init__(self):\n",
    "        print(\"Child class\")\n",
    "        super().__init__()\n",
    "\n",
    "c = Child() "
   ]
  },
  {
   "cell_type": "markdown",
   "id": "7f9bb9f0-550e-4ed7-92d8-da6fadbaf63a",
   "metadata": {},
   "source": [
    "## Super in single inheritance with parameters"
   ]
  },
  {
   "cell_type": "code",
   "execution_count": 45,
   "id": "9c5658ec-4257-4c93-a424-ce85f7b0ef2c",
   "metadata": {},
   "outputs": [
    {
     "name": "stdout",
     "output_type": "stream",
     "text": [
      "Father name is : Pyarelal\n",
      "Sirname is : Varma\n",
      "Child name is : Ramlal\n"
     ]
    }
   ],
   "source": [
    "# Super in single inheritance with parameters\n",
    "\n",
    "class Father():\n",
    "    def __init__(self,name,sirname):\n",
    "        self.name = name\n",
    "        self.sirname = sirname\n",
    "        \n",
    "\n",
    "class Child(Father):\n",
    "    def __init__(self,name,sirname,child_name):\n",
    "        self.child_name = child_name\n",
    "        super().__init__(name,sirname)\n",
    "        \n",
    "    def details(self):\n",
    "        print(f\"Father name is : {self.name}\")\n",
    "        print(f\"Sirname is : {self.sirname}\")\n",
    "        print(f\"Child name is : {self.child_name}\")\n",
    "         \n",
    "        \n",
    "\n",
    "C1 = Child(\"Pyarelal\",\"Varma\",\"Ramlal\")\n",
    "C1.details()\n",
    "\n"
   ]
  },
  {
   "cell_type": "markdown",
   "id": "e167d3e0-febe-4612-956d-8ca606b1dec9",
   "metadata": {},
   "source": [
    "## Super in multilevel inheritance without parameters"
   ]
  },
  {
   "cell_type": "code",
   "execution_count": 50,
   "id": "c2729e29-8bc4-473a-88a7-23b250b5808b",
   "metadata": {},
   "outputs": [
    {
     "name": "stdout",
     "output_type": "stream",
     "text": [
      "Child class\n",
      "Father class\n",
      "Grand-Father class\n"
     ]
    }
   ],
   "source": [
    "# super in multilevel inheritance without parameters\n",
    "\n",
    "class Grand_Father():\n",
    "    def __init__(self):\n",
    "        print(\"Grand-Father class\")\n",
    "\n",
    "class Father(Grand_Father):\n",
    "    def __init__(self):\n",
    "        print(\"Father class\")\n",
    "        super().__init__()\n",
    "\n",
    "class Child(Father):\n",
    "    def __init__(Self):\n",
    "        print(\"Child class\")\n",
    "        super().__init__()\n",
    "\n",
    "cz = Child()"
   ]
  },
  {
   "cell_type": "markdown",
   "id": "508c7185-5074-446c-9932-962d275ae728",
   "metadata": {},
   "source": [
    "## super in multilevel inheritance with parameters"
   ]
  },
  {
   "cell_type": "code",
   "execution_count": 28,
   "id": "d74ba3ca-cf71-4238-9194-c7e5628b3a60",
   "metadata": {},
   "outputs": [
    {
     "name": "stdout",
     "output_type": "stream",
     "text": [
      "Father name is : Pyarelal\n",
      "Sirname is : Varma\n",
      "Child name is : Ramlal\n",
      "Child 2 name is : Krishna\n"
     ]
    }
   ],
   "source": [
    "# super in multilevel inheritance with parameters\n",
    "\n",
    "class Father():     #class\n",
    "    def __init__(self,name,sirname):      #constructor\n",
    "        self.name = name             #attributes\n",
    "        self.sirname = sirname\n",
    "        \n",
    "\n",
    "class Child(Father):\n",
    "    def __init__(self,name,sirname,child_name):\n",
    "        self.child_name = child_name\n",
    "        super().__init__(name,sirname)\n",
    "        \n",
    "    def details(self):     #method\n",
    "        print(f\"Father name is : {self.name}\")\n",
    "        print(f\"Sirname is : {self.sirname}\")\n",
    "        print(f\"Child name is : {self.child_name}\")\n",
    "\n",
    "class Child2(Child):\n",
    "    def __init__(self,name,sirname,child_name,child_2_name):\n",
    "        super().__init__(name,sirname,child_name)\n",
    "        self.child_2_name = child_2_name\n",
    "      \n",
    "\n",
    "    def details_2(self):\n",
    "        print(f'Child 2 name is : {self.child_2_name}')\n",
    "        \n",
    "        \n",
    "\n",
    "C1 = Child2(\"Pyarelal\", \"Varma\", \"Ramlal\", \"Krishna\")\n",
    "C1.details()\n",
    "C1.details_2()\n"
   ]
  },
  {
   "cell_type": "markdown",
   "id": "9ea07852-3d6d-44d5-b0f4-478f7d9785e0",
   "metadata": {},
   "source": [
    "## Super in Multiple Inheritance"
   ]
  },
  {
   "cell_type": "code",
   "execution_count": 11,
   "id": "c15376f0-1907-44d6-98ea-10dba28214ae",
   "metadata": {},
   "outputs": [
    {
     "name": "stdout",
     "output_type": "stream",
     "text": [
      "Combined class\n",
      "Father class\n"
     ]
    }
   ],
   "source": [
    "# Super in Multiple Inheritance\n",
    "\n",
    "class Father():\n",
    "    def __init__(Self):\n",
    "        print(\"Father class\")\n",
    "\n",
    "class Child1():\n",
    "    def __init__(Self):\n",
    "        print(\"Child class\")\n",
    "\n",
    "class Combined(Father,Child1):\n",
    "    def __init__(self):\n",
    "        print(\"Combined class\")\n",
    "        super().__init__()\n",
    "\n",
    "c2 = Combined()  #No error but As per MRO it will read bottom to top and left to right only up to the father class\n",
    "    \n",
    "\n"
   ]
  },
  {
   "cell_type": "code",
   "execution_count": 35,
   "id": "d7eb42d3-21b6-4276-a856-976b526dc6a3",
   "metadata": {},
   "outputs": [
    {
     "name": "stdout",
     "output_type": "stream",
     "text": [
      "Combined class\n",
      "Father class\n",
      "Child class\n"
     ]
    }
   ],
   "source": [
    "# The Solution is to call the base constructor explicitly\n",
    "\n",
    "class Father():\n",
    "    def __init__(self):\n",
    "        print(\"Father class\")\n",
    "\n",
    "class Child1():\n",
    "    def __init__(self):\n",
    "        print(\"Child class\")\n",
    "\n",
    "class Combined(Father,Child1):\n",
    "    def __init__(self):\n",
    "        print(\"Combined class\")\n",
    "        Father.__init__(self)    #Base called explicitly\n",
    "        Child1.__init__(self)    #Base called explicitly\n",
    "\n",
    "c3 = Combined()"
   ]
  },
  {
   "cell_type": "code",
   "execution_count": 52,
   "id": "bad3d521-80f5-407f-8cb6-b299f3ce0b59",
   "metadata": {},
   "outputs": [
    {
     "name": "stdout",
     "output_type": "stream",
     "text": [
      "My name is : Rounak\n",
      "My father name is : Ram\n",
      "My sirname is : Rathi\n"
     ]
    }
   ],
   "source": [
    "#Multiple Inheritance with parameters\n",
    "\n",
    "class Father():\n",
    "    def __init__(self,name):\n",
    "        self.name = name\n",
    "        \n",
    "\n",
    "class Child1():\n",
    "    def __init__(self,sirname):\n",
    "        self.sirname = sirname\n",
    "       \n",
    "\n",
    "class Combined(Father,Child1):\n",
    "    \n",
    "    def __init__(self,name,sirname,my_name):\n",
    "        \n",
    "        \n",
    "        Father.__init__(self,name)    #Base called explicitly\n",
    "        Child1.__init__(self,sirname)    #Base called explicitly\n",
    "        self.my_name = my_name\n",
    "\n",
    "    def details(self):\n",
    "        print(f'My name is : {self.my_name}')\n",
    "        print(f'My father name is : {self.name}')\n",
    "        print(f'My sirname is : {self.sirname}')\n",
    "        \n",
    "c3 = Combined(\"Ram\",\"Rathi\",\"Rounak\")\n",
    "c3.details()"
   ]
  },
  {
   "cell_type": "code",
   "execution_count": 14,
   "id": "766a6ae6-1d8f-4a21-9dfb-ef6aebe891d9",
   "metadata": {},
   "outputs": [
    {
     "name": "stdout",
     "output_type": "stream",
     "text": [
      "Combined class\n",
      "Father class\n",
      "Child class\n"
     ]
    }
   ],
   "source": [
    "#Another solution is to use dependency injection : \n",
    "\n",
    "class Father():\n",
    "    def __init__(Self):\n",
    "        print(\"Father class\")\n",
    "\n",
    "class Child1():\n",
    "    def __init__(Self):\n",
    "        print(\"Child class\")\n",
    "\n",
    "class Combined(Father,Child1):\n",
    "    def __init__(self):\n",
    "        print(\"Combined class\")\n",
    "        super().__init__()\n",
    "        super(Father,self).__init__()  #Father will call the constructor of father and self will pass to child1\n",
    "\n",
    "c4 = Combined()"
   ]
  },
  {
   "cell_type": "code",
   "execution_count": 56,
   "id": "50d24eb0-115f-4421-b07b-b80defcbcb45",
   "metadata": {},
   "outputs": [
    {
     "name": "stdout",
     "output_type": "stream",
     "text": [
      "My name is : Rounak\n",
      "My father name is : Ram\n",
      "My sirname is : Rathi\n"
     ]
    }
   ],
   "source": [
    "#Multiple Inheritance with parameters using dependency injection\n",
    "\n",
    "class Father():\n",
    "    def __init__(self,name):\n",
    "        self.name = name   #\n",
    "        \n",
    "\n",
    "class Child1():\n",
    "    def __init__(self,sirname):\n",
    "        self.sirname = sirname\n",
    "       \n",
    "\n",
    "class Combined(Father,Child1):\n",
    "    \n",
    "    def __init__(self,name,sirname,my_name):\n",
    "        Father.__init__(self,name)    #Base called explicitly\n",
    "        Child1.__init__(self,sirname)    #Base called explicitly\n",
    "        \n",
    "        self.my_name = my_name\n",
    "\n",
    "        \n",
    "        \n",
    "\n",
    "    def details(self):\n",
    "        print(f'My name is : {self.my_name}')\n",
    "        print(f'My father name is : {self.name}')\n",
    "        print(f'My sirname is : {self.sirname}')\n",
    "        \n",
    "c3 = Combined(\"Ram\",\"Rathi\",\"Rounak\")\n",
    "c3.details()"
   ]
  },
  {
   "cell_type": "code",
   "execution_count": 15,
   "id": "8953a7d7-4e79-44dd-907c-b0c98dd660c8",
   "metadata": {},
   "outputs": [
    {
     "name": "stdout",
     "output_type": "stream",
     "text": [
      "Combined class\n",
      "Father class\n",
      "Child 1 class\n",
      "Child 2 class\n"
     ]
    }
   ],
   "source": [
    "# With three base classes : \n",
    "\n",
    "class Father():\n",
    "    def __init__(Self):\n",
    "        print(\"Father class\")\n",
    "\n",
    "class Child1():\n",
    "    def __init__(Self):\n",
    "        print(\"Child 1 class\")\n",
    "        \n",
    "class Child2():\n",
    "    def __init__(self):\n",
    "        print(\"Child 2 class\")\n",
    "\n",
    "\n",
    "class Combined(Father,Child1,Child2):\n",
    "    def __init__(self):\n",
    "        print(\"Combined class\")\n",
    "        super().__init__()\n",
    "        super(Father,self).__init__()   #Father will call the constructor of father and self will pass to child1\n",
    "        super(Child1,self).__init__()    #Father will call the constructor of father and self will pass to child\n",
    "\n",
    "c5 = Combined()\n",
    "        "
   ]
  },
  {
   "cell_type": "code",
   "execution_count": 16,
   "id": "cd2240c4-46b1-4ee8-9231-6d7427f4ab02",
   "metadata": {},
   "outputs": [
    {
     "name": "stdout",
     "output_type": "stream",
     "text": [
      "Combined class\n",
      "Child 2 class\n",
      "Child 1 class\n",
      "Father class\n"
     ]
    }
   ],
   "source": [
    "#The above syntax would confuse then invoke super in every class :\n",
    "\n",
    "class Father():\n",
    "    def __init__(Self):\n",
    "        super().__init__()       #Super in every class\n",
    "        print(\"Father class\")\n",
    "\n",
    "class Child1():\n",
    "    def __init__(Self):\n",
    "        super().__init__()        #Super in every class\n",
    "        print(\"Child 1 class\")\n",
    "        \n",
    "class Child2():\n",
    "    def __init__(self):\n",
    "        super().__init__()       #Super in every class\n",
    "        print(\"Child 2 class\")\n",
    "\n",
    "\n",
    "class Combined(Father,Child1,Child2):\n",
    "    def __init__(self):\n",
    "        print(\"Combined class\")\n",
    "        super().__init__()         #Super in every class\n",
    "\n",
    "c6 = Combined()\n"
   ]
  },
  {
   "cell_type": "code",
   "execution_count": 18,
   "id": "c1dcbe6b-e400-4c15-b11a-3832792748f2",
   "metadata": {},
   "outputs": [
    {
     "name": "stdout",
     "output_type": "stream",
     "text": [
      "Init combined\n"
     ]
    },
    {
     "ename": "TypeError",
     "evalue": "First.__init__() takes 2 positional arguments but 4 were given",
     "output_type": "error",
     "traceback": [
      "\u001b[1;31m---------------------------------------------------------------------------\u001b[0m",
      "\u001b[1;31mTypeError\u001b[0m                                 Traceback (most recent call last)",
      "Cell \u001b[1;32mIn[18], line 26\u001b[0m\n\u001b[0;32m     23\u001b[0m         \u001b[38;5;28mprint\u001b[39m(\u001b[38;5;124m\"\u001b[39m\u001b[38;5;124mInit combined\u001b[39m\u001b[38;5;124m\"\u001b[39m)\n\u001b[0;32m     24\u001b[0m         \u001b[38;5;28msuper\u001b[39m()\u001b[38;5;241m.\u001b[39m\u001b[38;5;21m__init__\u001b[39m(first,second,third)\n\u001b[1;32m---> 26\u001b[0m c \u001b[38;5;241m=\u001b[39m \u001b[43mCombined\u001b[49m\u001b[43m(\u001b[49m\u001b[38;5;124;43m\"\u001b[39;49m\u001b[38;5;124;43mFirst\u001b[39;49m\u001b[38;5;124;43m\"\u001b[39;49m\u001b[43m,\u001b[49m\u001b[38;5;124;43m\"\u001b[39;49m\u001b[38;5;124;43mSecond\u001b[39;49m\u001b[38;5;124;43m\"\u001b[39;49m\u001b[43m,\u001b[49m\u001b[38;5;124;43m\"\u001b[39;49m\u001b[38;5;124;43mThird\u001b[39;49m\u001b[38;5;124;43m\"\u001b[39;49m\u001b[43m)\u001b[49m\n",
      "Cell \u001b[1;32mIn[18], line 24\u001b[0m, in \u001b[0;36mCombined.__init__\u001b[1;34m(self, first, second, third)\u001b[0m\n\u001b[0;32m     22\u001b[0m \u001b[38;5;28;01mdef\u001b[39;00m \u001b[38;5;21m__init__\u001b[39m(\u001b[38;5;28mself\u001b[39m,first,second,third):\n\u001b[0;32m     23\u001b[0m     \u001b[38;5;28mprint\u001b[39m(\u001b[38;5;124m\"\u001b[39m\u001b[38;5;124mInit combined\u001b[39m\u001b[38;5;124m\"\u001b[39m)\n\u001b[1;32m---> 24\u001b[0m     \u001b[38;5;28;43msuper\u001b[39;49m\u001b[43m(\u001b[49m\u001b[43m)\u001b[49m\u001b[38;5;241;43m.\u001b[39;49m\u001b[38;5;21;43m__init__\u001b[39;49m\u001b[43m(\u001b[49m\u001b[43mfirst\u001b[49m\u001b[43m,\u001b[49m\u001b[43msecond\u001b[49m\u001b[43m,\u001b[49m\u001b[43mthird\u001b[49m\u001b[43m)\u001b[49m\n",
      "\u001b[1;31mTypeError\u001b[0m: First.__init__() takes 2 positional arguments but 4 were given"
     ]
    }
   ],
   "source": [
    "# To handle parameters : \n",
    "\n",
    "class First():\n",
    "    def __init__(self,first):\n",
    "        print(\"First init\")\n",
    "        super().__init__()\n",
    "        self.first = first\n",
    "\n",
    "class Second():\n",
    "    def __init__(self,second):\n",
    "        print(\"Second init\")\n",
    "        super().__init__()\n",
    "        self.second = second\n",
    "\n",
    "class Third():\n",
    "    def __init__(self,third):\n",
    "        print(\"Third init\")\n",
    "        super().__init__()\n",
    "        self.third = third\n",
    "\n",
    "class Combined(First,Second,Third):\n",
    "    def __init__(self,first,second,third):\n",
    "        print(\"Init combined\")\n",
    "        super().__init__(first,second,third)\n",
    "\n",
    "c = Combined(\"First\",\"Second\",\"Third\")"
   ]
  },
  {
   "cell_type": "code",
   "execution_count": 20,
   "id": "2bcb5919-40d0-447a-8647-1be3d846aeca",
   "metadata": {},
   "outputs": [
    {
     "name": "stdout",
     "output_type": "stream",
     "text": [
      "Init combined\n",
      "First init\n",
      "Second init\n",
      "Third init\n"
     ]
    }
   ],
   "source": [
    "# To handle the above error use **kwargs\n",
    "\n",
    "class First():\n",
    "    def __init__(self,first,**kwargs):\n",
    "        print(\"First init\")\n",
    "        super().__init__(**kwargs)\n",
    "        self.first = first\n",
    "\n",
    "class Second():\n",
    "    def __init__(self,second,**kwargs):\n",
    "        print(\"Second init\")\n",
    "        super().__init__(**kwargs)\n",
    "        self.second = second\n",
    "\n",
    "class Third():\n",
    "    def __init__(self,third,**kwargs):\n",
    "        print(\"Third init\")\n",
    "        super().__init__(**kwargs)\n",
    "        self.third = third\n",
    "\n",
    "class Combined(First,Second,Third):\n",
    "    def __init__(self,f,s,t):\n",
    "        print(\"Init combined\")\n",
    "        super().__init__(first=f,second=s,third=t)\n",
    "\n",
    "c = Combined(\"First\",\"Second\",\"Third\")"
   ]
  },
  {
   "cell_type": "code",
   "execution_count": null,
   "id": "3f6bbd5d-5cbb-4bbf-b8ee-2365f6254170",
   "metadata": {},
   "outputs": [],
   "source": []
  }
 ],
 "metadata": {
  "kernelspec": {
   "display_name": "Python 3 (ipykernel)",
   "language": "python",
   "name": "python3"
  },
  "language_info": {
   "codemirror_mode": {
    "name": "ipython",
    "version": 3
   },
   "file_extension": ".py",
   "mimetype": "text/x-python",
   "name": "python",
   "nbconvert_exporter": "python",
   "pygments_lexer": "ipython3",
   "version": "3.12.2"
  }
 },
 "nbformat": 4,
 "nbformat_minor": 5
}
