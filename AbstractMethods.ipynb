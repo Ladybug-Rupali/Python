{
 "cells": [
  {
   "cell_type": "code",
   "execution_count": 5,
   "id": "7ea656b9-0002-4e67-b5d7-957cde55777e",
   "metadata": {},
   "outputs": [
    {
     "name": "stdin",
     "output_type": "stream",
     "text": [
      "Enter any string rupa\n"
     ]
    },
    {
     "name": "stdout",
     "output_type": "stream",
     "text": [
      "['r', 'u', 'p', 'a']\n",
      "['r']\n",
      "['r', 'u']\n",
      "['r', 'u', 'p']\n",
      "['r', 'u', 'p', 'a']\n"
     ]
    }
   ],
   "source": [
    "word = input(\"Enter any string\")\n",
    "list = []\n",
    "vow = []\n",
    "conso = []\n",
    "for letter in word:\n",
    "    list.append(letter)\n",
    "print(list)\n",
    "for i in list:\n",
    "    if i in ('a','e','i','o','u') and i in ('A','E','I','O','U'):\n",
    "        vow.append(i)\n",
    "        i+=1\n",
    "        print(vow)\n",
    "    else:\n",
    "        conso.append(i)\n",
    "        print(conso)\n"
   ]
  },
  {
   "cell_type": "code",
   "execution_count": 4,
   "id": "4553f13b-51db-4b51-b199-ebd3479ab2b5",
   "metadata": {},
   "outputs": [
    {
     "name": "stdout",
     "output_type": "stream",
     "text": [
      "log in to mobile\n",
      "mobile security\n",
      "Connect to database\n"
     ]
    }
   ],
   "source": [
    "from abc import ABC,abstractmethod   #Import required module\n",
    "\n",
    "class bank(ABC):   #always ABC as an argument in the main class\n",
    "    def database(self):\n",
    "        print('Connect to database')\n",
    "\n",
    "    @abstractmethod     #Condition applied\n",
    "    def security(self):\n",
    "        pass\n",
    "\n",
    "class mob(bank):     #Child class\n",
    "    def mob_log(self):\n",
    "        print('log in to mobile')\n",
    "\n",
    "    def security(self):\n",
    "        print('mobile security')\n",
    "\n",
    "mob_x = mob()\n",
    "mob_x.mob_log()\n",
    "mob_x.security()\n",
    "mob_x.database()"
   ]
  },
  {
   "cell_type": "code",
   "execution_count": 3,
   "id": "60862e51-93dd-446c-b133-cc748c6f63dc",
   "metadata": {},
   "outputs": [
    {
     "name": "stdout",
     "output_type": "stream",
     "text": [
      "log in to mobile\n",
      "mobile security\n",
      "Connect to database\n"
     ]
    }
   ],
   "source": [
    "class mob(bank):     #Child class\n",
    "    def mob_log(self):\n",
    "        print('log in to mobile')\n",
    "\n",
    "    def security(self):\n",
    "        print('mobile security')\n",
    "\n",
    "mob_x = mob()\n",
    "mob_x.mob_log()\n",
    "mob_x.security()\n",
    "mob_x.database()"
   ]
  },
  {
   "cell_type": "code",
   "execution_count": 5,
   "id": "ebda5985-379d-4357-9748-eab238aa2238",
   "metadata": {},
   "outputs": [
    {
     "name": "stdout",
     "output_type": "stream",
     "text": [
      "I am an actor\n"
     ]
    }
   ],
   "source": [
    "from abc import ABC,abstractmethod\n",
    "\n",
    "class Actor:\n",
    "    def intro(self):\n",
    "        print(\"I am an actor\")\n",
    "\n",
    "    @abstractmethod\n",
    "    def security(self):\n",
    "        pass\n",
    "\n",
    "\n",
    "class Fan(Actor):\n",
    "\n",
    "    def meet(self):\n",
    "        print(\"Going to meet my fav hero\")\n",
    "\n",
    "    def security(self):\n",
    "        print(\"After clearing security\")\n",
    "me = Fan()\n",
    "me.intro()\n"
   ]
  },
  {
   "cell_type": "code",
   "execution_count": null,
   "id": "b2246752-f5cc-40b3-994f-c2af425d37ba",
   "metadata": {},
   "outputs": [],
   "source": []
  },
  {
   "cell_type": "code",
   "execution_count": null,
   "id": "7ac30913-fef1-48f1-b745-2d6b4dddc927",
   "metadata": {},
   "outputs": [],
   "source": []
  },
  {
   "cell_type": "code",
   "execution_count": null,
   "id": "7c9e8822-cef2-4bd9-b09d-c296752b8e10",
   "metadata": {},
   "outputs": [],
   "source": []
  }
 ],
 "metadata": {
  "kernelspec": {
   "display_name": "Python 3 (ipykernel)",
   "language": "python",
   "name": "python3"
  },
  "language_info": {
   "codemirror_mode": {
    "name": "ipython",
    "version": 3
   },
   "file_extension": ".py",
   "mimetype": "text/x-python",
   "name": "python",
   "nbconvert_exporter": "python",
   "pygments_lexer": "ipython3",
   "version": "3.12.4"
  }
 },
 "nbformat": 4,
 "nbformat_minor": 5
}
