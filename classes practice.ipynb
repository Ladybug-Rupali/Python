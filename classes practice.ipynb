{
 "cells": [
  {
   "cell_type": "code",
   "execution_count": 13,
   "id": "31e0a583-b43f-4457-9865-64c34127afd1",
   "metadata": {},
   "outputs": [
    {
     "name": "stdin",
     "output_type": "stream",
     "text": [
      "Enter length 34\n",
      "Enter width 33\n"
     ]
    },
    {
     "name": "stdout",
     "output_type": "stream",
     "text": [
      "Area of rectangle having length '45' and width '34' is :  1122\n"
     ]
    }
   ],
   "source": [
    "#Rupali\n",
    "# WAP to find the area of the rectangle using class and object.\n",
    "\n",
    "class Rectangle:\n",
    "    def __init__ (self,length,width):\n",
    "        self.length = length\n",
    "        self.width = width\n",
    "    def area_rectangle(self):\n",
    "        area = self.length * self.width\n",
    "        print(\"Area of rectangle having length '{}' and width '{}' is : \".format(length,width),area)\n",
    "\n",
    "x = int(input(\"Enter length\"))\n",
    "y = int(input(\"Enter width\"))\n",
    "\n",
    "object = Rectangle(x,y)\n",
    "object.area_rectangle()"
   ]
  },
  {
   "cell_type": "code",
   "execution_count": 12,
   "id": "2eed8af0-8a1c-4794-aa4d-495899889456",
   "metadata": {},
   "outputs": [
    {
     "name": "stdin",
     "output_type": "stream",
     "text": [
      "Enter radius 3\n"
     ]
    },
    {
     "name": "stdout",
     "output_type": "stream",
     "text": [
      "Area of circle having radius '3' is : 28.274333882308138\n",
      "circumference of circle having radius '3' is : 18.84955592153876\n"
     ]
    }
   ],
   "source": [
    "#Rupali\n",
    "#WAP to find area and circumference of circle:\n",
    "import math\n",
    "\n",
    "\n",
    "class Circle:\n",
    "    def __init__ (self, radius):\n",
    "        self.radius = radius\n",
    "\n",
    "    def area_circle(self):\n",
    "        area = math.pi*self.radius*self.radius\n",
    "        print(\"Area of circle having radius '{}' is :\".format(self.radius),area)\n",
    "\n",
    "    def circumference_circle(self):\n",
    "        circumference = 2*math.pi*self.radius\n",
    "        print(\"circumference of circle having radius '{}' is :\".format(self.radius),circumference)\n",
    "        \n",
    "\n",
    "x = int(input(\"Enter radius\"))\n",
    "object_1 = Circle(x)\n",
    "object_1.area_circle()\n",
    "object_1.circumference_circle()"
   ]
  },
  {
   "cell_type": "code",
   "execution_count": 1,
   "id": "ec203a04-05ad-4581-950b-1070990f6a55",
   "metadata": {},
   "outputs": [
    {
     "name": "stdout",
     "output_type": "stream",
     "text": [
      "* Comic -->\n",
      "Book name is Tenali Rama.\n",
      "Author name is C. L. L. Jayaprada.\n",
      "Book published in year 2001.\n",
      "\n",
      "--------------------------------------------------------\n",
      "\n",
      "* Biography -->\n",
      "Book name is Steve Jobs.\n",
      "Author name is Walter Isaacson.\n",
      "Book published in year 2011.\n",
      "\n",
      "--------------------------------------------------------\n",
      "\n",
      "* Thriller -->\n",
      "Book name is The Silent Patient.\n",
      "Author name is Alex Michaelides.\n",
      "Book published in year 2019.\n",
      "\n",
      "--------------------------------------------------------\n",
      "\n",
      "* Horror -->\n",
      "Book name is Misery.\n",
      "Author name is Stephan King.\n",
      "Book published in year 1987.\n",
      "\n",
      "--------------------------------------------------------\n",
      "\n",
      "* Fiction -->\n",
      "Book name is The Alchemist.\n",
      "Author name is Paulo Coelho.\n",
      "Book published in year 1988.\n",
      "\n",
      "--------------------------------------------------------\n",
      "\n"
     ]
    }
   ],
   "source": [
    "#Rupali\n",
    "#Create class: book, with instances book name, author name, published year  :\n",
    "\n",
    "class Book:\n",
    "    def __init__(self,name,author,year):\n",
    "        self.name = name\n",
    "        self.author = author\n",
    "        self.year = year\n",
    "\n",
    "    def details(self):\n",
    "        print(f'Book name is {self.name}.')\n",
    "        print(f'Author name is {self.author}.')\n",
    "        print(f'Book published in year {self.year}.')\n",
    "\n",
    "Comic = Book('Tenali Rama' , 'C. L. L. Jayaprada', 2001)\n",
    "\n",
    "Biography = Book('Steve Jobs', 'Walter Isaacson', 2011)\n",
    "\n",
    "Thriller = Book('The Silent Patient', 'Alex Michaelides', 2019)\n",
    "\n",
    "Horror = Book('Misery', 'Stephan King', 1987)\n",
    "\n",
    "Fiction = Book('The Alchemist', 'Paulo Coelho', 1988 )\n",
    "\n",
    "print(\"* Comic -->\")\n",
    "Comic.details()\n",
    "print('\\n--------------------------------------------------------\\n')\n",
    "\n",
    "print(\"* Biography -->\")\n",
    "Biography.details()\n",
    "print('\\n--------------------------------------------------------\\n')\n",
    "\n",
    "print(\"* Thriller -->\")\n",
    "Thriller.details()\n",
    "print('\\n--------------------------------------------------------\\n')\n",
    "\n",
    "print(\"* Horror -->\")\n",
    "Horror.details()\n",
    "print('\\n--------------------------------------------------------\\n')\n",
    "\n",
    "print(\"* Fiction -->\")\n",
    "Fiction.details()\n",
    "print('\\n--------------------------------------------------------\\n')\n",
    "\n",
    "\n",
    "\n",
    "\n",
    "\n",
    "\n",
    "\n"
   ]
  },
  {
   "cell_type": "code",
   "execution_count": 4,
   "id": "3b8c2c5f-71bd-4901-bf1f-8c4bc26c93bb",
   "metadata": {},
   "outputs": [
    {
     "name": "stdout",
     "output_type": "stream",
     "text": [
      "* Rat -->\n",
      "Scientific name of Rat is Rattus norvegicus.\n",
      "Kingdom of Rat is Animalia.\n",
      "Pylum of Rat is Chordata.\n",
      "class of Rat is Mammalia.\n",
      "Order of Rat is Muridae.\n",
      "Family of Rat is Rodentia.\n",
      "Genus of Rat is Rattus.\n",
      "Species of Rat is Norvegicus.\n",
      "\n",
      "--------------------------------------------------------\n",
      "\n",
      "* Cockroach -->\n",
      "Scientific name of Cockroach is Eurycotis floridana.\n",
      "Kingdom of Cockroach is Animalia.\n",
      "Pylum of Cockroach is Arthropoda.\n",
      "class of Cockroach is Insecta.\n",
      "Order of Cockroach is Diptera.\n",
      "Family of Cockroach is Blattodea.\n",
      "Genus of Cockroach is Eurycotis.\n",
      "Species of Cockroach is floridana.\n",
      "\n",
      "--------------------------------------------------------\n",
      "\n",
      "* Mosquito -->\n",
      "Scientific name of Mosquito is Aedes aegypti.\n",
      "Kingdom of Mosquito is Animalia.\n",
      "Pylum of Mosquito is Arthropoda.\n",
      "class of Mosquito is Insecta.\n",
      "Order of Mosquito is Diptera.\n",
      "Family of Mosquito is Culicidae.\n",
      "Genus of Mosquito is Aedes.\n",
      "Species of Mosquito is Aegypti.\n",
      "\n",
      "--------------------------------------------------------\n",
      "\n"
     ]
    }
   ],
   "source": [
    "#Cleat a class animal\n",
    "#Construct the following : (1) kingdom, (2) phylum or division, (3) class1, (4) order, (5) family, (6) genus, and (7) species.\n",
    "# For animals Rats, Cockroach, Mosquito\n",
    "\n",
    "class Animal:\n",
    "    def __init__(self,name,sci_name,kingdom,phylum,class1,order,family,genus,species):\n",
    "        self.name = name\n",
    "        self.sci_name = sci_name\n",
    "        self.kingdom = kingdom\n",
    "        self.phylum = phylum\n",
    "        self.class1 = class1\n",
    "        self.order = order\n",
    "        self.family = family\n",
    "        self.genus = genus\n",
    "        self.species = species\n",
    "\n",
    "    def details(self):\n",
    "        print(f'Scientific name of {self.name} is {self.sci_name}.')\n",
    "        print(f'Kingdom of {self.name} is {self.kingdom}.')\n",
    "        print(f'Pylum of {self.name} is {self.phylum}.')\n",
    "        print(f'class of {self.name} is {self.class1}.')\n",
    "        print(f'Order of {self.name} is {self.order}.')\n",
    "        print(f'Family of {self.name} is {self.family}.')\n",
    "        print(f'Genus of {self.name} is {self.genus}.')\n",
    "        print(f'Species of {self.name} is {self.species}.')\n",
    "\n",
    "Rat = Animal('Rat','Rattus norvegicus','Animalia','Chordata','Mammalia','Muridae','Rodentia','Rattus','Norvegicus')\n",
    "\n",
    "Cockroach = Animal('Cockroach','Eurycotis floridana','Animalia','Arthropoda','Insecta','Diptera','Blattodea','Eurycotis','floridana')\n",
    "\n",
    "Mosquito = Animal('Mosquito','Aedes aegypti','Animalia','Arthropoda','Insecta','Diptera','Culicidae','Aedes','Aegypti')\n",
    "\n",
    "print(\"* Rat -->\")\n",
    "Rat.details()\n",
    "print('\\n--------------------------------------------------------\\n')\n",
    "\n",
    "print(\"* Cockroach -->\")\n",
    "Cockroach.details()\n",
    "print('\\n--------------------------------------------------------\\n')\n",
    "\n",
    "print(\"* Mosquito -->\")\n",
    "Mosquito.details()\n",
    "print('\\n--------------------------------------------------------\\n')\n",
    "\n",
    "\n",
    "\n"
   ]
  },
  {
   "cell_type": "code",
   "execution_count": 18,
   "id": "2f6b5df8-6d37-4cf6-9d51-22053b1b3939",
   "metadata": {},
   "outputs": [
    {
     "name": "stdin",
     "output_type": "stream",
     "text": [
      "Enter radius 3\n",
      "Enter height 4\n"
     ]
    },
    {
     "name": "stdout",
     "output_type": "stream",
     "text": [
      "Surface area of Cylinder is :  75.39822368615503\n",
      "Total surface area of cylinder is :  131.94689145077132\n",
      "Volume of cylinder is :  113.09733552923255\n"
     ]
    }
   ],
   "source": [
    "#Create a class cylinder calculate area, surface area, total surface area : \n",
    "\n",
    "\n",
    "import math\n",
    "\n",
    "class Cylinder:\n",
    "    def __init__ (self,radius,height):\n",
    "        self.radius = radius\n",
    "        self.height = height\n",
    "\n",
    "    def cy_surface_area(self):\n",
    "        area = 2 * math.pi * self.radius * self.height\n",
    "        print(\"Surface area of Cylinder is : \",area)\n",
    "\n",
    "    def cy_total_surface_area(self):\n",
    "        surface_area =  2*math.pi*self.radius*(self.height + self.radius)\n",
    "        print(\"Total surface area of cylinder is : \",surface_area,\"cm\")\n",
    "\n",
    "    def cy_volume(self):\n",
    "        volume = math.pi*self.radius*self.radius*self.height\n",
    "        print(\"Volume of cylinder is : \",volume)\n",
    "\n",
    "radius = int(input(\"Enter radius\"))\n",
    "height = int(input(\"Enter height\"))\n",
    "\n",
    "cylinder = Cylinder(radius,height)\n",
    "cylinder.cy_surface_area()\n",
    "cylinder.cy_total_surface_area()\n",
    "cylinder.cy_volume()\n",
    "\n",
    "\n",
    "        "
   ]
  },
  {
   "cell_type": "code",
   "execution_count": 1,
   "id": "4b460371-12bc-46d5-9200-4f10cb658e0e",
   "metadata": {},
   "outputs": [
    {
     "name": "stdout",
     "output_type": "stream",
     "text": [
      "This is parent class\n",
      "This is child class\n"
     ]
    }
   ],
   "source": [
    "#Single inheritance\n",
    "\n",
    "class Parent:\n",
    "    def func1(self):\n",
    "        print(\"This is parent class\")\n",
    "\n",
    "\n",
    "class Child(Parent):\n",
    "    def func2(self):\n",
    "        print(\"This is child class\")\n",
    "\n",
    "Object = Child()\n",
    "Object.func1()\n",
    "Object.func2()"
   ]
  },
  {
   "cell_type": "code",
   "execution_count": 9,
   "id": "403d8dab-8a15-4e41-ac61-6b70f52e0816",
   "metadata": {},
   "outputs": [
    {
     "name": "stdout",
     "output_type": "stream",
     "text": [
      "Satyanarayan\n",
      "Grandfather name is : Satyanarayan\n",
      "Father name is : Rampal\n",
      "Son name is : Prince\n"
     ]
    }
   ],
   "source": [
    "#Multilevel Inheritance \n",
    "\n",
    "\n",
    "#Base class\n",
    "class Grandfather:\n",
    "    def __init__(self,grandfathername):\n",
    "        self.grandfathername = grandfathername\n",
    "\n",
    "\n",
    "#Intermediate class\n",
    "\n",
    "class Father(Grandfather):\n",
    "    def __init__(self,fathername,grandfathername):\n",
    "        self.fathername = fathername\n",
    "\n",
    "        #Invoking constructor of Grandfather\n",
    "        Grandfather.__init__(self, grandfathername)\n",
    "\n",
    "class Son(Father):\n",
    "    def __init__(self,sonname,fathername,grandfathername):\n",
    "        self.sonname = sonname\n",
    "\n",
    "        #Invoking constructor of Father\n",
    "        Father.__init__(self,fathername,grandfathername)\n",
    "\n",
    "    def print_name(self):\n",
    "        print('Grandfather name is :',self.grandfathername)\n",
    "        print('Father name is :',self.fathername)\n",
    "        print('Son name is :',self.sonname)\n",
    "\n",
    "s1 = Son('Prince','Rampal','Satyanarayan')\n",
    "print(s1.grandfathername)\n",
    "s1.print_name()\n",
    "        \n",
    "\n",
    "\n",
    "\n",
    "        "
   ]
  },
  {
   "cell_type": "code",
   "execution_count": 13,
   "id": "811dee7e-779b-402e-9289-0828afc1c8f9",
   "metadata": {},
   "outputs": [
    {
     "name": "stdout",
     "output_type": "stream",
     "text": [
      "Karan Johar\n",
      "Orry\n",
      "Yash and Ruhi\n",
      "Final Product\n"
     ]
    }
   ],
   "source": [
    "#Hybrid\n",
    "\n",
    "class a:\n",
    "    def name_a(self):\n",
    "        print(\"Karan Johar\")\n",
    "\n",
    "class b:\n",
    "    def name_b(Self):\n",
    "        print(\"Orry\")\n",
    "\n",
    "class c(a):\n",
    "    def name_c(self):\n",
    "        print(\"Yash and Ruhi\")\n",
    "\n",
    "class d(b,c):\n",
    "    def name_d(self):\n",
    "        print('Final Product')\n",
    "\n",
    "obj_1 = d()\n",
    "\n",
    "obj_1.name_a()\n",
    "obj_1.name_b()\n",
    "obj_1.name_c()\n",
    "obj_1.name_d()"
   ]
  },
  {
   "cell_type": "code",
   "execution_count": 24,
   "id": "711cd293-a8fc-48f4-a647-117623eafbbc",
   "metadata": {},
   "outputs": [
    {
     "name": "stdout",
     "output_type": "stream",
     "text": [
      "Dog name is Shawn.\n",
      "Dog breed is Golden Retriever.\n",
      "Dog color is golden.\n",
      "Dog food is  dog food.\n",
      "Dog age is 5.\n",
      "\n",
      "-------------------------------------------------------\n",
      "\n",
      "Cat name is Minu.\n",
      "Cat breed is Tuxedo.\n",
      "Cat color is Grey.\n",
      "Cat food is  cat food.\n",
      "Cat age is 1.\n",
      "Cat sound is Meow\n"
     ]
    }
   ],
   "source": [
    "#Super Function\n",
    "#Multilevel Inheritance\n",
    "\n",
    "class Animal:\n",
    "    def __init__(self,name,breed,color,food):\n",
    "        self.name = name\n",
    "        self.breed = breed\n",
    "        self.color = color\n",
    "        self.food = food\n",
    "\n",
    "class Dog(Animal):\n",
    "    def __init__(self,name,breed,color,food,age,animal):\n",
    "        super().__init__(name,breed,color,food)\n",
    "        self.age = age\n",
    "        self.animal = animal\n",
    "\n",
    "    def dog_details(self):\n",
    "        print(f\"{self.animal} name is {self.name}.\")\n",
    "        print(f\"{self.animal} breed is {self.breed}.\")\n",
    "        print(f\"{self.animal} color is {self.color}.\")\n",
    "        print(f\"{self.animal} food is  {self.food}.\")\n",
    "        print(f\"{self.animal} age is {self.age}.\")\n",
    "        \n",
    "\n",
    "class Cat(Dog):\n",
    "    def __init__(self,name,breed,color,food,age,animal,sound):\n",
    "        super().__init__(name,breed,color,food,age,animal)\n",
    "        self.sound = sound\n",
    "\n",
    "    def cat_details(self):\n",
    "        print(f\"{self.animal} sound is {self.sound}\")\n",
    "\n",
    "x = Dog(\"Shawn\",\"Golden Retriever\",\"golden\",\"dog food\",5,\"Dog\")\n",
    "x.dog_details()\n",
    "print(\"\\n-------------------------------------------------------\\n\")\n",
    "y = Cat(\"Minu\",\"Tuxedo\",\"Grey\",\"cat food\",1,\"Cat\",\"Meow\")\n",
    "y.dog_details()\n",
    "\n",
    "y.cat_details()\n",
    "\n",
    "    "
   ]
  },
  {
   "cell_type": "code",
   "execution_count": 76,
   "id": "54d91a16-cab4-427c-8a87-6b5cb9db1927",
   "metadata": {},
   "outputs": [
    {
     "ename": "NameError",
     "evalue": "name 'age' is not defined",
     "output_type": "error",
     "traceback": [
      "\u001b[1;31m---------------------------------------------------------------------------\u001b[0m",
      "\u001b[1;31mNameError\u001b[0m                                 Traceback (most recent call last)",
      "Cell \u001b[1;32mIn[76], line 25\u001b[0m\n\u001b[0;32m     22\u001b[0m         \u001b[38;5;28mprint\u001b[39m(\u001b[38;5;124mf\u001b[39m\u001b[38;5;124m\"\u001b[39m\u001b[38;5;124mMy mother\u001b[39m\u001b[38;5;124m'\u001b[39m\u001b[38;5;124ms name is \u001b[39m\u001b[38;5;132;01m{\u001b[39;00m\u001b[38;5;28mself\u001b[39m\u001b[38;5;241m.\u001b[39mname\u001b[38;5;132;01m}\u001b[39;00m\u001b[38;5;124m\"\u001b[39m)\n\u001b[0;32m     23\u001b[0m         \u001b[38;5;28mprint\u001b[39m(\u001b[38;5;124mf\u001b[39m\u001b[38;5;124m\"\u001b[39m\u001b[38;5;124mMy fathers\u001b[39m\u001b[38;5;124m'\u001b[39m\u001b[38;5;124ms sirname is \u001b[39m\u001b[38;5;132;01m{\u001b[39;00m\u001b[38;5;28mself\u001b[39m\u001b[38;5;241m.\u001b[39msirname\u001b[38;5;132;01m}\u001b[39;00m\u001b[38;5;124m\"\u001b[39m)\n\u001b[1;32m---> 25\u001b[0m son \u001b[38;5;241m=\u001b[39m \u001b[43mchild\u001b[49m\u001b[43m(\u001b[49m\u001b[38;5;124;43m\"\u001b[39;49m\u001b[38;5;124;43mReena\u001b[39;49m\u001b[38;5;124;43m\"\u001b[39;49m\u001b[43m,\u001b[49m\u001b[38;5;124;43m\"\u001b[39;49m\u001b[38;5;124;43mRathi\u001b[39;49m\u001b[38;5;124;43m\"\u001b[39;49m\u001b[43m,\u001b[49m\u001b[38;5;241;43m3\u001b[39;49m\u001b[43m)\u001b[49m\n\u001b[0;32m     26\u001b[0m son\u001b[38;5;241m.\u001b[39mdetails()\n",
      "Cell \u001b[1;32mIn[76], line 18\u001b[0m, in \u001b[0;36mchild.__init__\u001b[1;34m(self, name, n, s, **kwargs)\u001b[0m\n\u001b[0;32m     14\u001b[0m \u001b[38;5;28;01mdef\u001b[39;00m \u001b[38;5;21m__init__\u001b[39m(\u001b[38;5;28mself\u001b[39m,name,n,s,\u001b[38;5;241m*\u001b[39m\u001b[38;5;241m*\u001b[39mkwargs):\n\u001b[0;32m     17\u001b[0m     \u001b[38;5;28msuper\u001b[39m()\u001b[38;5;241m.\u001b[39m\u001b[38;5;21m__init__\u001b[39m(name \u001b[38;5;241m=\u001b[39m n,sirname \u001b[38;5;241m=\u001b[39m s)\n\u001b[1;32m---> 18\u001b[0m     \u001b[38;5;28mself\u001b[39m\u001b[38;5;241m.\u001b[39mage \u001b[38;5;241m=\u001b[39m \u001b[43mage\u001b[49m\n",
      "\u001b[1;31mNameError\u001b[0m: name 'age' is not defined"
     ]
    }
   ],
   "source": [
    "#Super in Multiple inheritance\n",
    "\n",
    "class Mom:\n",
    "    def __init__(self,name,**kwargs):\n",
    "        super().__init__(**kwargs)\n",
    "        self.name = name\n",
    "\n",
    "class Dad:\n",
    "    def __init__(self,sirname,**kwargs):\n",
    "        super().__init__(**kwargs)\n",
    "        self.sirname = sirname\n",
    "\n",
    "class child(Mom,Dad):\n",
    "    def __init__(self,name,n,s,**kwargs):\n",
    "      \n",
    "       \n",
    "        super().__init__(name = n,sirname = s)\n",
    "        self.age = age\n",
    "\n",
    "    def details(self):\n",
    "        print(f'My age is {self.age}')\n",
    "        print(f\"My mother's name is {self.name}\")\n",
    "        print(f\"My fathers's sirname is {self.sirname}\")\n",
    "\n",
    "son = child(\"Reena\",\"Rathi\",3)\n",
    "son.details()\n",
    "\n"
   ]
  },
  {
   "cell_type": "code",
   "execution_count": 54,
   "id": "7d977158-006d-49bf-81bb-7fe9580ba337",
   "metadata": {},
   "outputs": [
    {
     "name": "stdout",
     "output_type": "stream",
     "text": [
      "third\n"
     ]
    }
   ],
   "source": [
    "class First(object):\n",
    "    def __init__(self):\n",
    "        super(First,self).__init__\n",
    "        print(\"first\")\n",
    "\n",
    "class Second(object):\n",
    "    def __init__(self):\n",
    "        super(Second,self).__init__\n",
    "        print(\"second\")\n",
    "\n",
    "class Third(object):\n",
    "    def __init__(self):\n",
    "        super(Third,self).__init__\n",
    "        print(\"third\")\n",
    "\n",
    "new = Third()\n",
    "new1 = Second"
   ]
  },
  {
   "cell_type": "code",
   "execution_count": 78,
   "id": "e4ee7a1c-da37-4332-bacb-850c4710d537",
   "metadata": {},
   "outputs": [
    {
     "name": "stdout",
     "output_type": "stream",
     "text": [
      "My age is 3\n",
      "My mother's name is Reena\n",
      "My fathers's sirname is Rathi\n"
     ]
    }
   ],
   "source": [
    "#Super in Multiple inheritance\n",
    "\n",
    "class Mom:\n",
    "    def __init__(self,name):\n",
    "        self.name = name\n",
    "\n",
    "class Dad:\n",
    "    def __init__(self,sirname):\n",
    "        self.sirname = sirname\n",
    "\n",
    "class child(Mom,Dad):\n",
    "    def __init__(self,name,sirname,age):\n",
    "      \n",
    "        Mom.__init__(self,name)\n",
    "        Dad.__init__(self,sirname)\n",
    "        self.age = age\n",
    "\n",
    "    def details(self):\n",
    "        print(f'My age is {self.age}')\n",
    "        print(f\"My mother's name is {self.name}\")\n",
    "        print(f\"My fathers's sirname is {self.sirname}\")\n",
    "\n",
    "son = child(\"Reena\",\"Rathi\",3)\n",
    "son.details()\n",
    "\n"
   ]
  },
  {
   "cell_type": "code",
   "execution_count": 82,
   "id": "f3464197-bba4-451b-82a3-ebb2a567f7d2",
   "metadata": {},
   "outputs": [
    {
     "ename": "TypeError",
     "evalue": "Mom.__init__() missing 1 required positional argument: 'name'",
     "output_type": "error",
     "traceback": [
      "\u001b[1;31m---------------------------------------------------------------------------\u001b[0m",
      "\u001b[1;31mTypeError\u001b[0m                                 Traceback (most recent call last)",
      "Cell \u001b[1;32mIn[82], line 24\u001b[0m\n\u001b[0;32m     21\u001b[0m         \u001b[38;5;28mprint\u001b[39m(\u001b[38;5;124mf\u001b[39m\u001b[38;5;124m\"\u001b[39m\u001b[38;5;124mMy mother\u001b[39m\u001b[38;5;124m'\u001b[39m\u001b[38;5;124ms name is \u001b[39m\u001b[38;5;132;01m{\u001b[39;00m\u001b[38;5;28mself\u001b[39m\u001b[38;5;241m.\u001b[39mname\u001b[38;5;132;01m}\u001b[39;00m\u001b[38;5;124m\"\u001b[39m)\n\u001b[0;32m     22\u001b[0m         \u001b[38;5;28mprint\u001b[39m(\u001b[38;5;124mf\u001b[39m\u001b[38;5;124m\"\u001b[39m\u001b[38;5;124mMy fathers\u001b[39m\u001b[38;5;124m'\u001b[39m\u001b[38;5;124ms sirname is \u001b[39m\u001b[38;5;132;01m{\u001b[39;00m\u001b[38;5;28mself\u001b[39m\u001b[38;5;241m.\u001b[39msirname\u001b[38;5;132;01m}\u001b[39;00m\u001b[38;5;124m\"\u001b[39m)\n\u001b[1;32m---> 24\u001b[0m son \u001b[38;5;241m=\u001b[39m \u001b[43mchild\u001b[49m\u001b[43m(\u001b[49m\u001b[38;5;124;43m\"\u001b[39;49m\u001b[38;5;124;43mReena\u001b[39;49m\u001b[38;5;124;43m\"\u001b[39;49m\u001b[43m,\u001b[49m\u001b[38;5;124;43m\"\u001b[39;49m\u001b[38;5;124;43mRathi\u001b[39;49m\u001b[38;5;124;43m\"\u001b[39;49m\u001b[43m,\u001b[49m\u001b[38;5;241;43m3\u001b[39;49m\u001b[43m)\u001b[49m\n\u001b[0;32m     25\u001b[0m son\u001b[38;5;241m.\u001b[39mdetails()\n",
      "Cell \u001b[1;32mIn[82], line 14\u001b[0m, in \u001b[0;36mchild.__init__\u001b[1;34m(self, name, sirname, age)\u001b[0m\n\u001b[0;32m     12\u001b[0m \u001b[38;5;28;01mdef\u001b[39;00m \u001b[38;5;21m__init__\u001b[39m(\u001b[38;5;28mself\u001b[39m,name,sirname,age):\n\u001b[0;32m     13\u001b[0m     \u001b[38;5;28mself\u001b[39m\u001b[38;5;241m.\u001b[39mage \u001b[38;5;241m=\u001b[39m age\n\u001b[1;32m---> 14\u001b[0m     \u001b[38;5;28;43msuper\u001b[39;49m\u001b[43m(\u001b[49m\u001b[43m)\u001b[49m\u001b[38;5;241;43m.\u001b[39;49m\u001b[38;5;21;43m__init__\u001b[39;49m\u001b[43m(\u001b[49m\u001b[43m)\u001b[49m\n\u001b[0;32m     15\u001b[0m     \u001b[38;5;28msuper\u001b[39m(Mom,\u001b[38;5;28mself\u001b[39m)\u001b[38;5;241m.\u001b[39m\u001b[38;5;21m__init__\u001b[39m()\n",
      "\u001b[1;31mTypeError\u001b[0m: Mom.__init__() missing 1 required positional argument: 'name'"
     ]
    }
   ],
   "source": [
    "#Super in Multiple inheritance\n",
    "\n",
    "class Mom:\n",
    "    def __init__(self,name):\n",
    "        self.name = name\n",
    "\n",
    "class Dad:\n",
    "    def __init__(self,sirname):\n",
    "        self.sirname = sirname\n",
    "\n",
    "class child(Mom,Dad):\n",
    "    def __init__(self,name,sirname,age):\n",
    "        self.age = age\n",
    "        super().__init__()\n",
    "        super(Mom,self).__init__()\n",
    "        \n",
    "        \n",
    "\n",
    "    def details(self):\n",
    "        print(f'My age is {self.age}')\n",
    "        print(f\"My mother's name is {self.name}\")\n",
    "        print(f\"My fathers's sirname is {self.sirname}\")\n",
    "\n",
    "son = child(\"Reena\",\"Rathi\",3)\n",
    "son.details()\n",
    "\n"
   ]
  },
  {
   "cell_type": "code",
   "execution_count": 64,
   "id": "829fd331-ff78-48cd-b46b-b6c71ed61534",
   "metadata": {},
   "outputs": [
    {
     "name": "stdout",
     "output_type": "stream",
     "text": [
      "hi\n",
      "hello\n"
     ]
    }
   ],
   "source": [
    "class parent:\n",
    "    def __init__(self):\n",
    "        print(\"hello\")\n",
    "\n",
    "class c1(parent):\n",
    "    def __init__(self):\n",
    "        print(\"hi\")\n",
    "        parent.__init__(self)\n",
    "\n",
    "ob = c1()"
   ]
  },
  {
   "cell_type": "code",
   "execution_count": 70,
   "id": "e272d7e9-2b59-4f28-b10b-355f01373f3d",
   "metadata": {},
   "outputs": [
    {
     "name": "stdout",
     "output_type": "stream",
     "text": [
      "hi\n"
     ]
    }
   ],
   "source": [
    "class parent:\n",
    "    def __init__(self):\n",
    "        print(\"hello\")\n",
    "\n",
    "class c1(parent):\n",
    "    def __init__(self):\n",
    "        print(\"hi\")\n",
    "        super(parent,self).__init__()\n",
    "\n",
    "obj = c1()\n",
    "        \n",
    "\n"
   ]
  },
  {
   "cell_type": "code",
   "execution_count": 2,
   "id": "6fda7d3a-1d0f-4744-8ce4-fd3bcd61791e",
   "metadata": {},
   "outputs": [
    {
     "data": {
      "text/plain": [
       "23"
      ]
     },
     "execution_count": 2,
     "metadata": {},
     "output_type": "execute_result"
    }
   ],
   "source": [
    "class Manager():\n",
    "    def __init__(self,name,age,project):\n",
    "        self.name = name\n",
    "        self.age = age\n",
    "        self.project = project\n",
    "        \n",
    "class Engineer(Manager):\n",
    "    def __init__(self,name,age,project,salary,xyz):\n",
    "        super().__init__(name,age,project)\n",
    "        self.salary = salary\n",
    "\n",
    "class Client(Manager):\n",
    "    pass\n",
    "\n",
    "ob = Engineer(\"Ram\",23,\"WebAsha\",23654)\n",
    "ob.age\n"
   ]
  },
  {
   "cell_type": "code",
   "execution_count": null,
   "id": "17ea7874-9410-4a81-978b-2d977992846c",
   "metadata": {},
   "outputs": [],
   "source": []
  }
 ],
 "metadata": {
  "kernelspec": {
   "display_name": "Python 3 (ipykernel)",
   "language": "python",
   "name": "python3"
  },
  "language_info": {
   "codemirror_mode": {
    "name": "ipython",
    "version": 3
   },
   "file_extension": ".py",
   "mimetype": "text/x-python",
   "name": "python",
   "nbconvert_exporter": "python",
   "pygments_lexer": "ipython3",
   "version": "3.12.4"
  }
 },
 "nbformat": 4,
 "nbformat_minor": 5
}
