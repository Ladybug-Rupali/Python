{
 "cells": [
  {
   "cell_type": "markdown",
   "id": "c96053fd-f825-4c67-af1a-857a17783205",
   "metadata": {},
   "source": [
    "### Formal parameter\n",
    "\n",
    "* __Parameter defined in function definition is called Formal parameter__\n"
   ]
  },
  {
   "cell_type": "code",
   "execution_count": 4,
   "id": "310a9b23-60d8-4966-b1de-f7ce4918ef8d",
   "metadata": {},
   "outputs": [
    {
     "name": "stdout",
     "output_type": "stream",
     "text": [
      "first : Geeks\n",
      "mid : for\n",
      "last : Geeks\n"
     ]
    }
   ],
   "source": [
    "def myFun(args,**kwargs):\n",
    "    for key, value in kwargs.items():\n",
    "        print(\"%s : %s\" % (key, value))\n",
    " \n",
    " \n",
    "# Driver code\n",
    "myFun(\"Hi\", first='Geeks', mid='for', last='Geeks')"
   ]
  },
  {
   "cell_type": "code",
   "execution_count": 1,
   "id": "d5e24203-9bc7-4aa5-8cef-b65f4198ad94",
   "metadata": {},
   "outputs": [
    {
     "name": "stdin",
     "output_type": "stream",
     "text": [
      "Enter any name heeramandi\n"
     ]
    },
    {
     "name": "stdout",
     "output_type": "stream",
     "text": [
      "User input in UPPER CASE: HEERAMANDI\n",
      "Vowels are :  5\n",
      "Conso are :  5\n"
     ]
    }
   ],
   "source": [
    "#WAP to input a name in lower case and output it uppercase, count the total vowel and consonent in user's name\n",
    "\n",
    "def user_name():\n",
    "    x = input(\"Enter any name\")\n",
    "    print(\"User input in UPPER CASE:\", x.upper())\n",
    "\n",
    "    vowels = 'aeiouAEIOU'\n",
    "    conso = \" BCDFGHJKLMNPQRSTVWXYZbcdfghjklmnpqrstvwxyz\"\n",
    "\n",
    "    vowel_count = 0\n",
    "    conso_cpunt = 0\n",
    "    for i in x:\n",
    "        if i in vowels:\n",
    "            vowel_count+=1\n",
    "        elif i in conso:\n",
    "            conso_cpunt+=1\n",
    "    print(\"Vowels are : \",vowel_count)\n",
    "    print(\"Conso are : \",conso_cpunt)\n",
    "    \n",
    "\n",
    "\n",
    "user_name()\n",
    "    \n",
    "    "
   ]
  },
  {
   "cell_type": "code",
   "execution_count": 1,
   "id": "298bc6e2-796b-4eaf-966c-38864284b21e",
   "metadata": {},
   "outputs": [
    {
     "name": "stdin",
     "output_type": "stream",
     "text": [
      "Enter any name sarthak\n"
     ]
    },
    {
     "name": "stdout",
     "output_type": "stream",
     "text": [
      "Your input in UPPER CASE :  SARTHAK\n",
      "vowels are :  ['a', 'a'] \n",
      "Number of vowels are :  2\n",
      "consoanant are :  ['s', 'r', 't', 'h', 'k'] \n",
      "Number of consonant are :  5\n"
     ]
    }
   ],
   "source": [
    "def count_vowels():\n",
    "    x = input(\"Enter any name\")\n",
    "    print(\"Your input in UPPER CASE : \",x.upper())\n",
    "    vowels = 'aeiouAEIOU'\n",
    "    conso = \" BCDFGHJKLMNPQRSTVWXYZbcdfghjklmnpqrstvwxyz\"\n",
    "    vo_count = 0 \n",
    "    con_count = 0\n",
    "    i = 0\n",
    "    vo = []\n",
    "    conso = []\n",
    "    while i < len(x):\n",
    "        if x[i] in vowels:\n",
    "            vo_count+=1\n",
    "            vo.append(x[i])\n",
    "       \n",
    "        else:\n",
    "            con_count += 1\n",
    "            conso.append(x[i])\n",
    "        i+=1\n",
    "          \n",
    "    print(\"vowels are : \",vo,\"\\nNumber of vowels are : \",vo_count)\n",
    "    print(\"consoanant are : \",conso,\"\\nNumber of consonant are : \",con_count)\n",
    "\n",
    "count_vowels()\n",
    "    \n",
    "    "
   ]
  },
  {
   "cell_type": "code",
   "execution_count": 3,
   "id": "bbd5ec17-3612-4f59-a0a6-46eeea4f1085",
   "metadata": {},
   "outputs": [],
   "source": [
    "def count_vowels():\n",
    "    x = input(\"Enter any name\")\n",
    "    vowels = 'aeiouAEIOU'\n",
    "    count = 0 \n",
    "    i = 0\n",
    "    while i < len(x):\n",
    "        if x[i] in vowels:\n",
    "            count+=1\n",
    "        i += 1\n",
    "    else:\n",
    "        return count\n",
    "    print(\"vowels are : \",count)\n",
    "    \n",
    "    "
   ]
  },
  {
   "cell_type": "code",
   "execution_count": 41,
   "id": "ea8a1cd4-ada0-46fe-a53e-4ff39e9005b2",
   "metadata": {},
   "outputs": [
    {
     "name": "stdin",
     "output_type": "stream",
     "text": [
      "Enter radius :  4\n"
     ]
    },
    {
     "name": "stdout",
     "output_type": "stream",
     "text": [
      "Area of cicle is :  50.26548245743669\n",
      "Circumfernce of circle is  25.132741228718345\n"
     ]
    }
   ],
   "source": [
    "import math\n",
    "def circle():\n",
    "    x = int(input(\"Enter radius : \"))\n",
    "    area = math.pi*x*x\n",
    "    circum = 2*math.pi*x\n",
    "\n",
    "    print(\"Area of cicle is : \",area)\n",
    "    print(\"Circumfernce of circle is \",circum)\n",
    "\n",
    "circle()"
   ]
  },
  {
   "cell_type": "code",
   "execution_count": 4,
   "id": "90e9a7d3-4eed-4157-86fc-56b3b7575795",
   "metadata": {},
   "outputs": [
    {
     "name": "stdin",
     "output_type": "stream",
     "text": [
      "Enter number of elements you want in list 2\n",
      "Element 1 of list :  3\n",
      "Element 2 of list :  4\n"
     ]
    },
    {
     "name": "stdout",
     "output_type": "stream",
     "text": [
      "Your list is :  [3, 4]\n",
      "squared list is :  [9, 16]\n"
     ]
    }
   ],
   "source": [
    "#square of each element in given list \n",
    "\n",
    "def square_find():\n",
    "    list = []\n",
    "    sq_list = []\n",
    "    x = int(input(\"Enter number of elements you want in list\"))\n",
    "    for i in range(1,x+1):\n",
    "        element = int(input(f\"Element {i} of list : \"))\n",
    "        list.append(element)\n",
    "    print(\"Your list is : \",list)\n",
    "    for i in list: \n",
    "        z = i*i \n",
    "        sq_list.append(z)\n",
    "        i+=1\n",
    "    print(\"squared list is : \",sq_list)\n",
    "\n",
    "\n",
    "square_find()\n",
    "        "
   ]
  },
  {
   "cell_type": "code",
   "execution_count": 5,
   "id": "b7426b1a-0bcd-44d1-9524-b7a85d384c04",
   "metadata": {},
   "outputs": [
    {
     "name": "stdin",
     "output_type": "stream",
     "text": [
      "Enter number of elements you want in list :  2\n",
      " Enter your element 1 of list :  3\n",
      " Enter your element 2 of list :  2\n"
     ]
    },
    {
     "name": "stdout",
     "output_type": "stream",
     "text": [
      "Your list is :  [3, 2]\n",
      "['odd', 'even']\n"
     ]
    }
   ],
   "source": [
    "#Check number is even or odd and print that in list \n",
    "\n",
    "def check_num():\n",
    "    list = []\n",
    "    new_list = []\n",
    "    x = int(input(\"Enter number of elements you want in list : \"))\n",
    "    for i in range (1,x+1):\n",
    "        ele = int(input(f\" Enter your element {i} of list : \"))\n",
    "        list.append(ele)\n",
    "    print(\"Your list is : \",list)\n",
    "    for i in list:\n",
    "        if i % 2 == 0:\n",
    "            i+=1\n",
    "            new_list.append(\"even\")\n",
    "        else:\n",
    "            new_list.append(\"odd\")\n",
    "    print(new_list)\n",
    "\n",
    "check_num()\n",
    "        "
   ]
  },
  {
   "cell_type": "code",
   "execution_count": 9,
   "id": "40e87eef-b0a1-4860-a0a6-6728e42d56b9",
   "metadata": {},
   "outputs": [
    {
     "name": "stdin",
     "output_type": "stream",
     "text": [
      "Enter height of triangle :  4\n",
      "Enter base of triangle :  4\n"
     ]
    },
    {
     "name": "stdout",
     "output_type": "stream",
     "text": [
      "Area of given triangle is :  8.0\n"
     ]
    }
   ],
   "source": [
    "#Area of triangle using base and height : \n",
    "\n",
    "def area_tri():\n",
    "    h = int(input(\"Enter height of triangle : \"))\n",
    "    b = int(input(\"Enter base of triangle : \"))\n",
    "    if h > 0 and b > 0:\n",
    "        area = 0.5 * h * b \n",
    " \n",
    "    else:\n",
    "        print(\"Enter positive non zero numbers only\")\n",
    "    print(\"Area of given triangle is : \",area)\n",
    "\n",
    "area_tri()"
   ]
  },
  {
   "cell_type": "code",
   "execution_count": 12,
   "id": "355bf92d-c91d-4f93-9a71-c1c25eb88632",
   "metadata": {},
   "outputs": [
    {
     "name": "stdin",
     "output_type": "stream",
     "text": [
      "Enter number of elements you want in list :  3\n",
      "Your string 1 :  radha\n",
      "Your string 2 :  meera\n",
      "Your string 3 :  witha\n"
     ]
    },
    {
     "name": "stdout",
     "output_type": "stream",
     "text": [
      "Your list of string :  ['radha', 'meera', 'witha']\n",
      "Alphabetically sorted list :  ['meera', 'radha', 'witha']\n"
     ]
    }
   ],
   "source": [
    "def string_alpha():\n",
    "    list = []\n",
    "    s = int(input(\"Enter number of elements you want in list : \"))\n",
    "    for i in range(1,s+1):\n",
    "        ele = input(f\"Your string {i} : \")\n",
    "        list.append(ele)\n",
    "    print(\"Your list of string : \",list)\n",
    "    for i in list:\n",
    "        list.sort()\n",
    "    print(\"Alphabetically sorted list : \",list)\n",
    "\n",
    "string_alpha()"
   ]
  },
  {
   "cell_type": "code",
   "execution_count": 30,
   "id": "07b35879-24cb-4f1b-aeba-76c7cba5e5c4",
   "metadata": {},
   "outputs": [
    {
     "name": "stdin",
     "output_type": "stream",
     "text": [
      "# Enter no of elements you want in list.1 :  3\n",
      " - Enter your element 1 of list :  456\n",
      " - Enter your element 2 of list :  789\n",
      " - Enter your element 3 of list :  987\n"
     ]
    },
    {
     "name": "stdout",
     "output_type": "stream",
     "text": [
      "\n",
      " # Your first list is :  [456, 789, 987] \n",
      "\n"
     ]
    },
    {
     "name": "stdin",
     "output_type": "stream",
     "text": [
      "# Enter no of elements you want in list.2 :  3\n",
      " - Enter your element 1 of list :  456\n",
      " - Enter your element 2 of list :  789\n",
      " - Enter your element 3 of list :  098\n"
     ]
    },
    {
     "name": "stdout",
     "output_type": "stream",
     "text": [
      "\n",
      " # Your second list is :  [456, 789, 98] \n",
      "\n",
      "\n",
      " # Intersection of two list is :  [456, 789]\n"
     ]
    }
   ],
   "source": [
    "#WAP to take two list and return their intersection\n",
    "\n",
    "def inter_check():\n",
    "    list_1 = []\n",
    "    list_2 = []\n",
    "    x = int(input(\"# Enter no of elements you want in list.1 : \"))\n",
    "    for i in range(1,x+1):\n",
    "        ele = int(input(f\" - Enter your element {i} of list : \"))\n",
    "        list_1.append(ele)\n",
    "    print(\"\\n # Your first list is : \",list_1,\"\\n\")\n",
    "    y = int(input(\"# Enter no of elements you want in list.2 : \"))\n",
    "    for i in range(1,y+1):\n",
    "        ele = int(input(f\" - Enter your element {i} of list : \"))\n",
    "        list_2.append(ele)\n",
    "    print(\"\\n # Your second list is : \",list_2,\"\\n\")\n",
    "    list_3 = [value for value in list_1 if value in list_2]\n",
    "    print(\"\\n # Intersection of two list is : \",list_3)\n",
    "\n",
    "inter_check()"
   ]
  },
  {
   "cell_type": "code",
   "execution_count": 29,
   "id": "6c6d56d6-fac2-4e92-8951-b207f363db12",
   "metadata": {},
   "outputs": [
    {
     "name": "stdout",
     "output_type": "stream",
     "text": [
      " The given year is NOT a leap year.\n"
     ]
    }
   ],
   "source": [
    "# Implement a function to check if given number is leap yer or not?\n",
    "\n",
    "def leap_check():\n",
    "   \n",
    "    if i % 400 == 0 and i % 100 == 0:\n",
    "        print(\" The given year is a leap year.\")\n",
    "    elif i % 4 == 0 and i % 100 != 0:\n",
    "        print(\" The given year is a leap year.\")\n",
    "    else:\n",
    "         print(\" The given year is NOT a leap year.\")\n",
    "     i = int(input)\n",
    "leap_check(2023)"
   ]
  },
  {
   "cell_type": "code",
   "execution_count": 35,
   "id": "73139a36-9a7e-40e2-98d3-093ac06a6d3a",
   "metadata": {},
   "outputs": [
    {
     "name": "stdout",
     "output_type": "stream",
     "text": [
      "Binary to Decimal is :  213\n"
     ]
    }
   ],
   "source": [
    "# covert binary to decimal\n",
    "\n",
    "def bin_to_dec(binary):\n",
    "    decimal = 0\n",
    "    i = 0\n",
    "    while binary != 0:\n",
    "        dec = binary % 10\n",
    "        decimal = decimal + dec * 2**i\n",
    "        binary = binary // 10\n",
    "        i += 1\n",
    "    \n",
    "    print(\"Binary to Decimal is : \",decimal)\n",
    "\n",
    "bin_to_dec(11010101)\n",
    "        "
   ]
  },
  {
   "cell_type": "code",
   "execution_count": 41,
   "id": "edf3b01a-d338-4469-a8e5-5fb3cb140e3c",
   "metadata": {},
   "outputs": [
    {
     "name": "stdin",
     "output_type": "stream",
     "text": [
      "Enter first number:  12\n",
      "Enter first number:  39\n"
     ]
    },
    {
     "name": "stdout",
     "output_type": "stream",
     "text": [
      "The L.C.M. of 12 and 39 is >>>> 156\n"
     ]
    }
   ],
   "source": [
    "# LCF of two numbers\n",
    "\n",
    "def calculate_lcm(x, y):\n",
    "    num1 = int(input(\"Enter first number: \"))  \n",
    "    num2 = int(input(\"Enter first number: \"))  \n",
    "    \n",
    "    if x > y:  \n",
    "        greater = x  \n",
    "    else:  \n",
    "        greater = y  \n",
    "    while(True):  \n",
    "        if((greater % x == 0) and (greater % y == 0)):  \n",
    "            lcm = greater  \n",
    "            break  \n",
    "        greater += 1  \n",
    "    return lcm    \n",
    "  \n",
    "\n",
    "\n",
    "\n",
    "print(\"The L.C.M. of\", num1,\"and\", num2,\"is >>>>\", calculate_lcm(num1, num2))  "
   ]
  },
  {
   "cell_type": "code",
   "execution_count": 62,
   "id": "20149c50-20ff-4d82-973e-251af6daeadf",
   "metadata": {},
   "outputs": [
    {
     "name": "stdin",
     "output_type": "stream",
     "text": [
      "Enter first number:  100\n",
      "Enter second number:  49\n"
     ]
    },
    {
     "name": "stdout",
     "output_type": "stream",
     "text": [
      "The H.C.F. of 100 and 49 is 1\n"
     ]
    }
   ],
   "source": [
    "\n",
    "#HCF\n",
    "\n",
    "def calculate_hcf(x, y):\n",
    "    num1 = int(input(\"Enter first number: \"))  \n",
    "    num2 = int(input(\"Enter second number: \"))  \n",
    "      \n",
    "    if x > y:  \n",
    "        smaller = y  \n",
    "    else:  \n",
    "        smaller = x  \n",
    "    for i in range(1,smaller + 1):  \n",
    "        if((x % i == 0) and (y % i == 0)):  \n",
    "            hcf = i  \n",
    "    return hcf  \n",
    "  \n",
    "\n",
    "\n",
    "\n",
    "print(\"The H.C.F. of\", num1,\"and\", num2,\"is\", calculate_hcf(num1, num2))  "
   ]
  },
  {
   "cell_type": "code",
   "execution_count": 64,
   "id": "9c4427e3-a7ef-4b4d-bd17-3e9b618007f8",
   "metadata": {},
   "outputs": [
    {
     "name": "stdin",
     "output_type": "stream",
     "text": [
      "Enter your unit :  100\n",
      "Enter time in hours :  2\n"
     ]
    },
    {
     "name": "stdout",
     "output_type": "stream",
     "text": [
      "Your bill is :  2.0 rupees only\n"
     ]
    }
   ],
   "source": [
    "#WAP to find the amount of electricity unit consumtion by uUser\n",
    "#if unit is 17.28 Kwh amount will bw 172.8 means 10 rupees per unit.\n",
    "\n",
    "def unit_consume():\n",
    "    units = int(input(\"Enter your unit : \"))\n",
    "    time_in_hour = int(input(\"Enter time in hours : \"))\n",
    "    \n",
    "    if units>0 and time_in_hour > 0:\n",
    "        unit_cost = 10\n",
    "        energy = (units /1000) * time_in_hour \n",
    "        total = energy * unit_cost\n",
    "        print(\"Your bill is : \",total,\"rupees only\")\n",
    "    else:\n",
    "        print(\"Enter valid input\")\n",
    "\n",
    "\n",
    "\n",
    "unit_consume()"
   ]
  },
  {
   "cell_type": "code",
   "execution_count": 65,
   "id": "dee01af8-2e1f-4d45-859a-ee8276797b2b",
   "metadata": {},
   "outputs": [
    {
     "name": "stdin",
     "output_type": "stream",
     "text": [
      "Enter your unit :  2334\n",
      "Enter time in hours :  23\n"
     ]
    },
    {
     "name": "stdout",
     "output_type": "stream",
     "text": [
      "Your bill is :  536.82 rupees only\n"
     ]
    }
   ],
   "source": [
    "unit_consume()"
   ]
  },
  {
   "cell_type": "code",
   "execution_count": 11,
   "id": "9fd3e618-f05d-4120-8047-9ee25924d287",
   "metadata": {},
   "outputs": [
    {
     "data": {
      "text/plain": [
       "'RupaliGurav'"
      ]
     },
     "execution_count": 11,
     "metadata": {},
     "output_type": "execute_result"
    }
   ],
   "source": [
    "#Concatenation in function;\n",
    "\n",
    "# def concat(x,y):\n",
    "#     return x+y\n",
    "\n",
    "# concat(\"Rupali\",\"Gurav\")\n",
    "\n",
    "\n",
    "#Default parameter \n",
    "\n",
    "def concat(x,y='Gurav'):\n",
    "    return x+y\n",
    "\n",
    "concat(\"Rupali\")\n",
    "\n",
    "\n"
   ]
  },
  {
   "cell_type": "code",
   "execution_count": 13,
   "id": "ba32f1bc-52d0-4df5-be10-4dfad90276b6",
   "metadata": {},
   "outputs": [
    {
     "data": {
      "text/plain": [
       "'Rupali0'"
      ]
     },
     "execution_count": 13,
     "metadata": {},
     "output_type": "execute_result"
    }
   ],
   "source": [
    "def concat(x,y=str(0)):\n",
    "    return x+y\n",
    "\n",
    "concat(\"Rupali\")"
   ]
  },
  {
   "cell_type": "code",
   "execution_count": 17,
   "id": "6372ed39-36b4-4c29-81b0-c0312e1094f3",
   "metadata": {},
   "outputs": [
    {
     "data": {
      "text/plain": [
       "30.0"
      ]
     },
     "execution_count": 17,
     "metadata": {},
     "output_type": "execute_result"
    }
   ],
   "source": [
    "def sum1(x,y): \n",
    "    return float(x)+float(y)\n",
    "\n",
    "sum1(10,20)"
   ]
  },
  {
   "cell_type": "code",
   "execution_count": 22,
   "id": "9ce3d038-cb64-466a-8cf4-3eb86674574e",
   "metadata": {},
   "outputs": [
    {
     "name": "stdout",
     "output_type": "stream",
     "text": [
      "0.9313776046438259\n",
      "0.7333638177818532\n",
      "0.6690840690215688\n",
      "0.1667292984616282\n",
      "0.14476816713097707\n",
      "0.352817877184606\n",
      "0.7441259632746512\n",
      "0.4731175984230723\n",
      "0.5135202906758863\n",
      "0.05660202549526394\n"
     ]
    }
   ],
   "source": [
    " import random\n",
    " for i in range(10):  #prints 10 number betweem 0.0 and 1.0\n",
    "     x=random.random()\n",
    "     print(x)"
   ]
  },
  {
   "cell_type": "code",
   "execution_count": 23,
   "id": "d3328f25-a30b-4400-9b34-4eaf70bf8b17",
   "metadata": {},
   "outputs": [
    {
     "data": {
      "text/plain": [
       "37"
      ]
     },
     "execution_count": 23,
     "metadata": {},
     "output_type": "execute_result"
    }
   ],
   "source": [
    "x = 2.789\n",
    "y = 3.147\n",
    "\n",
    "eq = x*y+x+y-37\n",
    "\n",
    "if eq>0:\n",
    "    eq = 6\n",
    "else:\n",
    "    eq=37\n",
    "\n",
    "eq"
   ]
  },
  {
   "cell_type": "code",
   "execution_count": 32,
   "id": "d1a18262-24aa-4d10-b725-add83a2dde12",
   "metadata": {},
   "outputs": [
    {
     "name": "stdout",
     "output_type": "stream",
     "text": [
      "Postive numbers from above list are :  [0.577, 2.718, 5.78, 6.45, 10, 200, 300]\n",
      "Sum of Postive numbers from above list are :  525.525\n",
      "--------------------------------------------------\n",
      "Negative numbers from above list are :  [-20, -45, -100]\n",
      "Sum of Negative numbers from above list are :  -165\n"
     ]
    }
   ],
   "source": [
    "#Using for loop and sum of negative and positive from given list\n",
    "\n",
    "list_1 = [0.577,2.718,5.78,6.45,10,-20,-45,-100,200,300]\n",
    "\n",
    "def check():\n",
    "    pos = []\n",
    "    neg = []\n",
    "    for i in list_1:\n",
    "        if i > 0:\n",
    "            pos.append(i)\n",
    "        else:\n",
    "            neg.append(i)\n",
    "    \n",
    "    print(\"Postive numbers from above list are : \",pos)\n",
    "    print(\"Sum of Postive numbers from above list are : \",sum(pos))\n",
    "    print(\"--------------------------------------------------\")\n",
    "    print(\"Negative numbers from above list are : \",neg)\n",
    "    print(\"Sum of Negative numbers from above list are : \",sum(neg))\n",
    "     \n",
    "     \n",
    "\n",
    "check()\n",
    "            \n",
    "    \n",
    "            \n",
    "            "
   ]
  },
  {
   "cell_type": "code",
   "execution_count": 35,
   "id": "77451f33-3b24-4788-8ee4-ae0a2bb829f6",
   "metadata": {},
   "outputs": [
    {
     "name": "stdout",
     "output_type": "stream",
     "text": [
      "Positive numbers: [0.577, 2.718, 5.78, 6.45, 10, 200, 300]\n",
      "SUM Positive numbers: 525.525\n",
      "SUM Negative numbers: -165\n"
     ]
    }
   ],
   "source": [
    "#Using while loop and sum of negative and positive from given list\n",
    "\n",
    "\n",
    "list_1 = [0.577, 2.718, 5.78, 6.45, 10, -20, -45, -100, 200, 300]\n",
    "\n",
    "def check_1():\n",
    "    pos = []\n",
    "    neg = []\n",
    "    sum1 = 0\n",
    "    neg1 = 0\n",
    "    \n",
    "    i = 0\n",
    "    while i < len(list_1):\n",
    "        if list_1[i] > 0:\n",
    "            sum1 = list_1[i]+sum1\n",
    "            pos.append(list_1[i])\n",
    "        elif list_1[i] < 0:\n",
    "            neg1 = list_1[i]+neg1\n",
    "            neg.append(list_1[i])\n",
    "        i += 1\n",
    "    \n",
    "    print(\"Positive numbers:\", pos)\n",
    "    print(\"SUM Positive numbers:\", sum1)\n",
    "\n",
    "    print(\"SUM Negative numbers:\", neg1)\n",
    "\n",
    "\n",
    "check_1()"
   ]
  },
  {
   "cell_type": "code",
   "execution_count": 49,
   "id": "443b307d-38a4-4d0c-a423-cf3223acc13a",
   "metadata": {},
   "outputs": [
    {
     "name": "stdin",
     "output_type": "stream",
     "text": [
      "Enter starting range 10\n",
      "Enter ending range 20\n"
     ]
    },
    {
     "name": "stdout",
     "output_type": "stream",
     "text": [
      "\n",
      "\n",
      "Even numbers from given range :  [10, 12, 14, 16, 18, 20]\n",
      "Number of even numbers are: 6\n",
      "Average of even numbers are :  15.0\n",
      "\n",
      "\n",
      "---------------------------------------------\n",
      "\n",
      "\n",
      "Odd numbers from given range :  [11, 13, 15, 17, 19]\n",
      "Number of Odd numbers are: 5\n",
      "Average of Odd numbers are :  15.0\n"
     ]
    }
   ],
   "source": [
    "#TAke input from user starting and ending range,odd,even,sum,avg\n",
    "\n",
    "def even():\n",
    "    start = int(input(\"Enter starting range\"))\n",
    "    end = int(input(\"Enter ending range\"))\n",
    "    \n",
    "    \n",
    "    even = []\n",
    "    Odd = []\n",
    "    for i in range(start,end+1):\n",
    "        if i % 2 ==0:\n",
    "            even.append(i)\n",
    "        elif i % 2 != 0:\n",
    "            Odd.append(i)\n",
    "    print(\"\\n\")\n",
    "    print(\"Even numbers from given range : \",even)\n",
    "    print(\"Number of even numbers are:\",len(even))\n",
    "    print(\"Average of even numbers are : \",sum(even)/len(even))\n",
    "    print(\"\\n\")\n",
    "    print(\"---------------------------------------------\")\n",
    "    print(\"\\n\")\n",
    "    print(\"Odd numbers from given range : \",Odd)\n",
    "    print(\"Number of Odd numbers are:\",len(Odd))\n",
    "    print(\"Average of Odd numbers are : \",sum(Odd)/len(Odd))\n",
    "\n",
    "even()"
   ]
  },
  {
   "cell_type": "code",
   "execution_count": 48,
   "id": "a69377d4-49da-43bb-bbbb-6230a6526342",
   "metadata": {},
   "outputs": [
    {
     "name": "stdin",
     "output_type": "stream",
     "text": [
      "Enter starting range 10\n",
      "Enter ending range 20\n"
     ]
    },
    {
     "name": "stdout",
     "output_type": "stream",
     "text": [
      "\n",
      "\n",
      "Even numbers from given range :  [10, 12, 14, 16, 18, 20]\n",
      "Number of even numbers are: 6\n",
      "Average of even numbers are :  15.0\n",
      "\n",
      "\n",
      "---------------------------------------------\n",
      "\n",
      "\n",
      "Odd numbers from given range :  [11, 13, 15, 17, 19]\n",
      "Number of Odd numbers are: 5\n",
      "Average of Odd numbers are :  15.0\n"
     ]
    }
   ],
   "source": [
    "def even():\n",
    "    x = int(input(\"Enter starting range\"))\n",
    "    y = int(input(\"Enter ending range\"))\n",
    "    \n",
    "    even = []\n",
    "    Odd = []\n",
    "    while x<=y:\n",
    "        if x % 2 ==0:\n",
    "            even.append(x)\n",
    "        elif x % 2 != 0:\n",
    "            Odd.append(x)\n",
    "        x+=1\n",
    "    print(\"\\n\")\n",
    "    print(\"Even numbers from given range : \",even)\n",
    "    print(\"Number of even numbers are:\",len(even))\n",
    "    print(\"Average of even numbers are : \",sum(even)/len(even))\n",
    "    print(\"\\n\")\n",
    "    print(\"---------------------------------------------\")\n",
    "    print(\"\\n\")\n",
    "    print(\"Odd numbers from given range : \",Odd)\n",
    "    print(\"Number of Odd numbers are:\",len(Odd))\n",
    "    print(\"Average of Odd numbers are : \",sum(Odd)/len(Odd))\n",
    "\n",
    "even()"
   ]
  },
  {
   "cell_type": "code",
   "execution_count": null,
   "id": "bf97d81b-0a1a-484e-9a26-9c6dec376a78",
   "metadata": {},
   "outputs": [],
   "source": []
  }
 ],
 "metadata": {
  "kernelspec": {
   "display_name": "Python 3 (ipykernel)",
   "language": "python",
   "name": "python3"
  },
  "language_info": {
   "codemirror_mode": {
    "name": "ipython",
    "version": 3
   },
   "file_extension": ".py",
   "mimetype": "text/x-python",
   "name": "python",
   "nbconvert_exporter": "python",
   "pygments_lexer": "ipython3",
   "version": "3.12.3"
  }
 },
 "nbformat": 4,
 "nbformat_minor": 5
}
