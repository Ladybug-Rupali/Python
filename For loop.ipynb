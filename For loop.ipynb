{
 "cells": [
  {
   "cell_type": "markdown",
   "id": "58c8ee0c-f6ee-4f23-914a-fafe82807258",
   "metadata": {},
   "source": [
    "# For loop\n",
    "- **A for loop is used for iterating sequence (either list, tuple, dictionary, or set of string).ipynb_checkpoints**\n",
    "- **It works like an iterator method in an object-oriented programming language.**\n",
    "- **With for loop we can execute a set of statements once for each item a list, tuple, set etc.**\n",
    "- **Increment of i is a must otherwise loop will continue forever.**\n",
    "\n",
    "### range() Function \n",
    "- **The range() function returns a sequence of numbers, starting from 0 by default, increments by 1 (by default), and stops before a specified number.**\n",
    "- **range(start, stop, step)**\n",
    "- **start (Optional). An integer number specifying at which position to start. The default is 0**\n",
    "- **stop (Required). An integer number specifying at which position to stop (not included)**\n",
    "- **step (optional). An integer number specifies the incrementation. Default is 1.**\n",
    "\r\n",
    "\n"
   ]
  },
  {
   "cell_type": "code",
   "execution_count": 44,
   "id": "6a46e5ac-9a67-4594-904e-e8265be6ba97",
   "metadata": {},
   "outputs": [
    {
     "name": "stdin",
     "output_type": "stream",
     "text": [
      "Enter first table: 22\n",
      "Enter second table 23\n"
     ]
    },
    {
     "name": "stdout",
     "output_type": "stream",
     "text": [
      "22 X 1 = 22    23 X 1 = 23\n",
      "22 X 2 = 44    23 X 2 = 46\n",
      "22 X 3 = 66    23 X 3 = 69\n",
      "22 X 4 = 88    23 X 4 = 92\n",
      "22 X 5 = 110    23 X 5 = 115\n",
      "22 X 6 = 132    23 X 6 = 138\n",
      "22 X 7 = 154    23 X 7 = 161\n",
      "22 X 8 = 176    23 X 8 = 184\n",
      "22 X 9 = 198    23 X 9 = 207\n",
      "22 X 10 = 220    23 X 10 = 230\n"
     ]
    }
   ],
   "source": [
    "def table():\n",
    "    num1 = int(input(\"Enter first table:\"))\n",
    "    num2 = int(input(\"Enter second table\"))\n",
    "    \n",
    "    for i in range(1,11):\n",
    "        print('%d X %d = %d'%(num1,i,num1*i),'   %d X %d = %d'%(num2,i,num2*i))\n",
    "        \n",
    "table()"
   ]
  },
  {
   "cell_type": "code",
   "execution_count": 13,
   "id": "3e96b0cd-81c5-4efe-a7d4-0317c76e004c",
   "metadata": {},
   "outputs": [
    {
     "name": "stdout",
     "output_type": "stream",
     "text": [
      "10\n",
      "30\n",
      "60\n",
      "100\n",
      "150\n",
      "210\n",
      "280\n",
      "360\n",
      "450\n"
     ]
    }
   ],
   "source": [
    "nlis = [10,20,30,40,50,60,70,80,90]\n",
    "x=0\n",
    "for i in nlis:\n",
    "    x+=i\n",
    "    print(x)\n"
   ]
  },
  {
   "cell_type": "code",
   "execution_count": null,
   "id": "7aefbcff-3129-4e08-a0fb-f9393f17b056",
   "metadata": {},
   "outputs": [],
   "source": [
    "nlis = [10,20,30,40,50,60,70,80,90]\n",
    "x=0 \n",
    "sqr = 0  \n",
    "cube = 0# initialize loop with a global variable or used as a container\n",
    "for i in nlis:\n",
    "    sqr=i**2\n",
    "    cube=i**3\n",
    "    x+=i # x=x+i, starts with x=zero then the addition of i in iteration\n",
    "    print(\"\\nCube\",cube,\"\\nsquare\", sqr,\"\\ntotal sum\",x)\n"
   ]
  },
  {
   "cell_type": "code",
   "execution_count": 11,
   "id": "d2c3345c-c24d-4df8-b78b-7935bb8d5d9f",
   "metadata": {},
   "outputs": [
    {
     "name": "stdout",
     "output_type": "stream",
     "text": [
      "\n",
      "1 \n",
      "2 2 \n",
      "3 3 3 \n",
      "4 4 4 4 \n",
      "5 5 5 5 5 \n"
     ]
    }
   ],
   "source": [
    "rows = 6\n",
    "for i in range(rows): \n",
    "    for j in range(i):\n",
    "        print(i,end=' ')\n",
    "    print('')\n",
    "    "
   ]
  },
  {
   "cell_type": "code",
   "execution_count": null,
   "id": "ef6b9bbb-faf9-422a-9562-62e76a7d5afa",
   "metadata": {},
   "outputs": [],
   "source": [
    "# write a Python code to find those numbers which are divisible by 7 and multiples by 7\n",
    "#and multiples of 5, between 1500 and 2700(both included)\n",
    "a=[]\n",
    "for i in (1500,2701):\n",
    "    if (i%7==0) and (i%5==0):\n",
    "        a.append(str(i))\n",
    "        print(a)\n",
    "    "
   ]
  },
  {
   "cell_type": "code",
   "execution_count": null,
   "id": "f25a64c1-beb3-4ab2-89c7-4952376260f5",
   "metadata": {},
   "outputs": [],
   "source": [
    "a=[]\n",
    "for i in (1500,2701):\n",
    "    if (i%7==0) and (i%5==0):\n",
    "        a.append(str(i))\n",
    "        print(','.join(a))"
   ]
  },
  {
   "cell_type": "code",
   "execution_count": 2,
   "id": "69f1c02c-5e2c-46b5-9584-db0745f36517",
   "metadata": {},
   "outputs": [
    {
     "name": "stdout",
     "output_type": "stream",
     "text": [
      "Current number 0 Previous Number 0 sum of both is 0\n",
      "Current number 1 Previous Number 0 sum of both is 1\n",
      "Current number 2 Previous Number 1 sum of both is 3\n",
      "Current number 3 Previous Number 2 sum of both is 5\n",
      "Current number 4 Previous Number 3 sum of both is 7\n",
      "Current number 5 Previous Number 4 sum of both is 9\n",
      "Current number 6 Previous Number 5 sum of both is 11\n",
      "Current number 7 Previous Number 6 sum of both is 13\n",
      "Current number 8 Previous Number 7 sum of both is 15\n",
      "Current number 9 Previous Number 8 sum of both is 17\n"
     ]
    }
   ],
   "source": [
    "#1. Print the sum of the current number and the previous number\n",
    "#Write a program to iterate the first 10 numbers and in each iteration, print the sum of the current and\n",
    "#previous number.\n",
    "#Expected result: 0,1,3,5,7,9,11,13,15,17\n",
    "\n",
    "\n",
    "previous_num = 0\n",
    "for i in range(10):\n",
    "    sum = previous_num + i\n",
    "    print(f'Current number {i} Previous Number {previous_num} sum of both is {sum}')\n",
    "    previous_num = i"
   ]
  },
  {
   "cell_type": "code",
   "execution_count": 3,
   "id": "f6b0056a-4eed-4c16-a05a-c9cfd0f2966f",
   "metadata": {},
   "outputs": [
    {
     "name": "stdin",
     "output_type": "stream",
     "text": [
      "Enter the number you want to search: 3\n"
     ]
    },
    {
     "name": "stdout",
     "output_type": "stream",
     "text": [
      "Number not in the list\n"
     ]
    }
   ],
   "source": [
    "#Write a Python program to search a given number from a list\n",
    "\n",
    "\n",
    "my_list = [11,12,13,14,15,16,17,18,19,20]\n",
    "num = int(input(\"Enter the number you want to search:\"))\n",
    "for i in my_list:\n",
    "    if i==num: \n",
    "        print(\"Number is in list\")\n",
    "        break\n",
    "else:\n",
    "        print(\"Number not in the list\")\n"
   ]
  },
  {
   "cell_type": "code",
   "execution_count": 5,
   "id": "48f299aa-13fb-4c02-880f-d33b73592d19",
   "metadata": {},
   "outputs": [
    {
     "name": "stdin",
     "output_type": "stream",
     "text": [
      "enter list 33,22,32,34,56,43\n",
      "Enter number you want to search for 43\n"
     ]
    },
    {
     "name": "stdout",
     "output_type": "stream",
     "text": [
      "Element found at index 5\n"
     ]
    }
   ],
   "source": [
    "#Write a Python program to search a given number from a list\n",
    "\n",
    "lst = eval(input(\"enter list\"))\n",
    "length=len(lst)\n",
    "element=int(input(\"Enter number you want to search for\"))\n",
    "for i in range(0,length):\n",
    "      if element==lst[i]:\n",
    "            print(\"Element found at index\",i)\n",
    "            break\n",
    "else:\n",
    "      print(\"element not found in given list\")"
   ]
  },
  {
   "cell_type": "code",
   "execution_count": 6,
   "id": "ef23de8e-5dab-4906-a5b1-bf10e6bb688c",
   "metadata": {},
   "outputs": [
    {
     "name": "stdout",
     "output_type": "stream",
     "text": [
      "[3, 5, 7, 9]\n",
      "[4, 6, 0, 6]\n",
      "[3, 5, 7, 9, 4, 6, 0, 6]\n"
     ]
    }
   ],
   "source": [
    "#3. Create a new list from a two list using the following condition. Given a two list of\n",
    "#numbers, write a program to create a new list such that the new list should contain odd numbers\n",
    "#from the first list and even numbers from the second list.\n",
    "\n",
    "lst1 = [2,3,4,5,7,8,9]\n",
    "lst2 = [3,4,6,7,9,0,6]\n",
    "new_list =[]\n",
    "new_list_1=[]\n",
    "for i in lst1:\n",
    "    if i%2!=0: \n",
    "        new_list.append(i)\n",
    "for x in lst2:\n",
    "        if x%2==0: \n",
    "            new_list_1.append(x)\n",
    "print(new_list)\n",
    "print(new_list_1)\n",
    "print(new_list + new_list_1)\n",
    "\n",
    "    "
   ]
  },
  {
   "cell_type": "code",
   "execution_count": 7,
   "id": "e6c26183-32d7-4432-bc25-105ffefb9909",
   "metadata": {},
   "outputs": [
    {
     "name": "stdout",
     "output_type": "stream",
     "text": [
      "even number: 8\n",
      "odd number 5\n"
     ]
    }
   ],
   "source": [
    "#6. WAP to count the number of even or odd number from series [1,2,3,4,5,67,50,100,2002,168,597,256,300], say 1 is an Odd number.\n",
    "num=[1,2,3,4,5,67,50,100,2002,168,597,256,300]\n",
    "l1 =[]\n",
    "l2 =[]\n",
    "for i in num:\n",
    "    if i%2==0:\n",
    "        l1.append(i)\n",
    "    else:\n",
    "        l2.append(i)\n",
    "        \n",
    "        \n",
    "print(\"even number:\",len(l1))\n",
    "print(\"odd number\",len(l2))\n",
    "        \n",
    "        \n",
    "    "
   ]
  },
  {
   "cell_type": "code",
   "execution_count": 8,
   "id": "4d1f9d41-64fc-4a7d-93ef-623ad0ed0ca2",
   "metadata": {},
   "outputs": [
    {
     "name": "stdout",
     "output_type": "stream",
     "text": [
      "2\n",
      "3\n",
      "5\n",
      "7\n",
      "11\n",
      "13\n",
      "17\n",
      "19\n",
      "23\n",
      "29\n"
     ]
    }
   ],
   "source": [
    "#7.  Write a program to display all the prime number from 1 to 30.WAP to display all the prime numbers from 10-30.\n",
    "for num in range(1,31):\n",
    "   # all prime numbers are greater than 1\n",
    "   if num > 1:\n",
    "       for i in range(2, num):\n",
    "           if (num % i) == 0:\n",
    "               break\n",
    "       else:\n",
    "           print(num)"
   ]
  },
  {
   "cell_type": "code",
   "execution_count": 9,
   "id": "c7959e34-ec9e-469d-adb9-5b289820a9c8",
   "metadata": {},
   "outputs": [
    {
     "name": "stdin",
     "output_type": "stream",
     "text": [
      "Enter any number 3\n"
     ]
    },
    {
     "name": "stdout",
     "output_type": "stream",
     "text": [
      "6\n"
     ]
    }
   ],
   "source": [
    "#8. Write a program to display the factorial of any number with loop?WAP to display the factorial of any number with loop\n",
    "f=1\n",
    "n = int(input(\"Enter any number\"))\n",
    "if n>=1:\n",
    "    for i in range(1,n+1):\n",
    "        f=f*i\n",
    "print(f)\n",
    "    "
   ]
  },
  {
   "cell_type": "code",
   "execution_count": 10,
   "id": "42989551-81f8-4d69-af25-eb55132dd1cf",
   "metadata": {},
   "outputs": [
    {
     "name": "stdout",
     "output_type": "stream",
     "text": [
      "Number of Digit is 4\n",
      "Number of Alphabets is 5\n"
     ]
    }
   ],
   "source": [
    "alpha,string=0,\"Geeks1234\"\n",
    "for i in string:\n",
    "    if (i.isalpha()):\n",
    "        alpha+=1\n",
    "print(\"Number of Digit is\", len(string)-alpha)\n",
    "print(\"Number of Alphabets is\", alpha)"
   ]
  },
  {
   "cell_type": "code",
   "execution_count": 14,
   "id": "278f27ff-117b-4260-b0c3-e81e625f181c",
   "metadata": {},
   "outputs": [
    {
     "name": "stdout",
     "output_type": "stream",
     "text": [
      "60,50,40,30,20,10,"
     ]
    }
   ],
   "source": [
    "#Reverse iteration \n",
    "list = [10,20,30,40,50,60]\n",
    "for i in reversed(list):\n",
    "    print(i,end=',')"
   ]
  },
  {
   "cell_type": "code",
   "execution_count": 22,
   "id": "5758b4a8-c8b2-4358-a215-29cae2d1cce7",
   "metadata": {},
   "outputs": [
    {
     "name": "stdout",
     "output_type": "stream",
     "text": [
      "60,50,40,30,20,10,"
     ]
    }
   ],
   "source": [
    "#Reverse iteration\n",
    "list = [10,20,30,40,50,60]\n",
    "for i in (list[: :-1]):\n",
    "    print(i,end=',')"
   ]
  },
  {
   "cell_type": "code",
   "execution_count": 23,
   "id": "9a3862a2-7a24-4491-bd0c-e14722b5dc26",
   "metadata": {},
   "outputs": [
    {
     "name": "stdout",
     "output_type": "stream",
     "text": [
      "2,4,6,8,10,"
     ]
    }
   ],
   "source": [
    "#Print even values\n",
    "\n",
    "for i in range(2,11,2):\n",
    "    print(i,end=',')"
   ]
  },
  {
   "cell_type": "code",
   "execution_count": 27,
   "id": "8e9b4611-86e9-4278-a1e2-1041f865a3c0",
   "metadata": {},
   "outputs": [
    {
     "name": "stdout",
     "output_type": "stream",
     "text": [
      "1,3,5,7,9,"
     ]
    }
   ],
   "source": [
    "#print odd values\n",
    "\n",
    "for i in range(1,11,2):\n",
    "    print(i,end=',')"
   ]
  },
  {
   "cell_type": "code",
   "execution_count": 46,
   "id": "bbbf970b-adc1-4dd0-b762-78a850f5a0f0",
   "metadata": {},
   "outputs": [
    {
     "name": "stdout",
     "output_type": "stream",
     "text": [
      "counter:0,value:radha\n",
      "counter:1,value:ada\n",
      "counter:2,value:kiya\n",
      "counter:3,value:riya\n",
      "counter:4,value:hrita\n"
     ]
    }
   ],
   "source": [
    "names = ['radha','ada','kiya','riya','hrita']\n",
    "\n",
    "for i,j in enumerate(names):\n",
    "    print(f\"counter:{i},value:{j}\")"
   ]
  },
  {
   "cell_type": "code",
   "execution_count": 55,
   "id": "618ebcdd-8b32-4e44-b23b-fb2d15d523e3",
   "metadata": {},
   "outputs": [
    {
     "name": "stdout",
     "output_type": "stream",
     "text": [
      "11,10,9,8,7,6,5,4,3,2,1,"
     ]
    }
   ],
   "source": [
    "for i in range(11,0,-1):\n",
    "    print(i, end = ',')"
   ]
  },
  {
   "cell_type": "code",
   "execution_count": 2,
   "id": "73829a70-27e7-4620-ba83-5ab92ddaa16c",
   "metadata": {},
   "outputs": [
    {
     "name": "stdout",
     "output_type": "stream",
     "text": [
      "25 10\n"
     ]
    }
   ],
   "source": [
    "list = [1,2,3,4,5,1,4,5]\n",
    "sum1 = sum(list)\n",
    "print(sum1,10)"
   ]
  },
  {
   "cell_type": "code",
   "execution_count": 4,
   "id": "97d083ac-3faa-4d27-867c-8776e5142e13",
   "metadata": {},
   "outputs": [
    {
     "name": "stdout",
     "output_type": "stream",
     "text": [
      "2 4 6 8 10 "
     ]
    }
   ],
   "source": [
    "for i in range(2,11):\n",
    "    if not(i | 1)==i:\n",
    "        print(i,end=' ')"
   ]
  },
  {
   "cell_type": "code",
   "execution_count": 22,
   "id": "ff913800-cefe-40c6-9681-b9018a349adc",
   "metadata": {},
   "outputs": [],
   "source": [
    "list =[]\n",
    "for i in range(100,200):\n",
    "    if sum<=150:\n",
    "        break\n",
    "    print(i,end=' ')\n",
    "    "
   ]
  },
  {
   "cell_type": "code",
   "execution_count": 39,
   "id": "6a23e22b-268e-4684-9163-1e920654e5a0",
   "metadata": {},
   "outputs": [
    {
     "name": "stdout",
     "output_type": "stream",
     "text": [
      "100 100\n",
      "101 201\n"
     ]
    }
   ],
   "source": [
    "sum = 0\n",
    "for i in range(100,201):\n",
    "    if sum<=150:\n",
    "        sum+=i\n",
    "        print(i,sum)\n",
    "        "
   ]
  },
  {
   "cell_type": "code",
   "execution_count": 25,
   "id": "957829cc-5414-4007-ba5a-cf7b3c4d2599",
   "metadata": {},
   "outputs": [],
   "source": [
    "list =[]\n",
    "for i in range(100,200):\n",
    "    if sum<=150:\n",
    "        list.append(i)\n",
    "        break\n",
    "        print(i,end=' ')"
   ]
  },
  {
   "cell_type": "code",
   "execution_count": 41,
   "id": "a40cfe9e-20aa-4781-8e60-2c2b355f4e4a",
   "metadata": {},
   "outputs": [],
   "source": [
    "sum = 0\n",
    "for i in range(100,201):\n",
    "    if sum<=150:\n",
    "        break\n",
    "        sum+=i\n",
    "        print(i,sum)\n",
    "        "
   ]
  },
  {
   "cell_type": "code",
   "execution_count": 52,
   "id": "49603867-7e00-421f-b052-a3684f9e0db7",
   "metadata": {},
   "outputs": [
    {
     "name": "stdout",
     "output_type": "stream",
     "text": [
      "100 100\n",
      "101 201\n",
      "102 303\n",
      "103 406\n",
      "104 510\n",
      "105 615\n",
      "106 721\n",
      "107 828\n",
      "108 936\n",
      "109 1045\n",
      "110 1155\n",
      "111 1266\n",
      "112 1378\n",
      "113 1491\n",
      "114 1605\n",
      "115 1720\n",
      "116 1836\n",
      "117 1953\n",
      "118 2071\n",
      "119 2190\n",
      "120 2310\n",
      "121 2431\n",
      "122 2553\n",
      "123 2676\n",
      "124 2800\n",
      "125 2925\n",
      "126 3051\n",
      "127 3178\n",
      "128 3306\n",
      "129 3435\n",
      "130 3565\n",
      "131 3696\n",
      "132 3828\n",
      "133 3961\n",
      "134 4095\n",
      "135 4230\n",
      "136 4366\n",
      "137 4503\n",
      "138 4641\n",
      "139 4780\n",
      "140 4920\n",
      "141 5061\n",
      "142 5203\n",
      "143 5346\n",
      "144 5490\n",
      "145 5635\n",
      "146 5781\n",
      "147 5928\n",
      "148 6076\n",
      "149 6225\n",
      "150 6375\n"
     ]
    }
   ],
   "source": [
    "sum = 0\n",
    "for i in range(100,201):\n",
    "    sum+=i\n",
    "    if sum==6526:\n",
    "        break\n",
    "    print(i,sum)"
   ]
  },
  {
   "cell_type": "code",
   "execution_count": 9,
   "id": "f6cc78a3-2310-4461-879a-a438bb2a5cb6",
   "metadata": {},
   "outputs": [
    {
     "name": "stdout",
     "output_type": "stream",
     "text": [
      "[10, 16, 38, 20, 30, 40, 50, 60, 70, 80, 90, 100] = 604\n"
     ]
    }
   ],
   "source": [
    "x= [10,11,13,15,16,17,33,35,37,38,20,30,40,50,60,70,80,90,100]\n",
    "even = []\n",
    "sum1 = 0\n",
    "for i in x:\n",
    "    if i%2==0:\n",
    "        even.append(i)\n",
    "        sum1+=i\n",
    "print(even,'=',sum1)\n"
   ]
  },
  {
   "cell_type": "code",
   "execution_count": 3,
   "id": "8eaeaa0d-e08e-4e9c-91f5-b8a119dc973c",
   "metadata": {},
   "outputs": [
    {
     "name": "stdout",
     "output_type": "stream",
     "text": [
      "[10, 16, 38, 20, 30, 40, 50, 60, 70, 80, 90, 100]\n"
     ]
    }
   ],
   "source": [
    "#even numbers using list comprehension\n",
    "\n",
    "x= [10,11,13,15,16,17,33,35,37,38,20,30,40,50,60,70,80,90,100]\n",
    "even = [i for i in x if i % 2 == 0]\n",
    "print(even)\n",
    "        "
   ]
  },
  {
   "cell_type": "code",
   "execution_count": 39,
   "id": "52e45ba8-5158-43f6-843f-ff6ce538694b",
   "metadata": {},
   "outputs": [
    {
     "name": "stdout",
     "output_type": "stream",
     "text": [
      "[10, 16, 38, 20, 30, 40, 50, 60, 70, 80, 90, 100]\n"
     ]
    }
   ],
   "source": [
    "#Filtering list using filter\n",
    "\n",
    "list1= [10,11,13,15,16,17,33,35,37,38,20,30,40,50,60,70,80,90,100]\n",
    "def is_even(y):return y % 2 == 0\n",
    "list2 = list(filter(is_even,list1))\n",
    "print(list2)\n"
   ]
  },
  {
   "cell_type": "code",
   "execution_count": 38,
   "id": "ff1ae804-bf4e-42a6-971b-d6c322725736",
   "metadata": {},
   "outputs": [
    {
     "name": "stdout",
     "output_type": "stream",
     "text": [
      "18\n",
      "18\n",
      "24\n",
      "42\n",
      "32\n",
      "74\n"
     ]
    }
   ],
   "source": [
    "age = [5,12,17,18,24,32]\n",
    "def my_age(x):\n",
    "    if x < 18:\n",
    "        return False\n",
    "    else:\n",
    "        return True\n",
    "adults = filter(my_age,age)\n",
    "sum1 = 0\n",
    "for i in adults:\n",
    "    sum1+=i\n",
    "    print(i)\n",
    "    print(sum1)\n",
    "    "
   ]
  },
  {
   "cell_type": "code",
   "execution_count": 32,
   "id": "2d1d14e3-934b-4497-b5a7-a7428959554d",
   "metadata": {},
   "outputs": [
    {
     "name": "stdout",
     "output_type": "stream",
     "text": [
      "10,16,38,20,30,40,50,60,70,80,90,100,"
     ]
    }
   ],
   "source": [
    "#Filtering even numbers using filter and for loop \n",
    "\n",
    "list1= [10,11,13,15,16,17,33,35,37,38,20,30,40,50,60,70,80,90,100]\n",
    "def is_even(y):return y % 2 == 0\n",
    "list2 = filter(is_even,list1)\n",
    "for i in list2:\n",
    "    print(i,end='')\n"
   ]
  },
  {
   "cell_type": "code",
   "execution_count": 1,
   "id": "6de1234b-2ae5-4fda-bffd-72f27e88ecf2",
   "metadata": {},
   "outputs": [
    {
     "name": "stdin",
     "output_type": "stream",
     "text": [
      "Enter string: python\n"
     ]
    },
    {
     "name": "stdout",
     "output_type": "stream",
     "text": [
      "p \n",
      "y y \n",
      "t t t \n",
      "h h h h \n",
      "o o o o o \n",
      "n n n n n n \n"
     ]
    }
   ],
   "source": [
    "#printing patterns\n",
    "\n",
    "str1 = input('Enter string:')\n",
    "length = len(str1)\n",
    "for i in range(length):  #for rows\n",
    "    for  j in range(i+1):    #for columns\n",
    "        print(str1[i],end=' ')\n",
    "    print()\n",
    "    \n",
    "    "
   ]
  },
  {
   "cell_type": "code",
   "execution_count": 2,
   "id": "56693354-2f9f-465b-84b2-10f5c8830775",
   "metadata": {},
   "outputs": [
    {
     "name": "stdin",
     "output_type": "stream",
     "text": [
      "Enter string: python\n"
     ]
    },
    {
     "name": "stdout",
     "output_type": "stream",
     "text": [
      "p \n",
      "p y \n",
      "p y t \n",
      "p y t h \n",
      "p y t h o \n",
      "p y t h o n \n"
     ]
    }
   ],
   "source": [
    "\n",
    "str1 = input('Enter string:')\n",
    "length = len(str1)\n",
    "for i in range(length):  #for rows\n",
    "    for  j in range(i+1):    #for columns\n",
    "        print(str1[j],end=' ')\n",
    "    print()\n",
    "    \n"
   ]
  },
  {
   "cell_type": "code",
   "execution_count": 4,
   "id": "36e67ad3-ae43-4c8f-8893-e90899d7f2dc",
   "metadata": {},
   "outputs": [
    {
     "name": "stdin",
     "output_type": "stream",
     "text": [
      "Enter string: python\n"
     ]
    },
    {
     "name": "stdout",
     "output_type": "stream",
     "text": [
      "          p \n",
      "        y y \n",
      "      t t t \n",
      "    h h h h \n",
      "  o o o o o \n",
      "n n n n n n \n"
     ]
    }
   ],
   "source": [
    "\n",
    "str1 = input('Enter string:')\n",
    "length = len(str1)\n",
    "for i in range(length):  #for rows\n",
    "    for j in range(length-i-1):   #for left side spaces in every row\n",
    "        print(' ',end=' ')\n",
    "    for  j in range(i+1):    #for columns\n",
    "        print(str1[i],end=' ')\n",
    "    print()\n",
    "    "
   ]
  },
  {
   "cell_type": "code",
   "execution_count": 5,
   "id": "471d6040-647c-4aaf-ac08-676bade03bbc",
   "metadata": {},
   "outputs": [
    {
     "name": "stdin",
     "output_type": "stream",
     "text": [
      "Enter string: python\n"
     ]
    },
    {
     "name": "stdout",
     "output_type": "stream",
     "text": [
      "          p \n",
      "        p y \n",
      "      p y t \n",
      "    p y t h \n",
      "  p y t h o \n",
      "p y t h o n \n"
     ]
    }
   ],
   "source": [
    "\n",
    "str1 = input('Enter string:')\n",
    "length = len(str1)\n",
    "for i in range(length):  #for rows\n",
    "    for j in range(length-i-1):   #for left side spaces in every row\n",
    "        print(' ',end=' ')\n",
    "    for  j in range(i+1):    #for columns\n",
    "        print(str1[j],end=' ')\n",
    "    print()\n",
    "    "
   ]
  },
  {
   "cell_type": "code",
   "execution_count": null,
   "id": "77eb4114-963f-46a7-ab64-a6f7b80a486b",
   "metadata": {},
   "outputs": [],
   "source": []
  }
 ],
 "metadata": {
  "kernelspec": {
   "display_name": "Python 3 (ipykernel)",
   "language": "python",
   "name": "python3"
  },
  "language_info": {
   "codemirror_mode": {
    "name": "ipython",
    "version": 3
   },
   "file_extension": ".py",
   "mimetype": "text/x-python",
   "name": "python",
   "nbconvert_exporter": "python",
   "pygments_lexer": "ipython3",
   "version": "3.12.3"
  }
 },
 "nbformat": 4,
 "nbformat_minor": 5
}
