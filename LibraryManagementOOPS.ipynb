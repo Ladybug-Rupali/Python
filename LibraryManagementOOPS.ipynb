{
 "cells": [
  {
   "cell_type": "code",
   "execution_count": 7,
   "id": "8a489821-7342-4567-991d-83b815656f7a",
   "metadata": {},
   "outputs": [
    {
     "name": "stdout",
     "output_type": "stream",
     "text": [
      "\n",
      "Library Menu:\n",
      "1. Display available books\n",
      "2. Lend a book\n",
      "3. Add a book\n",
      "4. Return a book\n",
      "5. Exit\n"
     ]
    },
    {
     "name": "stdin",
     "output_type": "stream",
     "text": [
      "Enter your choice:  1\n"
     ]
    },
    {
     "name": "stdout",
     "output_type": "stream",
     "text": [
      "Available:\n",
      "Animal Farm\n",
      "The Stranger\n",
      "Of Mice and Men\n"
     ]
    },
    {
     "name": "stdin",
     "output_type": "stream",
     "text": [
      "Enter your choice:  2\n",
      "Enter the book you want to borrow:  Animal FArm\n",
      "Enter your name:  Rupali\n"
     ]
    },
    {
     "name": "stdout",
     "output_type": "stream",
     "text": [
      "Animal FArm is not available\n"
     ]
    },
    {
     "name": "stdin",
     "output_type": "stream",
     "text": [
      "Enter your choice:  2\n",
      "Enter the book you want to borrow:  Animal Farm\n",
      "Enter your name:  Rupali\n"
     ]
    },
    {
     "name": "stdout",
     "output_type": "stream",
     "text": [
      "Rupali has borrowed Animal Farm\n"
     ]
    },
    {
     "name": "stdin",
     "output_type": "stream",
     "text": [
      "Enter your choice:  5\n"
     ]
    }
   ],
   "source": [
    "# Create online library management sysytem usong OOPS.\n",
    "# Create library class that includess the following methods.\n",
    "#----------------------------------------------------\n",
    "# Display() : Available books display\n",
    "# Lendbook() : Lend a book to user\n",
    "# Addbook() : To add the book in a library\n",
    "# Returnbook() : Return the book to the library\n",
    "#------------------------------------------------------\n",
    "#MAintain a dictionary for users who own book dictionary should take book name as key and name of person as value\n",
    "#Whenever you lend a book to a user you should maintain dictionary\n",
    "\n",
    "\n",
    "class Library:\n",
    "    def __init__(self):\n",
    "        \n",
    "        self.books = [\"Animal Farm\", \"The Stranger\", \"Of Mice and Men\"]\n",
    "        self.lent_books = {}\n",
    "\n",
    "    def display(self):\n",
    "        print(\"Available:\")\n",
    "        for book in self.books:\n",
    "            print(book)\n",
    "\n",
    "    def lend_book(self, book, user):\n",
    "        if book in self.books:\n",
    "            self.books.remove(book)\n",
    "            self.lent_books[book] = user\n",
    "            \n",
    "            print(f\"{user} has borrowed {book}\")\n",
    "        else:\n",
    "            print(f\"{book} is not available\")\n",
    "\n",
    "    def add_book(self, book):\n",
    "        self.books.append(book)\n",
    "        print(f\"{book} has been added to the library\")\n",
    "\n",
    "    def return_book(self, book, user):\n",
    "        if book in self.lent_books and self.lent_books[book] == user:\n",
    "            self.books.append(book)\n",
    "            del self.lent_books[book]\n",
    "            print(f\"{user} has returned {book}\")\n",
    "        else:\n",
    "            print(f\"{user} does not have {book} to return\")\n",
    "\n",
    "    \n",
    "\n",
    "\n",
    "    def details(self):\n",
    "        print(\"\\nLibrary Menu:\")\n",
    "        print(\"1. Display available books\")\n",
    "        print(\"2. Lend a book\")\n",
    "        print(\"3. Add a book\")\n",
    "        print(\"4. Return a book\")\n",
    "        print(\"5. Exit\")\n",
    "   \n",
    "        while True:\n",
    "            \n",
    "            opt = int(input(\"Enter your choice: \"))\n",
    "            if opt == 1:\n",
    "                self.display()\n",
    "            elif opt == 2:\n",
    "                book = input(\"Enter the book you want to borrow: \")\n",
    "                user = input(\"Enter your name: \")\n",
    "                self.lend_book(book, user)\n",
    "            elif opt == 3:\n",
    "                book = input(\"Enter the book you want to add: \")\n",
    "                self.add_book(book)\n",
    "            elif opt == 4:\n",
    "                book = input(\"Enter the book you want to return: \")\n",
    "                user = input(\"Enter your name: \")\n",
    "                self.return_book(book, user)\n",
    "            elif opt == 5:\n",
    "                break\n",
    "            else:\n",
    "                print(\"Invalid choice. Please try again.\")\n",
    "\n",
    "Library().details()"
   ]
  },
  {
   "cell_type": "code",
   "execution_count": 4,
   "id": "5a072f35-057b-4eba-98d8-698d4ea9c498",
   "metadata": {},
   "outputs": [
    {
     "name": "stdout",
     "output_type": "stream",
     "text": [
      "\n",
      "Library Menu:\n",
      "1. Display available books\n",
      "2. Lend a book\n",
      "3. Add a book\n",
      "4. Return a book\n",
      "5. Show lent books\n",
      "6. Exit\n"
     ]
    },
    {
     "name": "stdin",
     "output_type": "stream",
     "text": [
      "Enter your choice:  1\n"
     ]
    },
    {
     "name": "stdout",
     "output_type": "stream",
     "text": [
      "Available books:\n",
      "Book1 - $0.50 per day\n",
      "Book2 - $1.00 per day\n",
      "Book3 - $0.25 per day\n",
      "\n",
      "Library Menu:\n",
      "1. Display available books\n",
      "2. Lend a book\n",
      "3. Add a book\n",
      "4. Return a book\n",
      "5. Show lent books\n",
      "6. Exit\n"
     ]
    },
    {
     "name": "stdin",
     "output_type": "stream",
     "text": [
      "Enter your choice:  2\n",
      "Enter the book you want to borrow:  Book1\n",
      "Enter your name:  Rupali\n",
      "Enter the number of days you want to borrow the book:  2\n"
     ]
    },
    {
     "name": "stdout",
     "output_type": "stream",
     "text": [
      "Rupali has borrowed Book1 for 2 days. The total fee is $1.00\n",
      "\n",
      "Library Menu:\n",
      "1. Display available books\n",
      "2. Lend a book\n",
      "3. Add a book\n",
      "4. Return a book\n",
      "5. Show lent books\n",
      "6. Exit\n"
     ]
    },
    {
     "name": "stdin",
     "output_type": "stream",
     "text": [
      "Enter your choice:  6\n"
     ]
    }
   ],
   "source": [
    "class Book:\n",
    "    def __init__(self, title, fee_per_day):\n",
    "        self.title = title\n",
    "        self.fee_per_day = fee_per_day\n",
    "\n",
    "class Library:\n",
    "    def __init__(self):\n",
    "        self.books = [\n",
    "            Book(\"Book1\", 0.50),\n",
    "            Book(\"Book2\", 1.00),\n",
    "            Book(\"Book3\", 0.25)\n",
    "        ]\n",
    "        self.lent_books = {}\n",
    "\n",
    "    def display(self):\n",
    "        print(\"Available books:\")\n",
    "        for book in self.books:\n",
    "            print(f\"{book.title} - ${book.fee_per_day:.2f} per day\")\n",
    "\n",
    "    def lend_book(self, book_title, user, days):\n",
    "        for book in self.books:\n",
    "            if book.title == book_title:\n",
    "                self.books.remove(book)\n",
    "                self.lent_books[book_title] = {\"user\": user, \"days\": days, \"fee\": days * book.fee_per_day}\n",
    "                print(f\"{user} has borrowed {book_title} for {days} days. The total fee is ${days * book.fee_per_day:.2f}\")\n",
    "                return\n",
    "        print(f\"{book_title} is not available\")\n",
    "\n",
    "    def return_book(self, book_title, user):\n",
    "        if book_title in self.lent_books and self.lent_books[book_title][\"user\"] == user:\n",
    "            for book in self.books:\n",
    "                if book.title == book_title:\n",
    "                    self.books.append(book)\n",
    "                    del self.lent_books[book_title]\n",
    "                    print(f\"{user} has returned {book_title}\")\n",
    "                    return\n",
    "        print(f\"{user} does not have {book_title} to return\")\n",
    "\n",
    "    \n",
    "\n",
    "def main():\n",
    "    library = Library()\n",
    "    while True:\n",
    "        print(\"\\nLibrary Menu:\")\n",
    "        print(\"1. Display available books\")\n",
    "        print(\"2. Lend a book\")\n",
    "        print(\"3. Add a book\")\n",
    "        print(\"4. Return a book\")\n",
    "        print(\"5. Show lent books\")\n",
    "        print(\"6. Exit\")\n",
    "        choice = int(input(\"Enter your choice: \"))\n",
    "        if choice == 1:\n",
    "            library.display()\n",
    "        elif choice == 2:\n",
    "            book_title = input(\"Enter the book you want to borrow: \")\n",
    "            user = input(\"Enter your name: \")\n",
    "            days = int(input(\"Enter the number of days you want to borrow the book: \"))\n",
    "            library.lend_book(book_title, user, days)\n",
    "        elif choice == 3:\n",
    "            book_title = input(\"Enter the book you want to add: \")\n",
    "            fee_per_day = float(input(\"Enter the fee per day for the book: \"))\n",
    "            library.books.append(Book(book_title, fee_per_day))\n",
    "        elif choice == 4:\n",
    "            book_title = input(\"Enter the book you want to return: \")\n",
    "            user = input(\"Enter your name: \")\n",
    "            library.return_book(book_title, user)\n",
    "        elif choice == 5:\n",
    "            library.show_lent_books()\n",
    "        elif choice == 6:\n",
    "            break\n",
    "        else:\n",
    "            print(\"Invalid choice. Please try again.\")\n",
    "\n",
    "if __name__ == \"__main__\":\n",
    "    main()"
   ]
  },
  {
   "cell_type": "code",
   "execution_count": 8,
   "id": "8b6f56a2-a0de-4737-9d02-a5e05441f4ff",
   "metadata": {},
   "outputs": [
    {
     "name": "stdout",
     "output_type": "stream",
     "text": [
      "Section: Fiction\n",
      "Number of books: 3\n",
      "  - Book1\n",
      "  - Book2\n",
      "  - Book3\n",
      "Section: Non-Fiction\n",
      "Number of books: 3\n",
      "  - Book4\n",
      "  - Book5\n",
      "  - Book6\n",
      "Section: Biography\n",
      "Number of books: 3\n",
      "  - Book7\n",
      "  - Book8\n",
      "  - Book9\n"
     ]
    }
   ],
   "source": [
    "class BookSection:\n",
    "    def __init__(self, name, books):\n",
    "        self.name = name\n",
    "        self.books = books\n",
    "\n",
    "    def display(self):\n",
    "        print(f\"Section: {self.name}\")\n",
    "        print(f\"Number of books: {len(self.books)}\")\n",
    "        for book in self.books:\n",
    "            print(f\"  - {book}\")\n",
    "\n",
    "class Library:\n",
    "    def __init__(self):\n",
    "        self.sections = []\n",
    "\n",
    "    def add_section(self, section):\n",
    "        self.sections.append(section)\n",
    "\n",
    "    def display_sections(self):\n",
    "        for section in self.sections:\n",
    "            section.display()\n",
    "\n",
    "# Create some book sections\n",
    "fiction_section = BookSection(\"Fiction\", [\"Book1\", \"Book2\", \"Book3\"])\n",
    "non_fiction_section = BookSection(\"Non-Fiction\", [\"Book4\", \"Book5\", \"Book6\"])\n",
    "biography_section = BookSection(\"Biography\", [\"Book7\", \"Book8\", \"Book9\"])\n",
    "\n",
    "# Create a library and add the sections\n",
    "library = Library()\n",
    "library.add_section(fiction_section)\n",
    "library.add_section(non_fiction_section)\n",
    "library.add_section(biography_section)\n",
    "\n",
    "# Display the sections\n",
    "library.display_sections()"
   ]
  },
  {
   "cell_type": "code",
   "execution_count": 13,
   "id": "de8d3e91-dc56-4b56-8864-b16339987b0f",
   "metadata": {},
   "outputs": [
    {
     "name": "stdout",
     "output_type": "stream",
     "text": [
      "\n",
      "Library Menu:\n",
      "1. Display available books\n",
      "2. Lend a book\n",
      "3. Return a book\n",
      "4. Exit\n"
     ]
    },
    {
     "name": "stdin",
     "output_type": "stream",
     "text": [
      "Enter your choice:  1\n"
     ]
    },
    {
     "name": "stdout",
     "output_type": "stream",
     "text": [
      "Available books in Fiction section:\n",
      "1. Book1 - $0.50 per day\n",
      "2. Book2 - $1.00 per day\n",
      "3. Book3 - $0.25 per day\n",
      "Available books in Non-Fiction section:\n",
      "1. Book4 - $1.50 per day\n",
      "2. Book5 - $2.00 per day\n",
      "3. Book6 - $1.25 per day\n",
      "Available books in Biography section:\n",
      "1. Book7 - $0.75 per day\n",
      "2. Book8 - $1.75 per day\n",
      "3. Book9 - $1.00 per day\n",
      "\n",
      "Library Menu:\n",
      "1. Display available books\n",
      "2. Lend a book\n",
      "3. Return a book\n",
      "4. Exit\n"
     ]
    },
    {
     "name": "stdin",
     "output_type": "stream",
     "text": [
      "Enter your choice:  2\n",
      "Enter the section index:  1\n",
      "Enter the book index:  2\n",
      "Enter your name:  Rupali\n",
      "Enter the number of days you want to borrow the book:  2\n"
     ]
    },
    {
     "name": "stdout",
     "output_type": "stream",
     "text": [
      "Rupali has borrowed Book5 for 2 days. The total fee is $4.00\n",
      "\n",
      "Library Menu:\n",
      "1. Display available books\n",
      "2. Lend a book\n",
      "3. Return a book\n",
      "4. Exit\n"
     ]
    },
    {
     "name": "stdin",
     "output_type": "stream",
     "text": [
      "Enter your choice:  4\n"
     ]
    }
   ],
   "source": [
    "class Book:\n",
    "    def __init__(self, title, fee_per_day):\n",
    "        self.title = title\n",
    "        self.fee_per_day = fee_per_day\n",
    "\n",
    "class BookSection:\n",
    "    def __init__(self, name, books):\n",
    "        self.name = name\n",
    "        self.books = books\n",
    "\n",
    "    def display(self):\n",
    "        print(f\"Available books in {self.name} section:\")\n",
    "        for i, book in enumerate(self.books, 1):\n",
    "            print(f\"{i}. {book.title} - ${book.fee_per_day:.2f} per day\")\n",
    "\n",
    "class Library:\n",
    "    def __init__(self):\n",
    "        self.book_sections = [\n",
    "            BookSection(\"Fiction\", [\n",
    "                Book(\"Book1\", 0.50),\n",
    "                Book(\"Book2\", 1.00),\n",
    "                Book(\"Book3\", 0.25)\n",
    "            ]),\n",
    "            BookSection(\"Non-Fiction\", [\n",
    "                Book(\"Book4\", 1.50),\n",
    "                Book(\"Book5\", 2.00),\n",
    "                Book(\"Book6\", 1.25)\n",
    "            ]),\n",
    "            BookSection(\"Biography\", [\n",
    "                Book(\"Book7\", 0.75),\n",
    "                Book(\"Book8\", 1.75),\n",
    "                Book(\"Book9\", 1.00)\n",
    "            ])\n",
    "        ]\n",
    "        self.lent_books = {}\n",
    "\n",
    "    def display(self):\n",
    "        for section in self.book_sections:\n",
    "            section.display()\n",
    "\n",
    "    def lend_book(self, section_index, book_index, user, days):\n",
    "        section = self.book_sections[section_index]\n",
    "        if 1 <= book_index <= len(section.books):\n",
    "            book = section.books[book_index - 1]\n",
    "            section.books.remove(book)\n",
    "            self.lent_books[book.title] = {\"user\": user, \"days\": days, \"fee\": days * book.fee_per_day}\n",
    "            print(f\"{user} has borrowed {book.title} for {days} days. The total fee is ${days * book.fee_per_day:.2f}\")\n",
    "            return\n",
    "        print(\"Invalid book index. Please try again.\")\n",
    "\n",
    "    def return_book(self, book_title, user):\n",
    "        if book_title in self.lent_books and self.lent_books[book_title][\"user\"] == user:\n",
    "            for section in self.book_sections:\n",
    "                if book_title in [book.title for book in section.books]:\n",
    "                    section.books.append(next(book for book in section.books if book.title == book_title))\n",
    "                    del self.lent_books[book_title]\n",
    "                    print(f\"{user} has returned {book_title}\")\n",
    "                    return\n",
    "        print(f\"{user} does not have {book_title} to return\")\n",
    "\n",
    "def main():\n",
    "    library = Library()\n",
    "    while True:\n",
    "        print(\"\\nLibrary Menu:\")\n",
    "        print(\"1. Display available books\")\n",
    "        print(\"2. Lend a book\")\n",
    "        print(\"3. Return a book\")\n",
    "        print(\"4. Exit\")\n",
    "        choice = int(input(\"Enter your choice: \"))\n",
    "        if choice == 1:\n",
    "            library.display()\n",
    "        elif choice == 2:\n",
    "            section_index = int(input(\"Enter the section index: \"))\n",
    "            book_index = int(input(\"Enter the book index: \"))\n",
    "            user = input(\"Enter your name: \")\n",
    "            days = int(input(\"Enter the number of days you want to borrow the book: \"))\n",
    "            library.lend_book(section_index, book_index, user, days)\n",
    "        elif choice == 3:\n",
    "            book_title = input(\"Enter the book you want to return: \")\n",
    "            user = input(\"Enter your name: \")\n",
    "            library.return_book(book_title, user)\n",
    "        elif choice == 4:\n",
    "            break\n",
    "        else:\n",
    "            print(\"Invalid choice. Please try again.\")\n",
    "\n",
    "if __name__ == \"__main__\":\n",
    "    main()"
   ]
  },
  {
   "cell_type": "code",
   "execution_count": 5,
   "id": "756a7ce9-8032-425a-b4b5-ccaa06eaa497",
   "metadata": {},
   "outputs": [
    {
     "name": "stdout",
     "output_type": "stream",
     "text": [
      "\n",
      "Welcome to our Online Library Management System!\n",
      "1. Display available books\n",
      "2. Borrow a book\n",
      "3. Add a book\n",
      "4. Return a book\n",
      "5. Exit\n"
     ]
    },
    {
     "name": "stdin",
     "output_type": "stream",
     "text": [
      "Enter your choice:  1\n"
     ]
    },
    {
     "name": "stdout",
     "output_type": "stream",
     "text": [
      "\n",
      "Available books:\n",
      "\n",
      "Comic:\n",
      "1. The Inscrutable Americans - ₹50/day\n",
      "2. The Bestseller She Wrote - ₹75/day\n",
      "\n",
      "Horror:\n",
      "3. The Krishna Key - ₹100/day\n",
      "4. The Shiva Trilogy - ₹50/day\n",
      "\n",
      "Biography:\n",
      "5. The Autobiography of a Yogi - ₹75/day\n",
      "6. My Experiments with Truth - ₹100/day\n",
      "\n",
      "Welcome to our Online Library Management System!\n",
      "1. Display available books\n",
      "2. Borrow a book\n",
      "3. Add a book\n",
      "4. Return a book\n",
      "5. Exit\n"
     ]
    },
    {
     "name": "stdin",
     "output_type": "stream",
     "text": [
      "Enter your choice:  2\n",
      "Enter the book ID:  5\n",
      "Enter your name:  r\n"
     ]
    },
    {
     "name": "stdout",
     "output_type": "stream",
     "text": [
      "\n",
      "You have successfully borrowed 'The Autobiography of a Yogi'.\n",
      "Fees per day: ₹75\n",
      "\n",
      "Welcome to our Online Library Management System!\n",
      "1. Display available books\n",
      "2. Borrow a book\n",
      "3. Add a book\n",
      "4. Return a book\n",
      "5. Exit\n"
     ]
    },
    {
     "ename": "KeyboardInterrupt",
     "evalue": "Interrupted by user",
     "output_type": "error",
     "traceback": [
      "\u001b[1;31m---------------------------------------------------------------------------\u001b[0m",
      "\u001b[1;31mKeyboardInterrupt\u001b[0m                         Traceback (most recent call last)",
      "Cell \u001b[1;32mIn[5], line 58\u001b[0m\n\u001b[0;32m     55\u001b[0m \u001b[38;5;28mprint\u001b[39m(\u001b[38;5;124m\"\u001b[39m\u001b[38;5;124m4. Return a book\u001b[39m\u001b[38;5;124m\"\u001b[39m)\n\u001b[0;32m     56\u001b[0m \u001b[38;5;28mprint\u001b[39m(\u001b[38;5;124m\"\u001b[39m\u001b[38;5;124m5. Exit\u001b[39m\u001b[38;5;124m\"\u001b[39m)\n\u001b[1;32m---> 58\u001b[0m choice \u001b[38;5;241m=\u001b[39m \u001b[38;5;28;43minput\u001b[39;49m\u001b[43m(\u001b[49m\u001b[38;5;124;43m\"\u001b[39;49m\u001b[38;5;124;43mEnter your choice: \u001b[39;49m\u001b[38;5;124;43m\"\u001b[39;49m\u001b[43m)\u001b[49m\n\u001b[0;32m     60\u001b[0m \u001b[38;5;28;01mif\u001b[39;00m choice \u001b[38;5;241m==\u001b[39m \u001b[38;5;124m\"\u001b[39m\u001b[38;5;124m1\u001b[39m\u001b[38;5;124m\"\u001b[39m:\n\u001b[0;32m     61\u001b[0m     library\u001b[38;5;241m.\u001b[39mdisplay()\n",
      "File \u001b[1;32m~\\AppData\\Local\\Packages\\PythonSoftwareFoundation.Python.3.12_qbz5n2kfra8p0\\LocalCache\\local-packages\\Python312\\site-packages\\ipykernel\\kernelbase.py:1270\u001b[0m, in \u001b[0;36mKernel.raw_input\u001b[1;34m(self, prompt)\u001b[0m\n\u001b[0;32m   1268\u001b[0m     msg \u001b[38;5;241m=\u001b[39m \u001b[38;5;124m\"\u001b[39m\u001b[38;5;124mraw_input was called, but this frontend does not support input requests.\u001b[39m\u001b[38;5;124m\"\u001b[39m\n\u001b[0;32m   1269\u001b[0m     \u001b[38;5;28;01mraise\u001b[39;00m StdinNotImplementedError(msg)\n\u001b[1;32m-> 1270\u001b[0m \u001b[38;5;28;01mreturn\u001b[39;00m \u001b[38;5;28;43mself\u001b[39;49m\u001b[38;5;241;43m.\u001b[39;49m\u001b[43m_input_request\u001b[49m\u001b[43m(\u001b[49m\n\u001b[0;32m   1271\u001b[0m \u001b[43m    \u001b[49m\u001b[38;5;28;43mstr\u001b[39;49m\u001b[43m(\u001b[49m\u001b[43mprompt\u001b[49m\u001b[43m)\u001b[49m\u001b[43m,\u001b[49m\n\u001b[0;32m   1272\u001b[0m \u001b[43m    \u001b[49m\u001b[38;5;28;43mself\u001b[39;49m\u001b[38;5;241;43m.\u001b[39;49m\u001b[43m_parent_ident\u001b[49m\u001b[43m[\u001b[49m\u001b[38;5;124;43m\"\u001b[39;49m\u001b[38;5;124;43mshell\u001b[39;49m\u001b[38;5;124;43m\"\u001b[39;49m\u001b[43m]\u001b[49m\u001b[43m,\u001b[49m\n\u001b[0;32m   1273\u001b[0m \u001b[43m    \u001b[49m\u001b[38;5;28;43mself\u001b[39;49m\u001b[38;5;241;43m.\u001b[39;49m\u001b[43mget_parent\u001b[49m\u001b[43m(\u001b[49m\u001b[38;5;124;43m\"\u001b[39;49m\u001b[38;5;124;43mshell\u001b[39;49m\u001b[38;5;124;43m\"\u001b[39;49m\u001b[43m)\u001b[49m\u001b[43m,\u001b[49m\n\u001b[0;32m   1274\u001b[0m \u001b[43m    \u001b[49m\u001b[43mpassword\u001b[49m\u001b[38;5;241;43m=\u001b[39;49m\u001b[38;5;28;43;01mFalse\u001b[39;49;00m\u001b[43m,\u001b[49m\n\u001b[0;32m   1275\u001b[0m \u001b[43m\u001b[49m\u001b[43m)\u001b[49m\n",
      "File \u001b[1;32m~\\AppData\\Local\\Packages\\PythonSoftwareFoundation.Python.3.12_qbz5n2kfra8p0\\LocalCache\\local-packages\\Python312\\site-packages\\ipykernel\\kernelbase.py:1313\u001b[0m, in \u001b[0;36mKernel._input_request\u001b[1;34m(self, prompt, ident, parent, password)\u001b[0m\n\u001b[0;32m   1310\u001b[0m \u001b[38;5;28;01mexcept\u001b[39;00m \u001b[38;5;167;01mKeyboardInterrupt\u001b[39;00m:\n\u001b[0;32m   1311\u001b[0m     \u001b[38;5;66;03m# re-raise KeyboardInterrupt, to truncate traceback\u001b[39;00m\n\u001b[0;32m   1312\u001b[0m     msg \u001b[38;5;241m=\u001b[39m \u001b[38;5;124m\"\u001b[39m\u001b[38;5;124mInterrupted by user\u001b[39m\u001b[38;5;124m\"\u001b[39m\n\u001b[1;32m-> 1313\u001b[0m     \u001b[38;5;28;01mraise\u001b[39;00m \u001b[38;5;167;01mKeyboardInterrupt\u001b[39;00m(msg) \u001b[38;5;28;01mfrom\u001b[39;00m \u001b[38;5;28;01mNone\u001b[39;00m\n\u001b[0;32m   1314\u001b[0m \u001b[38;5;28;01mexcept\u001b[39;00m \u001b[38;5;167;01mException\u001b[39;00m:\n\u001b[0;32m   1315\u001b[0m     \u001b[38;5;28mself\u001b[39m\u001b[38;5;241m.\u001b[39mlog\u001b[38;5;241m.\u001b[39mwarning(\u001b[38;5;124m\"\u001b[39m\u001b[38;5;124mInvalid Message:\u001b[39m\u001b[38;5;124m\"\u001b[39m, exc_info\u001b[38;5;241m=\u001b[39m\u001b[38;5;28;01mTrue\u001b[39;00m)\n",
      "\u001b[1;31mKeyboardInterrupt\u001b[0m: Interrupted by user"
     ]
    }
   ],
   "source": [
    "# python final code of library management system\n",
    "class Library:\n",
    "    def __init__(self):\n",
    "        self.books = {\n",
    "            \"1\": {\"section\": \"Comic\", \"title\": \"The Inscrutable Americans\", \"fees_per_day\": 50},\n",
    "            \"2\": {\"section\": \"Comic\", \"title\": \"The Bestseller She Wrote\", \"fees_per_day\": 75},\n",
    "            \"3\": {\"section\": \"Horror\", \"title\": \"The Krishna Key\", \"fees_per_day\": 100},\n",
    "            \"4\": {\"section\": \"Horror\", \"title\": \"The Shiva Trilogy\", \"fees_per_day\": 50},\n",
    "            \"5\": {\"section\": \"Biography\", \"title\": \"The Autobiography of a Yogi\", \"fees_per_day\": 75},\n",
    "            \"6\": {\"section\": \"Biography\", \"title\": \"My Experiments with Truth\", \"fees_per_day\": 100},\n",
    "        }\n",
    "        self.lent_books = {}\n",
    "\n",
    "    def display(self):\n",
    "        print(\"\\nAvailable books:\")\n",
    "        for section in [\"Comic\", \"Horror\", \"Biography\"]:\n",
    "            print(f\"\\n{section}:\")\n",
    "            for book_id, book_info in self.books.items():\n",
    "                if book_info[\"section\"] == section:\n",
    "                    print(f\"{book_id}. {book_info['title']} - ₹{book_info['fees_per_day']}/day\")\n",
    "\n",
    "    def lend_book(self, book_id, user, days):\n",
    "        if book_id in self.books:\n",
    "            book = self.books[book_id]\n",
    "            if book_id not in self.lent_books:\n",
    "                self.lent_books[book_id] = {\"user\": user, \"due_date\": None}\n",
    "                total_fees = book[\"fees_per_day\"] * days\n",
    "                print(f\"\\nYou have successfully borrowed '{book['title']}'.\")\n",
    "                print(f\"Fees per day: ₹{book['fees_per_day']}\")\n",
    "                print(f\"Total fees for {days} days: ₹{total_fees}\")\n",
    "            else:\n",
    "                print(\"\\nSorry, this book is currently unavailable.\")\n",
    "        else:\n",
    "            print(\"\\nSorry, this book does not exist in our library.\")\n",
    "\n",
    "    def add_book(self, book_id, section, title, fees_per_day):\n",
    "        if book_id not in self.books:\n",
    "            self.books[book_id] = {\"section\": section, \"title\": title, \"fees_per_day\": fees_per_day}\n",
    "            print(f\"\\nSuccessfully added book with ID {book_id} to our library.\")\n",
    "        else:\n",
    "            print(\"\\nSorry, this book already exists in our library.\")\n",
    "\n",
    "    def return_book(self, book_id):\n",
    "        if book_id in self.lent_books:\n",
    "            del self.lent_books[book_id]\n",
    "            print(\"\\nYou have successfully returned the book.\")\n",
    "        else:\n",
    "            print(\"\\nSorry, this book is not currently borrowed.\")\n",
    "\n",
    "library = Library()\n",
    "\n",
    "while True:\n",
    "    print(\"\\nWelcome to our Online Library Management System!\")\n",
    "    print(\"1. Display available books\")\n",
    "    print(\"2. Borrow a book\")\n",
    "    print(\"3. Add a book\")\n",
    "    print(\"4. Return a book\")\n",
    "    print(\"5. Exit\")\n",
    "\n",
    "    choice = input(\"Enter your choice: \")\n",
    "\n",
    "    if choice == \"1\":\n",
    "        library.display()\n",
    "    elif choice == \"2\":\n",
    "        book_id = input(\"Enter the book ID: \")\n",
    "        user = input(\"Enter your name: \")\n",
    "        days = int(input(\"Enter the number of days you want to borrow the book: \"))\n",
    "        library.lend_book(book_id, user, days)\n",
    "    elif choice == \"3\":\n",
    "        book_id = input(\"Enter the book ID: \")\n",
    "        section = input(\"Enter the section (1 for Comic, 2 for Horror, 3 for Biography): \")\n",
    "        if section == \"1\":\n",
    "            section_name = \"Comic\"\n",
    "        elif section == \"2\":\n",
    "            section_name = \"Horror\"\n",
    "        elif section == \"3\":\n",
    "            section_name = \"Biography\"\n",
    "        title = input(\"Enter the book title: \")\n",
    "        fees_per_day = int(input(\"Enter the fees per day: \"))\n",
    "        library.add_book(book_id, section_name, title, fees_per_day)\n",
    "    elif choice == \"4\":\n",
    "        book_id = input(\"Enter the book ID: \")\n",
    "        library.return_book(book_id)\n",
    "    elif choice == \"5\":\n",
    "        break\n",
    "    else:\n",
    "        print(\"\\nInvalid choice. Please try again.\")"
   ]
  },
  {
   "cell_type": "code",
   "execution_count": null,
   "id": "c5a5f9c0-012b-455a-b1bd-d8a178414343",
   "metadata": {},
   "outputs": [],
   "source": []
  }
 ],
 "metadata": {
  "kernelspec": {
   "display_name": "Python 3 (ipykernel)",
   "language": "python",
   "name": "python3"
  },
  "language_info": {
   "codemirror_mode": {
    "name": "ipython",
    "version": 3
   },
   "file_extension": ".py",
   "mimetype": "text/x-python",
   "name": "python",
   "nbconvert_exporter": "python",
   "pygments_lexer": "ipython3",
   "version": "3.12.4"
  }
 },
 "nbformat": 4,
 "nbformat_minor": 5
}
