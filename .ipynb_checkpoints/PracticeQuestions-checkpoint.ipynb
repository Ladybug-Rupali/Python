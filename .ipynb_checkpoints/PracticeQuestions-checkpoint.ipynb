{
 "cells": [
  {
   "cell_type": "code",
   "execution_count": 21,
   "id": "affcc7c5-0c6e-41a7-ab26-91d066fc15d4",
   "metadata": {},
   "outputs": [
    {
     "name": "stdin",
     "output_type": "stream",
     "text": [
      "Enter the elements you want :  3\n",
      "Enter your 1 number :  22\n",
      "Enter your 2 number :  33\n",
      "Enter your 3 number :  21\n"
     ]
    },
    {
     "name": "stdout",
     "output_type": "stream",
     "text": [
      "[22, 33, 21]\n"
     ]
    },
    {
     "name": "stdin",
     "output_type": "stream",
     "text": [
      "Guess the number of first user 2\n"
     ]
    },
    {
     "name": "stdout",
     "output_type": "stream",
     "text": [
      "Sorry your guess is wrong\n"
     ]
    }
   ],
   "source": [
    "\n",
    "#Take input from one user make a list and then take other input to guess the number in the previous list. \n",
    "#If the guessed number is n list print \"Well guesses\"\n",
    "#If the number is not in list then print \"Sorry your guess is wrong.\"\n",
    "\n",
    "\n",
    "def check_game():\n",
    "    \n",
    "    list = []\n",
    "    n = int(input(\"Enter the elements you want : \"))\n",
    "    for i in range(1,n+1):\n",
    "        x = int(input(f'Enter your {i} number : '))\n",
    "        list.append(x)\n",
    "    print(list)\n",
    "    z = int(input(\"Guess the number of first user\"))\n",
    "\n",
    "    if z in list:\n",
    "        print(\"Well guessed\")\n",
    "    else:\n",
    "        print(\"Sorry your guess is wrong\")\n",
    "\n",
    "check_game()\n",
    "    "
   ]
  },
  {
   "cell_type": "code",
   "execution_count": 19,
   "id": "9e737350-5f07-471d-aa82-22a7809c73ae",
   "metadata": {},
   "outputs": [
    {
     "name": "stdout",
     "output_type": "stream",
     "text": [
      "[2, 4, 6, 8, 10]\n"
     ]
    },
    {
     "name": "stdin",
     "output_type": "stream",
     "text": [
      "Enter the number you want by which we will devide the even list :  3\n"
     ]
    },
    {
     "name": "stdout",
     "output_type": "stream",
     "text": [
      "[0, 1, 2, 2, 3]\n"
     ]
    }
   ],
   "source": [
    "#Take  a range of 10 numbers even out take input from the user divide even list by user input.\n",
    "even_list = []\n",
    "for i in range(1,11):\n",
    "    if i % 2 == 0:\n",
    "        even_list.append(i)\n",
    "print(even_list)\n",
    "n = int(input(\"Enter the number you want by which we will divide the even list : \"))\n",
    "devide_list = []\n",
    "for x in even_list:\n",
    "    d = x // n\n",
    "    devide_list.append(d)\n",
    "print(devide_list)\n",
    "\n"
   ]
  },
  {
   "cell_type": "code",
   "execution_count": 32,
   "id": "960a4168-08d5-492c-ba2c-cd7229eec4d6",
   "metadata": {},
   "outputs": [
    {
     "name": "stdin",
     "output_type": "stream",
     "text": [
      "Enter the starting range :  30\n",
      "enter ending range :  40\n"
     ]
    },
    {
     "name": "stdout",
     "output_type": "stream",
     "text": [
      "\n",
      "Even list is :  [30, 32, 34, 36, 38, 40] \n",
      "\n",
      "Sum of the list is :  210 \n",
      "\n"
     ]
    },
    {
     "name": "stdin",
     "output_type": "stream",
     "text": [
      " Enter number to devide :  -2\n"
     ]
    },
    {
     "name": "stdout",
     "output_type": "stream",
     "text": [
      "Denominator to be postive\n"
     ]
    }
   ],
   "source": [
    "#TAke  range of 10 numbers even out take input from user devide even list by user input.\n",
    "even_list = []\n",
    "def check_num(x):\n",
    "    try:\n",
    "        a = int(input(\"Enter the starting range : \"))\n",
    "        b = int(input(\"enter ending range : \"))\n",
    "        for i in range(a,b+1):\n",
    "            if i % 2 == 0:\n",
    "                even_list.append(i)\n",
    "            sum1 = sum(even_list)\n",
    "        print(\"\\nEven list is : \",even_list,\"\\n\")\n",
    "        print(\"Sum of the list is : \",sum1,\"\\n\")\n",
    "        n = int(input(\" Enter number to devide : \"))\n",
    "        if n > 0:\n",
    "            print(f\"\\nAfter dev40iding wi40th {n} answer is\",sum1//n)\n",
    "        else:\n",
    "            print(\"Denominator to be postive\")\n",
    "                   \n",
    "    except ZeroDivisionError:\n",
    "        print(\"Denominator can not be zero\")\n",
    "check_num(\"rupali\")\n"
   ]
  },
  {
   "cell_type": "code",
   "execution_count": 6,
   "id": "11c65971-ec98-4208-b0e9-14dcbe7698eb",
   "metadata": {},
   "outputs": [
    {
     "name": "stdin",
     "output_type": "stream",
     "text": [
      "Enter the starting range :  30\n",
      "enter ending range :  40\n"
     ]
    },
    {
     "name": "stdout",
     "output_type": "stream",
     "text": [
      "\n",
      "Even list is :  [30, 32, 34, 36, 38, 40] \n",
      "\n",
      "Sum of the list is :  210 \n",
      "\n"
     ]
    },
    {
     "name": "stdin",
     "output_type": "stream",
     "text": [
      " Enter number to divide :  4\n"
     ]
    },
    {
     "name": "stdout",
     "output_type": "stream",
     "text": [
      "\n",
      "After dividing answer is 52\n"
     ]
    }
   ],
   "source": [
    "#TAke  range of 10 numbers even out take input from user devide even list by user input.\n",
    "\n",
    "even_list = []\n",
    "def check_num(x):\n",
    "    try:\n",
    "        a = int(input(\"Enter the starting range : \"))\n",
    "        b = int(input(\"enter ending range : \"))\n",
    "        for i in range(a,b+1):\n",
    "            if i % 2 == 0:\n",
    "                even_list.append(i)\n",
    "            sum1 = sum(even_list)\n",
    "        print(\"\\nEven list is : \",even_list,\"\\n\")\n",
    "        print(\"Sum of the list is : \",sum1,\"\\n\")\n",
    "        n = int(input(\" Enter number to divide : \"))\n",
    "        print(\"\\nAfter dividing answer is\",sum1//n)\n",
    "    except ZeroDivisionError:\n",
    "        print(\"Denominator can not be zero\")\n",
    "    except ValueError:\n",
    "        print(\"Input-only integers\")\n",
    "check_num(\"rupali\")\n"
   ]
  },
  {
   "cell_type": "code",
   "execution_count": 1,
   "id": "1d2b08f0-8607-47be-af42-8afbd2b57d47",
   "metadata": {},
   "outputs": [
    {
     "name": "stdin",
     "output_type": "stream",
     "text": [
      "Enter the starting range :  30\n",
      "enter ending range :  40\n"
     ]
    },
    {
     "name": "stdout",
     "output_type": "stream",
     "text": [
      "\n",
      "Even list is :  [30, 32, 34, 36, 38, 40] \n",
      "\n",
      "Sum of the list is :  210 \n",
      "\n"
     ]
    },
    {
     "name": "stdin",
     "output_type": "stream",
     "text": [
      "Do you want to continue? (y/n):  y\n"
     ]
    },
    {
     "name": "stdout",
     "output_type": "stream",
     "text": [
      "Continuing...\n"
     ]
    },
    {
     "name": "stdin",
     "output_type": "stream",
     "text": [
      " Enter number to divide :  3\n"
     ]
    },
    {
     "name": "stdout",
     "output_type": "stream",
     "text": [
      "\n",
      "After dividing answer is 70 \n",
      "\n"
     ]
    },
    {
     "name": "stdin",
     "output_type": "stream",
     "text": [
      "Do you want to continue? (y/n):  n\n"
     ]
    },
    {
     "name": "stdout",
     "output_type": "stream",
     "text": [
      "Thank you for your time do visit again\n"
     ]
    }
   ],
   "source": [
    "#TAke  range of 10 numbers even out take input from user devide even list by user input.\n",
    "even_list = []\n",
    "def check_num(x):\n",
    "    try:\n",
    "        a = int(input(\"Enter the starting range : \"))\n",
    "        b = int(input(\"enter ending range : \"))\n",
    "        for i in range(a,b + 1):\n",
    "            if i % 2 == 0:\n",
    "                even_list.append(i)\n",
    "            sum1 = sum(even_list)\n",
    "        print(\"\\nEven list is : \",even_list,\"\\n\")\n",
    "        print(\"Sum of the list is : \",sum1,\"\\n\")\n",
    "        while True:\n",
    "            user_input = input(\"Do you want to continue? (y/n): \")\n",
    "            if user_input.lower() == \"y\":\n",
    "                print(\"Continuing...\")\n",
    "                n = int(input(\" Enter number to divide : \"))\n",
    "                print(\"\\nAfter dividing answer is\",sum1 // n,\"\\n\")\n",
    "            else:\n",
    "                print(\"Thank you for your time do visit again\")\n",
    "                break\n",
    "    except ZeroDivisionError:\n",
    "        print(\"Denominator can not be zero\")\n",
    "    except ValueError:\n",
    "        print(\"Input-only integers\")\n",
    "check_num(\"rupali\")\n"
   ]
  },
  {
   "cell_type": "code",
   "execution_count": 4,
   "id": "21392bf7-486e-4555-9775-d5f09037131a",
   "metadata": {},
   "outputs": [
    {
     "name": "stdin",
     "output_type": "stream",
     "text": [
      "👩‍🏫 Enter your distance choice :- [ * 1. for meters // * 2. for kilometers ] :-  2\n",
      " 👩‍🏫 Enter your time choice :- [ * 1. for second // * 2. for minutes // * 3. for hour ] :-  3\n"
     ]
    },
    {
     "name": "stdout",
     "output_type": "stream",
     "text": [
      "\n",
      "<<---------------------------------------------------------->>\n",
      "\n"
     ]
    },
    {
     "name": "stdin",
     "output_type": "stream",
     "text": [
      " 👩‍💻 Enter distance in units you selected above :-  65464\n",
      "  👩‍💻 Enter your time in units you selected above:-   434\n"
     ]
    },
    {
     "name": "stdout",
     "output_type": "stream",
     "text": [
      "\n",
      " 🎯 Speed in km/hour is :  150.83870967741936 \n",
      "\n",
      "\n",
      "<<---------------------------------------------------------->>\n",
      "\n"
     ]
    },
    {
     "name": "stdin",
     "output_type": "stream",
     "text": [
      " 🤔 Let's do speed calculation? ( y / n ) :-  n\n"
     ]
    }
   ],
   "source": [
    "## Take input from the user as distance in units of meters or km and ultimately convert it into km.\n",
    "#   Take input from the user as time in units seconds or minutes or hours but ultimately convert it into hours.\n",
    "#   Return speed in km/hr unit only\n",
    "#   Handle all errors too.\n",
    "\n",
    "\n",
    "\n",
    "def speed_cal():\n",
    "    while True:\n",
    "        try:\n",
    "            distance_choice = input(\"👩‍🏫 Enter your distance choice :- [ * 1. for meters // * 2. for kilometers ] :- \")\n",
    "            time_choice = input(\" 👩‍🏫 Enter your time choice :- [ * 1. for second // * 2. for minutes // * 3. for hour ] :- \")\n",
    "            print(\"\\n<<---------------------------------------------------------->>\\n\")\n",
    "            \n",
    "            if distance_choice in ('1', '2') and time_choice in ('1','2','3'):\n",
    "            \n",
    "            \n",
    "                    dis = float(input(\" 👩‍💻 Enter distance in units you selected above :- \"))\n",
    "                    time = float(input(\"  👩‍💻 Enter your time in units you selected above:-  \"))\n",
    "                \n",
    "                    if distance_choice == '1' and time_choice == '1':\n",
    "                    \n",
    "                        distance_in_km = dis / 1000\n",
    "                        time_in_hour = time/ 3600\n",
    "                    \n",
    "                        print(\"\\n 🎯Speed in km/hour is : \",distance_in_km/time_in_hour,\"\\n\")\n",
    "                        print(\"\\n<<---------------------------------------------------------->>\\n\")\n",
    "                        \n",
    "                    elif distance_choice == '1' and time_choice == '2':\n",
    "                    \n",
    "                        distance_in_km = dis / 1000\n",
    "                        time_in_hour = time/ 60\n",
    "                        \n",
    "                        print(\"\\n 🎯 Speed in km/hour is : \",distance_in_km/time_in_hour,\"\\n\")\n",
    "                        print(\"\\n<<---------------------------------------------------------->>\\n\")\n",
    "                    \n",
    "                    elif distance_choice == '1' and time_choice == '3':\n",
    "                        \n",
    "                        distance_in_km = dis / 1000\n",
    "                        time_in_hour = time\n",
    "                        \n",
    "                        print(\"\\n 🎯 Speed in km/hour is : \",distance_in_km/time_in_hour,\"\\n\")\n",
    "                        print(\"\\n<<---------------------------------------------------------->>\\n\")\n",
    "                        \n",
    "                    elif distance_choice == '2' and time_choice == '1':\n",
    "                        \n",
    "                        distance_in_km = dis\n",
    "                        time_in_hour = time/ 3600\n",
    "                        \n",
    "                        print(\"\\n 🎯 Speed in km/hour is : \",distance_in_km/time_in_hour,\"\\n\")\n",
    "                        print(\"\\n<<---------------------------------------------------------->>\\n\")\n",
    "                        \n",
    "                    elif distance_choice == '2' and time_choice == '2':\n",
    "                        \n",
    "                        distance_in_km = dis\n",
    "                        time_in_hour = time/ 60\n",
    "                        \n",
    "                        print(\"\\n 🎯 Speed in km/hour is : \",distance_in_km/time_in_hour,\"\\n\")\n",
    "                        print(\"\\n<<---------------------------------------------------------->>\\n\")\n",
    "                        \n",
    "                    elif distance_choice == '2' and time_choice == '3':\n",
    "                        \n",
    "                        distance_in_km = dis\n",
    "                        time_in_hour = time\n",
    "                        \n",
    "                        print(\"\\n 🎯 Speed in km/hour is : \",distance_in_km/time_in_hour,\"\\n\")\n",
    "                        print(\"\\n<<---------------------------------------------------------->>\\n\")\n",
    "                    \n",
    "                    next_cal = input(\" 🤔 Let's do speed calculation? ( y / n ) :- \")\n",
    "                    if next_cal.lower() == \"n\" :\n",
    "                      break\n",
    "            else:\n",
    "                print( \"\\n 🔥 The input by user is not from given choice 🔥 \\n\" )\n",
    "            \n",
    "        except ValueError:\n",
    "            print(\"\\n 🔥 Enter only integers, it's a ValueError🔥\\n\")\n",
    "            \n",
    "        except ZeroDivisionError:\n",
    "            print(\"\\n 🔥 Denominator can not be 0, it's ZeroDivisionError 🔥 \\n\")\n",
    "    \n",
    "        except KeyboardInterrupt:\n",
    "            print(\"\\n 🔥 Keyboard Interrupted by user, it's a KeyboardInterrupt Error🔥\")\n",
    "\n",
    "speed_cal()\n",
    "    \n"
   ]
  },
  {
   "cell_type": "code",
   "execution_count": null,
   "id": "c6752a93-43df-438b-bd6c-e40deedee48d",
   "metadata": {},
   "outputs": [],
   "source": []
  }
 ],
 "metadata": {
  "kernelspec": {
   "display_name": "Python 3 (ipykernel)",
   "language": "python",
   "name": "python3"
  },
  "language_info": {
   "codemirror_mode": {
    "name": "ipython",
    "version": 3
   },
   "file_extension": ".py",
   "mimetype": "text/x-python",
   "name": "python",
   "nbconvert_exporter": "python",
   "pygments_lexer": "ipython3",
   "version": "3.12.2"
  }
 },
 "nbformat": 4,
 "nbformat_minor": 5
}
