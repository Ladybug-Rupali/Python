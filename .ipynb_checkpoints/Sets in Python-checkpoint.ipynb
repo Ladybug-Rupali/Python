{
 "cells": [
  {
   "cell_type": "markdown",
   "id": "66f7869a-8650-4596-b4f5-15e39c202204",
   "metadata": {},
   "source": [
    "- Set is one of the 4 build-in data types in Python used to store collections of data including: Tuples and Dictionary.\r",
    "- \n",
    "Sets are unordered, but you can remove items and add new items.- \r\n",
    "Set elements are unique, Duplicate elements are not allowed- .\r\n",
    "A set itself be modified, But the elements contained in the set must be of an immutable typ- e.\r\n",
    "Set are used to store multiple items in a single variab- le.\r\n",
    "you can denote a set with a pair of curly brackets {}."
   ]
  },
  {
   "cell_type": "code",
   "execution_count": 1,
   "id": "6b88df27-c914-4f18-9de5-2ae5843ab7b7",
   "metadata": {},
   "outputs": [
    {
     "data": {
      "text/plain": [
       "['Hello', 'Rupali']"
      ]
     },
     "execution_count": 1,
     "metadata": {},
     "output_type": "execute_result"
    }
   ],
   "source": [
    "x = [\"Hello\",20]\n",
    "x[1]=\"Rupali\"\n",
    "x"
   ]
  },
  {
   "cell_type": "code",
   "execution_count": 4,
   "id": "e3eee92e-bb03-4276-82bb-1e91f06b86af",
   "metadata": {},
   "outputs": [
    {
     "name": "stdout",
     "output_type": "stream",
     "text": [
      "['Hello']\n"
     ]
    }
   ],
   "source": [
    "#To remove item from set.\n",
    "#If the item to remove does not exist, remove() will raise an error.\n",
    "\n",
    "x.remove('Rupali')\n",
    "print(x)"
   ]
  },
  {
   "cell_type": "code",
   "execution_count": 115,
   "id": "1be4d57a-9aa2-4433-8625-210b1563dfb0",
   "metadata": {},
   "outputs": [
    {
     "name": "stdout",
     "output_type": "stream",
     "text": [
      "{'uday', 10, 20}\n",
      "{10, 20}\n"
     ]
    }
   ],
   "source": [
    "#To discard items from the set\n",
    "#If the item to discard does not exist, discard() does not give an error.\n",
    "\n",
    "set1 = {\"uday\",10,20}\n",
    "print(set1)\n",
    "\n",
    "\n",
    "set1.discard(\"uday\")\n",
    "print(set1)\n"
   ]
  },
  {
   "cell_type": "code",
   "execution_count": 19,
   "id": "9ba56be7-17ce-47ba-afad-5be83d8949a2",
   "metadata": {},
   "outputs": [
    {
     "data": {
      "text/plain": [
       "{10}"
      ]
     },
     "execution_count": 19,
     "metadata": {},
     "output_type": "execute_result"
    }
   ],
   "source": [
    "set1.remove(20)\n",
    "set1"
   ]
  },
  {
   "cell_type": "code",
   "execution_count": 22,
   "id": "7746d216-9aab-40d2-8db6-39efdb1f6664",
   "metadata": {},
   "outputs": [
    {
     "data": {
      "text/plain": [
       "set()"
      ]
     },
     "execution_count": 22,
     "metadata": {},
     "output_type": "execute_result"
    }
   ],
   "source": [
    "set1.discard(10)\n",
    "set1"
   ]
  },
  {
   "cell_type": "code",
   "execution_count": 23,
   "id": "8bdd8834-c734-4715-98b3-6355c631a226",
   "metadata": {},
   "outputs": [
    {
     "data": {
      "text/plain": [
       "{20, 30, 40, 50, 60}"
      ]
     },
     "execution_count": 23,
     "metadata": {},
     "output_type": "execute_result"
    }
   ],
   "source": [
    "#Membership Operator\n",
    "set2 = set([20,30,40,50,60])\n",
    "set2"
   ]
  },
  {
   "cell_type": "code",
   "execution_count": 25,
   "id": "bf01205d-2d47-45fc-8cf0-d4579ade70eb",
   "metadata": {},
   "outputs": [
    {
     "data": {
      "text/plain": [
       "False"
      ]
     },
     "execution_count": 25,
     "metadata": {},
     "output_type": "execute_result"
    }
   ],
   "source": [
    "100 in set2"
   ]
  },
  {
   "cell_type": "code",
   "execution_count": 26,
   "id": "0b9914e3-96ef-424d-b0d4-91ddfc3335f5",
   "metadata": {},
   "outputs": [
    {
     "data": {
      "text/plain": [
       "False"
      ]
     },
     "execution_count": 26,
     "metadata": {},
     "output_type": "execute_result"
    }
   ],
   "source": [
    "10 in set2"
   ]
  },
  {
   "cell_type": "code",
   "execution_count": 27,
   "id": "785c5954-c59b-46e5-a3c2-da4e45f53c3c",
   "metadata": {},
   "outputs": [
    {
     "data": {
      "text/plain": [
       "True"
      ]
     },
     "execution_count": 27,
     "metadata": {},
     "output_type": "execute_result"
    }
   ],
   "source": [
    "10 not in set2"
   ]
  },
  {
   "cell_type": "code",
   "execution_count": 49,
   "id": "61794785-d69b-41e3-8cfc-8d5ad1e89e0c",
   "metadata": {},
   "outputs": [
    {
     "data": {
      "text/plain": [
       "({1.618, 3.14, 'Hello Python', 'Hello World'}, {True, 1.618, 3.14, 2024})"
      ]
     },
     "execution_count": 49,
     "metadata": {},
     "output_type": "execute_result"
    }
   ],
   "source": [
    "#Logic operation on set \n",
    "#union \n",
    "#Intersection\n",
    "#Difference \n",
    "#Symetric difference \n",
    "\n",
    "set4 = set([\"Hello Python\",3.14,1.618,\"Hello World\"])\n",
    "set5 = {3.14,1.618,2024,True}\n",
    "\n",
    "set4, set5"
   ]
  },
  {
   "cell_type": "code",
   "execution_count": 50,
   "id": "4707a3f5-1930-488d-8d13-6d1fc865d7aa",
   "metadata": {},
   "outputs": [
    {
     "name": "stdout",
     "output_type": "stream",
     "text": [
      "{'Hello Python', 1.618, 3.14, 'Hello World'}\n",
      "{2024, 1.618, 3.14, True}\n"
     ]
    },
    {
     "data": {
      "text/plain": [
       "{1.618, 2024, 3.14, 'Hello Python', 'Hello World', True}"
      ]
     },
     "execution_count": 50,
     "metadata": {},
     "output_type": "execute_result"
    }
   ],
   "source": [
    "#Union \n",
    "\n",
    "print(set4)\n",
    "print(set5)\n",
    "\n",
    "set4.union(set5)"
   ]
  },
  {
   "cell_type": "code",
   "execution_count": 51,
   "id": "8a691032-3a1b-473c-aefd-644e716c4e8d",
   "metadata": {},
   "outputs": [
    {
     "name": "stdout",
     "output_type": "stream",
     "text": [
      "{'Hello Python', 1.618, 3.14, 'Hello World'}\n",
      "{2024, 1.618, 3.14, True}\n"
     ]
    },
    {
     "data": {
      "text/plain": [
       "{1.618, 3.14}"
      ]
     },
     "execution_count": 51,
     "metadata": {},
     "output_type": "execute_result"
    }
   ],
   "source": [
    "#Intersection \n",
    "print(set4)\n",
    "print(set5)\n",
    "\n",
    "set4.intersection(set5)\n",
    "x = set4 & set5\n",
    "x\n"
   ]
  },
  {
   "cell_type": "code",
   "execution_count": 56,
   "id": "2aacff07-5718-4f66-8a98-4880cab025b7",
   "metadata": {},
   "outputs": [
    {
     "name": "stdout",
     "output_type": "stream",
     "text": [
      "{'Hello Python', 1.618, 3.14, 'Hello World'}\n",
      "{2024, 1.618, 3.14, True}\n",
      "{'Hello Python', 'Hello World'}\n",
      "{2024, True}\n",
      "{'Hello Python', 'Hello World'}\n",
      "{2024, True}\n"
     ]
    }
   ],
   "source": [
    "#Difference \n",
    "print(set4)\n",
    "print(set5)\n",
    "\n",
    "print(set4.difference(set5))\n",
    "print(set5.difference(set4))\n",
    "print(set4 - set5)\n",
    "print(set5 - set4)\n"
   ]
  },
  {
   "cell_type": "code",
   "execution_count": 57,
   "id": "be38cdb4-dc72-4a36-9e0c-b0f14c781ee8",
   "metadata": {},
   "outputs": [
    {
     "name": "stdout",
     "output_type": "stream",
     "text": [
      "{'Hello Python', 1.618, 3.14, 'Hello World'}\n",
      "{2024, 1.618, 3.14, True}\n"
     ]
    },
    {
     "data": {
      "text/plain": [
       "{2024, 'Hello Python', 'Hello World', True}"
      ]
     },
     "execution_count": 57,
     "metadata": {},
     "output_type": "execute_result"
    }
   ],
   "source": [
    "#Symmetric Difference \n",
    "print(set4)\n",
    "print(set5)\n",
    "\n",
    "set4.symmetric_difference(set5)"
   ]
  },
  {
   "cell_type": "code",
   "execution_count": 66,
   "id": "a63af776-acbd-45bc-b5a2-96fd6b7f521a",
   "metadata": {},
   "outputs": [
    {
     "name": "stdout",
     "output_type": "stream",
     "text": [
      "10\n",
      "10\n",
      "270\n",
      "150\n",
      "50\n",
      "50\n",
      "24.545454545454547\n",
      "30.0\n",
      "11\n",
      "5\n",
      "3\n"
     ]
    },
    {
     "ename": "AttributeError",
     "evalue": "'set' object has no attribute 'count'",
     "output_type": "error",
     "traceback": [
      "\u001b[1;31m---------------------------------------------------------------------------\u001b[0m",
      "\u001b[1;31mAttributeError\u001b[0m                            Traceback (most recent call last)",
      "Cell \u001b[1;32mIn[66], line 24\u001b[0m\n\u001b[0;32m     21\u001b[0m \u001b[38;5;28mprint\u001b[39m(\u001b[38;5;28mlen\u001b[39m(set6))\n\u001b[0;32m     23\u001b[0m \u001b[38;5;28mprint\u001b[39m(list1\u001b[38;5;241m.\u001b[39mcount(\u001b[38;5;241m10\u001b[39m))\n\u001b[1;32m---> 24\u001b[0m \u001b[38;5;28mprint\u001b[39m(\u001b[43mset6\u001b[49m\u001b[38;5;241;43m.\u001b[39;49m\u001b[43mcount\u001b[49m(\u001b[38;5;241m10\u001b[39m))\n",
      "\u001b[1;31mAttributeError\u001b[0m: 'set' object has no attribute 'count'"
     ]
    }
   ],
   "source": [
    "#Agreegate Function\n",
    "\n",
    "#min , max , sum , count , length , avg \n",
    "\n",
    "list1 = [10, 10, 10, 20, 20, 20, 20, 30, 40, 40, 50]\n",
    "set6 = {10, 10, 10, 20, 20, 20, 20, 30, 40, 40, 50}\n",
    "\n",
    "print(min(list1))\n",
    "print(min(set6))\n",
    "\n",
    "print(sum(list1))\n",
    "print(sum(set6))\n",
    "\n",
    "print(max(list1))\n",
    "print(max(set6))\n",
    "\n",
    "print(sum(list1) / len(list1))\n",
    "print(sum(set6) / len(set6))\n",
    "\n",
    "print(len(list1))\n",
    "print(len(set6))\n",
    "\n",
    "print(list1.count(10))\n",
    "print(set6.count(10))"
   ]
  },
  {
   "cell_type": "code",
   "execution_count": 70,
   "id": "54a69e36-9f92-4404-bd36-14621b7e2872",
   "metadata": {},
   "outputs": [
    {
     "name": "stdout",
     "output_type": "stream",
     "text": [
      "{'hello', (10, 39), 20, 30}\n"
     ]
    },
    {
     "ename": "TypeError",
     "evalue": "unhashable type: 'list'",
     "output_type": "error",
     "traceback": [
      "\u001b[1;31m---------------------------------------------------------------------------\u001b[0m",
      "\u001b[1;31mTypeError\u001b[0m                                 Traceback (most recent call last)",
      "Cell \u001b[1;32mIn[70], line 7\u001b[0m\n\u001b[0;32m      4\u001b[0m \u001b[38;5;28mset\u001b[39m \u001b[38;5;241m=\u001b[39m {\u001b[38;5;241m20\u001b[39m,\u001b[38;5;241m30\u001b[39m,\u001b[38;5;124m\"\u001b[39m\u001b[38;5;124mhello\u001b[39m\u001b[38;5;124m\"\u001b[39m,(\u001b[38;5;241m10\u001b[39m,\u001b[38;5;241m39\u001b[39m)}\n\u001b[0;32m      5\u001b[0m \u001b[38;5;28mprint\u001b[39m(\u001b[38;5;28mset\u001b[39m)\n\u001b[1;32m----> 7\u001b[0m \u001b[38;5;28mset\u001b[39m \u001b[38;5;241m=\u001b[39m {\u001b[38;5;241m20\u001b[39m,\u001b[38;5;241m30\u001b[39m,\u001b[38;5;124m\"\u001b[39m\u001b[38;5;124mhello\u001b[39m\u001b[38;5;124m\"\u001b[39m,[\u001b[38;5;241m10\u001b[39m,\u001b[38;5;241m39\u001b[39m]}  \u001b[38;5;66;03m#datatypes different\u001b[39;00m\n\u001b[0;32m      8\u001b[0m \u001b[38;5;28mset\u001b[39m\n",
      "\u001b[1;31mTypeError\u001b[0m: unhashable type: 'list'"
     ]
    }
   ],
   "source": [
    "#No mutable sequenec \n",
    "\n",
    "\n",
    "set = {20,30,\"hello\",(10,39)} #same datatype\n",
    "print(set)\n",
    "\n",
    "set = {20,30,\"hello\",[10,39]}  #datatypes different\n",
    "set\n"
   ]
  },
  {
   "cell_type": "code",
   "execution_count": 87,
   "id": "68aabf3b-3b1a-4509-8b1f-24b807241b3d",
   "metadata": {},
   "outputs": [
    {
     "name": "stdout",
     "output_type": "stream",
     "text": [
      "{10, 20, 30}\n",
      "{10, 20, 30}\n",
      "{10, 20, 30, 'Babli'}\n",
      "{10, 20, 30, 'Babli'}\n",
      "1821564033664\n",
      "1821564033664\n"
     ]
    }
   ],
   "source": [
    "#Copy the setabs \n",
    "\n",
    "#Deep copy() and shallow copy\n",
    "\n",
    "#Deep Copy\n",
    "seta = {10,20,30}\n",
    "print(seta)\n",
    "\n",
    "setb = seta\n",
    "print(setb)\n",
    "\n",
    "seta.add('Babli')\n",
    "\n",
    "print(seta)\n",
    "print(setb)\n",
    "\n",
    "print(id(seta))\n",
    "print(id(setb))  #Same memory address is allocated"
   ]
  },
  {
   "cell_type": "code",
   "execution_count": 88,
   "id": "35517338-ba57-4b43-a412-fc2e3b3bb724",
   "metadata": {},
   "outputs": [
    {
     "name": "stdout",
     "output_type": "stream",
     "text": [
      "{10, 20, 30, 'Babli'}\n",
      "{10, 20, 30, 'Babli'}\n",
      "{10, 'Rupali', 20, 30, 'Babli'}\n",
      "{10, 20, 30, 'Babli'}\n",
      "1821563499936\n",
      "1821564033664\n"
     ]
    }
   ],
   "source": [
    "# Shallow copy \n",
    "\n",
    "setc = 0\n",
    "setc = seta.copy()\n",
    "print(setc)\n",
    "print(seta)\n",
    "\n",
    "setc.add('Rupali')\n",
    "print(setc)\n",
    "\n",
    "print(seta)\n",
    "\n",
    "print(id(setc))   #Different memory address allocated\n",
    "print(id(seta))"
   ]
  },
  {
   "cell_type": "code",
   "execution_count": 2,
   "id": "49010d57-8494-408a-b363-25c253b6ad30",
   "metadata": {},
   "outputs": [
    {
     "data": {
      "text/plain": [
       "{30, 40, 50, 60}"
      ]
     },
     "execution_count": 2,
     "metadata": {},
     "output_type": "execute_result"
    }
   ],
   "source": [
    "# Return a new set of identical items from two sets.\n",
    "set1={10,20,30,40,50,60}\n",
    "set2={30,40,50,60,70,80}\n",
    "\n",
    "set1.intersection(set2)"
   ]
  },
  {
   "cell_type": "code",
   "execution_count": 3,
   "id": "750ebd69-982c-42d2-8e7c-b94e7dc60687",
   "metadata": {},
   "outputs": [
    {
     "data": {
      "text/plain": [
       "{10, 20, 30, 40, 50, 60, 70, 80}"
      ]
     },
     "execution_count": 3,
     "metadata": {},
     "output_type": "execute_result"
    }
   ],
   "source": [
    "# Get only unique items from two sets\n",
    "set1={10,20,30,40,50,60}\n",
    "set2={30,40,50,60,70,80}\n",
    "set1.union(set2)"
   ]
  },
  {
   "cell_type": "code",
   "execution_count": 8,
   "id": "886b88a3-9f7a-46f8-81b4-a3f647485ef7",
   "metadata": {},
   "outputs": [
    {
     "name": "stdout",
     "output_type": "stream",
     "text": [
      "{80, 60, 70}\n"
     ]
    }
   ],
   "source": [
    "# update the fist set with items that don't exist in the second set2?\n",
    "\n",
    "set1={10,20,30,40}\n",
    "set2={30,20,10,60,70,80}\n",
    "\n",
    "print(set2-set1)\n"
   ]
  },
  {
   "cell_type": "code",
   "execution_count": null,
   "id": "c0e6a7b6-5a74-4c91-810a-63f2d11cf602",
   "metadata": {},
   "outputs": [],
   "source": []
  }
 ],
 "metadata": {
  "kernelspec": {
   "display_name": "Python 3 (ipykernel)",
   "language": "python",
   "name": "python3"
  },
  "language_info": {
   "codemirror_mode": {
    "name": "ipython",
    "version": 3
   },
   "file_extension": ".py",
   "mimetype": "text/x-python",
   "name": "python",
   "nbconvert_exporter": "python",
   "pygments_lexer": "ipython3",
   "version": "3.12.2"
  }
 },
 "nbformat": 4,
 "nbformat_minor": 5
}
