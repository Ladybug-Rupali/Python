{
 "cells": [
  {
   "cell_type": "markdown",
   "id": "5e773b0e-1d35-480e-9f77-367db5459bbf",
   "metadata": {},
   "source": [
    "# 14. Writing Files in Python\r",
    " * __To Write to a text file in Python, You follow these steps:\r\n",
    "First, Open the text file for writing ( or appending ) using the open() functi\n",
    " _\n",
    ". * __\r\n",
    "Second, Write to the text file using the write() or writelinesnes() me ____\n",
    "d * __.\r\n",
    "Third, close the file using the close() hod___t_ _\n",
    "\n",
    "## Some Characters and their functions\r",
    "*_ \n",
    " r------------> Open file for reading only. Starts reading from the beginning of the file. This isthe \"Classes and objects in python.ipynb\" default mode  .*_\r",
    " \n",
    " rb-----------> Open a file for reading only in binary format. Starts reading frothe m beginning of the_ e* __* __.\r",
    "  \n",
    "r+-----------> Open file for reading and writing. File Pointer placed at beginning of th_*___* __e  .\r\n",
    "w------------> Open file for writing only. File pointer placed at beginning of the file. Overwrites existing file and creates a new one if it does nxist.___* __ts  .\r\n",
    "wb-----------> Same as w but opens in   eth m ___* ___ode.\r\n",
    "wb+----------> Same as wb but also allows to re   * ____* __f ile.\r\n",
    "a------------> Open a file for appending. Starts writing at the end of the file. Creates a new fthe ile if file exists___* __xi sts.\r\n",
    "ab-----------> Same as a but in binary format. Creates a new the file if fiot _\n",
    "  * ____* __ex ists.\r\n",
    "a+-----------> Same as a but also open for__\n",
    "  \n",
    "* __ab+ ----------> Same as ab but also open f__eading.hod."
   ]
  },
  {
   "cell_type": "code",
   "execution_count": 4,
   "id": "0f222155-e896-4afc-872a-bb0ac8e8ba1f",
   "metadata": {},
   "outputs": [],
   "source": [
    "# Writing lines to the file.\n",
    "\n",
    "fname = 'rupali.txt'\n",
    "\n",
    "with open(fname,'w') as f:\n",
    "    f.write('My name is Rupali Gurav.\\n')\n",
    "    f.write('My name is Aditi Kute\\n')\n",
    "    f.write('My name is Sahil.\\n')\n",
    "    f.write('We are learing python current topic is writing in files.\\n')\n",
    "    f.write('Rupali age is 26\\n')\n",
    "    f.write('Aditi age is 30.\\n')\n",
    "    f.write('Sahil age is 21.\\n')\n",
    "    f.write('Rupali eating ice-cream alone.\\n')\n",
    "    f.write('Aditi eating chocolate alone.\\n')\n",
    "    f.write('Sahil eating Pan masala alone.\\n')\n",
    "    f.write('Rupali college fergusson college.\\n')\n",
    "    \n",
    "    "
   ]
  },
  {
   "cell_type": "code",
   "execution_count": 6,
   "id": "7a83beaf-c0dd-4bc0-bab9-716e4f910746",
   "metadata": {},
   "outputs": [
    {
     "name": "stdout",
     "output_type": "stream",
     "text": [
      "My name is Rupali Gurav.\n",
      "My name is Aditi Kute\n",
      "My name is Sahil.\n",
      "We are learing python current topic is writing in files.\n",
      "Rupali age is 26\n",
      "Aditi age is 30.\n",
      "Sahil age is 21.\n",
      "Rupali eating ice-cream alone.\n",
      "Aditi eating chocolate alone.\n",
      "Sahil eating Pan masala alone.\n",
      "Rupali college fergusson college.\n",
      "\n"
     ]
    }
   ],
   "source": [
    "file = 'rupali.txt'\n",
    "with open(file,'r') as f:\n",
    "    x = f.read()\n",
    "    print(x)"
   ]
  },
  {
   "cell_type": "code",
   "execution_count": 8,
   "id": "f30c7700-5069-4dd8-b2f3-7a2dcb3ac369",
   "metadata": {},
   "outputs": [
    {
     "name": "stdout",
     "output_type": "stream",
     "text": [
      "hello dear \n",
      "\n",
      "Hi dear \n",
      "\n",
      "Okay dear\n",
      "\n",
      "Bye dear\n",
      "\n"
     ]
    }
   ],
   "source": [
    " # Writing a list in a file \n",
    "add_txt = [\"hello dear \\n\",\"Hi dear \\n\",\"Okay dear\\n\",\"Bye dear\\n\"]\n",
    "\n",
    "fname = 'sample.txt'\n",
    "with open(fname,'w')as f:\n",
    "    for i in add_txt:\n",
    "        print(i)\n",
    "        f.write(i)"
   ]
  },
  {
   "cell_type": "code",
   "execution_count": 11,
   "id": "be5012e5-ce43-45da-9f28-bfdff0bb4323",
   "metadata": {},
   "outputs": [
    {
     "name": "stdout",
     "output_type": "stream",
     "text": [
      "Overwrite\n",
      "This file is overwritten\n"
     ]
    }
   ],
   "source": [
    "with open(fname,'w')as f:\n",
    "    f.write('Overwrite\\nThis file is overwritten')\n",
    "with open(fname,'r')as f:\n",
    "    print(f.read())"
   ]
  },
  {
   "cell_type": "code",
   "execution_count": 1,
   "id": "05cb2b57-05b6-4eae-af43-347694e79002",
   "metadata": {},
   "outputs": [
    {
     "ename": "KeyboardInterrupt",
     "evalue": "Interrupted by user",
     "output_type": "error",
     "traceback": [
      "\u001b[1;31m---------------------------------------------------------------------------\u001b[0m",
      "\u001b[1;31mKeyboardInterrupt\u001b[0m                         Traceback (most recent call last)",
      "Cell \u001b[1;32mIn[1], line 20\u001b[0m\n\u001b[0;32m     17\u001b[0m         \u001b[38;5;28mprint\u001b[39m(\u001b[38;5;124m\"\u001b[39m\u001b[38;5;130;01m\\n\u001b[39;00m\u001b[38;5;124m-----------------------------------\u001b[39m\u001b[38;5;130;01m\\n\u001b[39;00m\u001b[38;5;124m\"\u001b[39m)\n\u001b[0;32m     18\u001b[0m         \u001b[38;5;28mprint\u001b[39m(\u001b[38;5;124mf\u001b[39m\u001b[38;5;124m\"\u001b[39m\u001b[38;5;124mYour file = \u001b[39m\u001b[38;5;124m'\u001b[39m\u001b[38;5;124m \u001b[39m\u001b[38;5;132;01m{\u001b[39;00mfile\u001b[38;5;132;01m}\u001b[39;00m\u001b[38;5;124m \u001b[39m\u001b[38;5;124m'\u001b[39m\u001b[38;5;124m content is as follow : \u001b[39m\u001b[38;5;130;01m\\n\u001b[39;00m\u001b[38;5;124m\"\u001b[39m,reading)\n\u001b[1;32m---> 20\u001b[0m \u001b[43mfile_write\u001b[49m\u001b[43m(\u001b[49m\u001b[43m)\u001b[49m\n",
      "Cell \u001b[1;32mIn[1], line 5\u001b[0m, in \u001b[0;36mfile_write\u001b[1;34m()\u001b[0m\n\u001b[0;32m      4\u001b[0m \u001b[38;5;28;01mdef\u001b[39;00m \u001b[38;5;21mfile_write\u001b[39m():\n\u001b[1;32m----> 5\u001b[0m     name \u001b[38;5;241m=\u001b[39m \u001b[38;5;28;43minput\u001b[39;49m\u001b[43m(\u001b[49m\u001b[38;5;124;43m\"\u001b[39;49m\u001b[38;5;124;43menter your file name : \u001b[39;49m\u001b[38;5;124;43m\"\u001b[39;49m\u001b[43m)\u001b[49m\n\u001b[0;32m      6\u001b[0m     file \u001b[38;5;241m=\u001b[39m name\u001b[38;5;241m+\u001b[39m\u001b[38;5;124m'\u001b[39m\u001b[38;5;124m.txt\u001b[39m\u001b[38;5;124m'\u001b[39m \n\u001b[0;32m      7\u001b[0m     n \u001b[38;5;241m=\u001b[39m \u001b[38;5;28mint\u001b[39m(\u001b[38;5;28minput\u001b[39m(\u001b[38;5;124m\"\u001b[39m\u001b[38;5;124mEnter number of lines : \u001b[39m\u001b[38;5;124m\"\u001b[39m))\n",
      "File \u001b[1;32m~\\AppData\\Local\\Packages\\PythonSoftwareFoundation.Python.3.12_qbz5n2kfra8p0\\LocalCache\\local-packages\\Python312\\site-packages\\ipykernel\\kernelbase.py:1270\u001b[0m, in \u001b[0;36mKernel.raw_input\u001b[1;34m(self, prompt)\u001b[0m\n\u001b[0;32m   1268\u001b[0m     msg \u001b[38;5;241m=\u001b[39m \u001b[38;5;124m\"\u001b[39m\u001b[38;5;124mraw_input was called, but this frontend does not support input requests.\u001b[39m\u001b[38;5;124m\"\u001b[39m\n\u001b[0;32m   1269\u001b[0m     \u001b[38;5;28;01mraise\u001b[39;00m StdinNotImplementedError(msg)\n\u001b[1;32m-> 1270\u001b[0m \u001b[38;5;28;01mreturn\u001b[39;00m \u001b[38;5;28;43mself\u001b[39;49m\u001b[38;5;241;43m.\u001b[39;49m\u001b[43m_input_request\u001b[49m\u001b[43m(\u001b[49m\n\u001b[0;32m   1271\u001b[0m \u001b[43m    \u001b[49m\u001b[38;5;28;43mstr\u001b[39;49m\u001b[43m(\u001b[49m\u001b[43mprompt\u001b[49m\u001b[43m)\u001b[49m\u001b[43m,\u001b[49m\n\u001b[0;32m   1272\u001b[0m \u001b[43m    \u001b[49m\u001b[38;5;28;43mself\u001b[39;49m\u001b[38;5;241;43m.\u001b[39;49m\u001b[43m_parent_ident\u001b[49m\u001b[43m[\u001b[49m\u001b[38;5;124;43m\"\u001b[39;49m\u001b[38;5;124;43mshell\u001b[39;49m\u001b[38;5;124;43m\"\u001b[39;49m\u001b[43m]\u001b[49m\u001b[43m,\u001b[49m\n\u001b[0;32m   1273\u001b[0m \u001b[43m    \u001b[49m\u001b[38;5;28;43mself\u001b[39;49m\u001b[38;5;241;43m.\u001b[39;49m\u001b[43mget_parent\u001b[49m\u001b[43m(\u001b[49m\u001b[38;5;124;43m\"\u001b[39;49m\u001b[38;5;124;43mshell\u001b[39;49m\u001b[38;5;124;43m\"\u001b[39;49m\u001b[43m)\u001b[49m\u001b[43m,\u001b[49m\n\u001b[0;32m   1274\u001b[0m \u001b[43m    \u001b[49m\u001b[43mpassword\u001b[49m\u001b[38;5;241;43m=\u001b[39;49m\u001b[38;5;28;43;01mFalse\u001b[39;49;00m\u001b[43m,\u001b[49m\n\u001b[0;32m   1275\u001b[0m \u001b[43m\u001b[49m\u001b[43m)\u001b[49m\n",
      "File \u001b[1;32m~\\AppData\\Local\\Packages\\PythonSoftwareFoundation.Python.3.12_qbz5n2kfra8p0\\LocalCache\\local-packages\\Python312\\site-packages\\ipykernel\\kernelbase.py:1313\u001b[0m, in \u001b[0;36mKernel._input_request\u001b[1;34m(self, prompt, ident, parent, password)\u001b[0m\n\u001b[0;32m   1310\u001b[0m \u001b[38;5;28;01mexcept\u001b[39;00m \u001b[38;5;167;01mKeyboardInterrupt\u001b[39;00m:\n\u001b[0;32m   1311\u001b[0m     \u001b[38;5;66;03m# re-raise KeyboardInterrupt, to truncate traceback\u001b[39;00m\n\u001b[0;32m   1312\u001b[0m     msg \u001b[38;5;241m=\u001b[39m \u001b[38;5;124m\"\u001b[39m\u001b[38;5;124mInterrupted by user\u001b[39m\u001b[38;5;124m\"\u001b[39m\n\u001b[1;32m-> 1313\u001b[0m     \u001b[38;5;28;01mraise\u001b[39;00m \u001b[38;5;167;01mKeyboardInterrupt\u001b[39;00m(msg) \u001b[38;5;28;01mfrom\u001b[39;00m \u001b[38;5;28;01mNone\u001b[39;00m\n\u001b[0;32m   1314\u001b[0m \u001b[38;5;28;01mexcept\u001b[39;00m \u001b[38;5;167;01mException\u001b[39;00m:\n\u001b[0;32m   1315\u001b[0m     \u001b[38;5;28mself\u001b[39m\u001b[38;5;241m.\u001b[39mlog\u001b[38;5;241m.\u001b[39mwarning(\u001b[38;5;124m\"\u001b[39m\u001b[38;5;124mInvalid Message:\u001b[39m\u001b[38;5;124m\"\u001b[39m, exc_info\u001b[38;5;241m=\u001b[39m\u001b[38;5;28;01mTrue\u001b[39;00m)\n",
      "\u001b[1;31mKeyboardInterrupt\u001b[0m: Interrupted by user"
     ]
    }
   ],
   "source": [
    "#Write file using for loop, take input name of the file, no of lines, and print the file content.\n",
    "\n",
    "\n",
    "name = input(\"enter your file name : \")\n",
    "    file = name+'.txt' \n",
    "    n = int(input(\"Enter number of lines : \"))\n",
    "    print(\"\\n-----------------------------------\\n\")\n",
    "    with open(file,'w') as f:\n",
    "        for i in range(1,n+1):\n",
    "            x = input(f\"Input your line no {i} : \")\n",
    "            f.write(x)\n",
    "            f.write('\\n')\n",
    "       \n",
    "    with open(file,'r') as f:\n",
    "        reading = f.read()\n",
    "        print(\"\\n-----------------------------------\\n\")\n",
    "        print(f\"Your file = ' {file} ' content is as follow : \\n\",reading)"
   ]
  },
  {
   "cell_type": "code",
   "execution_count": null,
   "id": "d38fa739-b114-4b74-bae3-d906cce2e363",
   "metadata": {},
   "outputs": [],
   "source": [
    "#Write file using function, take input name of the file, no of lines, and print the file content.\n",
    "\n",
    "\n",
    "def file_write():\n",
    "    name = input(\"enter your file name : \")\n",
    "    file = name+'.txt' \n",
    "    n = int(input(\"Enter number of lines : \"))\n",
    "    print(\"\\n-----------------------------------\\n\")\n",
    "    with open(file,'w') as f:\n",
    "        for i in range(1,n+1):\n",
    "            x = input(f\"Input your line no {i} : \")\n",
    "            f.write(x)\n",
    "            f.write('\\n')\n",
    "       \n",
    "    with open(file,'r') as f:\n",
    "        reading = f.read()\n",
    "        print(\"\\n-----------------------------------\\n\")\n",
    "        print(f\"Your file = ' {file} ' content is as follow : \\n\",reading)\n",
    "\n",
    "file_write()"
   ]
  },
  {
   "cell_type": "code",
   "execution_count": null,
   "id": "055393fe-46aa-4712-a152-67e13c96a32f",
   "metadata": {},
   "outputs": [],
   "source": [
    "#classes and object\n",
    "\n",
    "class file:\n",
    "    def __init__(self,filename):\n",
    "        self.filename\n",
    "    def write(self):\n",
    "        fname = open(self.filename,'w')\n",
    "        aboutme = []\n",
    "        n = int(input(\"Enter no of lines : \"))\n",
    "        for x in range(1,n+1):\n",
    "            am = input(f'write{x} : ')\n",
    "            aboutme.append(am)\n",
    "        for i in aboutmet:\n",
    "            fname.write(i)\n",
    "            fname.write('\\n')\n",
    "            file.close()\n",
    "\n",
    "\n",
    "name = input(\"Enter file name : \")\n",
    "z = '.txt'\n",
    "\n",
    "object = file(name) \n",
    "object.write()\n",
    "        \n",
    "        "
   ]
  },
  {
   "cell_type": "code",
   "execution_count": 8,
   "id": "83c60930-0e4c-43c2-8c06-c9bd7b9c6609",
   "metadata": {},
   "outputs": [
    {
     "name": "stdin",
     "output_type": "stream",
     "text": [
      "Enter file name :  rupali\n"
     ]
    },
    {
     "name": "stdout",
     "output_type": "stream",
     "text": [
      "\n",
      "Select option:\n",
      "                \n",
      "1.Create/Write file\n",
      "                \n",
      "2.read file\n",
      "                \n",
      ".exit\n"
     ]
    },
    {
     "name": "stdin",
     "output_type": "stream",
     "text": [
      "enter an option 1\n"
     ]
    },
    {
     "name": "stdout",
     "output_type": "stream",
     "text": [
      "\n",
      "\n"
     ]
    },
    {
     "name": "stdin",
     "output_type": "stream",
     "text": [
      "line no 2\n",
      "text here 1 :  hsbdj\n",
      "text here 2 :  wkhdg\n"
     ]
    },
    {
     "name": "stdout",
     "output_type": "stream",
     "text": [
      "\n",
      "Select option:\n",
      "                \n",
      "1.Create/Write file\n",
      "                \n",
      "2.read file\n",
      "                \n",
      ".exit\n"
     ]
    },
    {
     "name": "stdin",
     "output_type": "stream",
     "text": [
      "enter an option 2\n"
     ]
    },
    {
     "name": "stdout",
     "output_type": "stream",
     "text": [
      "\n",
      "\n",
      "hsbdj\n",
      "wkhdg\n",
      "\n",
      "\n",
      "Select option:\n",
      "                \n",
      "1.Create/Write file\n",
      "                \n",
      "2.read file\n",
      "                \n",
      ".exit\n"
     ]
    },
    {
     "name": "stdin",
     "output_type": "stream",
     "text": [
      "enter an option 3\n"
     ]
    },
    {
     "name": "stdout",
     "output_type": "stream",
     "text": [
      "\n",
      "\n",
      "Thanks come again\n"
     ]
    }
   ],
   "source": [
    "#writing file using file handling and oops \n",
    "\n",
    "class writing:\n",
    "    def __init__(self,name):\n",
    "        self.name = name\n",
    "    def writer(self):\n",
    "        n = int(input(\"line no\"))\n",
    "        with open(self.name,'w') as f:\n",
    "            for i in range(1,n+1):\n",
    "                s = input(f'text here {i} : ')\n",
    "                f.write(s)\n",
    "                f.write('\\n')\n",
    "\n",
    "    def read(self):\n",
    "        with open(self.name,'r') as f:\n",
    "            content = f.read()\n",
    "            print(content)\n",
    "\n",
    "    def prompter(self):\n",
    "        while True:\n",
    "            try:\n",
    "                print('''\\nSelect option:\n",
    "                \\n1.Create/Write file\n",
    "                \\n2.read file\n",
    "                \\n.exit''')\n",
    "\n",
    "                opt=int(input('enter an option'))\n",
    "                print('\\n')\n",
    "            except:\n",
    "                print('Invalid option')\n",
    "            else:\n",
    "                if opt==1:\n",
    "                    writing.writer(self)\n",
    "                elif opt==2:\n",
    "                    writing.read(self)\n",
    "                elif opt==3:\n",
    "                    print(\"Thanks come again\")\n",
    "                    break\n",
    "name = input(\"Enter file name : \")\n",
    "z = '.txt'\n",
    "name = name+z\n",
    "\n",
    "val = writing(name)\n",
    "val.prompter()\n",
    "\n",
    "    "
   ]
  },
  {
   "cell_type": "code",
   "execution_count": null,
   "id": "c904e385-d9e0-4f02-b679-95e2c1cdea15",
   "metadata": {},
   "outputs": [],
   "source": []
  }
 ],
 "metadata": {
  "kernelspec": {
   "display_name": "Python 3 (ipykernel)",
   "language": "python",
   "name": "python3"
  },
  "language_info": {
   "codemirror_mode": {
    "name": "ipython",
    "version": 3
   },
   "file_extension": ".py",
   "mimetype": "text/x-python",
   "name": "python",
   "nbconvert_exporter": "python",
   "pygments_lexer": "ipython3",
   "version": "3.12.2"
  }
 },
 "nbformat": 4,
 "nbformat_minor": 5
}
