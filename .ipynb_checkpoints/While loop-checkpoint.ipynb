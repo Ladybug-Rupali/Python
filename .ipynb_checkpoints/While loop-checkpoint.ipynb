{
 "cells": [
  {
   "cell_type": "code",
   "execution_count": 1,
   "id": "3a5dbc85-2508-4783-bfdc-2893eaf1a5d3",
   "metadata": {},
   "outputs": [
    {
     "name": "stdout",
     "output_type": "stream",
     "text": [
      "2005,2006,2007,2008,2009,2010,"
     ]
    }
   ],
   "source": [
    "x = 2005\n",
    "\n",
    "while x<=2010:\n",
    "    print(x, end=',') \n",
    "    x+=1"
   ]
  },
  {
   "cell_type": "code",
   "execution_count": 2,
   "id": "c778a603-0c10-4600-83e9-1c6bde4cc2fd",
   "metadata": {},
   "outputs": [
    {
     "name": "stdin",
     "output_type": "stream",
     "text": [
      "Enter table number :  34\n"
     ]
    },
    {
     "name": "stdout",
     "output_type": "stream",
     "text": [
      "34 X 1 = 34\n",
      "34 X 2 = 68\n",
      "34 X 3 = 102\n",
      "34 X 4 = 136\n",
      "34 X 5 = 170\n",
      "34 X 6 = 204\n",
      "34 X 7 = 238\n",
      "34 X 8 = 272\n",
      "34 X 9 = 306\n",
      "34 X 10 = 340\n"
     ]
    }
   ],
   "source": [
    "i = 1\n",
    "n = int(input(\"Enter table number : \"))\n",
    "while i<=10:\n",
    "    print(n,\"X\",i,\"=\",i*n)\n",
    "    i=i+1"
   ]
  },
  {
   "cell_type": "code",
   "execution_count": 5,
   "id": "9e2bbaaf-928a-4f63-b34b-bea1f7748746",
   "metadata": {},
   "outputs": [
    {
     "name": "stdin",
     "output_type": "stream",
     "text": [
      "Multiplication using value? :  2\n"
     ]
    },
    {
     "name": "stdout",
     "output_type": "stream",
     "text": [
      "2  *  1  =  2 \n",
      "\n",
      "2  *  2  =  4 \n",
      "\n",
      "\n",
      "\n",
      "3  *  1  =  3 \n",
      "\n",
      "3  *  2  =  6 \n",
      "\n",
      "3  *  3  =  9 \n",
      "\n",
      "\n",
      "\n",
      "4  *  1  =  4 \n",
      "\n",
      "4  *  2  =  8 \n",
      "\n",
      "4  *  3  =  12 \n",
      "\n",
      "4  *  4  =  16 \n",
      "\n",
      "\n",
      "\n",
      "5  *  1  =  5 \n",
      "\n",
      "5  *  2  =  10 \n",
      "\n",
      "5  *  3  =  15 \n",
      "\n",
      "5  *  4  =  20 \n",
      "\n",
      "5  *  5  =  25 \n",
      "\n",
      "\n",
      "\n",
      "6  *  1  =  6 \n",
      "\n",
      "6  *  2  =  12 \n",
      "\n",
      "6  *  3  =  18 \n",
      "\n",
      "6  *  4  =  24 \n",
      "\n",
      "6  *  5  =  30 \n",
      "\n",
      "6  *  6  =  36 \n",
      "\n",
      "\n",
      "\n",
      "7  *  1  =  7 \n",
      "\n",
      "7  *  2  =  14 \n",
      "\n",
      "7  *  3  =  21 \n",
      "\n",
      "7  *  4  =  28 \n",
      "\n",
      "7  *  5  =  35 \n",
      "\n",
      "7  *  6  =  42 \n",
      "\n",
      "7  *  7  =  49 \n",
      "\n",
      "\n",
      "\n",
      "8  *  1  =  8 \n",
      "\n",
      "8  *  2  =  16 \n",
      "\n",
      "8  *  3  =  24 \n",
      "\n",
      "8  *  4  =  32 \n",
      "\n",
      "8  *  5  =  40 \n",
      "\n",
      "8  *  6  =  48 \n",
      "\n",
      "8  *  7  =  56 \n",
      "\n",
      "8  *  8  =  64 \n",
      "\n",
      "\n",
      "\n",
      "9  *  1  =  9 \n",
      "\n",
      "9  *  2  =  18 \n",
      "\n",
      "9  *  3  =  27 \n",
      "\n",
      "9  *  4  =  36 \n",
      "\n",
      "9  *  5  =  45 \n",
      "\n",
      "9  *  6  =  54 \n",
      "\n",
      "9  *  7  =  63 \n",
      "\n",
      "9  *  8  =  72 \n",
      "\n",
      "9  *  9  =  81 \n",
      "\n",
      "\n",
      "\n",
      "10  *  1  =  10 \n",
      "\n",
      "10  *  2  =  20 \n",
      "\n",
      "10  *  3  =  30 \n",
      "\n",
      "10  *  4  =  40 \n",
      "\n",
      "10  *  5  =  50 \n",
      "\n",
      "10  *  6  =  60 \n",
      "\n",
      "10  *  7  =  70 \n",
      "\n",
      "10  *  8  =  80 \n",
      "\n",
      "10  *  9  =  90 \n",
      "\n",
      "10  *  10  =  100 \n",
      "\n",
      "\n",
      "\n"
     ]
    }
   ],
   "source": [
    "#How to write two tables at once using while loop\n",
    "num = int(input(\"Multiplication using value? : \"))\n",
    " \n",
    "while num <= 10:\n",
    "    i = 1\n",
    "    while i <= num:\n",
    "        product = num*i\n",
    "        print(num, \" * \", i, \" = \", product, \"\\n\")\n",
    "        i = i + 1\n",
    "    print(\"\\n\")\n",
    "    num = num + 1"
   ]
  },
  {
   "cell_type": "markdown",
   "id": "ef37aaad-8fb5-444f-b5af-2463262e0094",
   "metadata": {},
   "source": [
    "# Break in While"
   ]
  },
  {
   "cell_type": "code",
   "execution_count": 2,
   "id": "ba1ba26e-799a-4ccd-838d-66549dde9bc7",
   "metadata": {},
   "outputs": [
    {
     "name": "stdout",
     "output_type": "stream",
     "text": [
      "1\n",
      "2\n",
      "3\n",
      "4\n"
     ]
    }
   ],
   "source": [
    "i = 1 \n",
    "while i<=10:\n",
    "    print(i)\n",
    "    i+=1\n",
    "    if i == 5:\n",
    "        break\n",
    "        "
   ]
  },
  {
   "cell_type": "code",
   "execution_count": 7,
   "id": "99df0eb1-3e8b-4fcf-81e0-871ded1ab035",
   "metadata": {},
   "outputs": [
    {
     "name": "stdout",
     "output_type": "stream",
     "text": [
      "1\n",
      "2\n",
      "3\n",
      "4\n",
      "6\n",
      "7\n",
      "8\n",
      "9\n",
      "10\n",
      "11\n"
     ]
    }
   ],
   "source": [
    "i = 0\n",
    "while i<=10:\n",
    "    i+=1\n",
    "    if i == 5:\n",
    "        continue\n",
    "    print(i)\n",
    "    "
   ]
  },
  {
   "cell_type": "code",
   "execution_count": null,
   "id": "ab2aab8c-94ba-4042-a21a-4d549cf0ce22",
   "metadata": {},
   "outputs": [],
   "source": []
  },
  {
   "cell_type": "code",
   "execution_count": 39,
   "id": "7e3f1df0-d747-4389-a4e6-9262f324b3cb",
   "metadata": {},
   "outputs": [
    {
     "name": "stdout",
     "output_type": "stream",
     "text": [
      "2\n",
      "3\n",
      "4\n",
      "6\n",
      "7\n",
      "8\n",
      "9\n",
      "10\n",
      "11\n"
     ]
    }
   ],
   "source": [
    "i = 1\n",
    "while i<=10:\n",
    "    i+=1\n",
    "    if i == 5:\n",
    "        continue\n",
    "    print(i)"
   ]
  },
  {
   "cell_type": "code",
   "execution_count": 54,
   "id": "e19dd098-7d4b-463c-85a6-4480ed1d13a1",
   "metadata": {},
   "outputs": [
    {
     "name": "stdout",
     "output_type": "stream",
     "text": [
      "110\n"
     ]
    }
   ],
   "source": [
    "#Write a Python program to print the sum of 10 even numbers using a while loop.\n",
    "\n",
    "sum = 0\n",
    "num=2\n",
    "while num<=20:\n",
    "    sum=sum+num\n",
    "    num=num+2\n",
    "print(sum)"
   ]
  },
  {
   "cell_type": "code",
   "execution_count": 57,
   "id": "84a2e6fd-db20-4329-b1df-1d402f047a43",
   "metadata": {},
   "outputs": [
    {
     "name": "stdout",
     "output_type": "stream",
     "text": [
      "110\n"
     ]
    }
   ],
   "source": [
    "#Write a Python program to print the sum of 10 even numbers using a while loop.\n",
    "i = 0\n",
    "sum = 0\n",
    "while (i<=20):\n",
    "    if i % 2 == 0:\n",
    "        sum += i\n",
    "    i += 2\n",
    "print(sum)"
   ]
  },
  {
   "cell_type": "code",
   "execution_count": null,
   "id": "34754624-97ea-414e-bb7d-d44f178c3953",
   "metadata": {},
   "outputs": [],
   "source": [
    "#Write a Python program to print all even numbers between user input"
   ]
  },
  {
   "cell_type": "code",
   "execution_count": 65,
   "id": "eaa4846e-727a-4c9f-928c-6e1b9679291c",
   "metadata": {},
   "outputs": [
    {
     "name": "stdin",
     "output_type": "stream",
     "text": [
      "Enter a number:  20\n"
     ]
    },
    {
     "name": "stdout",
     "output_type": "stream",
     "text": [
      "0\n",
      "2\n",
      "4\n",
      "6\n",
      "8\n",
      "10\n",
      "12\n",
      "14\n",
      "16\n",
      "18\n",
      "20\n",
      "Sum of all even numbers is110\n"
     ]
    }
   ],
   "source": [
    "num = int(input('Enter a number: '))\n",
    "i = 0\n",
    "sum = 0\n",
    "while i <= num:\n",
    "    if i % 2 == 0:\n",
    "        print(i)\n",
    "        sum+=i\n",
    "    i+=1\n",
    "print(F\"Sum of all even numbers is{sum}\")"
   ]
  },
  {
   "cell_type": "code",
   "execution_count": 5,
   "id": "f3346542-8929-4aff-bbb8-a0ab008afb60",
   "metadata": {},
   "outputs": [
    {
     "name": "stdin",
     "output_type": "stream",
     "text": [
      "Enter the start of range:  10\n",
      "Enter the end of range:  20\n"
     ]
    },
    {
     "name": "stdout",
     "output_type": "stream",
     "text": [
      "\n",
      "\n",
      "10,12,14,16,18,20,\n",
      "\n",
      "Sum of all even numbers is:90\n"
     ]
    }
   ],
   "source": [
    "#Sum of all even numbers between range: using while loop:\n",
    "\n",
    "i= int(input(\"Enter the start of range: \"))\n",
    "j= int(input(\"Enter the end of range: \"))\n",
    "print('\\n')\n",
    "\n",
    "sum = 0\n",
    "while (i<=j):\n",
    "    if i % 2 ==0:\n",
    "        print(i,end=',')\n",
    "      \n",
    "        sum+=i\n",
    "    i+=1\n",
    "print('\\n')\n",
    "print(F\"Sum of all even numbers is:{sum}\")"
   ]
  },
  {
   "cell_type": "code",
   "execution_count": 68,
   "id": "817013f4-9813-4334-a98b-302a5e627ce6",
   "metadata": {},
   "outputs": [
    {
     "name": "stdin",
     "output_type": "stream",
     "text": [
      "Enter the digits 1090\n"
     ]
    },
    {
     "name": "stdout",
     "output_type": "stream",
     "text": [
      "0\n",
      "9\n",
      "9\n",
      "10\n"
     ]
    }
   ],
   "source": [
    "# Sum of all digit \n",
    "\n",
    "n = int(input(\"Enter the digits\"))\n",
    "sum = 0\n",
    "while (n != 0):\n",
    "   \n",
    "    sum = sum + (n % 10)\n",
    "    n = n//10\n",
    "    print(sum)\n"
   ]
  },
  {
   "cell_type": "code",
   "execution_count": 77,
   "id": "a3de1a8e-fa22-4c47-9af2-4705bd9f88cd",
   "metadata": {},
   "outputs": [
    {
     "name": "stdin",
     "output_type": "stream",
     "text": [
      "Please Enter any Number:  89\n"
     ]
    },
    {
     "name": "stdout",
     "output_type": "stream",
     "text": [
      "\n",
      " Sum of the digits of Given Number = 17\n"
     ]
    }
   ],
   "source": [
    "Num = int(input(\"Please Enter any Number: \"))\n",
    "Sum = 0\n",
    "\n",
    "while(Num > 0):\n",
    "    Remainder = Num % 10\n",
    "    Sum = Sum + Remainder\n",
    "    Num = Num //10\n",
    "\n",
    "print(\"\\n Sum of the digits of Given Number = %d\" %Sum)"
   ]
  },
  {
   "cell_type": "code",
   "execution_count": 78,
   "id": "b4370b35-7c46-4513-8377-9308e0c87d3d",
   "metadata": {},
   "outputs": [
    {
     "name": "stdin",
     "output_type": "stream",
     "text": [
      "Enter any number: 99\n"
     ]
    },
    {
     "name": "stdout",
     "output_type": "stream",
     "text": [
      "0\n"
     ]
    }
   ],
   "source": [
    "n = int(input(\"Enter any number:\"))\n",
    "sum = 0\n",
    "while ( n > 0 ):\n",
    "    R = n % 10\n",
    "    Sum = sum + R\n",
    "    n = n // 10\n",
    "print(sum)"
   ]
  },
  {
   "cell_type": "code",
   "execution_count": 16,
   "id": "285c8d04-c845-4e60-b5c2-0d0ad4123126",
   "metadata": {},
   "outputs": [
    {
     "name": "stdin",
     "output_type": "stream",
     "text": [
      "Enter numbers without comma :  7575\n"
     ]
    },
    {
     "name": "stdout",
     "output_type": "stream",
     "text": [
      "Total number of digits :  4\n"
     ]
    }
   ],
   "source": [
    "#Write a program to print total number of digits in name using while loop\n",
    "\n",
    "n = int(input(\"Enter numbers without comma : \"))\n",
    "num = 0 \n",
    "while n > 0:\n",
    "    num +=1\n",
    "    n = n//10\n",
    "print(\"Total number of digits : \",num)"
   ]
  },
  {
   "cell_type": "code",
   "execution_count": 20,
   "id": "d27a02b7-8620-49a2-8b24-066323f55422",
   "metadata": {},
   "outputs": [
    {
     "name": "stdin",
     "output_type": "stream",
     "text": [
      "Enter numbers without comma :  273927\n"
     ]
    },
    {
     "name": "stdout",
     "output_type": "stream",
     "text": [
      "['2', '7', '3', '9', '2', '7']\n",
      "Sum of digits is : 30\n"
     ]
    }
   ],
   "source": [
    "# 10. Write a program to find the sum of the digits of a number accepted from the user.\n",
    "\n",
    "n = (input(\"Enter numbers without comma : \"))\n",
    "x = []\n",
    "x.extend(n)\n",
    "print(x)\n",
    "num = 0\n",
    "while num < len(x):\n",
    "    for i in x:\n",
    "        num+=int(i)\n",
    "    print('Sum of digits is :',num)\n",
    "   "
   ]
  },
  {
   "cell_type": "code",
   "execution_count": 32,
   "id": "094d8a6e-787a-4e99-a4c1-f7d143868d89",
   "metadata": {},
   "outputs": [
    {
     "name": "stdin",
     "output_type": "stream",
     "text": [
      "Enter any number :  7\n",
      "Enter any number :  8\n",
      "Enter any number :  8\n",
      "Enter any number :  0\n"
     ]
    },
    {
     "name": "stdout",
     "output_type": "stream",
     "text": [
      "[7, 8, 8, 0]\n",
      "Sum of list is :  23\n",
      "Average of list is :  5.75\n"
     ]
    }
   ],
   "source": [
    "#WAP that keeps on accepting input from user until entered zero\n",
    "#Dislpay sum and avg of all the numbers\n",
    "\n",
    "list = []\n",
    "while True:\n",
    "    n = int(input(\"Enter any number : \"))\n",
    "    list.append(n)\n",
    "    if n==0:\n",
    "        break\n",
    "print(list)\n",
    "print(\"Sum of list is : \",sum(list))\n",
    "print(\"Average of list is : \",sum(list)/len(list))"
   ]
  },
  {
   "cell_type": "code",
   "execution_count": 8,
   "id": "f25382d1-fbd3-4392-ad93-cb99e10ba180",
   "metadata": {},
   "outputs": [
    {
     "ename": "TypeError",
     "evalue": "'int' object is not callable",
     "output_type": "error",
     "traceback": [
      "\u001b[1;31m---------------------------------------------------------------------------\u001b[0m",
      "\u001b[1;31mTypeError\u001b[0m                                 Traceback (most recent call last)",
      "Cell \u001b[1;32mIn[8], line 13\u001b[0m\n\u001b[0;32m     11\u001b[0m         \u001b[38;5;28;01mbreak\u001b[39;00m\n\u001b[0;32m     12\u001b[0m     i\u001b[38;5;241m+\u001b[39m\u001b[38;5;241m=\u001b[39m\u001b[38;5;241m1\u001b[39m\n\u001b[1;32m---> 13\u001b[0m \u001b[38;5;28mprint\u001b[39m(\u001b[38;5;28;43msum\u001b[39;49m\u001b[43m(\u001b[49m\u001b[43modd\u001b[49m\u001b[43m)\u001b[49m)\n\u001b[0;32m     14\u001b[0m \u001b[38;5;28mprint\u001b[39m(\u001b[38;5;124m\"\u001b[39m\u001b[38;5;124mList of odd numbers : \u001b[39m\u001b[38;5;124m\"\u001b[39m,odd)\n\u001b[0;32m     15\u001b[0m \u001b[38;5;28mprint\u001b[39m(\u001b[38;5;124m\"\u001b[39m\u001b[38;5;124mAverage of add numbers : \u001b[39m\u001b[38;5;124m\"\u001b[39m,\u001b[38;5;28mlen\u001b[39m(odd))\n",
      "\u001b[1;31mTypeError\u001b[0m: 'int' object is not callable"
     ]
    }
   ],
   "source": [
    "#WAP to find first 25 odd numbers ? fid their sum,avg and total length.\n",
    "\n",
    "num = 0\n",
    "i = 1\n",
    "odd = []\n",
    "while True:\n",
    "    if i % 2 != 0:\n",
    "        odd.append(i)\n",
    "        num+=1\n",
    "    if num==25:\n",
    "        break\n",
    "    i+=1\n",
    "\n",
    "print(\"List of odd numbers : \",odd)\n",
    "print(\"Average of add numbers : \",len(odd))"
   ]
  },
  {
   "cell_type": "code",
   "execution_count": 7,
   "id": "a976e42a-a888-40b7-9d7a-1a22703c9dca",
   "metadata": {},
   "outputs": [
    {
     "name": "stdin",
     "output_type": "stream",
     "text": [
      "Enter the number of elements :  3\n",
      "Enter the numbers1 -8\n",
      "Enter the numbers2 9\n",
      "Enter the numbers3 -8\n"
     ]
    },
    {
     "name": "stdout",
     "output_type": "stream",
     "text": [
      "List is :  [-8, 9, -8]\n",
      "\n",
      "----------------------------------------------------/n\n",
      "Positive list is :  [9]\n",
      "Sum of positives 9\n",
      "Length of positives 1\n",
      "Average of positives 9.0\n",
      "\n",
      "----------------------------------------------------/n\n",
      "Negative list is :  [-8, -8]\n",
      "Sum of negatives -16\n",
      "Length of negatives 2\n",
      "Average of negatives -8.0\n"
     ]
    }
   ],
   "source": [
    "#WAP to print sum,average,and length of positive and negative numbers in range.\n",
    "\n",
    "user1= int(input(\"Enter the number of elements : \"))\n",
    "list = []\n",
    "positive = []\n",
    "negative = []\n",
    "i = 1\n",
    "while i<=user1:\n",
    "    user2 = int(input(f\"Enter the numbers{i}\"))\n",
    "    i+=1\n",
    "    list.append(user2)\n",
    "    if user2 > 0:\n",
    "        positive.append(user2)\n",
    "    else:\n",
    "        negative.append(user2)\n",
    "print(\"List is : \",list)\n",
    "print(\"\\n----------------------------------------------------\")\n",
    "print(\"Positive list is : \",positive)\n",
    "print(\"Sum of positives\",sum(positive))\n",
    "print(\"Length of positives\",len(positive))\n",
    "print(\"Average of positives\",sum(positive)/len(positive))\n",
    "print(\"\\n----------------------------------------------------\")\n",
    "print(\"Negative list is : \",negative)\n",
    "print(\"Sum of negatives\",sum(negative))\n",
    "print(\"Length of negatives\",len(negative))\n",
    "print(\"Average of negatives\",sum(negative)/len(negative))\n"
   ]
  },
  {
   "cell_type": "code",
   "execution_count": 12,
   "id": "e1111e65-278f-41ae-afb9-d9be40adc079",
   "metadata": {},
   "outputs": [
    {
     "name": "stdin",
     "output_type": "stream",
     "text": [
      "Enter the number of elements :  3\n",
      "Enter the numbers1 2\n",
      "Enter the numbers2 2\n",
      "Enter the numbers3 2\n"
     ]
    },
    {
     "name": "stdout",
     "output_type": "stream",
     "text": [
      "\n",
      "----------------------------------------------------\n",
      "List is :  [2, 2, 2]\n",
      "\n",
      "----------------------------------------------------\n",
      "Positive list is :  [2, 2, 2]\n",
      "Sum of positives :  6\n",
      "Length of positives :  3\n",
      "Average of positives :  2.0\n",
      "\n",
      "----------------------------------------------------\n",
      "Negative list is :  []\n",
      "Sum of negatives :  0\n",
      "Length of negatives :  0\n"
     ]
    },
    {
     "ename": "ZeroDivisionError",
     "evalue": "division by zero",
     "output_type": "error",
     "traceback": [
      "\u001b[1;31m---------------------------------------------------------------------------\u001b[0m",
      "\u001b[1;31mZeroDivisionError\u001b[0m                         Traceback (most recent call last)",
      "Cell \u001b[1;32mIn[12], line 31\u001b[0m\n\u001b[0;32m     29\u001b[0m \u001b[38;5;28mprint\u001b[39m(\u001b[38;5;124m\"\u001b[39m\u001b[38;5;124mSum of negatives : \u001b[39m\u001b[38;5;124m\"\u001b[39m,sum2)\n\u001b[0;32m     30\u001b[0m \u001b[38;5;28mprint\u001b[39m(\u001b[38;5;124m\"\u001b[39m\u001b[38;5;124mLength of negatives : \u001b[39m\u001b[38;5;124m\"\u001b[39m,\u001b[38;5;28mlen\u001b[39m(negative))\n\u001b[1;32m---> 31\u001b[0m \u001b[38;5;28mprint\u001b[39m(\u001b[38;5;124m\"\u001b[39m\u001b[38;5;124mAverage of negatives : \u001b[39m\u001b[38;5;124m\"\u001b[39m,\u001b[43msum2\u001b[49m\u001b[38;5;241;43m/\u001b[39;49m\u001b[38;5;28;43mlen\u001b[39;49m\u001b[43m(\u001b[49m\u001b[43mnegative\u001b[49m\u001b[43m)\u001b[49m)\n",
      "\u001b[1;31mZeroDivisionError\u001b[0m: division by zero"
     ]
    }
   ],
   "source": [
    "#WAP to print sum, average, and length of positive and negative numbers in range.\n",
    "\n",
    "user1= int(input(\"Enter the number of elements : \"))\n",
    "list = []\n",
    "positive = []\n",
    "negative = []\n",
    "i = 1\n",
    "sum1 = 0\n",
    "sum2 = 0\n",
    "while i<=user1:\n",
    "    user2 = int(input(f\"Enter the numbers{i}\"))\n",
    "    i+=1\n",
    "    list.append(user2)\n",
    "    if user2 > 0:\n",
    "        sum1+=user2\n",
    "        positive.append(user2)\n",
    "    else:\n",
    "        sum2+=user2\n",
    "        negative.append(user2)\n",
    "print(\"\\n----------------------------------------------------\")\n",
    "print(\"List is : \",list)\n",
    "print(\"\\n----------------------------------------------------\")\n",
    "print(\"Positive list is : \",positive)\n",
    "print(\"Sum of positives : \",sum1)\n",
    "print(\"Length of positives : \",len(positive))\n",
    "print(\"Average of positives : \",sum1/len(positive))\n",
    "print(\"\\n----------------------------------------------------\")\n",
    "print(\"Negative list is : \",negative)\n",
    "print(\"Sum of negatives : \",sum2)\n",
    "print(\"Length of negatives : \",len(negative))\n",
    "print(\"Average of negatives : \",sum2/len(negative))\n"
   ]
  },
  {
   "cell_type": "code",
   "execution_count": null,
   "id": "c9bdb6df-a362-400a-9ab3-3bcb4ed77a32",
   "metadata": {},
   "outputs": [],
   "source": [
    "#WAP that takes a year as input and check if it is leap year or not.abs\n",
    "\n",
    "year = int(input(\"Enter any year : \"))\n",
    "\n",
    "while True:\n",
    "    if year % 4 ==0:\n",
    "print(f\"The given year - {year} is an leap year\")\n",
    "    else:\n",
    "print(f\"The given year - {year} is an leap year\")\n",
    "        "
   ]
  },
  {
   "cell_type": "code",
   "execution_count": null,
   "id": "9f42439b-4ce1-4aa5-8898-a42bd5af011b",
   "metadata": {},
   "outputs": [],
   "source": [
    "num = 0\n",
    "i = 1\n",
    "odd = []\n",
    "while True:\n",
    "    if i % 2 != 0:\n",
    "        odd.append(i)\n",
    "        num+=1\n",
    "    if num==25:\n",
    "        break\n",
    "    i+=1\n",
    "print(\"List of odd numbers : \",odd)\n",
    "print(\"Average of add numbers : \",sum(odd)/len(odd))"
   ]
  },
  {
   "cell_type": "code",
   "execution_count": null,
   "id": "e2fcc476-7d76-4178-b976-f3bd6d12d7bf",
   "metadata": {},
   "outputs": [],
   "source": [
    "#WAP that takes a year as input and check if it is leap year or not.abs\n",
    "\n",
    "year = int(input(\"Enter any year : \"))\n",
    "\n",
    "while True:\n",
    "    if year % 400 ==0 or year % 100 != 0 and year % 4 ==0:\n",
    "        print(f\"The given year - {year} is an leap year\")\n",
    "        break\n",
    "    else:\n",
    "        print(f\"The given year - {year} is an leap year\")\n",
    "        break\n",
    "        "
   ]
  },
  {
   "cell_type": "code",
   "execution_count": 14,
   "id": "5f1d94de-c762-4051-b234-be81890f71f9",
   "metadata": {},
   "outputs": [
    {
     "name": "stdin",
     "output_type": "stream",
     "text": [
      "Enter a Number 11\n"
     ]
    },
    {
     "name": "stdout",
     "output_type": "stream",
     "text": [
      "not prime\n"
     ]
    }
   ],
   "source": [
    "#WAP to check if a given number is prime or not :\n",
    "\n",
    "num=int(input('Enter a Number'))\n",
    "i = 2\n",
    "n = 0\n",
    "while i <= num:\n",
    "    if num % i == 0:\n",
    "        \n",
    "        print(\"not prime\")\n",
    "    break\n",
    "    i+=1\n",
    "    if n == 2:\n",
    "        print(num,\" is a prime number\")\n",
    "    else:\n",
    "        print(num,\" is not a prime number\")"
   ]
  },
  {
   "cell_type": "code",
   "execution_count": 21,
   "id": "8ae1969f-c3ee-40c1-af16-ddc502e59440",
   "metadata": {},
   "outputs": [
    {
     "name": "stdin",
     "output_type": "stream",
     "text": [
      "Enter list of elements want to enter : 2\n",
      "Enter name1 :  a\n",
      "Enter name2 :  e\n"
     ]
    },
    {
     "name": "stdout",
     "output_type": "stream",
     "text": [
      "['a', 'a']\n"
     ]
    }
   ],
   "source": [
    "#Given a list of names print all names starting with letter 'A':\n",
    "\n",
    "\n",
    "num = int(input(\"Enter list of elements want to enter :\"))\n",
    "i=1\n",
    "letter = 'A'\n",
    "new_list =[]\n",
    "list = []\n",
    "while i <= num:\n",
    "    y = input(f\"Enter name{i} : \")\n",
    "    list.append(y)\n",
    "    i+=1\n",
    "  \n",
    "\n",
    "    for x in list:\n",
    "        if x[0].lower()==letter.lower():\n",
    "            new_list.append(x)\n",
    "print(new_list)\n",
    "\n",
    "        \n",
    "    \n"
   ]
  },
  {
   "cell_type": "code",
   "execution_count": null,
   "id": "1c159ecb-52dc-4b97-9c06-e1d853fa71aa",
   "metadata": {},
   "outputs": [],
   "source": [
    "#WAP to calculate factorial of number:\n",
    "\n",
    "num = int(input(\"Enter any number : \"))\n",
    "\n",
    "i = 1\n",
    "f = 1\n",
    "while i<=num:\n",
    "    f = f*i\n",
    "    i+=1\n",
    "print(f\"Factorial of {num} is : \",f)"
   ]
  },
  {
   "cell_type": "code",
   "execution_count": null,
   "id": "cc26d6a5-5bed-4c6e-913c-9c8a191c7c5e",
   "metadata": {},
   "outputs": [],
   "source": [
    "#Write a program to print all prime numbers between 1 to 50:\n",
    "\n",
    "# Python program to display all the prime numbers within an interval\n",
    "\n",
    "\n",
    "for num in range(1, 51):\n",
    "   if num > 1:\n",
    "       for i in range(2, num):\n",
    "           if (num % i) == 0:\n",
    "               break\n",
    "       else:\n",
    "           print(num)"
   ]
  },
  {
   "cell_type": "code",
   "execution_count": null,
   "id": "2f68748d-4eda-486b-93e1-9fc70543445b",
   "metadata": {},
   "outputs": [],
   "source": [
    "user1= int(input(\"Enter the number of elements : \"))\n",
    "list = []\n",
    "positive = []\n",
    "negative = []\n",
    "i = 1\n",
    "sum1 = 0\n",
    "sum2 = 0\n",
    "while i<=user1:\n",
    "    user2 = int(input(f\"Enter the numbers{i}\"))\n",
    "    i+=1"
   ]
  },
  {
   "cell_type": "code",
   "execution_count": null,
   "id": "0593c4ec-44f5-4016-8f41-e975c5ea7e62",
   "metadata": {},
   "outputs": [],
   "source": [
    "i=int(input('Enter Year:'))\n",
    "while True:\n",
    "    if i%4==0:\n",
    "        print(' YES,')\n",
    "        break\n",
    "    else:\n",
    "        print('NO')\n",
    "        break\n",
    "    print(i)\n",
    "    i+=1"
   ]
  },
  {
   "cell_type": "code",
   "execution_count": 1,
   "id": "09439383-bcee-4074-a35c-ac3550f0bd48",
   "metadata": {},
   "outputs": [
    {
     "name": "stdout",
     "output_type": "stream",
     "text": [
      "['welcome', 'congratulations']\n"
     ]
    }
   ],
   "source": [
    "#Given the list of names count the number of names having more than five characters.\n",
    "\n",
    "list = ['cat','welcome','congratulations','mate',]\n",
    "new=[]\n",
    "for i in list:\n",
    "    if len(i) > 5:\n",
    "        new.append(i)\n",
    "print(new)  \n",
    "\n"
   ]
  },
  {
   "cell_type": "code",
   "execution_count": 6,
   "id": "086a2ff7-5cee-4052-88ee-f99d3708326e",
   "metadata": {},
   "outputs": [
    {
     "name": "stdin",
     "output_type": "stream",
     "text": [
      "Enter first table 6\n",
      "Enter second table 8\n"
     ]
    },
    {
     "name": "stdout",
     "output_type": "stream",
     "text": [
      "Table 1\t\tTable 2\n",
      "----------------------\n",
      "2\t\t3\n",
      "4\t\t6\n",
      "6\t\t9\n",
      "8\t\t12\n",
      "10\t\t15\n",
      "12\t\t18\n",
      "14\t\t21\n",
      "16\t\t24\n",
      "18\t\t27\n",
      "20\t\t30\n"
     ]
    }
   ],
   "source": [
    "# Define the range for the tables\n",
    "start = 1\n",
    "end = 10\n",
    "\n",
    "# Initialize the iterator\n",
    "i = start\n",
    "\n",
    "t1 = input('Enter first table')\n",
    "t2 = input('Enter second table')\n",
    "# Print the headers for both tables\n",
    "print(\"Table 1\\t\\tTable 2\")\n",
    "print(\"----------------------\")\n",
    "\n",
    "# Use a while loop to print the tables simultaneously\n",
    "while i <= end:\n",
    "    # Calculate and print values for Table 1\n",
    "    table1_value = i * 2\n",
    "    # Calculate and print values for Table 2\n",
    "    table2_value = i * 3\n",
    "    # Print both values side by side\n",
    "    print(f\"{table1_value}\\t\\t{table2_value}\")\n",
    "    # Move to the next iteration\n",
    "    i += 1\n"
   ]
  },
  {
   "cell_type": "code",
   "execution_count": 9,
   "id": "c53e37dd-d0e8-41a2-a42a-a3b0d3b29c40",
   "metadata": {},
   "outputs": [
    {
     "name": "stdout",
     "output_type": "stream",
     "text": [
      "Words having more than five characters are : ['Google', 'Welcome', 'Pritam', 'Raspberry', 'Animal']\n"
     ]
    }
   ],
   "source": [
    "#Given the list of names count the number of names having more than five characters.\n",
    "\n",
    "list1 = ['Google','Yahoo','Welcome','John','Bob','Pritam','Raspberry','Cat','Animal','Mahi','Sonal']\n",
    "\n",
    "new_list = []\n",
    "for i in list1:\n",
    "    if len(i)>5:\n",
    "        new_list.append(i)\n",
    "print(\"Words having more than five characters are :\",new_list)"
   ]
  },
  {
   "cell_type": "code",
   "execution_count": null,
   "id": "471f706e-73df-41f7-a528-2e609bff314e",
   "metadata": {},
   "outputs": [],
   "source": [
    "#Given the list of names count the number of names having more than five characters.\n",
    "\n",
    "names = ['Google','Yahoo','Welcome','John','Bob','Pritam','Raspberry','Cat','Animal','Mahi','Sonal']\n",
    "\n",
    "i = 0\n",
    "list_2 = []\n",
    "while i>= len(names):\n",
    "    if len(names[i]) > 5:\n",
    "        list_2.append(names[i])\n",
    "        print(list_2)\n",
    "    i+=1\n"
   ]
  },
  {
   "cell_type": "code",
   "execution_count": null,
   "id": "49b1c34b-0d04-466b-a9ae-5c0706af7899",
   "metadata": {},
   "outputs": [],
   "source": [
    "#Given list of 10 names from user input, after that filter starting with 'b'\n",
    "\n",
    "\n",
    "\n",
    "# list_1 = []\n",
    "# for i in range(1,11):\n",
    "#     word = input(f\"Enter name{i}\")\n",
    "#     list_1.append(word)\n",
    "# print(list_1)\n",
    "\n",
    "\n",
    "# b_list = []\n",
    "# for words in list_1:\n",
    "#     if words.lower().startswith('b'):\n",
    "#         b_list.append(words)\n",
    "# print(\"Words starting with 'b' are: \",b_list)\n",
    "\n",
    "\n",
    "names = []\n",
    "b = []\n",
    "for i in range(1,3):\n",
    "    x = input(f\"Enter name {i}\")\n",
    "    names.append(x)\n",
    "    for y in names:\n",
    "        if y[0]==\"B\":\n",
    "            b.append(y)\n",
    "            \n",
    "  \n",
    "print(\"List of your names : \",names)\n",
    "print(b)\n",
    "\n"
   ]
  },
  {
   "cell_type": "code",
   "execution_count": 24,
   "id": "3bd8f623-a05a-4bd3-912b-d64259887f8a",
   "metadata": {},
   "outputs": [
    {
     "name": "stdout",
     "output_type": "stream",
     "text": [
      "Square of 1 is : 1.\n",
      "Square of 2 is : 4.\n",
      "Square of 3 is : 9.\n",
      "Square of 4 is : 16.\n",
      "Square of 5 is : 25.\n",
      "Square of 6 is : 36.\n",
      "Square of 7 is : 49.\n",
      "Square of 8 is : 64.\n",
      "Square of 9 is : 81.\n",
      "Square of 10 is : 100.\n"
     ]
    }
   ],
   "source": [
    "#Write a program to print first 10 integers and their squres using while loop:\n",
    "\n",
    "i = 1\n",
    "while i <=10:\n",
    "    square = i ** 2\n",
    "    print(f\"Square of {i} is : {square}.\")\n",
    "    i+=1"
   ]
  },
  {
   "cell_type": "code",
   "execution_count": 1,
   "id": "94c2bdf3-3e76-41c6-899b-cdeabf1dd3b0",
   "metadata": {},
   "outputs": [
    {
     "name": "stdout",
     "output_type": "stream",
     "text": [
      "10,20,30,40,50,60,70,80,90,100,110,120,130,140,150,160,170,180,190,200,210,220,230,240,250,260,270,280,290,300,"
     ]
    }
   ],
   "source": [
    "#Write while loop statement to print following seriess..EX:-[10,20,30,40...300]\n",
    "\n",
    "\n",
    "i = 10\n",
    "while i<=300:\n",
    "    num = i\n",
    "    print(num,end=',')\n",
    "    i+=10"
   ]
  },
  {
   "cell_type": "code",
   "execution_count": 15,
   "id": "8ac56442-403f-4e0f-93d5-93f4ade6872c",
   "metadata": {},
   "outputs": [],
   "source": [
    "#Wr8 a while loop statement to print series = list = [105,98,91,.........7]\n",
    "\n",
    "\n",
    "i = 105\n",
    "while i<=7:\n",
    "    num = i\n",
    "    i-=7\n",
    "    print(num,end=',')\n",
    "    \n",
    "    "
   ]
  },
  {
   "cell_type": "code",
   "execution_count": 33,
   "id": "0dd8ce18-446f-4d75-8595-b68b3b82ba9a",
   "metadata": {},
   "outputs": [
    {
     "name": "stdin",
     "output_type": "stream",
     "text": [
      "enter any number: 23746\n"
     ]
    },
    {
     "name": "stdout",
     "output_type": "stream",
     "text": [
      "['2', '3', '7', '4', '6']\n"
     ]
    },
    {
     "ename": "TypeError",
     "evalue": "int() argument must be a string, a bytes-like object or a real number, not 'list'",
     "output_type": "error",
     "traceback": [
      "\u001b[1;31m---------------------------------------------------------------------------\u001b[0m",
      "\u001b[1;31mTypeError\u001b[0m                                 Traceback (most recent call last)",
      "Cell \u001b[1;32mIn[33], line 13\u001b[0m\n\u001b[0;32m     11\u001b[0m \u001b[38;5;28;01mwhile\u001b[39;00m \u001b[38;5;28;01mTrue\u001b[39;00m:\n\u001b[0;32m     12\u001b[0m     \u001b[38;5;28;01mfor\u001b[39;00m key \u001b[38;5;129;01min\u001b[39;00m d1:\n\u001b[1;32m---> 13\u001b[0m         \u001b[38;5;28;01mif\u001b[39;00m key\u001b[38;5;241m==\u001b[39m\u001b[38;5;28;43mint\u001b[39;49m\u001b[43m(\u001b[49m\u001b[43mx\u001b[49m\u001b[43m)\u001b[49m:\n\u001b[0;32m     14\u001b[0m             \u001b[38;5;28mprint\u001b[39m(d1[key])\n",
      "\u001b[1;31mTypeError\u001b[0m: int() argument must be a string, a bytes-like object or a real number, not 'list'"
     ]
    }
   ],
   "source": [
    "#WAP to print names of numbers entered by user:\n",
    "\n",
    "d1 = {0:'zero',1:'one',2:'two',3:'three',4:'four',5:'five',6:'six',7:'seven',8:'eight',9:'nine'}\n",
    "\n",
    "s = (input('enter any number:'))\n",
    "x = []\n",
    "x.extend(s)\n",
    "print(x)\n",
    "\n",
    "\n",
    "while True:\n",
    "    for key in d1:\n",
    "        if key==int(x):\n",
    "            print(d1[key])\n",
    "           \n",
    "        \n",
    "\n",
    "\n",
    "\n",
    "\n"
   ]
  },
  {
   "cell_type": "code",
   "execution_count": 32,
   "id": "77bf6854-deee-4e82-961b-ec466204a3e5",
   "metadata": {},
   "outputs": [
    {
     "name": "stdin",
     "output_type": "stream",
     "text": [
      "Enter any number: 657\n"
     ]
    },
    {
     "name": "stdout",
     "output_type": "stream",
     "text": [
      "['6', '5', '7']\n",
      "Six Five Seven "
     ]
    }
   ],
   "source": [
    "# Write a program to display the number names of the digit of a number entered by the user, for example if the number is 231 \n",
    "# then output is Two Three One.\n",
    "\n",
    "# 3256  # Three Two  Five Six\n",
    "\n",
    "# dict={0:\"Zero\",1:\"One\",2:\"Two\",3:\"Three\",....................9}\n",
    "\n",
    "\n",
    "num1=input('Enter any number:')\n",
    "\n",
    "list1=list(num1)\n",
    "print(list1)\n",
    "\n",
    "dict1={0:'Zero',1:'One',2:'Two',3:'Three',4:\"Four\",5:'Five',6:'Six',7:'Seven',8:'Eight',9:'Nine'}\n",
    "i=0\n",
    "while i<len(list1):\n",
    "    print(dict1[int(list1[i])],end=' ')\n",
    "    i+=1\n"
   ]
  },
  {
   "cell_type": "code",
   "execution_count": null,
   "id": "64567add-34fb-463e-affe-8d313c552642",
   "metadata": {},
   "outputs": [],
   "source": [
    "#WAP to display numbers between 100 to 500 divisible by 13 but not 3;excluding 100 and 500 using while loop.\n",
    "\n",
    "\n",
    "\n",
    "\n",
    "a = 100+1\n",
    "while a < 500:\n",
    "    if a % 13 ==0 and a % 3!= 0:\n",
    "        a+=1\n",
    "        print(a)\n",
    "\n",
    "\n",
    "\n",
    "\n"
   ]
  },
  {
   "cell_type": "code",
   "execution_count": null,
   "id": "7a313703-8b1c-4d39-94f6-df60d3153280",
   "metadata": {},
   "outputs": [],
   "source": [
    "#Write a program to print following series till n terms 2,22,222,2222,22222,222222,........nth term:\n",
    "\n",
    "a = 2\n",
    "while True:\n",
    "    a=a*10+2\n",
    "    print(a)\n",
    "    "
   ]
  },
  {
   "cell_type": "code",
   "execution_count": null,
   "id": "c1b8e24e-8548-4f4f-b028-45ab3367a793",
   "metadata": {},
   "outputs": [],
   "source": [
    "#Write a program to print following series till n terms 1,4,9,16,25,....nth terms:\n",
    "\n",
    "\n",
    "a = 1\n",
    "\n",
    "while True:\n",
    "    a**2\n",
    "    a+=1\n",
    "    print(%automagic)"
   ]
  }
 ],
 "metadata": {
  "kernelspec": {
   "display_name": "Python 3 (ipykernel)",
   "language": "python",
   "name": "python3"
  },
  "language_info": {
   "codemirror_mode": {
    "name": "ipython",
    "version": 3
   },
   "file_extension": ".py",
   "mimetype": "text/x-python",
   "name": "python",
   "nbconvert_exporter": "python",
   "pygments_lexer": "ipython3",
   "version": "3.12.3"
  }
 },
 "nbformat": 4,
 "nbformat_minor": 5
}
