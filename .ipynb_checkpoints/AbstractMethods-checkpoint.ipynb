{
 "cells": [
  {
   "cell_type": "code",
   "execution_count": 5,
   "id": "7ea656b9-0002-4e67-b5d7-957cde55777e",
   "metadata": {},
   "outputs": [
    {
     "name": "stdin",
     "output_type": "stream",
     "text": [
      "Enter any string rupa\n"
     ]
    },
    {
     "name": "stdout",
     "output_type": "stream",
     "text": [
      "['r', 'u', 'p', 'a']\n",
      "['r']\n",
      "['r', 'u']\n",
      "['r', 'u', 'p']\n",
      "['r', 'u', 'p', 'a']\n"
     ]
    }
   ],
   "source": [
    "word = input(\"Enter any string\")\n",
    "list = []\n",
    "vow = []\n",
    "conso = []\n",
    "for letter in word:\n",
    "    list.append(letter)\n",
    "print(list)\n",
    "for i in list:\n",
    "    if i in ('a','e','i','o','u') and i in ('A','E','I','O','U'):\n",
    "        vow.append(i)\n",
    "        i+=1\n",
    "        print(vow)\n",
    "    else:\n",
    "        conso.append(i)\n",
    "        print(conso)\n"
   ]
  },
  {
   "cell_type": "code",
   "execution_count": null,
   "id": "4553f13b-51db-4b51-b199-ebd3479ab2b5",
   "metadata": {},
   "outputs": [],
   "source": []
  }
 ],
 "metadata": {
  "kernelspec": {
   "display_name": "Python 3 (ipykernel)",
   "language": "python",
   "name": "python3"
  },
  "language_info": {
   "codemirror_mode": {
    "name": "ipython",
    "version": 3
   },
   "file_extension": ".py",
   "mimetype": "text/x-python",
   "name": "python",
   "nbconvert_exporter": "python",
   "pygments_lexer": "ipython3",
   "version": "3.12.2"
  }
 },
 "nbformat": 4,
 "nbformat_minor": 5
}
