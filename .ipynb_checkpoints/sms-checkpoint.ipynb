{
 "cells": [
  {
   "cell_type": "code",
   "execution_count": null,
   "id": "7bb24343-f267-468e-8540-a4cb2eabe5d3",
   "metadata": {},
   "outputs": [],
   "source": [
    "# Write a program to build simple student management system using python which can perform following operation:\n",
    "#Accept\n",
    "#Display\n",
    "#Search\n",
    "#Delete\n",
    "#Update\n",
    "\n",
    "\n",
    "class Student:\n",
    "    def __init__(Self,name,roll,mark1,mark2):\n",
    "        self.name = name\n",
    "        self.roll = roll\n",
    "        self.mark1 = mark1\n",
    "        self.mark2 = mark2\n",
    "\n",
    "    def accept(self,name,roll,mark1,mark2):\n",
    "        object1 = Student(name,roll,mark1,mark2)\n",
    "        list1.append(object1)\n",
    "        print(\"Details of student are accepted\")\n",
    "\n",
    "   \n",
    "        \n",
    "\n",
    "    def display(self,object1):\n",
    "        print(f'Name is :  {self.name}\\nRoll Number is : {self.roll}\\nMark1 is : {self.mark1}\\nMark2 is : {self.mark2}')\n",
    "\n",
    "    def search(self,rnum):\n",
    "        rnum = int(input(\"Enter\"))\n",
    "        for i in range(len(list1)):\n",
    "            if(list1[i].roll == rnum):\n",
    "                return i\n",
    "\n",
    "    def delete(self,roll):\n",
    "        i = value.search(roll)\n",
    "        del list1[i]\n",
    "\n",
    "    def update(self,roll,newroll):\n",
    "        i = search(roll)\n",
    "        num = newroll\n",
    "        ls[i].roll = num\n",
    "\n",
    "    def view(self):\n",
    "        print(\"\\n1.Accept Student details\\n2.Display Student Details\\n3.Search Details of a Student\\n4.Delete Details of Student\\n5.Update Student Details\\n6.Exit\")\n",
    "\n",
    "        while True:\n",
    "            try:\n",
    "                opt=int(input(\"\\nChoose an option:\"))\n",
    "            except:\n",
    "                print(\"Error: Enter a correct option.\\n\")\n",
    "                continue\n",
    "            else:\n",
    "                if opt==1:\n",
    "                    value.accept(name,roll,mark1,mark2)\n",
    "    \n",
    "                elif opt==2:\n",
    "                    print(\"List of Students is : \\n\")\n",
    "                    for i in range(len(list1)):\n",
    "                        value.display(list1[i])\n",
    "                            \n",
    "                elif opt==3:\n",
    "                    y = value.search(roll)\n",
    "                    value.display(list1[y])\n",
    "    \n",
    "                elif opt==4:\n",
    "                    value.delete(rnum)\n",
    "                    print(\"List after deletion is :\")\n",
    "                    for i in range(len(list1)):\n",
    "                        value.display(list1[i])\n",
    "    \n",
    "                elif opt==5:\n",
    "                    newroll = int(input(\"Enter new roll number : \"))\n",
    "                    print(len(list1))\n",
    "                    value.update(rnum,newroll)\n",
    "                    print(\"After updating roll number\")\n",
    "                    for i in range(len(list1)):\n",
    "                        value.display(list1[i])\n",
    "    \n",
    "                else:\n",
    "                    print(\"Thankyou for visiting\")\n",
    "                    break\n",
    "\n",
    "\n",
    "                    \n",
    "name=input(\"Enter Name\")\n",
    "roll=int(input(\"Enter Roll no\"))\n",
    "mark1=int(input(\"Enter mark1\"))\n",
    "mark2=int(input(\"Enter mark2\"))                    \n",
    "list1 = []\n",
    "value = Student(name,roll,mark1,mark2)\n",
    "value.view()\n"
   ]
  },
  {
   "cell_type": "code",
   "execution_count": null,
   "id": "b560fb57-a572-421e-8f05-eda6eb3d379d",
   "metadata": {},
   "outputs": [],
   "source": [
    "class StudentManagementSystem:\n",
    "    def __init__(self):\n",
    "        self.students = []\n",
    "\n",
    "    def accept(self, name, roll_num, marks1, marks2):\n",
    "        student = {\n",
    "            'name': name,\n",
    "            'roll_num': roll_num,\n",
    "            'marks1': marks1,\n",
    "            'marks2': marks2\n",
    "        }\n",
    "        self.students.append(student)\n",
    "        print(f\"Student {name} added successfully.\")\n",
    "\n",
    "    def display(self):\n",
    "        if not self.students:\n",
    "            print(\"No students to display.\")\n",
    "        for student in self.students:\n",
    "            print(f\"\\nName: {student['name']}\\nRoll Number: {student['roll_num']}\\nMarks1: {student['marks1']}\\nMarks2: {student['marks2']}\")\n",
    "\n",
    "    def search(self, roll_num):\n",
    "        for student in self.students:\n",
    "            if student['roll_num'] == roll_num:\n",
    "                return student\n",
    "\n",
    "    def delete(self, roll_num):\n",
    "        student = self.search(roll_num)\n",
    "        if student:\n",
    "            self.students.remove(student)\n",
    "            print(f\"Student with roll number {roll_num} has been deleted.\")\n",
    "        else:\n",
    "            print(f\" student not  found with roll number {roll_num}.\")\n",
    "\n",
    "    def update(self, roll_num, name, marks1, marks2):\n",
    "        student = self.search(roll_num)\n",
    "        if student:\n",
    "            if name:\n",
    "                student['name'] = name\n",
    "            if marks1:\n",
    "                student['marks1'] = marks1\n",
    "            if marks2:\n",
    "                student['marks2'] = marks2\n",
    "            print(f\"Student with roll number {roll_num} has been updated.\")\n",
    "        else:\n",
    "            print(f\" student not found{roll_num}.\")\n",
    "\n",
    "    def student_details(self):\n",
    "        print(\"\"\"\\nList of Options\n",
    "1. Accept Student\n",
    "2. Display Students\n",
    "3. Search Student\n",
    "4. Delete Student\n",
    "5. Update Student\n",
    "6. Exit\"\"\")\n",
    "        while True:\n",
    "            try:\n",
    "                option = int(input('Choose an Option: '))\n",
    "            except ValueError:\n",
    "                print('Error: Enter a correct option.')\n",
    "            else:\n",
    "                if option == 1:\n",
    "                    name = input(\"Enter Name: \")\n",
    "                    roll_num = input(\"Enter Roll Number: \")\n",
    "                    marks1 = int(input(\"Enter Marks1: \"))\n",
    "                    marks2 = int(input(\"Enter Marks2: \"))\n",
    "                    self.accept(name, roll_num, marks1, marks2)\n",
    "                elif option == 2:\n",
    "                    self.display()\n",
    "                elif option == 3:\n",
    "                    roll_num = input(\"Enter Roll Number: \")\n",
    "                    student = self.search(roll_num)\n",
    "                    if student:\n",
    "                        print(f\"\\nName: {student['name']}\\nRoll Number: {student['roll_num']}\\nMarks1: {student['marks1']}\\nMarks2: {student['marks2']}\")\n",
    "                    else:\n",
    "                        print(\"Student not found.\")\n",
    "                elif option == 4:\n",
    "                    roll_num = input(\"Enter Roll Number to Delete: \")\n",
    "                    self.delete(roll_num)\n",
    "                elif option == 5:\n",
    "                    roll_num = input(\"Enter Roll Number to Update: \")\n",
    "                    name = input(\"Enter New Name:\")\n",
    "                    marks1 = input(\"Enter New Marks1:\")\n",
    "                    marks2 = input(\"Enter New Marks2:\")\n",
    "                    self.update(roll_num, name, int(marks1),int(marks2) )\n",
    "                elif option == 6:\n",
    "                    print('Thank You for Using the Student Management System.')\n",
    "                    break\n",
    "                else:\n",
    "                    print('Please choose a valid option.')\n",
    "\n",
    "try:\n",
    "    StudentManagementSystem().student_details()\n",
    "    \n",
    "except:\n",
    "    print('Error')"
   ]
  },
  {
   "cell_type": "code",
   "execution_count": null,
   "id": "51174930-a097-47d6-acad-4a95cb832743",
   "metadata": {},
   "outputs": [],
   "source": [
    "## Word Guessing Game.\n",
    "#In this game, there is a list of words, out of which our interpreter will choose random word.\n",
    "#The user first has to input their names and then,will be sked to guess any alphabate.If the random word contains the alphabate\n",
    "#it will show as output (with correct placement) else the program will ask you to guess another alphabateabs\n",
    "#The user will be given 12 turns (which can be changed accordingly) to guess the complete word\n",
    "\n",
    "\n",
    "\n",
    "import random\n",
    "words = ['hello','python',' interpreted','high','level',' language','object','oriented']\n",
    "\n",
    "name = input('Please enter your name : ')\n",
    "print(\"Hello\",name,\"Good to see you, let's start!\")\n",
    "\n",
    "x=random.choice(words)\n",
    "print(\"Your guessed characters :\")\n",
    "\n",
    "guessed = ''\n",
    "turn = 12\n",
    "while turn > 0:\n",
    "    fail = 0\n",
    "   \n",
    "    for i in words:\n",
    "        if i in guessed:\n",
    "            print(i,end='')\n",
    "        else:\n",
    "            print('-')\n",
    "            fail+=1\n",
    "            \n",
    "    if fail == 0:\n",
    "        print(\"Congrats you won dear!\")\n",
    "        break\n",
    "    guess = input(\"guess a character:\")\n",
    "    guessed += guess\n",
    "    \n",
    "\n",
    "    if guess not in words:\n",
    "        print(\"wrong\")\n",
    "        turn-=1\n",
    "        print(\"You have\", + turns, 'more guesses')\n",
    "    \n",
    "    if turn == 0:\n",
    "            print(\"You Loose\")\n",
    "    \n",
    "            \n",
    "            \n",
    "            \n",
    "\n",
    "\n"
   ]
  },
  {
   "cell_type": "code",
   "execution_count": 14,
   "id": "f051c63a-deba-4757-9847-ee9252634fb3",
   "metadata": {},
   "outputs": [
    {
     "name": "stdin",
     "output_type": "stream",
     "text": [
      "What is your name?  hina\n"
     ]
    },
    {
     "name": "stdout",
     "output_type": "stream",
     "text": [
      "Good Luck !  hina\n",
      "Guess the characters\n",
      "_\n",
      "_\n",
      "_\n",
      "_\n",
      "_\n",
      "\n"
     ]
    },
    {
     "name": "stdin",
     "output_type": "stream",
     "text": [
      "guess a character: w\n"
     ]
    },
    {
     "name": "stdout",
     "output_type": "stream",
     "text": [
      "Wrong\n",
      "You have 11 more guesses\n",
      "_\n",
      "_\n",
      "_\n",
      "_\n",
      "_\n",
      "\n"
     ]
    },
    {
     "name": "stdin",
     "output_type": "stream",
     "text": [
      "guess a character: e\n"
     ]
    },
    {
     "name": "stdout",
     "output_type": "stream",
     "text": [
      "Wrong\n",
      "You have 10 more guesses\n",
      "_\n",
      "_\n",
      "_\n",
      "_\n",
      "_\n",
      "\n"
     ]
    },
    {
     "name": "stdin",
     "output_type": "stream",
     "text": [
      "guess a character: p\n"
     ]
    },
    {
     "name": "stdout",
     "output_type": "stream",
     "text": [
      "Wrong\n",
      "You have 9 more guesses\n",
      "_\n",
      "_\n",
      "_\n",
      "_\n",
      "_\n",
      "\n"
     ]
    },
    {
     "name": "stdin",
     "output_type": "stream",
     "text": [
      "guess a character: d\n"
     ]
    },
    {
     "name": "stdout",
     "output_type": "stream",
     "text": [
      "_\n",
      "_\n",
      "_\n",
      "_\n",
      "d \n"
     ]
    },
    {
     "name": "stdin",
     "output_type": "stream",
     "text": [
      "guess a character: c\n"
     ]
    },
    {
     "name": "stdout",
     "output_type": "stream",
     "text": [
      "Wrong\n",
      "You have 8 more guesses\n",
      "_\n",
      "_\n",
      "_\n",
      "_\n",
      "d \n"
     ]
    },
    {
     "name": "stdin",
     "output_type": "stream",
     "text": [
      "guess a character: s\n"
     ]
    },
    {
     "name": "stdout",
     "output_type": "stream",
     "text": [
      "Wrong\n",
      "You have 7 more guesses\n",
      "_\n",
      "_\n",
      "_\n",
      "_\n",
      "d \n"
     ]
    },
    {
     "name": "stdin",
     "output_type": "stream",
     "text": [
      "guess a character: s\n"
     ]
    },
    {
     "name": "stdout",
     "output_type": "stream",
     "text": [
      "Wrong\n",
      "You have 6 more guesses\n",
      "_\n",
      "_\n",
      "_\n",
      "_\n",
      "d \n"
     ]
    },
    {
     "name": "stdin",
     "output_type": "stream",
     "text": [
      "guess a character: a\n"
     ]
    },
    {
     "name": "stdout",
     "output_type": "stream",
     "text": [
      "_\n",
      "_\n",
      "a _\n",
      "d \n"
     ]
    },
    {
     "name": "stdin",
     "output_type": "stream",
     "text": [
      "guess a character: l\n"
     ]
    },
    {
     "name": "stdout",
     "output_type": "stream",
     "text": [
      "Wrong\n",
      "You have 5 more guesses\n",
      "_\n",
      "_\n",
      "a _\n",
      "d \n"
     ]
    },
    {
     "name": "stdin",
     "output_type": "stream",
     "text": [
      "guess a character: m\n"
     ]
    },
    {
     "name": "stdout",
     "output_type": "stream",
     "text": [
      "Wrong\n",
      "You have 4 more guesses\n",
      "_\n",
      "_\n",
      "a _\n",
      "d \n"
     ]
    },
    {
     "name": "stdin",
     "output_type": "stream",
     "text": [
      "guess a character: e\n"
     ]
    },
    {
     "name": "stdout",
     "output_type": "stream",
     "text": [
      "Wrong\n",
      "You have 3 more guesses\n",
      "_\n",
      "_\n",
      "a _\n",
      "d \n"
     ]
    },
    {
     "name": "stdin",
     "output_type": "stream",
     "text": [
      "guess a character: h\n"
     ]
    },
    {
     "name": "stdout",
     "output_type": "stream",
     "text": [
      "Wrong\n",
      "You have 2 more guesses\n",
      "_\n",
      "_\n",
      "a _\n",
      "d \n"
     ]
    },
    {
     "name": "stdin",
     "output_type": "stream",
     "text": [
      "guess a character: f\n"
     ]
    },
    {
     "name": "stdout",
     "output_type": "stream",
     "text": [
      "Wrong\n",
      "You have 1 more guesses\n",
      "_\n",
      "_\n",
      "a _\n",
      "d \n"
     ]
    },
    {
     "name": "stdin",
     "output_type": "stream",
     "text": [
      "guess a character: l\n"
     ]
    },
    {
     "name": "stdout",
     "output_type": "stream",
     "text": [
      "Wrong\n",
      "You have 0 more guesses\n",
      "You Loose\n"
     ]
    }
   ],
   "source": [
    "import random\n",
    "# library that we use in order to choose\n",
    "# on random words from a list of words\n",
    " \n",
    "name = input(\"What is your name? \")\n",
    " \n",
    "# Here the user is asked to enter the name first\n",
    " \n",
    "print(\"Good Luck ! \", name)\n",
    " \n",
    "words = ['rainbow', 'computer', 'science', 'programming',\n",
    "         'python', 'mathematics', 'player', 'condition',\n",
    "         'reverse', 'water', 'board', 'geeks']\n",
    " \n",
    "# Function will choose one random\n",
    "# word from this list of words\n",
    "word = random.choice(words)\n",
    " \n",
    " \n",
    "print(\"Guess the characters\")\n",
    " \n",
    "guesses = ''\n",
    " \n",
    "# any number of turns can be used here\n",
    "turns = 12\n",
    " \n",
    " \n",
    "while turns > 0:\n",
    " \n",
    "    # counts the number of times a user fails\n",
    "    failed = 0\n",
    " \n",
    "    # all characters from the input\n",
    "    # word taking one at a time.\n",
    "    for char in word:\n",
    " \n",
    "        # comparing that character with\n",
    "        # the character in guesses\n",
    "        if char in guesses:\n",
    "            print(char, end=\" \")\n",
    " \n",
    "        else:\n",
    "            print(\"_\")\n",
    " \n",
    "            # for every failure 1 will be\n",
    "            # incremented in failure\n",
    "            failed += 1\n",
    " \n",
    "    if failed == 0:\n",
    "        # user will win the game if failure is 0\n",
    "        # and 'You Win' will be given as output\n",
    "        print(\"You Win\")\n",
    " \n",
    "        # this print the correct word\n",
    "        print(\"The word is: \", word)\n",
    "        break\n",
    " \n",
    "    # if user has input the wrong alphabet then\n",
    "    # it will ask user to enter another alphabet\n",
    "    print()\n",
    "    guess = input(\"guess a character:\")\n",
    " \n",
    "    # every input character will be stored in guesses\n",
    "    guesses += guess\n",
    " \n",
    "    # check input with the character in word\n",
    "    if guess not in word:\n",
    " \n",
    "        turns -= 1\n",
    " \n",
    "        # if the character doesn’t match the word\n",
    "        # then “Wrong” will be given as output\n",
    "        print(\"Wrong\")\n",
    " \n",
    "        # this will print the number of\n",
    "        # turns left for the user\n",
    "        print(\"You have\", + turns, 'more guesses')\n",
    " \n",
    "        if turns == 0:\n",
    "            print(\"You Loose\")"
   ]
  },
  {
   "cell_type": "code",
   "execution_count": null,
   "id": "1534366a-97e6-4d9c-b2c3-b39854d30125",
   "metadata": {},
   "outputs": [],
   "source": []
  }
 ],
 "metadata": {
  "kernelspec": {
   "display_name": "Python 3 (ipykernel)",
   "language": "python",
   "name": "python3"
  },
  "language_info": {
   "codemirror_mode": {
    "name": "ipython",
    "version": 3
   },
   "file_extension": ".py",
   "mimetype": "text/x-python",
   "name": "python",
   "nbconvert_exporter": "python",
   "pygments_lexer": "ipython3",
   "version": "3.12.4"
  }
 },
 "nbformat": 4,
 "nbformat_minor": 5
}
