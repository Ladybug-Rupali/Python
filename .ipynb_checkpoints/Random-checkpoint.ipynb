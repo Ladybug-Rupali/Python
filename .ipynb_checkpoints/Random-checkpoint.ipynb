{
 "cells": [
  {
   "cell_type": "code",
   "execution_count": 1,
   "id": "8456c0e4-5dc4-42d2-89c1-75f502ac6e86",
   "metadata": {},
   "outputs": [
    {
     "name": "stdout",
     "output_type": "stream",
     "text": [
      "dict_items([('a', 1), ('b', 2), ('c', 3)])\n"
     ]
    }
   ],
   "source": [
    "x = {\"a\":1,\"b\":2,\"c\":3}\n",
    "print(x.items())"
   ]
  },
  {
   "cell_type": "code",
   "execution_count": 7,
   "id": "65b9390b-1292-40fb-bed9-befd6ec1f854",
   "metadata": {},
   "outputs": [
    {
     "name": "stdout",
     "output_type": "stream",
     "text": [
      "[1, 2, 3, 4, 23, 22, 34, 44, 32, 21, 11, 33]\n"
     ]
    }
   ],
   "source": [
    "list=[1,2,3,4,23,22,34,44,32,21,11,22,11,23,22,33,44]\n",
    "newl=[]\n",
    "for i in list:\n",
    "    if i not in newl:\n",
    "        newl.append(i)\n",
    "print(newl)"
   ]
  },
  {
   "cell_type": "code",
   "execution_count": 17,
   "id": "c4130e3a-708f-4e18-a8e7-36ca8d984e4d",
   "metadata": {},
   "outputs": [
    {
     "name": "stdout",
     "output_type": "stream",
     "text": [
      "30.875\n"
     ]
    }
   ],
   "source": [
    "sum1=[21,22,23,2,42,52,62,23]\n",
    "num=0\n",
    "for i in sum1:\n",
    "    num+=i\n",
    "print(num/len(sum1))"
   ]
  },
  {
   "cell_type": "code",
   "execution_count": 12,
   "id": "d0e993ac-154b-4759-9cf2-bd572c18be9e",
   "metadata": {},
   "outputs": [
    {
     "name": "stdin",
     "output_type": "stream",
     "text": [
      "enter hello\n"
     ]
    },
    {
     "name": "stdout",
     "output_type": "stream",
     "text": [
      "olleh\n",
      "\n"
     ]
    }
   ],
   "source": [
    "str=input(\"enter\")\n",
    "for i in range(len(str) -1,-1,-1): \n",
    "    print(str[i], end='')\n",
    "print(\"\\n\")"
   ]
  },
  {
   "cell_type": "code",
   "execution_count": 10,
   "id": "994686c9-d11a-45a5-901d-c277b8a0e018",
   "metadata": {},
   "outputs": [
    {
     "name": "stdin",
     "output_type": "stream",
     "text": [
      "Enter a number 10\n"
     ]
    },
    {
     "name": "stdout",
     "output_type": "stream",
     "text": [
      "0,2,4,6,8,10,\n",
      "sum is 30\n"
     ]
    }
   ],
   "source": [
    "def even(x):\n",
    "    total = 0\n",
    "    i = 0\n",
    "    while i <= x:\n",
    "        if i % 2 == 0:\n",
    "            print(i,end=',')\n",
    "            total = total+i\n",
    "        i+=1\n",
    "    print(\"\\nsum is\",total)\n",
    "\n",
    "s = int(input(\"Enter number\"))\n",
    "even(s)"
   ]
  },
  {
   "cell_type": "code",
   "execution_count": null,
   "id": "e2c68345-10e1-4e82-9a28-36e2e0ef49fa",
   "metadata": {},
   "outputs": [],
   "source": [
    "# take two input from user and display sum of odd numbers: 10, 20 - \n",
    "\n",
    "nlis=[]\n",
    "def sum_even(i,j):\n",
    "    if i>0 and j>0:\n",
    "        sum2=0\n",
    "        while i<=j:\n",
    "            if i%2==1:\n",
    "                sum2+=i\n",
    "                nlis.append(i)\n",
    "            i+=1\n",
    "        print(nlis)\n",
    "        print(sum2)\n",
    "    else:\n",
    "        print(\"Enter positive value only\")\n",
    "\n",
    "x=int(input(\"Enter first number:\"))\n",
    "y=int(input(\"Enter second number:\"))\n",
    "sum_even(x,y)"
   ]
  },
  {
   "cell_type": "code",
   "execution_count": null,
   "id": "f058164c-a2ad-4d5c-811d-96ada2a06047",
   "metadata": {},
   "outputs": [],
   "source": []
  }
 ],
 "metadata": {
  "kernelspec": {
   "display_name": "Python 3 (ipykernel)",
   "language": "python",
   "name": "python3"
  },
  "language_info": {
   "codemirror_mode": {
    "name": "ipython",
    "version": 3
   },
   "file_extension": ".py",
   "mimetype": "text/x-python",
   "name": "python",
   "nbconvert_exporter": "python",
   "pygments_lexer": "ipython3",
   "version": "3.12.2"
  }
 },
 "nbformat": 4,
 "nbformat_minor": 5
}
