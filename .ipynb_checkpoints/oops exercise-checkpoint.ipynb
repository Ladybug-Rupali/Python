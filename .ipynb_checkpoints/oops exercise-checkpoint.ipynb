{
 "cells": [
  {
   "cell_type": "code",
   "execution_count": 14,
   "id": "7cff9abc-22a8-44c6-8a22-70b31566a61b",
   "metadata": {},
   "outputs": [
    {
     "name": "stdout",
     "output_type": "stream",
     "text": [
      "Area of circle is :  307.8760800517997\n",
      "Perimeter of circle is : 43.982297150257104\n",
      "\n",
      "------------------------------------\n",
      "\n",
      "Area of square is : 25\n",
      "Perimeter of circle is : 20\n"
     ]
    }
   ],
   "source": [
    "#Create a base class shape and methods area and perimeter, and derive classes circle and square. \n",
    "\n",
    "import math\n",
    "\n",
    "class shape:\n",
    "    def area(self):\n",
    "        pass\n",
    "\n",
    "    def perimeter(self):\n",
    "        pass\n",
    "\n",
    "class circle(shape):\n",
    "\n",
    "    def __init__ (self, radius):\n",
    "        self.radius = radius\n",
    "\n",
    "    def area(self):\n",
    "        return 2*math.pi*self.radius**2\n",
    "        print(\"Area of circle is\",circle.area\n",
    "\n",
    "    def perimeter(self):\n",
    "        return 2*math.pi*self.radius\n",
    "        print(\"Perimeter of circle is\",circle.perimeter())\n",
    "\n",
    "class square(shape):\n",
    "\n",
    "    def __init__ (self,side):\n",
    "        self.side = side\n",
    "         \n",
    "\n",
    "    def area(self):\n",
    "        return side*side\n",
    "        print(\"Area of square is\",square.area())\n",
    "\n",
    "    def perimeter(self):\n",
    "        return 4*side\n",
    "        print(\"Perimeter of square is\",square.perimeter())\n",
    "\n",
    "radius = int(input(\"Enter radius of circle : \"))\n",
    "side = int(input(\"Enter side of square : \"))\n",
    "\n",
    "c = circle(7)\n",
    "print(\"Area of circle is : \",c.area())\n",
    "print(\"Perimeter of circle is :\",c.perimeter())\n",
    "\n",
    "print(\"\\n------------------------------------\\n\")\n",
    "\n",
    "s = square(4)\n",
    "print(\"Area of square is :\",s.area())\n",
    "print(\"Perimeter of circle is :\",s.perimeter())"
   ]
  },
  {
   "cell_type": "code",
   "execution_count": null,
   "id": "9b5e211d-868d-4a67-85e5-98e8a47777bc",
   "metadata": {},
   "outputs": [],
   "source": []
  }
 ],
 "metadata": {
  "kernelspec": {
   "display_name": "Python 3 (ipykernel)",
   "language": "python",
   "name": "python3"
  },
  "language_info": {
   "codemirror_mode": {
    "name": "ipython",
    "version": 3
   },
   "file_extension": ".py",
   "mimetype": "text/x-python",
   "name": "python",
   "nbconvert_exporter": "python",
   "pygments_lexer": "ipython3",
   "version": "3.12.2"
  }
 },
 "nbformat": 4,
 "nbformat_minor": 5
}
