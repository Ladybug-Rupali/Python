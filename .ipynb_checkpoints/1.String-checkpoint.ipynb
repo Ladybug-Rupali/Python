{
 "cells": [
  {
   "cell_type": "markdown",
   "id": "79684586-b2b5-4c10-b904-580dc34cde00",
   "metadata": {},
   "source": [
    "# String Datatype #"
   ]
  },
  {
   "cell_type": "markdown",
   "id": "ca57c587-211d-4848-a698-46ca9a9164a7",
   "metadata": {},
   "source": [
    " - **A string is a sequence of characters.**\n",
    " - **Can be enclosed in single or double characters.**\n",
    " - **If single quotes are present in the string, then the string should be enclosed within double quotes viz.**\n",
    " - **Alternatively, single or double.**\n",
    " -  **Characters within a string can be escaped using a backslash character.**\n",
    "   "
   ]
  },
  {
   "cell_type": "code",
   "execution_count": 110,
   "id": "55adcb93-72e7-408a-b4c8-3a24202f5162",
   "metadata": {},
   "outputs": [
    {
     "name": "stdout",
     "output_type": "stream",
     "text": [
      "Hello Rupali\n",
      "Hello, there this is a dog his name is 'Shawn'.\n",
      "Hello, there this is a dog his name is \"Shawn\".\n",
      "Hello! \"I am Rupali\". How's your job?\n"
     ]
    }
   ],
   "source": [
    "#Enclosed within quotes\n",
    "\n",
    "msg = \"Hello Rupali\"\n",
    "print(msg)\n",
    "\n",
    "#Enclosed with double quotes inside single quotes used.\n",
    "statement0 = \"Hello, there this is a dog his name is 'Shawn'.\"\n",
    "print(statement0)\n",
    "\n",
    "#Enclosed with single quotes inside double quotes.\n",
    "statement1 = 'Hello, there this is a dog his name is \"Shawn\".'\n",
    "print(statement1)\n",
    "\n",
    "#Alternatively, single or double character can be escaped using \n",
    "# backslash character. \n",
    "\n",
    "statement = \"Hello! \\\"I am Rupali\\\". How\\'s your job?\"\n",
    "print(statement   # backslash before any quote \n",
    "      \n"
   ]
  },
  {
   "cell_type": "markdown",
   "id": "51cc4025-4667-45b8-b8d5-10a351e279e9",
   "metadata": {},
   "source": [
    "### Multiline String"
   ]
  },
  {
   "cell_type": "code",
   "execution_count": 118,
   "id": "2fd6b308-6b43-4a0a-ad13-018846584d0c",
   "metadata": {},
   "outputs": [
    {
     "name": "stdout",
     "output_type": "stream",
     "text": [
      " Hello World! \n",
      "My name is Rupali.\n",
      "Yes, I am fine. \n"
     ]
    }
   ],
   "source": [
    "# String enclosed in triple-single or double quotes. \n",
    "\n",
    "statement3 = \"\"\" Hello World! \n",
    "My name is Rupali.\n",
    "Yes, I am fine. \"\"\"\n",
    "\n",
    "print(statement3)\n"
   ]
  },
  {
   "cell_type": "markdown",
   "id": "9d35fb03-a741-4dbb-9cf8-b15d7e67691b",
   "metadata": {},
   "source": [
    "## Idexing string"
   ]
  },
  {
   "cell_type": "code",
   "execution_count": 111,
   "id": "920557c7-4811-4c5f-869b-3a04850ae2b8",
   "metadata": {},
   "outputs": [
    {
     "name": "stdout",
     "output_type": "stream",
     "text": [
      "H\n",
      "e\n",
      "l\n",
      "l\n",
      "o\n",
      " \n",
      "R\n",
      "u\n",
      "p\n",
      "a\n",
      "l\n",
      "i\n"
     ]
    }
   ],
   "source": [
    "#Indexing\n",
    "\n",
    "msg = \"Hello Rupali\"\n",
    "\n",
    "print(msg[0])\n",
    "print(msg[1])\n",
    "print(msg[2])\n",
    "print(msg[3])\n",
    "print(msg[4])\n",
    "print(msg[5])\n",
    "print(msg[6])\n",
    "print(msg[7])\n",
    "print(msg[8])\n",
    "print(msg[9])\n",
    "print(msg[10])\n",
    "print(msg[11])\n"
   ]
  },
  {
   "cell_type": "code",
   "execution_count": 112,
   "id": "abf72816-e3c7-4609-956e-d4f7e214aa3e",
   "metadata": {},
   "outputs": [
    {
     "name": "stdout",
     "output_type": "stream",
     "text": [
      "i\n",
      "l\n",
      "a\n",
      "p\n",
      "u\n",
      "R\n",
      " \n",
      "o\n",
      "l\n",
      "l\n",
      "e\n",
      "H\n"
     ]
    }
   ],
   "source": [
    "#Negative Indexing.\n",
    "\n",
    "msg = \"Hello Rupali\"\n",
    "print(msg[-1])\n",
    "print(msg[-2])\n",
    "print(msg[-3])\n",
    "print(msg[-4])\n",
    "print(msg[-5])\n",
    "print(msg[-6])\n",
    "print(msg[-7])\n",
    "print(msg[-8])\n",
    "print(msg[-9])\n",
    "print(msg[-10])\n",
    "print(msg[-11])\n",
    "print(msg[-12])\n"
   ]
  },
  {
   "cell_type": "markdown",
   "id": "24858736-0733-434b-8c2a-afa1f03fd243",
   "metadata": {},
   "source": [
    "## Slicing of string \n",
    " - **Accessing substring.** "
   ]
  },
  {
   "cell_type": "code",
   "execution_count": 2,
   "id": "ded5d7e0-fef5-40ec-a6fb-67c49e581ad2",
   "metadata": {},
   "outputs": [],
   "source": [
    "new = \"hello Dear\""
   ]
  },
  {
   "cell_type": "code",
   "execution_count": 3,
   "id": "82b6c45d-4dc1-4067-badc-38048ec755a1",
   "metadata": {},
   "outputs": [
    {
     "data": {
      "text/plain": [
       "'hello Dear'"
      ]
     },
     "execution_count": 3,
     "metadata": {},
     "output_type": "execute_result"
    }
   ],
   "source": [
    "new[:]"
   ]
  },
  {
   "cell_type": "code",
   "execution_count": 4,
   "id": "ef42d8af-f26d-4de8-bca8-18b083f68c8f",
   "metadata": {},
   "outputs": [
    {
     "data": {
      "text/plain": [
       "'hello'"
      ]
     },
     "execution_count": 4,
     "metadata": {},
     "output_type": "execute_result"
    }
   ],
   "source": [
    "new[0:5]"
   ]
  },
  {
   "cell_type": "code",
   "execution_count": 5,
   "id": "0f502b7a-df6c-4034-b9d0-17e2b3c0234e",
   "metadata": {},
   "outputs": [
    {
     "data": {
      "text/plain": [
       "'Dear'"
      ]
     },
     "execution_count": 5,
     "metadata": {},
     "output_type": "execute_result"
    }
   ],
   "source": [
    "new[6:10]"
   ]
  },
  {
   "cell_type": "markdown",
   "id": "defe0f18-122f-4261-825d-26adc147819b",
   "metadata": {},
   "source": [
    "### Slicing string with third parameter. \n",
    "- Also called step value. By default it is 1.\n",
    "- Step value -1 specifies the number of elements to skip when slicing the string."
   ]
  },
  {
   "cell_type": "code",
   "execution_count": 123,
   "id": "c8d1c0de-c6fe-4b5d-b661-1a0292f502c9",
   "metadata": {},
   "outputs": [
    {
     "data": {
      "text/plain": [
       "'hlDr'"
      ]
     },
     "execution_count": 123,
     "metadata": {},
     "output_type": "execute_result"
    }
   ],
   "source": [
    "new = \"hello Dear\"\n",
    "new[0:8:2]\n",
    "new[2:9:2]\n",
    "new[ : :3]\n",
    "\n",
    "# When the third parameter is one it skips zero, when its two then skips one\n",
    "# That is -1 of the third parameter"
   ]
  },
  {
   "cell_type": "code",
   "execution_count": 138,
   "id": "d57bfe3b-af04-404f-aafc-070015729e1f",
   "metadata": {},
   "outputs": [
    {
     "name": "stdout",
     "output_type": "stream",
     "text": [
      "abcdefghijklmnop\n"
     ]
    },
    {
     "data": {
      "text/plain": [
       "'ie'"
      ]
     },
     "execution_count": 138,
     "metadata": {},
     "output_type": "execute_result"
    }
   ],
   "source": [
    "new1 = 'abcdefghijklmnop'\n",
    "print(new1)\n",
    "new1[ : :3]\n",
    "new1[8:1:-4]"
   ]
  },
  {
   "cell_type": "markdown",
   "id": "4abecf37-26b6-4e85-b4a3-10c0b0ac0545",
   "metadata": {},
   "source": [
    "## Concatenate string"
   ]
  },
  {
   "cell_type": "code",
   "execution_count": 139,
   "id": "fea5db7a-97b9-4381-8d7a-035eede73a69",
   "metadata": {},
   "outputs": [
    {
     "name": "stdout",
     "output_type": "stream",
     "text": [
      "This is jupyter lab. I like it!\n"
     ]
    },
    {
     "data": {
      "text/plain": [
       "'abc'"
      ]
     },
     "execution_count": 139,
     "metadata": {},
     "output_type": "execute_result"
    }
   ],
   "source": [
    "msg_1 = \"This is jupyter lab.\"  # '+' ---> Concatenate operator\n",
    "msg_2 = \" I like it!\"\n",
    "statement = msg_1 + msg_2 #Concatenating two strings\n",
    "print(statement)\n",
    "\n",
    "'a' + 'b' + 'c'"
   ]
  },
  {
   "cell_type": "code",
   "execution_count": 90,
   "id": "95d7f644-a6d1-4691-a493-cc162213e59f",
   "metadata": {},
   "outputs": [
    {
     "name": "stdout",
     "output_type": "stream",
     "text": [
      "This is jupyter lab.\n",
      "I like it!\n"
     ]
    }
   ],
   "source": [
    "# \\n for a new line\n",
    "print('This is jupyter lab.\\nI like it!')"
   ]
  },
  {
   "cell_type": "code",
   "execution_count": 91,
   "id": "3bd0fb65-ff87-4699-8062-e544840e308d",
   "metadata": {},
   "outputs": [
    {
     "name": "stdout",
     "output_type": "stream",
     "text": [
      "This is jupyter lab.\tI like it!\n"
     ]
    }
   ],
   "source": [
    "# \\t for the tab that is it gives 4 spaces.\n",
    "print('This is jupyter lab.\\tI like it!')"
   ]
  },
  {
   "cell_type": "markdown",
   "id": "fc461fa9-2eb5-4915-9d26-e9c366100a59",
   "metadata": {},
   "source": [
    "## String Formatting:\n",
    "\n",
    "### String Interpolation:\n",
    " - **Insertion of something of different nature into something else.**\n",
    "\n",
    "### String Interpolation or string Formatting:\n",
    "- **The process of inserting an object in the pre-defined string is called string interpolation.**"
   ]
  },
  {
   "cell_type": "code",
   "execution_count": 3,
   "id": "31ac0b2c-bba7-428e-a0a1-2b3ca1fae087",
   "metadata": {},
   "outputs": [
    {
     "data": {
      "text/plain": [
       "'My name is Rupali .'"
      ]
     },
     "execution_count": 3,
     "metadata": {},
     "output_type": "execute_result"
    }
   ],
   "source": [
    "#Basic Technique  of formatting.\n",
    "\n",
    "name = \"Rupali\"\n",
    "\"My name is %s .\" %name  #%s acts as a placeholder (To specify the exact position)\n",
    "# % name is an object provided  to insert."
   ]
  },
  {
   "cell_type": "markdown",
   "id": "ac17255c-aed3-44f4-92d6-4ad576bda313",
   "metadata": {},
   "source": [
    "### Capitalize, Upper, Lower, Title, Count, Index, Find"
   ]
  },
  {
   "cell_type": "code",
   "execution_count": 4,
   "id": "d0bf7760-c245-4264-98d1-8cc90f533790",
   "metadata": {},
   "outputs": [],
   "source": [
    "name = 'Rupali Gurav'"
   ]
  },
  {
   "cell_type": "code",
   "execution_count": 5,
   "id": "7765d995-7317-49c0-ad79-7fb8d4370c68",
   "metadata": {},
   "outputs": [
    {
     "name": "stdout",
     "output_type": "stream",
     "text": [
      "Rupali gurav\n"
     ]
    }
   ],
   "source": [
    "a = name.capitalize() # Converts it in capitalized form.\n",
    "print(a)"
   ]
  },
  {
   "cell_type": "code",
   "execution_count": 6,
   "id": "7c80b2bd-7af6-4dde-89dc-4921827ac997",
   "metadata": {},
   "outputs": [
    {
     "name": "stdout",
     "output_type": "stream",
     "text": [
      "RUPALI GURAV\n"
     ]
    }
   ],
   "source": [
    "b = name.upper() # Converts it in uppercase letters.\n",
    "print(b)"
   ]
  },
  {
   "cell_type": "code",
   "execution_count": 95,
   "id": "1d2b2f93-d77b-4ec4-9d86-f16fe51f3ed6",
   "metadata": {},
   "outputs": [
    {
     "name": "stdout",
     "output_type": "stream",
     "text": [
      "rupali gurav\n",
      "rupali gurav\n"
     ]
    }
   ],
   "source": [
    "str_3 = name.lower() # Converts it in lowercase letters.\n",
    "print(c)\n",
    "x = name.casefold() #Converts string into lower case\n",
    "print(x)"
   ]
  },
  {
   "cell_type": "code",
   "execution_count": 96,
   "id": "df57db0d-fbf0-4758-8c68-6d628346c56e",
   "metadata": {},
   "outputs": [
    {
     "name": "stdout",
     "output_type": "stream",
     "text": [
      "Rupali Gurav\n"
     ]
    }
   ],
   "source": [
    "d = name.title() # Converts it in a title.\n",
    "print(d)"
   ]
  },
  {
   "cell_type": "code",
   "execution_count": 25,
   "id": "4a0bf757-a135-4df9-ba82-2acc92477239",
   "metadata": {},
   "outputs": [
    {
     "name": "stdout",
     "output_type": "stream",
     "text": [
      "2\n"
     ]
    }
   ],
   "source": [
    "e = name.count('a') # Count takes at least one argument write that in quotes.\n",
    "print(e)            # It is case-sensitive."
   ]
  },
  {
   "cell_type": "code",
   "execution_count": 27,
   "id": "fe4c20bc-3e9a-4564-8169-c36815d2c232",
   "metadata": {},
   "outputs": [
    {
     "name": "stdout",
     "output_type": "stream",
     "text": [
      "11\n"
     ]
    }
   ],
   "source": [
    "f = name.index('v') # Index gives the index number it takes at least one argument.\n",
    "print(f)            # Space also counted."
   ]
  },
  {
   "cell_type": "code",
   "execution_count": 40,
   "id": "8be44f32-e338-4285-891d-55f74593b58d",
   "metadata": {},
   "outputs": [
    {
     "name": "stdout",
     "output_type": "stream",
     "text": [
      "11\n",
      "5\n",
      "-1\n"
     ]
    }
   ],
   "source": [
    "g = name.find('u') #Finds the first occurrence of the specified value.\n",
    "print(f)\n",
    "\n",
    "h = name.find('i', 4, 8) #Search r between position 4 and 8 in string.\n",
    "print(h)\n",
    "\n",
    "i = name.find('z') # when value not found it returns -1.\n",
    "print(i)"
   ]
  },
  {
   "cell_type": "code",
   "execution_count": 97,
   "id": "d46aee99-756a-45ea-88d5-42b0a3f3cf92",
   "metadata": {},
   "outputs": [
    {
     "name": "stdout",
     "output_type": "stream",
     "text": [
      "         Rupali Gurav         \n",
      "*********Rupali Gurav*********\n"
     ]
    }
   ],
   "source": [
    "j = name.center(30) # It will center align the string, using a specified character (space is default) as the fill character.\n",
    "print(j)\n",
    "\n",
    "k = name.center(30, \"*\") # The character to fill missing place write in quote.\n",
    "print(k)"
   ]
  },
  {
   "cell_type": "code",
   "execution_count": 99,
   "id": "5ae4f168-0373-4ea9-9790-9ddef26909aa",
   "metadata": {},
   "outputs": [
    {
     "name": "stdout",
     "output_type": "stream",
     "text": [
      "b'Rupali Gurav'\n"
     ]
    }
   ],
   "source": [
    "l = name.encode()     # Coverts default Unicode UTF-8 into ASCII\n",
    "print(l)       # b in output stands for byte string (String of bytes)"
   ]
  },
  {
   "cell_type": "markdown",
   "id": "8a32d2aa-6512-47cc-9100-05855586e2e8",
   "metadata": {},
   "source": [
    "## String Formatting:\n",
    "\n",
    "### String Interpolation:\n",
    " - **Insertion of something of different nature into something else.**\n",
    "\n",
    "### String Interpolation or string Formatting:\n",
    "- **The process of inserting an object in the pre-defined string is called string interpolation.**"
   ]
  },
  {
   "cell_type": "code",
   "execution_count": null,
   "id": "5c24ebb1-ecd9-4c5e-8fa5-cb9abe2ebb68",
   "metadata": {},
   "outputs": [],
   "source": [
    "\n"
   ]
  }
 ],
 "metadata": {
  "kernelspec": {
   "display_name": "Python 3 (ipykernel)",
   "language": "python",
   "name": "python3"
  },
  "language_info": {
   "codemirror_mode": {
    "name": "ipython",
    "version": 3
   },
   "file_extension": ".py",
   "mimetype": "text/x-python",
   "name": "python",
   "nbconvert_exporter": "python",
   "pygments_lexer": "ipython3",
   "version": "3.12.2"
  }
 },
 "nbformat": 4,
 "nbformat_minor": 5
}
