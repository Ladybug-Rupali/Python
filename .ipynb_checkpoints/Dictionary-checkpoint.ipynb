{
 "cells": [
  {
   "cell_type": "code",
   "execution_count": 46,
   "id": "42b67f3d-7db8-46b8-90da-1afc720606aa",
   "metadata": {},
   "outputs": [
    {
     "name": "stdout",
     "output_type": "stream",
     "text": [
      "initial 1st dictionary {'nikita': 1, 'manisha': 5, 'radhika': 10, 'akshata': 15}\n",
      "final dictionary {'nikita': 1, 'manisha': 5, 'radhika': 10, 'rupali': 15}\n"
     ]
    }
   ],
   "source": [
    "\n",
    "dict_1= {'nikita': 1, 'manisha': 5,\n",
    "            'radhika': 10, 'akshata': 15}\n",
    " \n",
    "print(\"initial 1st dictionary\", dict_1)\n",
    " \n",
    "\n",
    "dict_1['rupali'] = dict_1['akshata']\n",
    "del dict_1['akshata']\n",
    " \n",
    " \n",
    "\n",
    "print(\"final dictionary\", str(dict_1))"
   ]
  },
  {
   "cell_type": "code",
   "execution_count": 49,
   "id": "3193bed4-f480-4f01-83a3-ce6cfa705c1f",
   "metadata": {},
   "outputs": [
    {
     "name": "stdout",
     "output_type": "stream",
     "text": [
      "numbers =  {'x': 10, 'y': 15}\n",
      "<class 'dict'>\n",
      "empty = {}\n",
      "<class 'dict'>\n"
     ]
    }
   ],
   "source": [
    "\n",
    "num = dict (x = 10, y = 15)\n",
    "\n",
    "print ('numbers = ', num)\n",
    "\n",
    "print (type (num))\n",
    "\n",
    "empty = dict ()\n",
    "\n",
    "print (\"empty =\", empty)\n",
    "\n",
    "print (type (empty))"
   ]
  },
  {
   "cell_type": "code",
   "execution_count": 52,
   "id": "bd4abf10-a90a-4133-82c9-7436a3767ceb",
   "metadata": {},
   "outputs": [
    {
     "data": {
      "text/plain": [
       "{1: 2, 3: 4, 5: 6}"
      ]
     },
     "execution_count": 52,
     "metadata": {},
     "output_type": "execute_result"
    }
   ],
   "source": [
    "dict([(1, 2), (3, 4) , (5,6)])"
   ]
  },
  {
   "cell_type": "code",
   "execution_count": 51,
   "id": "d278c94f-6923-4048-b004-d91350c64f1b",
   "metadata": {},
   "outputs": [
    {
     "ename": "SyntaxError",
     "evalue": "expression cannot contain assignment, perhaps you meant \"==\"? (925350136.py, line 1)",
     "output_type": "error",
     "traceback": [
      "\u001b[1;36m  Cell \u001b[1;32mIn[51], line 1\u001b[1;36m\u001b[0m\n\u001b[1;33m    d = dict (1 = 1, 2 = 2, 3 = 3 )\u001b[0m\n\u001b[1;37m              ^\u001b[0m\n\u001b[1;31mSyntaxError\u001b[0m\u001b[1;31m:\u001b[0m expression cannot contain assignment, perhaps you meant \"==\"?\n"
     ]
    }
   ],
   "source": [
    "d = dict (1 = 1, 2 = 2, 3 = 3 )"
   ]
  },
  {
   "cell_type": "code",
   "execution_count": 5,
   "id": "d0789273-91fb-4586-883f-78ae4c65127e",
   "metadata": {},
   "outputs": [
    {
     "data": {
      "text/plain": [
       "{('chapathi', 'roti'): 'Bobby', ('Paraota', 'Idly', 'Dosa'): 'ojaswi'}"
      ]
     },
     "execution_count": 5,
     "metadata": {},
     "output_type": "execute_result"
    }
   ],
   "source": [
    "data = {(\"chapathi\", \"roti\"): 'Bobby',  \n",
    "        (\"Paraota\", \"Idly\", \"Dosa\"): 'ojaswi'} \n",
    "data"
   ]
  },
  {
   "cell_type": "code",
   "execution_count": 4,
   "id": "972e5976-b662-4068-bf5c-92f0ab963988",
   "metadata": {},
   "outputs": [
    {
     "data": {
      "text/plain": [
       "{('x', 'y', 'z'): ''}"
      ]
     },
     "execution_count": 4,
     "metadata": {},
     "output_type": "execute_result"
    }
   ],
   "source": [
    "data = {(\"x\",\"y\",\"z\"): \"\"}\n",
    "data"
   ]
  },
  {
   "cell_type": "code",
   "execution_count": null,
   "id": "24b100d5-86d5-4fa8-8889-0b63fdca679b",
   "metadata": {},
   "outputs": [],
   "source": []
  }
 ],
 "metadata": {
  "kernelspec": {
   "display_name": "Python 3 (ipykernel)",
   "language": "python",
   "name": "python3"
  },
  "language_info": {
   "codemirror_mode": {
    "name": "ipython",
    "version": 3
   },
   "file_extension": ".py",
   "mimetype": "text/x-python",
   "name": "python",
   "nbconvert_exporter": "python",
   "pygments_lexer": "ipython3",
   "version": "3.12.2"
  }
 },
 "nbformat": 4,
 "nbformat_minor": 5
}
