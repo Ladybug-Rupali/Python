{
 "cells": [
  {
   "cell_type": "markdown",
   "id": "5b67f3db-cf95-4ba0-9b6f-a3027a15cf6f",
   "metadata": {},
   "source": [
    "# File Handling\n",
    "\n",
    "* __To read text file follow these steps :__\n",
    "* __Open text file using >> open() function__\n",
    "* __Read text from text file using >> read(), readline(), readlines() methods of the file object.__\n",
    "* __Close file using >> close(). These frees up resources and ensures consistency across different python versions.__\n",
    "\n",
    "## Method:\n",
    "\n",
    "* __writeable(): Returns whether the file can be written or not.__\n",
    "* __readable(): Returns whether the file can be read or not.__\n",
    "* __read(): Returns the file content.__\n",
    "* __readline(): one line from the file.__\n",
    "* __readlines(): list of lines.__\n",
    "* __write(): write specified string in the file.__\n",
    "* __writelines(): writes list of strings.__\n",
    "* __close(): Closes the file.__\n",
    "* __flush(): Flushed the internal buffer.__\n",
    "* __seek(): Change the file position.__\n",
    "* __tell(): Returns the current file.__\n",
    "* __truncate(): Resize the file to the specified.__"
   ]
  },
  {
   "cell_type": "code",
   "execution_count": 10,
   "id": "14b65e4c-ca28-40bb-b356-39d972fc39ae",
   "metadata": {},
   "outputs": [
    {
     "name": "stdout",
     "output_type": "stream",
     "text": [
      "Lorem Ipsum is simply dummy text of the printing and typesetting industry. Lorem Ipsum has been the industry's standard dummy text ever since the 1500s, when an unknown printer took a galley of type and scrambled it to make a type specimen book. It has survived not only five centuries, but also the leap into electronic typesetting, remaining essentially unchanged. It was popularised in the 1960s with the release of Letraset sheets containing Lorem Ipsum passages, and more recently with desktop publishing software like Aldus PageMaker including versions of Lorem Ipsum.\n",
      "\n",
      "jhdgjhsbhjbd smnbnxbsmb bsjbdjhmbdb.\n",
      "wkjjsnhkjhwkdnwjkd.\n",
      "wkjhdjhhjedbkbj bdjhgjgwdbs jhdjgieyhiuhdnkjs.\n",
      "snkjnkdhwgedb kjhjuwguyegd jsgdjeudyhbmsn.\n",
      "ksjhwguywgswjh hsbjhgwdygw hgswsgdiw sjbjsbhd.\n",
      "hdygduyegwbd sjbjbdyegdehg jsbjdhgdyuewd.\n",
      "sbjhwgduyedwg bjjwbdjwb sbdjiuyeuwi jdhiueyiewu.\n",
      "swuhdiuwjh hsbjhvhdvbv\n",
      "jjhgdgduydhgj kjdheugdiuwg kdhguewgdbj.\n"
     ]
    }
   ],
   "source": [
    "x = \"C:\\\\Users\\\\prasa\\\\Downloads\\\\Details.txt\"  #(double slash converted into single slash in utf)\n",
    "file = open(x, 'r')\n",
    "content = file.read()\n",
    "print(content)"
   ]
  },
  {
   "cell_type": "code",
   "execution_count": 2,
   "id": "c0ec24e6-12e8-4a57-a68d-b8e21ea34282",
   "metadata": {},
   "outputs": [
    {
     "name": "stdout",
     "output_type": "stream",
     "text": [
      "C:\\Users\\prasa\\Downloads\\Details.txt\n"
     ]
    }
   ],
   "source": [
    "#Printing path of the file \n",
    "\n",
    "print(file.name)"
   ]
  },
  {
   "cell_type": "code",
   "execution_count": 8,
   "id": "628a0f6c-116c-4133-9749-e34ac368febe",
   "metadata": {},
   "outputs": [
    {
     "name": "stdout",
     "output_type": "stream",
     "text": [
      "r\n"
     ]
    }
   ],
   "source": [
    "# Printing the mod of file \n",
    "\n",
    "print(file.mode)"
   ]
  },
  {
   "cell_type": "code",
   "execution_count": 9,
   "id": "f16418c9-7602-4f14-afc5-0293b130525e",
   "metadata": {},
   "outputs": [
    {
     "name": "stdout",
     "output_type": "stream",
     "text": [
      "<class 'str'>\n"
     ]
    }
   ],
   "source": [
    "# Printing the type of file \n",
    "\n",
    "print(type(content))"
   ]
  },
  {
   "cell_type": "code",
   "execution_count": 10,
   "id": "177bdecc-0fbf-4f5a-9b43-fa3998d494ca",
   "metadata": {},
   "outputs": [
    {
     "data": {
      "text/plain": [
       "\"Lorem Ipsum is simply dummy text of the printing and typesetting industry. Lorem Ipsum has been the industry's standard dummy text ever since the 1500s, when an unknown printer took a galley of type and scrambled it to make a type specimen book. It has survived not only five centuries, but also the leap into electronic typesetting, remaining essentially unchanged. It was popularised in the 1960s with the release of Letraset sheets containing Lorem Ipsum passages, and more recently with desktop publishing software like Aldus PageMaker including versions of Lorem Ipsum.\""
      ]
     },
     "execution_count": 10,
     "metadata": {},
     "output_type": "execute_result"
    }
   ],
   "source": [
    "# Printing the file with \\n: \n",
    "# only file name without print\n",
    "content"
   ]
  },
  {
   "cell_type": "code",
   "execution_count": 11,
   "id": "670e4747-8e0c-4d10-8ff3-4a66e9452ad7",
   "metadata": {},
   "outputs": [
    {
     "name": "stdout",
     "output_type": "stream",
     "text": [
      "Lorem Ipsum is simply dummy text of the printing and typesetting industry. Lorem Ipsum has been the industry's standard dummy text ever since the 1500s, when an unknown printer took a galley of type and scrambled it to make a type specimen book. It has survived not only five centuries, but also the leap into electronic typesetting, remaining essentially unchanged. It was popularised in the 1960s with the release of Letraset sheets containing Lorem Ipsum passages, and more recently with desktop publishing software like Aldus PageMaker including versions of Lorem Ipsum.\n"
     ]
    }
   ],
   "source": [
    "# Printing the file as it is:\n",
    "# With print file name\n",
    "print(content)"
   ]
  },
  {
   "cell_type": "code",
   "execution_count": 17,
   "id": "811a9bbb-8ee6-4ea4-81a2-8c23d124b2ca",
   "metadata": {},
   "outputs": [
    {
     "data": {
      "text/plain": [
       "True"
      ]
     },
     "execution_count": 17,
     "metadata": {},
     "output_type": "execute_result"
    }
   ],
   "source": [
    "# Verification of the file. \n",
    "\n",
    "file.closed #(only closed in it returns boolean value)\n"
   ]
  },
  {
   "cell_type": "code",
   "execution_count": 16,
   "id": "d974d339-b276-482d-b925-04df5b599442",
   "metadata": {},
   "outputs": [],
   "source": [
    "# Closing the file \n",
    "\n",
    "file.close()"
   ]
  },
  {
   "cell_type": "code",
   "execution_count": 2,
   "id": "caae550d-050d-45d3-ac89-de91623c36e3",
   "metadata": {},
   "outputs": [
    {
     "name": "stdout",
     "output_type": "stream",
     "text": [
      "Lorem Ipsum is simply dummy text of the printing and typesetting industry. Lorem Ipsum has been the industry's standard dummy text ever since the 1500s, when an unknown printer took a galley of type and scrambled it to make a type specimen book. It has survived not only five centuries, but also the leap into electronic typesetting, remaining essentially unchanged. It was popularised in the 1960s with the release of Letraset sheets containing Lorem Ipsum passages, and more recently with desktop publishing software like Aldus PageMaker including versions of Lorem Ipsum.\n"
     ]
    }
   ],
   "source": [
    "# Another way to open a file \n",
    "# By default it closes the file \n",
    "\n",
    "fname = \"C:\\\\Users\\\\prasa\\\\Downloads\\\\Details.txt\"\n",
    "\n",
    "with open(fname, 'r') as f:\n",
    "    content = f.read()\n",
    "    print(content)\n",
    "    "
   ]
  },
  {
   "cell_type": "code",
   "execution_count": 28,
   "id": "e2dc08b9-f3b0-4d76-bd22-851a387de5f6",
   "metadata": {},
   "outputs": [
    {
     "name": "stdout",
     "output_type": "stream",
     "text": [
      "Lorem Ipsum is simply dummy text of the printing a\n",
      "nd ty\n"
     ]
    }
   ],
   "source": [
    "# Reading certain amount of characters in the file\n",
    "\n",
    "with open(fname,'r',errors='ignore') as f:\n",
    "    print(f.read(50))\n",
    "    print(f.read(5))"
   ]
  },
  {
   "cell_type": "code",
   "execution_count": 20,
   "id": "9046adb0-fd42-4d0d-9315-f6a99810a593",
   "metadata": {},
   "outputs": [
    {
     "name": "stdout",
     "output_type": "stream",
     "text": [
      "Lorem Ipsum is simply dummy text of the printing and typesetting industry.\n",
      "\n",
      " Lorem Ipsum has been the industry's standard dummy text ever since the 1500s, \n",
      "\n",
      "when an unknown printer took a galley of type and scrambled it to make a type specimen book.\n",
      "\n"
     ]
    }
   ],
   "source": [
    "#readline ->>open one line at a time \n",
    "\n",
    "with open(fname,'r',errors='ignore') as f:\n",
    "   # print(f.readline())\n",
    "    print(f.readline())\n",
    "    print(f.readline())\n",
    "    print(f.readline())\n",
    "    \n",
    "    "
   ]
  },
  {
   "cell_type": "code",
   "execution_count": 21,
   "id": "77071fb7-cb3c-4c34-8dd6-292a3620269c",
   "metadata": {},
   "outputs": [
    {
     "name": "stdout",
     "output_type": "stream",
     "text": [
      "Paragraph is :->>  1 : Lorem Ipsum is simply dummy text of the printing and typesetting industry.\n",
      "\n",
      "Paragraph is :->>  2 :  Lorem Ipsum has been the industry's standard dummy text ever since the 1500s, \n",
      "\n",
      "Paragraph is :->>  3 : when an unknown printer took a galley of type and scrambled it to make a type specimen book.\n",
      "\n",
      "Paragraph is :->>  4 : \n",
      "\n",
      "Paragraph is :->>  5 :  It has survived not only five centuries, but also the leap into electronic typesetting, \n",
      "\n",
      "Paragraph is :->>  6 : \n",
      "\n",
      "Paragraph is :->>  7 : remaining essentially unchanged.\n",
      "\n",
      "Paragraph is :->>  8 :  It was popularised in the 1960s with the release of\n",
      "\n",
      "Paragraph is :->>  9 :  Letraset sheets containing Lorem Ipsum passages, an\n",
      "\n",
      "Paragraph is :->>  10 : \n",
      "\n",
      "Paragraph is :->>  11 : d more recently with desktop publishing software like Aldus PageMaker\n",
      "\n",
      "Paragraph is :->>  12 :  including versions of Lorem Ipsum.\n",
      "\n",
      "Paragraph is :->>  13 : \n",
      "\n",
      "Paragraph is :->>  14 : jhdgjhsbhjbd smnbnxbsmb bsjbdjhmbdb.\n",
      "\n",
      "Paragraph is :->>  15 : wkjjsnhkjhwkdnwjkd.\n",
      "\n",
      "Paragraph is :->>  16 : wkjhdjhhjedbkbj bdjhgjgwdbs jhdjgieyhiuhdnkjs.\n",
      "\n",
      "Paragraph is :->>  17 : snkjnkdhwgedb kjhjuwguyegd jsgdjeudyhbmsn.\n",
      "\n",
      "Paragraph is :->>  18 : ksjhwguywgswjh hsbjhgwdygw hgswsgdiw sjbjsbhd.\n",
      "\n",
      "Paragraph is :->>  19 : hdygduyegwbd sjbjbdyegdehg jsbjdhgdyuewd.\n",
      "\n",
      "Paragraph is :->>  20 : sbjhwgduyedwg bjjwbdjwb sbdjiuyeuwi jdhiueyiewu.\n",
      "\n",
      "Paragraph is :->>  21 : swuhdiuwjh hsbjhvhdvbv\n",
      "\n",
      "Paragraph is :->>  22 : jjhgdgduydhgj kjdheugdiuwg kdhguewgdbj.\n"
     ]
    }
   ],
   "source": [
    "# file open with for loop \n",
    "\n",
    "with open(fname,'r',errors=\"ignore\") as f:\n",
    "    line = 1\n",
    "    for i in f:\n",
    "        print(\"Paragraph is :->> \",str(line),\":\",i)\n",
    "        line += 1"
   ]
  },
  {
   "cell_type": "code",
   "execution_count": 24,
   "id": "31d5fbca-ea18-4425-b3a4-7433f1eb7d7c",
   "metadata": {},
   "outputs": [
    {
     "name": "stdout",
     "output_type": "stream",
     "text": [
      "Line number is :->> 1 :->> Lorem Ipsum is simply dummy text of the printing and typesetting industry.\n",
      "\n",
      "Line number is :->> 2 :->>  Lorem Ipsum has been the industry's standard dummy text ever since the 1500s, \n",
      "\n",
      "Line number is :->> 3 :->> when an unknown printer took a galley of type and scrambled it to make a type specimen book.\n",
      "\n",
      "Line number is :->> 4 :->> \n",
      "\n",
      "Line number is :->> 5 :->>  It has survived not only five centuries, but also the leap into electronic typesetting, \n",
      "\n",
      "Line number is :->> 6 :->> \n",
      "\n",
      "Line number is :->> 7 :->> remaining essentially unchanged.\n",
      "\n",
      "Line number is :->> 8 :->>  It was popularised in the 1960s with the release of\n",
      "\n",
      "Line number is :->> 9 :->>  Letraset sheets containing Lorem Ipsum passages, an\n",
      "\n",
      "Line number is :->> 10 :->> \n",
      "\n",
      "Line number is :->> 11 :->> d more recently with desktop publishing software like Aldus PageMaker\n",
      "\n",
      "Line number is :->> 12 :->>  including versions of Lorem Ipsum.\n",
      "\n",
      "Line number is :->> 13 :->> \n",
      "\n",
      "Line number is :->> 14 :->> jhdgjhsbhjbd smnbnxbsmb bsjbdjhmbdb.\n",
      "\n",
      "Line number is :->> 15 :->> wkjjsnhkjhwkdnwjkd.\n",
      "\n",
      "Line number is :->> 16 :->> wkjhdjhhjedbkbj bdjhgjgwdbs jhdjgieyhiuhdnkjs.\n",
      "\n",
      "Line number is :->> 17 :->> snkjnkdhwgedb kjhjuwguyegd jsgdjeudyhbmsn.\n",
      "\n",
      "Line number is :->> 18 :->> ksjhwguywgswjh hsbjhgwdygw hgswsgdiw sjbjsbhd.\n",
      "\n",
      "Line number is :->> 19 :->> hdygduyegwbd sjbjbdyegdehg jsbjdhgdyuewd.\n",
      "\n",
      "Line number is :->> 20 :->> sbjhwgduyedwg bjjwbdjwb sbdjiuyeuwi jdhiueyiewu.\n",
      "\n",
      "Line number is :->> 21 :->> swuhdiuwjh hsbjhvhdvbv\n",
      "\n",
      "Line number is :->> 22 :->> jjhgdgduydhgj kjdheugdiuwg kdhguewgdbj.\n"
     ]
    }
   ],
   "source": [
    "with open(fname,'r',errors=\"ignore\") as shawn:\n",
    "    line_no = 1\n",
    "    for rupali in shawn:\n",
    "        print(\"Line number is :->>\",str(line_no),\":->>\",rupali)\n",
    "        line_no+=1"
   ]
  },
  {
   "cell_type": "code",
   "execution_count": 47,
   "id": "4437852f-0d7f-4cb7-ad0b-f14bc5c4f461",
   "metadata": {},
   "outputs": [
    {
     "name": "stdin",
     "output_type": "stream",
     "text": [
      "Enter your file path /n C:\\\\Users\\\\prasa\\\\Downloads\\\\Details.txt\n"
     ]
    },
    {
     "name": "stdout",
     "output_type": "stream",
     "text": [
      "Lorem Ipsum is simply dummy text of the printing and typesetting industry.\n",
      " Lorem Ipsum has been the industry's standard dummy text ever since the 1500s, \n",
      "when an unknown printer took a galley of type and scrambled it to make a type specimen book.\n",
      "\n",
      " It has survived not only five centuries, but also the leap into electronic typesetting, \n",
      "\n",
      "remaining essentially unchanged.\n",
      " It was popularised in the 1960s with the release of\n",
      " Letraset sheets containing Lorem Ipsum passages, an\n",
      "\n",
      "d more recently with desktop publishing software like Aldus PageMaker\n",
      " including versions of Lorem Ipsum.\n",
      "\n",
      "jhdgjhsbhjbd smnbnxbsmb bsjbdjhmbdb.\n",
      "wkjjsnhkjhwkdnwjkd.\n",
      "wkjhdjhhjedbkbj bdjhgjgwdbs jhdjgieyhiuhdnkjs.\n",
      "snkjnkdhwgedb kjhjuwguyegd jsgdjeudyhbmsn.\n",
      "ksjhwguywgswjh hsbjhgwdygw hgswsgdiw sjbjsbhd.\n",
      "hdygduyegwbd sjbjbdyegdehg jsbjdhgdyuewd.\n",
      "sbjhwgduyedwg bjjwbdjwb sbdjiuyeuwi jdhiueyiewu.\n",
      "swuhdiuwjh hsbjhvhdvbv\n",
      "jjhgdgduydhgj kjdheugdiuwg kdhguewgdbj.\n"
     ]
    }
   ],
   "source": [
    "#Reading file using function \n",
    "def file(x):\n",
    "    file_name = x\n",
    "    file = open(file_name,'r',errors=\"ignore\")\n",
    "    content2=file.read()\n",
    "    print(content2)\n",
    "user = input(\"Enter your file path /n\")\n",
    "file(user)\n",
    "    "
   ]
  },
  {
   "cell_type": "code",
   "execution_count": 51,
   "id": "0c98ee11-5afb-4021-8f95-a5589563ef7d",
   "metadata": {},
   "outputs": [
    {
     "name": "stdout",
     "output_type": "stream",
     "text": [
      "Lorem Ipsum is simply dummy text of the printing and typesetting industry.\n",
      " Lorem Ipsum has been the industry's standard dummy text ever since the 1500s, \n",
      "when an unknown printer took a galley of type and scrambled it to make a type specimen book.\n",
      "\n",
      " It has survived not only five centuries, but also the leap into electronic typesetting, \n",
      "\n",
      "remaining essentially unchanged.\n",
      " It was popularised in the 1960s with the release of\n",
      " Letraset sheets containing Lorem Ipsum passages, an\n",
      "\n",
      "d more recently with desktop publishing software like Aldus PageMaker\n",
      " including versions of Lorem Ipsum.\n",
      "\n",
      "jhdgjhsbhjbd smnbnxbsmb bsjbdjhmbdb.\n",
      "wkjjsnhkjhwkdnwjkd.\n",
      "wkjhdjhhjedbkbj bdjhgjgwdbs jhdjgieyhiuhdnkjs.\n",
      "snkjnkdhwgedb kjhjuwguyegd jsgdjeudyhbmsn.\n",
      "ksjhwguywgswjh hsbjhgwdygw hgswsgdiw sjbjsbhd.\n",
      "hdygduyegwbd sjbjbdyegdehg jsbjdhgdyuewd.\n",
      "sbjhwgduyedwg bjjwbdjwb sbdjiuyeuwi jdhiueyiewu.\n",
      "swuhdiuwjh hsbjhvhdvbv\n",
      "jjhgdgduydhgj kjdheugdiuwg kdhguewgdbj.\n"
     ]
    }
   ],
   "source": [
    "#File open using class and object \n",
    "\n",
    "class file:\n",
    "    def __init__(self,file_name):\n",
    "        self.file_name=file_name\n",
    "    def openfile(self):\n",
    "        file_name_new = self.file_name\n",
    "        file = open(file_name_new,'r')\n",
    "        read_file = file.read()\n",
    "        print(read_file)\n",
    "\n",
    "new = file(\"C:\\\\Users\\\\prasa\\\\Downloads\\\\Details.txt\")\n",
    "new.openfile()"
   ]
  },
  {
   "cell_type": "code",
   "execution_count": 55,
   "id": "5a3c9d94-73b7-4b6e-b27e-45eceb1f2a54",
   "metadata": {},
   "outputs": [
    {
     "name": "stdin",
     "output_type": "stream",
     "text": [
      "Enter your file name here :->>  hdbjh\n"
     ]
    },
    {
     "name": "stdout",
     "output_type": "stream",
     "text": [
      "Please enter correct file name.\n"
     ]
    }
   ],
   "source": [
    "try:\n",
    "    file_name = input(\"Enter your file name here :->> \")\n",
    "    file = open(file_name,'r')\n",
    "    read_file_here = file.read()\n",
    "    print(read_file_here)\n",
    "except FileNotFoundError:\n",
    "    print(\"Please enter correct file name.\")\n",
    "except KeyboardInterrupt:\n",
    "    print(\"Keyboard is interrupted by user : \")"
   ]
  },
  {
   "cell_type": "code",
   "execution_count": 66,
   "id": "f3b29dea-b9e1-45c0-802e-19c0c3125c82",
   "metadata": {},
   "outputs": [
    {
     "name": "stdout",
     "output_type": "stream",
     "text": [
      "length of total file is :  934\n",
      "Total white spaces in file are :  107\n",
      "Total length of file without white spaces is :  827\n"
     ]
    }
   ],
   "source": [
    "#Count the total length of file and minus the white spaces. \n",
    "print(\"length of total file is : \",len(read_file_here))\n",
    "print(\"Total white spaces in file are : \",read_file_here.count(' '))\n",
    "\n",
    "print(\"Total length of file without white spaces is : \",len(read_file_here)-read_file_here.count(' '))"
   ]
  },
  {
   "cell_type": "code",
   "execution_count": 14,
   "id": "4cdfe247-9bde-4b91-900b-48c7ab7c0a57",
   "metadata": {},
   "outputs": [
    {
     "ename": "NameError",
     "evalue": "name 'fname' is not defined",
     "output_type": "error",
     "traceback": [
      "\u001b[1;31m----------------------------------------------------------------\u001b[0m",
      "\u001b[1;31mNameError\u001b[0m                      Traceback (most recent call last)",
      "Cell \u001b[1;32mIn[14], line 3\u001b[0m\n\u001b[0;32m      1\u001b[0m \u001b[38;5;66;03m#Count the total length of file and minus the white spaces. \u001b[39;00m\n\u001b[1;32m----> 3\u001b[0m \u001b[38;5;28;01mwith\u001b[39;00m \u001b[38;5;28mopen\u001b[39m(\u001b[43mfname\u001b[49m,\u001b[38;5;124m'\u001b[39m\u001b[38;5;124mr\u001b[39m\u001b[38;5;124m'\u001b[39m,errors\u001b[38;5;241m=\u001b[39m\u001b[38;5;124m\"\u001b[39m\u001b[38;5;124mignore\u001b[39m\u001b[38;5;124m\"\u001b[39m) \u001b[38;5;28;01mas\u001b[39;00m f:\n\u001b[0;32m      4\u001b[0m     \u001b[38;5;28mstr\u001b[39m\u001b[38;5;241m=\u001b[39m\u001b[38;5;124m'\u001b[39m\u001b[38;5;124m'\u001b[39m\n\u001b[0;32m      5\u001b[0m     \u001b[38;5;28;01mfor\u001b[39;00m i \u001b[38;5;129;01min\u001b[39;00m f:\n",
      "\u001b[1;31mNameError\u001b[0m: name 'fname' is not defined"
     ]
    }
   ],
   "source": [
    "#Count the total length of file and minus the white spaces. \n",
    "\n",
    "with open(fname,'r',errors=\"ignore\") as f:\n",
    "    str=''\n",
    "    for i in f:\n",
    "        str+=i\n",
    "    print(f\"Total Characters of the text is: {len(str)}\")\n",
    "    print('Total Characters of the text without spaces is:',len(str.replace(' ','')))"
   ]
  },
  {
   "cell_type": "code",
   "execution_count": 69,
   "id": "9d9ceeb7-c2a5-4bd0-8ec6-1dff53ee7337",
   "metadata": {},
   "outputs": [
    {
     "name": "stdout",
     "output_type": "stream",
     "text": [
      "\n",
      "    ========================================\n",
      "    \n",
      "    \n",
      "                 hello dear\n",
      "    \n",
      "    \n",
      "    ===========================================\n",
      "    \n",
      "    \n"
     ]
    }
   ],
   "source": [
    "print(\n",
    "    '''\n",
    "    ========================================\n",
    "    \n",
    "    \n",
    "                 hello dear\n",
    "    \n",
    "    \n",
    "    ===========================================\n",
    "    \n",
    "    '''\n",
    ")\n"
   ]
  },
  {
   "cell_type": "code",
   "execution_count": 75,
   "id": "e3189a11-d916-492f-bb85-4152c695b116",
   "metadata": {},
   "outputs": [
    {
     "name": "stdout",
     "output_type": "stream",
     "text": [
      "False\n",
      "False\n"
     ]
    }
   ],
   "source": [
    "x = 30\n",
    "x = 7\n",
    "\n",
    "print(x==y)\n",
    "print(x is y)"
   ]
  },
  {
   "cell_type": "code",
   "execution_count": 77,
   "id": "9ce3aa51-995f-49a9-8581-e2d383186622",
   "metadata": {},
   "outputs": [
    {
     "name": "stdout",
     "output_type": "stream",
     "text": [
      "False\n"
     ]
    }
   ],
   "source": [
    "x = True\n",
    "y = False\n",
    "print(not x)"
   ]
  },
  {
   "cell_type": "code",
   "execution_count": 80,
   "id": "40aaf408-5e33-4882-8398-9f736e465f8e",
   "metadata": {},
   "outputs": [
    {
     "name": "stdout",
     "output_type": "stream",
     "text": [
      "65\n"
     ]
    }
   ],
   "source": [
    "x = 65\n",
    "y=53\n",
    "z=y if (x%2==0) else x\n",
    "print(z)"
   ]
  },
  {
   "cell_type": "code",
   "execution_count": 5,
   "id": "26791c3d-266e-4af1-955c-4442fa787d99",
   "metadata": {},
   "outputs": [
    {
     "name": "stdout",
     "output_type": "stream",
     "text": [
      "India, country that occupies the greater part of South Asia. India is made up of 28 states and eight union territories, and its national capital is New Delhi, built in the 20th century just south of the historic hub of Old Delhi to serve as Indiaâ€™s administrative centre. Its government is a constitutional republic that represents a highly diverse population consisting of thousands of ethnic groups and hundreds of languages. India became the worldâ€™s most populous country in 2023, according to estimates by the United Nations.\n",
      "\n",
      "It is known from archaeological evidence that a highly sophisticated urbanized cultureâ€”the Indus civilizationâ€”dominated the northwestern part of the subcontinent from about 2600 to 2000 BCE. From that period on, India functioned as a virtually self-contained political and cultural arena, which gave rise to a distinctive tradition that was associated primarily with Hinduism, the roots of which can largely be traced to the Indus civilization. Other religions, notably Buddhism and Jainism, originated in Indiaâ€”though their presence there is now quite smallâ€”and throughout the centuries residents of the subcontinent developed a rich intellectual life in such fields as mathematics, astronomy, architecture, literature, music, and the fine arts.\n"
     ]
    }
   ],
   "source": [
    "#Reading file using function \n",
    "def file():\n",
    "    file_name = \"C:\\\\Users\\\\prasa\\\\OneDrive\\\\Documents\\\\india.txt\"\n",
    "    file = open(file_name,'r',errors=\"ignore\")\n",
    "    content2=file.read()\n",
    "    print(content2)\n",
    "file()\n"
   ]
  },
  {
   "cell_type": "code",
   "execution_count": 12,
   "id": "e61a9c60-edeb-4a03-b1f9-3a342476d93b",
   "metadata": {},
   "outputs": [
    {
     "name": "stdout",
     "output_type": "stream",
     "text": [
      "India, country that occupies the greater part of South Asia. \n",
      "\n",
      "India is made up of 28 states and eight union territories, and its national capital is New Delhi, built in the 20th century just south of the historic hub of Old Delhi to serve as Indiaâ€™s administrative centre. \n",
      "\n",
      "Its government is a constitutional republic that represents a highly diverse population consisting of thousands of ethnic groups and hundreds of languages. \n",
      "\n",
      "India became the worldâ€™s most populous country in 2023, according to estimates by the United Nations.\n",
      "\n",
      "\n",
      "\n",
      "It is known from archaeological evidence that a highly sophisticated urbanized cultureâ€”the Indus civilizationâ€”dominated the northwestern part of the subcontinent from about 2600 to 2000 BCE. \n",
      "\n",
      "From that period on, India functioned as a virtually self-contained political and cultural arena, which gave rise to a distinctive tradition that was associated primarily with Hinduism, the roots of which can largely be traced to the Indus civilization.\n",
      "\n",
      " Other religions, notably Buddhism and Jainism, originated in Indiaâ€”though their presence there is now quite smallâ€”and throughout the centuries residents of the subcontinent developed a rich intellectual life in such fields as mathematics, astronomy, architecture, literature, music, and the fine arts.\n"
     ]
    }
   ],
   "source": [
    "# WAP to count the number of lines from file whcih is not starting with an alphabate t\n",
    "def t_check():\n",
    "    fname=open(\"C:\\\\Users\\\\prasa\\\\OneDrive\\\\Documents\\\\india.txt\")\n",
    "    count = 0\n",
    "    for i in fname:\n",
    "        count+=1\n",
    "        if i[0] not in ['T','t']:\n",
    "            print(i)\n",
    "          \n",
    "t_check()"
   ]
  },
  {
   "cell_type": "code",
   "execution_count": 13,
   "id": "ec9fbb77-e17a-476e-b88e-95b318647f86",
   "metadata": {},
   "outputs": [
    {
     "name": "stdout",
     "output_type": "stream",
     "text": [
      "length of total file is :  43\n",
      "Total white spaces in file are :  0\n",
      "Total length of file without white spaces is :  43\n"
     ]
    }
   ],
   "source": [
    "#Count the total length of file and minus the white spaces. \n",
    "\n",
    "read_file_here=\"C:\\\\Users\\\\prasa\\\\OneDrive\\\\Documents\\\\india.txt\"\n",
    "print(\"length of total file is : \",len(read_file_here))\n",
    "print(\"Total white spaces in file are : \",read_file_here.count(' '))\n",
    "\n",
    "print(\"Total length of file without white spaces is : \",len(read_file_here)-read_file_here.count(' '))"
   ]
  },
  {
   "cell_type": "code",
   "execution_count": null,
   "id": "c19fbf07-83c8-4abd-9c05-db03b0d448a4",
   "metadata": {},
   "outputs": [],
   "source": []
  }
 ],
 "metadata": {
  "kernelspec": {
   "display_name": "Python 3 (ipykernel)",
   "language": "python",
   "name": "python3"
  },
  "language_info": {
   "codemirror_mode": {
    "name": "ipython",
    "version": 3
   },
   "file_extension": ".py",
   "mimetype": "text/x-python",
   "name": "python",
   "nbconvert_exporter": "python",
   "pygments_lexer": "ipython3",
   "version": "3.12.3"
  }
 },
 "nbformat": 4,
 "nbformat_minor": 5
}
