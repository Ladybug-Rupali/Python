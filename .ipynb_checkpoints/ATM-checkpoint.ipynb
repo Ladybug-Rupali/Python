{
 "cells": [
  {
   "cell_type": "code",
   "execution_count": null,
   "id": "52648eab-138b-4bab-9ce1-0e706dc7103d",
   "metadata": {},
   "outputs": [
    {
     "name": "stdout",
     "output_type": "stream",
     "text": [
      "Error: Enter a correct option.\n",
      "\n"
     ]
    },
    {
     "name": "stdin",
     "output_type": "stream",
     "text": [
      "\n",
      "Choose an option: 7\n"
     ]
    },
    {
     "name": "stdout",
     "output_type": "stream",
     "text": [
      "Error: Enter a correct option.\n",
      "\n",
      "Error: Enter a correct option.\n",
      "\n"
     ]
    }
   ],
   "source": [
    "class ATM:\n",
    "    def __init__(self,name,acc,pin,balance=0):\n",
    "        self.name=name\n",
    "        self.acc = acc\n",
    "        self.pin = pin\n",
    "        self.balance=balance\n",
    "\n",
    "    def details(self):\n",
    "        print(\"Your name is : {self.name}\")\n",
    "        print(\"Your account number  is : {self.acc}\")\n",
    "        print(\"Your pin is : ####\")\n",
    "        print(\"Your balance is : {self.balance}\")\n",
    "\n",
    "    def check_balance(self):\n",
    "        print(f'Your balance is : {self.balance}')\n",
    "\n",
    "    def deposite(self,deposite):\n",
    "        self.balance += deposite\n",
    "        print('Amount deposited successfully, your balance now is :',self.balance)\n",
    "\n",
    "    def withdraw(self,withdraw):\n",
    "        if withdraw>self.balance:\n",
    "            print('Insufficient funds')\n",
    "\n",
    "        else:\n",
    "            self.balance -= withdraw\n",
    "            print('Withdrwal successful! Your remaining amount is :',self.balance)\n",
    "    def changepin(self,oldpin,newpin=0):\n",
    "        if oldpin != self.pin:\n",
    "            print(\"Invalid pin\")\n",
    "        else:\n",
    "            newpin=int(input(\"Enter your new PIN:\"))\n",
    "            self.pin=newpin\n",
    "            print(\"PIN has been updated.\")\n",
    "            \n",
    "    def transaction(self):\n",
    "       print(\"\"\"\n",
    "       \\nSelect any of following:\n",
    "       \\n1.Account Details\n",
    "       \\n2.Balance\n",
    "       \\n3.deposite\n",
    "       \\n4.withdraw\n",
    "       \\n5.Change Pin\n",
    "       \\n6.Exit\n",
    "       \n",
    "       \"\"\")\n",
    "\n",
    "    while True:\n",
    "         try:\n",
    "             opt=int(input(\"\\nChoose an option:\"))\n",
    "         except:\n",
    "             print(\"Error: Enter a correct option.\\n\")\n",
    "             continue\n",
    "         else:\n",
    "            if opt == 1:\n",
    "                ATM.details(self)\n",
    "            elif opt == 2:\n",
    "                ATM.check_balance(self)\n",
    "            elif opt ==3:\n",
    "                deposite = int(input(\"Enetr amount you want to deposite\"))\n",
    "                ATM.depositee(Self,deposite)\n",
    "            elif opt == 4:\n",
    "                withdraw = int(input(\"Enetr amount you want to withdraw\"))\n",
    "                ATM.withdraw(self,withdraw)\n",
    "            elif opt == 5:\n",
    "                oldpin = int(input(\"Enter your currrent pin\"))\n",
    "                ATM.changepin(self,oldpin)\n",
    "            \n",
    "            elif opt == 6:\n",
    "                    print(\"Thank you for using this ATM.\")\n",
    "                    break\n",
    "            \n",
    "\n",
    "name = input(\"Enter your name:\")\n",
    "acc = int(input(\"Enter your account number\"))\n",
    "pin = int(input(\"Enter your pin\"))                \n",
    "value = ATM(name,acc,pin)\n",
    "value.transaction()\n",
    "\n",
    "        \n",
    "        \n",
    "        \n",
    "\n",
    "\n",
    "        "
   ]
  },
  {
   "cell_type": "code",
   "execution_count": 3,
   "id": "ff44e9e2-7371-4677-8f78-87b7dee5526f",
   "metadata": {},
   "outputs": [
    {
     "name": "stdin",
     "output_type": "stream",
     "text": [
      "Enter your name: whgd\n",
      "Enter your account number: 232\n",
      "Enter your PIN: 24\n"
     ]
    },
    {
     "name": "stdout",
     "output_type": "stream",
     "text": [
      "\n",
      "List of Options:\n",
      "              \n",
      "1. Account Details\n",
      "              \n",
      "2. Check Balance\n",
      "              \n",
      "3. Deposit\n",
      "              \n",
      "4. Withdraw\n",
      "              \n",
      "5. Change PIN\n",
      "              \n",
      "6. Exit\n"
     ]
    },
    {
     "name": "stdin",
     "output_type": "stream",
     "text": [
      "\n",
      "Choose an option: 1\n"
     ]
    },
    {
     "name": "stdout",
     "output_type": "stream",
     "text": [
      "\n",
      "Account Owner Name: whgd\n",
      "Account Number: 232\n",
      "Account PIN: ####\n",
      "Account Balance: 0\n"
     ]
    },
    {
     "name": "stdin",
     "output_type": "stream",
     "text": [
      "\n",
      "Choose an option: 6\n"
     ]
    },
    {
     "name": "stdout",
     "output_type": "stream",
     "text": [
      "Thank you for using this ATM.\n"
     ]
    }
   ],
   "source": []
  },
  {
   "cell_type": "code",
   "execution_count": null,
   "id": "e4768d7e-1152-422f-a1fc-1b124c4e16f5",
   "metadata": {},
   "outputs": [],
   "source": []
  }
 ],
 "metadata": {
  "kernelspec": {
   "display_name": "Python 3 (ipykernel)",
   "language": "python",
   "name": "python3"
  },
  "language_info": {
   "codemirror_mode": {
    "name": "ipython",
    "version": 3
   },
   "file_extension": ".py",
   "mimetype": "text/x-python",
   "name": "python",
   "nbconvert_exporter": "python",
   "pygments_lexer": "ipython3",
   "version": "3.12.4"
  }
 },
 "nbformat": 4,
 "nbformat_minor": 5
}
