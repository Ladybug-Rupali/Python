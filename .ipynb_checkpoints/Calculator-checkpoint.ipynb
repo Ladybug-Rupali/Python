{
 "cells": [
  {
   "cell_type": "code",
   "execution_count": null,
   "id": "0a6aae83-f068-44ab-9530-96f54fb51342",
   "metadata": {},
   "outputs": [
    {
     "name": "stdout",
     "output_type": "stream",
     "text": [
      "Which operation you want to perform\n",
      " 1 . For Addition\n",
      " 2 . For Subtraction\n",
      " 3 . For Multiplication\n",
      " 4 . For Division\n"
     ]
    },
    {
     "name": "stdin",
     "output_type": "stream",
     "text": [
      "Enter your choice (1/2/3/4) : \n",
      " 44\n"
     ]
    },
    {
     "name": "stdout",
     "output_type": "stream",
     "text": [
      "Invalid input\n"
     ]
    },
    {
     "name": "stdin",
     "output_type": "stream",
     "text": [
      "Enter your choice (1/2/3/4) : \n",
      " 3\n",
      "Enter first number : \n",
      " 45\n",
      "Enter second number : \n",
      " 45\n"
     ]
    },
    {
     "name": "stdout",
     "output_type": "stream",
     "text": [
      "Multiplication is :  45.0  *  45.0  =  2025.0 \n",
      "\n"
     ]
    }
   ],
   "source": [
    "#Calculator \n",
    "\n",
    "\n",
    "\n",
    "\n",
    "print(\"Which operation you want to perform\")\n",
    "print(\" 1 . For Addition\")\n",
    "print(\" 2 . For Subtraction\")\n",
    "print(\" 3 . For Multiplication\")\n",
    "print(\" 4 . For Division\")\n",
    "\n",
    "while True:\n",
    "    choice = input(\"Enter your choice (1/2/3/4) : \\n\")\n",
    "    if choice in ('1', '2', '3', '4'):\n",
    "        try:\n",
    "            num1 = float(input(\"Enter first number : \\n\"))\n",
    "            num2 = float(input(\"Enter second number : \\n\"))\n",
    "        except ValueError:\n",
    "            print(\" Enter only integers \")\n",
    "            continue\n",
    "        if choice == '1':\n",
    "            print(\"Addition is : \", num1 , \" + \", num2, \" = \", num1 + num2, \"\\n\")\n",
    "        elif choice == '2':\n",
    "            print(\"Subtraction is : \", num1, \" - \", num2, \" = \", num1 - num2, \"\\n\")\n",
    "        elif choice == '3':\n",
    "            print(\"Multiplication is : \", num1, \" * \", num2, \" = \", num1 * num2, \"\\n\")\n",
    "        elif choice == '4':\n",
    "            print(\"Division is : \", num1, \" / \", num2, \" = \", num1 / num2, \"\\n\")\n",
    "        next_calculation = input(\" Let's do next calculation? ( y / n ) : \")\n",
    "        if next_calculation.lower() == \"n\" :\n",
    "          break\n",
    "    else:\n",
    "         print( \"Invalid input\" )\n",
    "    \n",
    "        "
   ]
  },
  {
   "cell_type": "code",
   "execution_count": 1,
   "id": "6dc6ba91-7f65-4279-9d7f-d456dbf1e448",
   "metadata": {},
   "outputs": [
    {
     "name": "stdout",
     "output_type": "stream",
     "text": [
      "Select operation.\n",
      "1.Add\n",
      "2.Subtract\n",
      "3.Multiply\n",
      "4.Divide\n"
     ]
    },
    {
     "name": "stdin",
     "output_type": "stream",
     "text": [
      "Enter choice(1/2/3/4):  1\n",
      "Enter first number:  45\n",
      "Enter second number:  54\n"
     ]
    },
    {
     "ename": "NameError",
     "evalue": "name 'add' is not defined",
     "output_type": "error",
     "traceback": [
      "\u001b[1;31m---------------------------------------------------------------------------\u001b[0m",
      "\u001b[1;31mNameError\u001b[0m                                 Traceback (most recent call last)",
      "Cell \u001b[1;32mIn[1], line 18\u001b[0m\n\u001b[0;32m     15\u001b[0m     \u001b[38;5;28;01mcontinue\u001b[39;00m\n\u001b[0;32m     17\u001b[0m \u001b[38;5;28;01mif\u001b[39;00m choice \u001b[38;5;241m==\u001b[39m \u001b[38;5;124m'\u001b[39m\u001b[38;5;124m1\u001b[39m\u001b[38;5;124m'\u001b[39m:\n\u001b[1;32m---> 18\u001b[0m     \u001b[38;5;28mprint\u001b[39m(num1, \u001b[38;5;124m\"\u001b[39m\u001b[38;5;124m+\u001b[39m\u001b[38;5;124m\"\u001b[39m, num2, \u001b[38;5;124m\"\u001b[39m\u001b[38;5;124m=\u001b[39m\u001b[38;5;124m\"\u001b[39m, \u001b[43madd\u001b[49m(num1, num2))\n\u001b[0;32m     20\u001b[0m \u001b[38;5;28;01melif\u001b[39;00m choice \u001b[38;5;241m==\u001b[39m \u001b[38;5;124m'\u001b[39m\u001b[38;5;124m2\u001b[39m\u001b[38;5;124m'\u001b[39m:\n\u001b[0;32m     21\u001b[0m     \u001b[38;5;28mprint\u001b[39m(num1, \u001b[38;5;124m\"\u001b[39m\u001b[38;5;124m-\u001b[39m\u001b[38;5;124m\"\u001b[39m, num2, \u001b[38;5;124m\"\u001b[39m\u001b[38;5;124m=\u001b[39m\u001b[38;5;124m\"\u001b[39m, subtract(num1, num2))\n",
      "\u001b[1;31mNameError\u001b[0m: name 'add' is not defined"
     ]
    }
   ],
   "source": [
    "# This function adds two numbers\n",
    "def add( x, y ):\n",
    "    return x + y\n",
    "\n",
    "# This function subtracts two numbers\n",
    "def subtract( x, y ):\n",
    "    return x - y\n",
    "\n",
    "# This function multiplies two numbers\n",
    "def multiply( x, y ):\n",
    "    return x * y\n",
    "\n",
    "# This function divides two numbers\n",
    "def divide( x, y ):\n",
    "    return x / y\n",
    "\n",
    "\n",
    "print(\"Select operation.\")\n",
    "print(\"1.Add\")\n",
    "print(\"2.Subtract\")\n",
    "print(\"3.Multiply\")\n",
    "print(\"4.Divide\")\n",
    "\n",
    "while True:\n",
    "    choice = input(\"Enter choice(1/2/3/4): \")\n",
    "    if choice in ('1', '2', '3', '4'):\n",
    "        try:\n",
    "            num1 = float(input(\"Enter first number: \"))\n",
    "            num2 = float(input(\"Enter second number: \"))\n",
    "        except ValueError:\n",
    "            print(\"Invalid input. Please enter a number.\")\n",
    "            continue\n",
    "\n",
    "        if choice == '1':\n",
    "            print(num1, \"+\", num2, \"=\", add(num1, num2))\n",
    "\n",
    "        elif choice == '2':\n",
    "            print(num1, \"-\", num2, \"=\", subtract(num1, num2))\n",
    "\n",
    "        elif choice == '3':\n",
    "            print(num1, \"*\", num2, \"=\", multiply(num1, num2))\n",
    "\n",
    "        elif choice == '4':\n",
    "            print(num1, \"/\", num2, \"=\", divide(num1, num2))\n",
    "        next_calculation = input(\"Let's do next calculation? (yes/no): \")\n",
    "        if next_calculation == \"no\":\n",
    "          break\n",
    "    else:\n",
    "        print(\"Invalid Input\")"
   ]
  },
  {
   "cell_type": "code",
   "execution_count": null,
   "id": "09d87988-d9c3-4381-b8bc-c9e7e1a78f7e",
   "metadata": {},
   "outputs": [],
   "source": []
  }
 ],
 "metadata": {
  "kernelspec": {
   "display_name": "Python 3 (ipykernel)",
   "language": "python",
   "name": "python3"
  },
  "language_info": {
   "codemirror_mode": {
    "name": "ipython",
    "version": 3
   },
   "file_extension": ".py",
   "mimetype": "text/x-python",
   "name": "python",
   "nbconvert_exporter": "python",
   "pygments_lexer": "ipython3",
   "version": "3.12.2"
  }
 },
 "nbformat": 4,
 "nbformat_minor": 5
}
