{
 "cells": [
  {
   "cell_type": "code",
   "execution_count": 66,
   "id": "7adc700c-a804-4308-88e7-612c75d0140b",
   "metadata": {},
   "outputs": [
    {
     "name": "stdout",
     "output_type": "stream",
     "text": [
      "['January', 'February', 'March', 'April', 'May', 'June', 'July', 'August', 'September', 'October', 'November', 'December']\n"
     ]
    },
    {
     "name": "stdin",
     "output_type": "stream",
     "text": [
      "Enter any month from list to know days August\n"
     ]
    },
    {
     "name": "stdout",
     "output_type": "stream",
     "text": [
      "31 days.\n"
     ]
    }
   ],
   "source": [
    "#Write a program to convert the month name to the number of days. using for loop. Ex january has 31 days. february has 28/29 days.\n",
    "list = [\"January\", \"February\", \"March\", \"April\", \"May\", \"June\", \"July\", \"August\", \"September\", \"October\", \"November\", \"December\"]\n",
    "print(list)\n",
    "\n",
    "month = input(\"Enter any month from list to know days\")\n",
    "if month == \"February\":\n",
    "        print(\"The month of February has 28/29 days\")\n",
    "elif month == \"April\" or month == \"June\" or month == \"September\"or month == \"November\":\n",
    "        print(\" 30 days.\")\n",
    "elif month == \"January\" or month == \"March\" or month == \"May\" or month == \"July\"or month == \"August\" or month == \"October\" or month == \"December\":\n",
    "        print(\"31 days.\")\n",
    "else:\n",
    "        print(\"Month is not a valid\")"
   ]
  },
  {
   "cell_type": "code",
   "execution_count": 68,
   "id": "e0a705b5-c0f8-4a39-bda5-7b994b0f392d",
   "metadata": {},
   "outputs": [
    {
     "name": "stdout",
     "output_type": "stream",
     "text": [
      "Current number 0 Previous Number 0 sum of both is 0\n",
      "Current number 1 Previous Number 0 sum of both is 1\n",
      "Current number 2 Previous Number 1 sum of both is 3\n",
      "Current number 3 Previous Number 2 sum of both is 5\n",
      "Current number 4 Previous Number 3 sum of both is 7\n",
      "Current number 5 Previous Number 4 sum of both is 9\n",
      "Current number 6 Previous Number 5 sum of both is 11\n",
      "Current number 7 Previous Number 6 sum of both is 13\n",
      "Current number 8 Previous Number 7 sum of both is 15\n",
      "Current number 9 Previous Number 8 sum of both is 17\n"
     ]
    }
   ],
   "source": [
    "#1. Print the sum of the current number and the previous number\n",
    "#Write a program to iterate the first 10 numbers and in each iteration, print the sum of the current and\n",
    "#previous number.\n",
    "#Expected result: 0,1,3,5,7,9,11,13,15,17\n",
    "\n",
    "\n",
    "previous_num = 0\n",
    "for i in range(10):\n",
    "    sum = previous_num + i\n",
    "    print(f'Current number {i} Previous Number {previous_num} sum of both is {sum}')\n",
    "    previous_num = i"
   ]
  },
  {
   "cell_type": "code",
   "execution_count": 69,
   "id": "7eb9414d-c83e-474e-916f-8fa86d95db85",
   "metadata": {},
   "outputs": [
    {
     "name": "stdin",
     "output_type": "stream",
     "text": [
      "Enter the number you want to search: 6\n"
     ]
    },
    {
     "name": "stdout",
     "output_type": "stream",
     "text": [
      "Number not in the list\n"
     ]
    }
   ],
   "source": [
    "#Write a python program to search a given number from a list\n",
    "\n",
    "\n",
    "my_list = [11,12,13,14,15,16,17,18,19,20]\n",
    "num = int(input(\"Enter the number you want to search:\"))\n",
    "for i in my_list:\n",
    "    if i==num: \n",
    "        print(\"Number is in list\")\n",
    "        break\n",
    "else:\n",
    "        print(\"Number not in the list\")\n"
   ]
  },
  {
   "cell_type": "code",
   "execution_count": 27,
   "id": "2a492b5a-cba2-4f94-9d19-ffcfc2631251",
   "metadata": {},
   "outputs": [
    {
     "name": "stdin",
     "output_type": "stream",
     "text": [
      "enter list 12,23,2,3,2,2,3,3\n",
      "Enter number you want to search for 34\n"
     ]
    },
    {
     "name": "stdout",
     "output_type": "stream",
     "text": [
      "element not found in given list\n"
     ]
    }
   ],
   "source": [
    "lst = eval(input(\"enter list\"))\n",
    "length=len(lst)\n",
    "element=int(input(\"Enter number you want to search for\"))\n",
    "for i in range(0,length):\n",
    "      if element==lst[i]:\n",
    "            print(\"Element found at index\",i)\n",
    "            break\n",
    "else:\n",
    "      print(\"element not found in given list\")\n"
   ]
  },
  {
   "cell_type": "code",
   "execution_count": 10,
   "id": "bffd09cd-f3a0-4ca9-a0c7-bcc355935057",
   "metadata": {},
   "outputs": [
    {
     "name": "stdout",
     "output_type": "stream",
     "text": [
      "[3, 5, 7, 9]\n",
      "[4, 6, 0, 6]\n",
      "[3, 5, 7, 9, 4, 6, 0, 6]\n"
     ]
    }
   ],
   "source": [
    "#3. Create a new list from a two list using the following condition. Given a two list of\n",
    "#numbers, write a program to create a new list such that the new list should contain odd numbers\n",
    "#from the first list and even numbers from the second list.\n",
    "\n",
    "lst1 = [2,3,4,5,7,8,9]\n",
    "lst2 = [3,4,6,7,9,0,6]\n",
    "new_list =[]\n",
    "new_list_1=[]\n",
    "for i in lst1:\n",
    "    if i%2!=0: \n",
    "        new_list.append(i)\n",
    "for x in lst2:\n",
    "        if x%2==0: \n",
    "            new_list_1.append(x)\n",
    "print(new_list)\n",
    "print(new_list_1)\n",
    "print(new_list + new_list_1)\n",
    "\n",
    "    "
   ]
  },
  {
   "cell_type": "code",
   "execution_count": 17,
   "id": "460766bd-a14a-4eb8-92a5-2473c46cc1d2",
   "metadata": {},
   "outputs": [
    {
     "name": "stdout",
     "output_type": "stream",
     "text": [
      "sum: 9280.23\n",
      "Average: 713.8638461538461\n",
      "Max: 985\n",
      "Min: 100.23\n",
      "median: 6\n"
     ]
    }
   ],
   "source": [
    "#4. find  max, min, total, average, median.\n",
    "list1=[100.23,456,744,741,789,951,453,852,753,746,854,856,985]\n",
    "sum = 0\n",
    "for i in list1:\n",
    "    sum+=i\n",
    "print(\"sum:\",sum)\n",
    "print(\"Average:\",sum/len(list1))\n",
    "print(\"Max:\",max(list1))\n",
    "print(\"Min:\",min(list1))\n",
    "print(\"median:\",len(list1)//2)\n",
    "\n",
    "\n"
   ]
  },
  {
   "cell_type": "code",
   "execution_count": 18,
   "id": "cfda00cf-2ab0-41e7-96b1-b204153c6a94",
   "metadata": {},
   "outputs": [
    {
     "name": "stdin",
     "output_type": "stream",
     "text": [
      "Enter a string:  9\n"
     ]
    }
   ],
   "source": [
    "#4.Write a program to check if the given string is a palindrome or not you can take string from the user.\n",
    "string = input(\"Enter a string: \")\n",
    "string = string.lower().replace(\" \", \"\")\n",
    "\n"
   ]
  },
  {
   "cell_type": "code",
   "execution_count": 19,
   "id": "a3e017af-6040-4ba1-8581-12b7c67ecb2b",
   "metadata": {},
   "outputs": [
    {
     "name": "stdin",
     "output_type": "stream",
     "text": [
      "Enter a string:  kayak\n"
     ]
    },
    {
     "name": "stdout",
     "output_type": "stream",
     "text": [
      "The string is a palindrome.\n"
     ]
    }
   ],
   "source": [
    "def is_palindrome(string):\n",
    "    # Convert the string to lowercase and remove spaces\n",
    "    string = string.lower().replace(\" \", \"\")\n",
    "    \n",
    "    # Iterate over the string using a for loop\n",
    "    for i in range(len(string)//2):\n",
    "        if string[i] != string[-(i+1)]:\n",
    "            return False\n",
    "    \n",
    "    return True\n",
    "\n",
    "# Test the function\n",
    "input_string = input(\"Enter a string: \")\n",
    "if is_palindrome(input_string):\n",
    "    print(\"The string is a palindrome.\")\n",
    "else:\n",
    "    print(\"The string is not a palindrome.\")"
   ]
  },
  {
   "cell_type": "code",
   "execution_count": 23,
   "id": "a2b52a02-678e-4474-b5ae-041d169993c5",
   "metadata": {},
   "outputs": [
    {
     "name": "stdout",
     "output_type": "stream",
     "text": [
      "even number: 8\n",
      "odd number 5\n"
     ]
    }
   ],
   "source": [
    "#6. WAP to count the number of even or odd number from series [1,2,3,4,5,67,50,100,2002,168,597,256,300], say 1 is an Odd number.\n",
    "num=[1,2,3,4,5,67,50,100,2002,168,597,256,300]\n",
    "l1 =[]\n",
    "l2 =[]\n",
    "for i in num:\n",
    "    if i%2==0:\n",
    "        l1.append(i)\n",
    "    else:\n",
    "        l2.append(i)\n",
    "        \n",
    "        \n",
    "print(\"even number:\",len(l1))\n",
    "print(\"odd number\",len(l2))\n",
    "        \n",
    "        \n",
    "    "
   ]
  },
  {
   "cell_type": "code",
   "execution_count": 25,
   "id": "15b6a90d-28d5-4dfc-b104-eef5a8b8903c",
   "metadata": {},
   "outputs": [
    {
     "name": "stdout",
     "output_type": "stream",
     "text": [
      "2\n",
      "3\n",
      "5\n",
      "7\n",
      "11\n",
      "13\n",
      "17\n",
      "19\n",
      "23\n",
      "29\n"
     ]
    }
   ],
   "source": [
    "#7.  Write a program to display all the prime number from 1 to 30.WAP to display all the prime numbers from 10-30.\n",
    "for num in range(1,31):\n",
    "   # all prime numbers are greater than 1\n",
    "   if num > 1:\n",
    "       for i in range(2, num):\n",
    "           if (num % i) == 0:\n",
    "               break\n",
    "       else:\n",
    "           print(num)"
   ]
  },
  {
   "cell_type": "code",
   "execution_count": 56,
   "id": "46b85a46-b415-4e73-8cd4-5702f014c38f",
   "metadata": {},
   "outputs": [
    {
     "name": "stdin",
     "output_type": "stream",
     "text": [
      "Enter any number 7\n"
     ]
    },
    {
     "name": "stdout",
     "output_type": "stream",
     "text": [
      "5040\n"
     ]
    }
   ],
   "source": [
    "#8. Write a program to display the factorial of any number with loop?WAP to display the factorial of any number with loop\n",
    "f=1\n",
    "n = int(input(\"Enter any number\"))\n",
    "if n>=1:\n",
    "    for i in range(1,n+1):\n",
    "        f=f*i\n",
    "print(f)\n",
    "    "
   ]
  },
  {
   "cell_type": "code",
   "execution_count": 53,
   "id": "1a27d3b4-f1bd-4921-8569-cfc093bcfe4b",
   "metadata": {},
   "outputs": [
    {
     "name": "stdin",
     "output_type": "stream",
     "text": [
      "Input a string 34nnnbnmsdbe\n"
     ]
    },
    {
     "name": "stdout",
     "output_type": "stream",
     "text": [
      "Letters 10\n",
      "Digits 2\n"
     ]
    }
   ],
   "source": [
    "# Prompt the user to input a string and store it in the variable 's'\n",
    "s = input(\"Input a string\")\n",
    "\n",
    "# Initialize variables 'd' (for counting digits) and 'l' (for counting letters) with values 0\n",
    "d = l = 0\n",
    "\n",
    "# Iterate through each character 'c' in the input string 's'\n",
    "for c in s:\n",
    "    # Check if the current character 'c' is a digit\n",
    "    if c.isdigit():\n",
    "        # If 'c' is a digit, increment the count of digits ('d')\n",
    "        d = d + 1\n",
    "    # Check if the current character 'c' is an alphabet letter\n",
    "    elif c.isalpha():\n",
    "        # If 'c' is an alphabet letter, increment the count of letters ('l')\n",
    "        l = l + 1\n",
    "    else:\n",
    "        # If 'c' is neither a digit nor an alphabet letter, do nothing ('pass')\n",
    "        pass\n",
    "\n",
    "# Print the total count of letters ('l') and digits ('d') in the input string 's'\n",
    "print(\"Letters\", l)\n",
    "print(\"Digits\", d)\n",
    "\n"
   ]
  },
  {
   "cell_type": "code",
   "execution_count": 34,
   "id": "331332ba-1f49-4fb3-80e8-5ef676ffa4ae",
   "metadata": {},
   "outputs": [
    {
     "name": "stdout",
     "output_type": "stream",
     "text": [
      "Number of Digit is 4\n",
      "Number of Alphabets is 5\n"
     ]
    }
   ],
   "source": [
    "alpha,string=0,\"Geeks1234\"\n",
    "for i in string:\n",
    "    if (i.isalpha()):\n",
    "        alpha+=1\n",
    "print(\"Number of Digit is\", len(string)-alpha)\n",
    "print(\"Number of Alphabets is\", alpha)"
   ]
  },
  {
   "cell_type": "code",
   "execution_count": 55,
   "id": "c2688108-ba22-4e8f-a9d7-210b3fecf282",
   "metadata": {},
   "outputs": [
    {
     "name": "stdin",
     "output_type": "stream",
     "text": [
      "Enter String 56gt7y\n"
     ]
    },
    {
     "name": "stdout",
     "output_type": "stream",
     "text": [
      "3\n",
      "3\n"
     ]
    }
   ],
   "source": [
    "s = input(\"Enter String\")\n",
    "\n",
    "d = l = 0\n",
    "\n",
    "for i in s:\n",
    "    if i.isdigit():\n",
    "        d+=1\n",
    "    elif i.isalpha():\n",
    "        l+=1\n",
    "    else:\n",
    "        pass\n",
    "print(l)\n",
    "print(d)\n",
    "    "
   ]
  },
  {
   "cell_type": "code",
   "execution_count": 41,
   "id": "3e8a4b51-973c-4db4-863d-e1c2712cb4df",
   "metadata": {},
   "outputs": [
    {
     "name": "stdout",
     "output_type": "stream",
     "text": [
      "2\n"
     ]
    }
   ],
   "source": [
    "k = [2,1,0,3,0,2,1]\n",
    "print(k.count(k.index(0)))\n"
   ]
  },
  {
   "cell_type": "code",
   "execution_count": 42,
   "id": "c6ae72d0-770b-4491-97da-6dabe9abbf4e",
   "metadata": {},
   "outputs": [
    {
     "name": "stdout",
     "output_type": "stream",
     "text": [
      "4\n"
     ]
    }
   ],
   "source": [
    "a = [1,2,3,4,5]\n",
    "print(a[:4].pop())"
   ]
  },
  {
   "cell_type": "code",
   "execution_count": null,
   "id": "fa387f44-badd-4cba-bbc6-816e3747cc34",
   "metadata": {},
   "outputs": [],
   "source": []
  }
 ],
 "metadata": {
  "kernelspec": {
   "display_name": "Python 3 (ipykernel)",
   "language": "python",
   "name": "python3"
  },
  "language_info": {
   "codemirror_mode": {
    "name": "ipython",
    "version": 3
   },
   "file_extension": ".py",
   "mimetype": "text/x-python",
   "name": "python",
   "nbconvert_exporter": "python",
   "pygments_lexer": "ipython3",
   "version": "3.12.2"
  }
 },
 "nbformat": 4,
 "nbformat_minor": 5
}
