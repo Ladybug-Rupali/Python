{
 "cells": [
  {
   "cell_type": "markdown",
   "id": "c8a3b177-12fe-486c-bda7-7f23d8b04dc7",
   "metadata": {},
   "source": [
    "# List Comprehension\n",
    "\n",
    "* __List comprehension in python is an easy and compact syntax for creating a list.__\n",
    "* __It is very conscise way to creat list by performing an operations on each item in existing list.__\n",
    "* __List comprehension is considerably faster tahn processing a list using loop.__\n",
    "\n",
    "\n",
    "## Expression for item in iterable"
   ]
  },
  {
   "cell_type": "code",
   "execution_count": 1,
   "id": "252de42f-6a00-45a8-b4b3-d114f2b99ebf",
   "metadata": {},
   "outputs": [
    {
     "name": "stdout",
     "output_type": "stream",
     "text": [
      "[1, 8, 27, 64, 125]\n"
     ]
    }
   ],
   "source": [
    "from math import *\n",
    "\n",
    "\n",
    "#fInding cube using for loop\n",
    "cube_list = []\n",
    "\n",
    "for i in range(1,6):\n",
    "    i**=3\n",
    "    cube_list.append(i)\n",
    "\n",
    "print(cube_list)\n"
   ]
  },
  {
   "cell_type": "code",
   "execution_count": 2,
   "id": "fbf2c125-06ef-4180-b6d5-b76cb189b63e",
   "metadata": {},
   "outputs": [
    {
     "name": "stdout",
     "output_type": "stream",
     "text": [
      "[1, 8, 27, 64, 125]\n"
     ]
    }
   ],
   "source": [
    "# With LC(List comprehension)\n",
    "\n",
    "cubic_number = [i**3 for i in range(1,6)]\n",
    "print(cubic_number)"
   ]
  },
  {
   "cell_type": "code",
   "execution_count": 10,
   "id": "c0bca013-cb5f-4581-ba6e-e65af8795a21",
   "metadata": {},
   "outputs": [
    {
     "name": "stdout",
     "output_type": "stream",
     "text": [
      "[2, 4, 6, 8, 10, 12, 14, 16, 18, 20]\n"
     ]
    }
   ],
   "source": [
    "# To print even numbers\n",
    "\n",
    "even_numbers = []\n",
    "\n",
    "for i in range(1,22):\n",
    "    if i % 2 == 0:\n",
    "        even_numbers.append(i)\n",
    "print(even_numbers)"
   ]
  },
  {
   "cell_type": "code",
   "execution_count": 11,
   "id": "9dd7d2ce-2550-4af7-9f05-da8d89ad91be",
   "metadata": {},
   "outputs": [
    {
     "name": "stdout",
     "output_type": "stream",
     "text": [
      "[2, 4, 6, 8, 10, 12, 14, 16, 18, 20]\n"
     ]
    }
   ],
   "source": [
    "even_numbers = [i for i in range(1,22) if i % 2 == 0]\n",
    "print(even_numbers)"
   ]
  },
  {
   "cell_type": "code",
   "execution_count": 32,
   "id": "7be2fedb-4908-4808-afbb-4665540d33ea",
   "metadata": {},
   "outputs": [
    {
     "name": "stdout",
     "output_type": "stream",
     "text": [
      "['P', 'y', 't', 'h', 'o', 'n', ' ', 'i', 's', ' ', 'a', ' ', 'p', 'r', 'o', 'g', 'r', 'a', 'm', 'm', 'i', 'n', 'g', ' ', 'l', 'a', 'n', 'g', 'u', 'a', 'g', 'e']\n"
     ]
    }
   ],
   "source": [
    "# ON string using for loop\n",
    "\n",
    "text = []\n",
    "for i in 'Python is a programming language':\n",
    "    text.append(i)\n",
    "\n",
    "print(text)\n",
    "     \n",
    "     "
   ]
  },
  {
   "cell_type": "code",
   "execution_count": 35,
   "id": "34a3f605-83bc-434d-b3fe-8c16346ef05c",
   "metadata": {},
   "outputs": [
    {
     "name": "stdin",
     "output_type": "stream",
     "text": [
      "enter any string hello\n"
     ]
    },
    {
     "name": "stdout",
     "output_type": "stream",
     "text": [
      "['h', 'e', 'l', 'l', 'o']\n"
     ]
    }
   ],
   "source": [
    "# ON string using using LC\n",
    "\n",
    "n = input(\"enter any string\")\n",
    "text = [i for i in n]\n",
    "print(text)\n",
    "        "
   ]
  },
  {
   "cell_type": "code",
   "execution_count": 14,
   "id": "f77b6517-3159-4f72-88cb-784f7154a851",
   "metadata": {},
   "outputs": [
    {
     "name": "stdout",
     "output_type": "stream",
     "text": [
      "original list: [10, 20, 30, 40, 50, 60, 70, 80, 90, 100, 110, 120]\n",
      "Second List: [100, 400, 900, 1600, 2500, 3600, 4900, 6400, 8100, 10000, 12100, 14400]\n"
     ]
    }
   ],
   "source": [
    "x=[10,20,30,40,50,60,70,80,90,100,110,120]\n",
    "two_time=[]\n",
    "for i in x:\n",
    "    i**=2\n",
    "    two_time.append(i)\n",
    "print('original list:',x)\n",
    "print('Second List:',two_time)"
   ]
  },
  {
   "cell_type": "code",
   "execution_count": 25,
   "id": "08e07ef6-3a9d-4b65-a9a2-e07ad8a2e891",
   "metadata": {},
   "outputs": [
    {
     "name": "stdin",
     "output_type": "stream",
     "text": [
      "Enter a number 5\n",
      "enter end value 4\n"
     ]
    },
    {
     "name": "stdout",
     "output_type": "stream",
     "text": [
      "Second List: [5, 10, 20, 40]\n"
     ]
    }
   ],
   "source": [
    "#Print a pattern [10, 20, 40, 80, 160, 320, 640, 1280, 2560, 5120, 10240, 20480]\n",
    "\n",
    "two_time=[]\n",
    "n = 10\n",
    "\n",
    "n = int(input(\"Enter a number\"))\n",
    "end = int(input(\"enter end value\"))\n",
    "for i in range(end):\n",
    "    i = n*(2**i)\n",
    "    # 10 * (2 ** 0) = 10\n",
    "    # 10 * (2**1) = 20\n",
    "    # 10 * (2 ** 2) = 40 ...\n",
    "    two_time.append(i)\n",
    "print('Second List:',two_time)\n",
    "    "
   ]
  },
  {
   "cell_type": "code",
   "execution_count": 26,
   "id": "434e0780-022f-4919-b57c-0f78c8b288d0",
   "metadata": {},
   "outputs": [
    {
     "name": "stdin",
     "output_type": "stream",
     "text": [
      "Enter a number 10\n",
      "enter end value 12\n"
     ]
    },
    {
     "name": "stdout",
     "output_type": "stream",
     "text": [
      "[10, 20, 40, 80, 160, 320, 640, 1280, 2560, 5120, 10240, 20480]\n"
     ]
    }
   ],
   "source": [
    " using list comprehension\n",
    "\n",
    "n = int(input(\"Enter a number\"))\n",
    "end = int(input(\"enter end value\"))\n",
    "\n",
    "two_time = [n*(2**i) for i in range(end)]\n",
    "print(two_time)"
   ]
  },
  {
   "cell_type": "code",
   "execution_count": 28,
   "id": "6deb5a3f-a563-4c16-bd8f-3d1ffb1244ea",
   "metadata": {},
   "outputs": [
    {
     "name": "stdin",
     "output_type": "stream",
     "text": [
      "Enter a number 10\n",
      "enter end value 30\n"
     ]
    },
    {
     "name": "stdout",
     "output_type": "stream",
     "text": [
      "Second List: [10, 30, 90, 270, 810, 2430, 7290, 21870, 65610, 196830, 590490, 1771470, 5314410, 15943230, 47829690, 143489070, 430467210, 1291401630, 3874204890, 11622614670, 34867844010, 104603532030, 313810596090, 941431788270, 2824295364810, 8472886094430, 25418658283290, 76255974849870, 228767924549610, 686303773648830]\n"
     ]
    }
   ],
   "source": [
    "# Create a list of multiples of three from 0 to 30 using loop.\n",
    "\n",
    "three_time = []\n",
    "\n",
    "n = int(input(\"Enter a number\"))\n",
    "end = int(input(\"enter end value\"))\n",
    "\n",
    "for i in range(end):\n",
    "    i = n*(3**i)\n",
    "    three_time.append(i)\n",
    "print('Second List:',three_time)\n",
    "    \n"
   ]
  },
  {
   "cell_type": "code",
   "execution_count": 29,
   "id": "b6d963d9-47bb-4ed1-a994-f8a525382e4a",
   "metadata": {},
   "outputs": [
    {
     "name": "stdout",
     "output_type": "stream",
     "text": [
      "[3, 6, 9, 12, 15, 18, 21, 24, 27, 30]\n"
     ]
    }
   ],
   "source": [
    "# Create a list table of three\n",
    "three_list = []\n",
    "\n",
    "for i in range(1,11):\n",
    "    i = 3 * i\n",
    "    three_list.append(i)\n",
    "\n",
    "print(three_list)"
   ]
  },
  {
   "cell_type": "code",
   "execution_count": 30,
   "id": "ecf62bda-67ec-434a-80f7-bbcb906e4d47",
   "metadata": {},
   "outputs": [
    {
     "name": "stdout",
     "output_type": "stream",
     "text": [
      "[3, 6, 9, 12, 15, 18, 21, 24, 27, 30]\n"
     ]
    }
   ],
   "source": [
    "# Create a list table of three using list comprehension\n",
    "n= 3\n",
    "three_list = [i*3 for i in range(1,11)]\n",
    "print(three_list)"
   ]
  },
  {
   "cell_type": "code",
   "execution_count": 41,
   "id": "801d7644-86bd-4095-a349-bdd318ff1faf",
   "metadata": {},
   "outputs": [
    {
     "name": "stdout",
     "output_type": "stream",
     "text": [
      "['Python', 'Kotlin', 'Javascript']\n"
     ]
    }
   ],
   "source": [
    "# using loop \n",
    "\n",
    "language = ['Python','Java','c#','Php','Kotlin','Android','RubyGo','RubyonRails','R','Javascript']\n",
    "lang_list = []\n",
    "for i in language:\n",
    "     if i in [ 'Python' , 'Kotlin' , 'Javascript']:\n",
    "        lang_list.append(i)\n",
    "\n",
    "print(lang_list)\n",
    "    \n"
   ]
  },
  {
   "cell_type": "code",
   "execution_count": 37,
   "id": "ed1625df-e151-4e82-9790-75e55a44bf4e",
   "metadata": {},
   "outputs": [
    {
     "name": "stdout",
     "output_type": "stream",
     "text": [
      "['Python', 'Kotlin', 'Javascript']\n"
     ]
    }
   ],
   "source": [
    "# using loop filter python , Kotlin , Javascript\n",
    "\n",
    "language = ['Python','Java','c#','Php','Kotlin','Android','RubyGo','RubyonRails','R','Javascript']\n",
    "lang_list = []\n",
    "for i in language:\n",
    "    if 't' in i:\n",
    "        lang_list.append(i)\n",
    "\n",
    "print(lang_list)\n",
    "    \n"
   ]
  },
  {
   "cell_type": "code",
   "execution_count": 39,
   "id": "64cbe124-f6e4-4eb9-ba89-713cbe454431",
   "metadata": {},
   "outputs": [
    {
     "name": "stdout",
     "output_type": "stream",
     "text": [
      "['Python', 'Kotlin', 'Javascript']\n"
     ]
    }
   ],
   "source": [
    "#Using List comprehension\n",
    "\n",
    "lang_list = [i for i in language if 't' in i]\n",
    "print(lang_list)"
   ]
  },
  {
   "cell_type": "code",
   "execution_count": null,
   "id": "2768e749-d722-4cff-bacd-4f1bb93d7ed2",
   "metadata": {},
   "outputs": [],
   "source": []
  }
 ],
 "metadata": {
  "kernelspec": {
   "display_name": "Python 3 (ipykernel)",
   "language": "python",
   "name": "python3"
  },
  "language_info": {
   "codemirror_mode": {
    "name": "ipython",
    "version": 3
   },
   "file_extension": ".py",
   "mimetype": "text/x-python",
   "name": "python",
   "nbconvert_exporter": "python",
   "pygments_lexer": "ipython3",
   "version": "3.12.2"
  }
 },
 "nbformat": 4,
 "nbformat_minor": 5
}
