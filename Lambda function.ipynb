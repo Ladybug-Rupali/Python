{
 "cells": [
  {
   "cell_type": "markdown",
   "id": "d98fe9b7-448b-4493-8b62-adedee4b84dd",
   "metadata": {},
   "source": [
    "# Lambda function\n",
    "\n",
    "* __A lambda function is a small anonymous function.__\n",
    "* __It can take any number of arguments but can only have one expression.__\n",
    "* __The expression is evaluated and returned.__\n",
    "* __Lambda function anywhere where function objects are required.__\n",
    "* __It is essentially a block of code that can be assigned to a variable, passed as an argument, or returned from a function call, in languages that support high order functions.__\n",
    "* __Its main role it is defined in the scenarios when we employ that anonymously inside other functions.__\n",
    "* __In python it can be used as an argument to the high order functions as argument.__\n",
    "\n",
    "## Lambda functions in Python\n",
    "\n",
    "* __1.Syntax__\n",
    "  * __Normal functions__\n",
    "  * __Anonymous functions__\n",
    "* __2.Uses__\n",
    "  * __filter(), map(), reduce(), sorted(), apply()__\n",
    "* __3Common errors__\n",
    "   * __SyntaxError__\n",
    "   * __TypeError__"
   ]
  },
  {
   "cell_type": "code",
   "execution_count": 4,
   "id": "4bea5d3e-dec8-4aa0-8167-d9ec6c140787",
   "metadata": {},
   "outputs": [
    {
     "name": "stdin",
     "output_type": "stream",
     "text": [
      "enter first num: 3\n",
      "enter second num: 4\n"
     ]
    },
    {
     "name": "stdout",
     "output_type": "stream",
     "text": [
      "[7, -1, 12, 0.75, 81]\n"
     ]
    }
   ],
   "source": [
    "#take input from user and some calculations: addition,subraction,multiplication,division,exponent\n",
    "\n",
    "x = int(input(\"enter first num:\"))\n",
    "y = int(input(\"enter second num:\"))\n",
    "list = []\n",
    "(lambda x,y:list.append(x+y))(x,y)\n",
    "(lambda x,y:list.append(x-y))(x,y)\n",
    "(lambda x,y:list.append(x*y))(x,y)\n",
    "(lambda x,y:list.append(x/y))(x,y)\n",
    "(lambda x,y:list.append(x**y))(x,y)\n",
    "                             \n",
    "print(list)"
   ]
  },
  {
   "cell_type": "code",
   "execution_count": 5,
   "id": "c3c40da5-a914-47cc-9b23-3f2fa201481d",
   "metadata": {},
   "outputs": [
    {
     "name": "stdin",
     "output_type": "stream",
     "text": [
      "enter length: 34\n",
      "enter width: 23\n"
     ]
    },
    {
     "name": "stdout",
     "output_type": "stream",
     "text": [
      "Area of rectangle is :  782\n",
      "Perimeter of rectangle is :  114\n"
     ]
    }
   ],
   "source": [
    "#using lamda area and perimeter of a rectangle\n",
    "\n",
    "length = int(input(\"Enter length:\"))\n",
    "width = int(input(\"Enter width:\"))\n",
    "\n",
    "area = (lambda length,width:length*width)(length,width)\n",
    "perimeter = (lambda length,width:2*(length+width))(length,width)\n",
    "print(\"Area of rectangle is : \",area)\n",
    "print(\"Perimeter of rectangle is : \",perimeter)\n"
   ]
  },
  {
   "cell_type": "code",
   "execution_count": 7,
   "id": "983fbf8a-6ffa-4e42-b34f-6297c145f9e2",
   "metadata": {},
   "outputs": [
    {
     "name": "stdin",
     "output_type": "stream",
     "text": [
      "Enter radius: 3\n"
     ]
    },
    {
     "name": "stdout",
     "output_type": "stream",
     "text": [
      "Area of circle is :  56.548667764616276\n"
     ]
    }
   ],
   "source": [
    "# Using Lamda area circle\n",
    "import math\n",
    "\n",
    "radius = int(input(\"Enter radius:\"))\n",
    "area = (lambda radius:2*math.pi*radius*radius)(radius)\n",
    "print(\"Area of circle is : \",area)\n"
   ]
  },
  {
   "cell_type": "code",
   "execution_count": 8,
   "id": "c55fd8e8-6ed5-42de-b0aa-498b56834843",
   "metadata": {},
   "outputs": [
    {
     "name": "stdin",
     "output_type": "stream",
     "text": [
      "Enter side: 45\n"
     ]
    },
    {
     "name": "stdout",
     "output_type": "stream",
     "text": [
      "Area of square is :  2025\n",
      "Perimeter of square is :  180\n"
     ]
    }
   ],
   "source": [
    "#using lamda area and perimeter of the square\n",
    "\n",
    "side = int(input(\"Enter side:\"))\n",
    "\n",
    "area = (lambda side:side*side)(side)\n",
    "perimeter = (lambda side:4*side)(side)\n",
    "\n",
    "print(\"Area of square is : \",area)\n",
    "print(\"Perimeter of square is : \",perimeter)\n",
    "\n"
   ]
  },
  {
   "cell_type": "code",
   "execution_count": 1,
   "id": "b431c43d-d52a-4fba-a0a4-f5d9fb27125a",
   "metadata": {},
   "outputs": [
    {
     "name": "stdin",
     "output_type": "stream",
     "text": [
      "Enter radius: 3\n"
     ]
    },
    {
     "name": "stdout",
     "output_type": "stream",
     "text": [
      "Area of circle is :  56.548667764616276\n"
     ]
    }
   ],
   "source": [
    "# Using Lamda area circle\n",
    "import math\n",
    "\n",
    "radius = int(input(\"Enter radius:\"))\n",
    "area = (lambda radius:2*math.pi*radius*radius)(radius)\n",
    "print(\"Area of circle is : \",area)\n"
   ]
  },
  {
   "cell_type": "code",
   "execution_count": 9,
   "id": "a0f2f3b1-632c-43e6-a9e3-5576b20f29f1",
   "metadata": {},
   "outputs": [
    {
     "name": "stdin",
     "output_type": "stream",
     "text": [
      "Enter table number :  56\n"
     ]
    },
    {
     "name": "stdout",
     "output_type": "stream",
     "text": [
      "56x1=56\n",
      "56x2=112\n",
      "56x3=168\n",
      "56x4=224\n",
      "56x5=280\n",
      "56x6=336\n",
      "56x7=392\n",
      "56x8=448\n",
      "56x9=504\n",
      "56x10=560\n"
     ]
    }
   ],
   "source": [
    "#WAP lambda : to display table : \n",
    "\n",
    "\n",
    "def multitable(x):\n",
    "    return lambda x:x*n\n",
    "\n",
    "n = int(input(\"Enter table number : \"))\n",
    "y = multitable(n)\n",
    "\n",
    "for i in range(1,11):\n",
    "    print('%dx%d=%d'%(n,i,y(i)))\n",
    "\n",
    "\n",
    "\n",
    "\n",
    "\n"
   ]
  },
  {
   "cell_type": "code",
   "execution_count": 5,
   "id": "d6e3ed0a-7a09-4024-b151-952b4725c046",
   "metadata": {},
   "outputs": [
    {
     "name": "stdin",
     "output_type": "stream",
     "text": [
      "Enter table number :  23\n"
     ]
    },
    {
     "name": "stdout",
     "output_type": "stream",
     "text": [
      "23 X 1 = 23\n",
      "23 X 2 = 46\n",
      "23 X 3 = 69\n",
      "23 X 4 = 92\n",
      "23 X 5 = 115\n",
      "23 X 6 = 138\n",
      "23 X 7 = 161\n",
      "23 X 8 = 184\n",
      "23 X 9 = 207\n",
      "23 X 10 = 230\n"
     ]
    }
   ],
   "source": [
    "n = int(input(\"Enter table number : \"))\n",
    "\n",
    "for i in range(1,11):\n",
    "    print(n,'X',i,'=',i*n)"
   ]
  },
  {
   "cell_type": "code",
   "execution_count": 6,
   "id": "7a342ce4-6718-4294-a31d-0071a947a614",
   "metadata": {},
   "outputs": [
    {
     "name": "stdin",
     "output_type": "stream",
     "text": [
      "Enter table number :  34\n"
     ]
    },
    {
     "name": "stdout",
     "output_type": "stream",
     "text": [
      "34 X 1 = 34\n",
      "34 X 2 = 68\n",
      "34 X 3 = 102\n",
      "34 X 4 = 136\n",
      "34 X 5 = 170\n",
      "34 X 6 = 204\n",
      "34 X 7 = 238\n",
      "34 X 8 = 272\n",
      "34 X 9 = 306\n",
      "34 X 10 = 340\n"
     ]
    }
   ],
   "source": [
    "#TAble while loop:\n",
    "\n",
    "i = 1\n",
    "n = int(input(\"Enter table number : \"))\n",
    "while i<=10:\n",
    "    print(n,\"X\",i,\"=\",i*n)\n",
    "    i=i+1"
   ]
  },
  {
   "cell_type": "markdown",
   "id": "f0dae58b-3755-4720-940b-f473dbb7e3f9",
   "metadata": {},
   "source": [
    "## Filter Function"
   ]
  },
  {
   "cell_type": "code",
   "execution_count": 18,
   "id": "96f06bcb-b9ee-4626-b796-27586aa7d59e",
   "metadata": {},
   "outputs": [
    {
     "data": {
      "text/plain": [
       "[12, 66, 76, 88, 90]"
      ]
     },
     "execution_count": 18,
     "metadata": {},
     "output_type": "execute_result"
    }
   ],
   "source": [
    "\n",
    "num = [12,23,45,66,76,88,90,75,33,21]\n",
    "#To filter list tuple or anything with lambda\n",
    "\n",
    "list(filter(lambda x:(x%2==0),num))  #filtering even numbers from list output in list"
   ]
  },
  {
   "cell_type": "code",
   "execution_count": 19,
   "id": "6c776e22-8d03-450f-b880-659b32be25c0",
   "metadata": {},
   "outputs": [
    {
     "data": {
      "text/plain": [
       "(12, 66, 76, 88, 90)"
      ]
     },
     "execution_count": 19,
     "metadata": {},
     "output_type": "execute_result"
    }
   ],
   "source": [
    "\n",
    "num = [12,23,45,66,76,88,90,75,33,21]\n",
    "#To filter list tuple or anything with lambda\n",
    "\n",
    "tuple(filter(lambda x:(x%2==0),num))  #filtering even numbers from list output in tuple"
   ]
  },
  {
   "cell_type": "code",
   "execution_count": 20,
   "id": "aed31732-1217-4513-b5a8-50807c97a13d",
   "metadata": {},
   "outputs": [
    {
     "data": {
      "text/plain": [
       "{12, 66, 76, 88, 90}"
      ]
     },
     "execution_count": 20,
     "metadata": {},
     "output_type": "execute_result"
    }
   ],
   "source": [
    "\n",
    "num = [12,23,45,66,76,88,90,75,33,21,21,21]\n",
    "#To filter list tuple or anything with lambda\n",
    "\n",
    "set(filter(lambda x:(x%2==0),num))  #filtering even numbers from list output in set"
   ]
  },
  {
   "cell_type": "markdown",
   "id": "62907a60-c07b-4ce6-bead-b411d22e2c6f",
   "metadata": {},
   "source": [
    "## MAp function : "
   ]
  },
  {
   "cell_type": "code",
   "execution_count": 22,
   "id": "99be85a8-d6c1-427e-a2a8-9a9501d87ccc",
   "metadata": {},
   "outputs": [
    {
     "name": "stdout",
     "output_type": "stream",
     "text": [
      "Multiplied by 5 :[60, 115, 225, 330, 380, 440, 450, 375, 165, 105, 105, 105]\n"
     ]
    }
   ],
   "source": [
    "num = [12,23,45,66,76,88,90,75,33,21,21,21]\n",
    "print(f'Multiplied by 5 :{list(map(lambda x:x*5,num))}')"
   ]
  },
  {
   "cell_type": "code",
   "execution_count": 32,
   "id": "a48afd9c-4343-4263-806a-65a94023cc7d",
   "metadata": {},
   "outputs": [
    {
     "name": "stdin",
     "output_type": "stream",
     "text": [
      "Enter a number:  45\n"
     ]
    },
    {
     "name": "stdout",
     "output_type": "stream",
     "text": [
      "[45, 90, 135, 180, 225, 270, 315, 360, 405, 450]\n"
     ]
    }
   ],
   "source": [
    "# Program: Create a multiplication table for any number in Python\n",
    "\n",
    "# user-input\n",
    "num = [int(input(\"Enter a number: \"))]\n",
    "\n",
    "# let's create our lambda function for the table\n",
    "table = list(map(lambda x, y: x * y, list(range(1, 11)), num * 10))\n",
    "\n",
    "print(table)"
   ]
  },
  {
   "cell_type": "code",
   "execution_count": 41,
   "id": "e3d4b58c-53ae-43a0-a7b3-639423b275c8",
   "metadata": {},
   "outputs": [
    {
     "name": "stdin",
     "output_type": "stream",
     "text": [
      "Eneter nuber to square :  34\n"
     ]
    },
    {
     "name": "stdout",
     "output_type": "stream",
     "text": [
      "1156\n"
     ]
    }
   ],
   "source": [
    "#square\n",
    "\n",
    "list = []\n",
    "n = int(input(\"Enter number to square : \"))\n",
    "list.append(n)\n",
    "\n",
    "for i in list:\n",
    "    print(i**2)"
   ]
  },
  {
   "cell_type": "code",
   "execution_count": 65,
   "id": "40570d2b-5a9e-453b-8cd1-3f963f0b1640",
   "metadata": {},
   "outputs": [
    {
     "name": "stdout",
     "output_type": "stream",
     "text": [
      "[2, 4, 6, 8, 10, 12]\n"
     ]
    }
   ],
   "source": [
    "#Python program to demonstrate working of map : \n",
    "\n",
    "def addition(n):\n",
    "    return n+n\n",
    "\n",
    "numbers = [1,2,3,4,5,6]\n",
    "result = list(map(addition,numbers))\n",
    "print(result)"
   ]
  },
  {
   "cell_type": "code",
   "execution_count": 1,
   "id": "38e3fbc9-af90-4ca7-a40b-b4923a1ec5ca",
   "metadata": {},
   "outputs": [
    {
     "data": {
      "text/plain": [
       "True"
      ]
     },
     "execution_count": 1,
     "metadata": {},
     "output_type": "execute_result"
    }
   ],
   "source": [
    "#To use another function in lambda\n",
    "\n",
    "def isCaps(s):\n",
    "    return 'A' <= s[0] <='Z'   #First letter capital ccheck\n",
    "\n",
    "x = isCaps('Cat')   #Returns True or False Value\n",
    "x"
   ]
  },
  {
   "cell_type": "code",
   "execution_count": 10,
   "id": "3b379055-c56d-4f38-8fa7-6a381621fdb0",
   "metadata": {},
   "outputs": [
    {
     "data": {
      "text/plain": [
       "['Mohini', 'Radha']"
      ]
     },
     "execution_count": 10,
     "metadata": {},
     "output_type": "execute_result"
    }
   ],
   "source": [
    "#USing above function in Lambda\n",
    "\n",
    "\n",
    "list(filter(isCaps,['rupali','Mohini','kiran','Radha']))"
   ]
  },
  {
   "cell_type": "code",
   "execution_count": 66,
   "id": "85ed0c5c-7980-4cb5-852d-5c83fc81ee68",
   "metadata": {},
   "outputs": [
    {
     "name": "stdin",
     "output_type": "stream",
     "text": [
      "Enter  4\n"
     ]
    },
    {
     "name": "stdout",
     "output_type": "stream",
     "text": [
      "[8, 12, 16, 20, 24]\n"
     ]
    }
   ],
   "source": [
    "\n",
    "def mult():\n",
    "    list1 = [2,3,4,5,6,]\n",
    "    new = []\n",
    "    z = int(input(\"Enter \"))\n",
    "    for i in list1:\n",
    "        y = i*z\n",
    "        new.append(y)\n",
    "    print(new)\n",
    "\n",
    "mult()"
   ]
  },
  {
   "cell_type": "code",
   "execution_count": 25,
   "id": "4349a696-ac59-4c6e-ae57-1c9ec5c1714c",
   "metadata": {},
   "outputs": [
    {
     "name": "stdin",
     "output_type": "stream",
     "text": [
      "Enter  2\n",
      " 30\n",
      " 30\n"
     ]
    },
    {
     "name": "stdout",
     "output_type": "stream",
     "text": [
      "[30, 30] [180, 180]\n"
     ]
    }
   ],
   "source": [
    "def mult6():\n",
    "    emp_list = []\n",
    "    new_list = []\n",
    "    z = int(input(\"Enter \"))\n",
    "    for i in range(z):\n",
    "        y = int(input())\n",
    "        emp_list.append(y)\n",
    "    for a in emp_list:\n",
    "        w=a*6\n",
    "        new_list.append(w)\n",
    "    print(emp_list,new_list)\n",
    "        \n",
    "\n",
    "mult6( )"
   ]
  },
  {
   "cell_type": "code",
   "execution_count": 69,
   "id": "a53578dd-fa49-483e-b9ff-55efcf073ff7",
   "metadata": {},
   "outputs": [
    {
     "name": "stdout",
     "output_type": "stream",
     "text": [
      "[6, 12, 18, 24, 30, 36, 42, 48, 54]\n"
     ]
    }
   ],
   "source": [
    "new_list1 = list(map(mult6,range(1,10)))\n",
    "print(new_list1)"
   ]
  },
  {
   "cell_type": "code",
   "execution_count": 31,
   "id": "e9af6a1b-e158-4d4f-8f86-441f2a304d7c",
   "metadata": {},
   "outputs": [
    {
     "name": "stdout",
     "output_type": "stream",
     "text": [
      "[18, 24]\n"
     ]
    }
   ],
   "source": [
    "def mult6(x):\n",
    "    new_list=[]\n",
    "    for a in x:\n",
    "        w=a*6\n",
    "        new_list.append(w)\n",
    "    print(new_list)\n",
    "        \n",
    "\n",
    "mult6([3,4])"
   ]
  },
  {
   "cell_type": "code",
   "execution_count": 32,
   "id": "9efeb518-6c8d-499b-86e2-80a6eafe9704",
   "metadata": {},
   "outputs": [
    {
     "ename": "TypeError",
     "evalue": "'int' object is not iterable",
     "output_type": "error",
     "traceback": [
      "\u001b[1;31m---------------------------------------------------------------------------\u001b[0m",
      "\u001b[1;31mTypeError\u001b[0m                                 Traceback (most recent call last)",
      "Cell \u001b[1;32mIn[32], line 1\u001b[0m\n\u001b[1;32m----> 1\u001b[0m \u001b[38;5;28;43mlist\u001b[39;49m\u001b[43m(\u001b[49m\u001b[38;5;28;43mfilter\u001b[39;49m\u001b[43m(\u001b[49m\u001b[43mmult6\u001b[49m\u001b[43m,\u001b[49m\u001b[43m[\u001b[49m\u001b[38;5;241;43m10\u001b[39;49m\u001b[43m,\u001b[49m\u001b[38;5;241;43m20\u001b[39;49m\u001b[43m,\u001b[49m\u001b[38;5;241;43m30\u001b[39;49m\u001b[43m]\u001b[49m\u001b[43m)\u001b[49m\u001b[43m)\u001b[49m\n",
      "Cell \u001b[1;32mIn[31], line 3\u001b[0m, in \u001b[0;36mmult6\u001b[1;34m(x)\u001b[0m\n\u001b[0;32m      1\u001b[0m \u001b[38;5;28;01mdef\u001b[39;00m \u001b[38;5;21mmult6\u001b[39m(x):\n\u001b[0;32m      2\u001b[0m     new_list\u001b[38;5;241m=\u001b[39m[]\n\u001b[1;32m----> 3\u001b[0m \u001b[43m    \u001b[49m\u001b[38;5;28;43;01mfor\u001b[39;49;00m\u001b[43m \u001b[49m\u001b[43ma\u001b[49m\u001b[43m \u001b[49m\u001b[38;5;129;43;01min\u001b[39;49;00m\u001b[43m \u001b[49m\u001b[43mx\u001b[49m\u001b[43m:\u001b[49m\n\u001b[0;32m      4\u001b[0m \u001b[43m        \u001b[49m\u001b[43mw\u001b[49m\u001b[38;5;241;43m=\u001b[39;49m\u001b[43ma\u001b[49m\u001b[38;5;241;43m*\u001b[39;49m\u001b[38;5;241;43m6\u001b[39;49m\n\u001b[0;32m      5\u001b[0m \u001b[43m        \u001b[49m\u001b[43mnew_list\u001b[49m\u001b[38;5;241;43m.\u001b[39;49m\u001b[43mappend\u001b[49m\u001b[43m(\u001b[49m\u001b[43mw\u001b[49m\u001b[43m)\u001b[49m\n",
      "\u001b[1;31mTypeError\u001b[0m: 'int' object is not iterable"
     ]
    }
   ],
   "source": [
    "list(filter(mult6,[10,20,30]))"
   ]
  },
  {
   "cell_type": "code",
   "execution_count": 38,
   "id": "2e3d4d53-fc79-4a94-8235-9479861a7151",
   "metadata": {},
   "outputs": [
    {
     "name": "stdin",
     "output_type": "stream",
     "text": [
      "Enter a number to square 5\n"
     ]
    },
    {
     "data": {
      "text/plain": [
       "25"
      ]
     },
     "execution_count": 38,
     "metadata": {},
     "output_type": "execute_result"
    }
   ],
   "source": [
    "#Find the square of the number from user input using lambda and function\n",
    "\n",
    "def square_num():\n",
    "    user = int(input(\"Enter a number to square\"))\n",
    "    return user**2\n",
    "\n",
    "square_num()"
   ]
  },
  {
   "cell_type": "code",
   "execution_count": 50,
   "id": "6057b54d-3034-4514-8dcd-7411eb6200ae",
   "metadata": {},
   "outputs": [
    {
     "name": "stdin",
     "output_type": "stream",
     "text": [
      "Enter your range 4\n"
     ]
    },
    {
     "name": "stdout",
     "output_type": "stream",
     "text": [
      "[1, 4, 9, 16]\n"
     ]
    }
   ],
   "source": [
    "\n",
    "\n",
    "def square(x):\n",
    "    x = int(input(\"Enter your range\"))\n",
    "    sqr_list = []\n",
    "    \n",
    "    for i in range(1,x+1):\n",
    "        y = i**2\n",
    "        sqr_list.append(y)\n",
    "    print(sqr_list)\n",
    "\n",
    "square(x)"
   ]
  },
  {
   "cell_type": "code",
   "execution_count": 55,
   "id": "9731bc9c-bf5d-4c89-95a7-c796385a456b",
   "metadata": {},
   "outputs": [
    {
     "name": "stdin",
     "output_type": "stream",
     "text": [
      "Enter range 4\n"
     ]
    },
    {
     "data": {
      "text/plain": [
       "[1, 4, 9, 16]"
      ]
     },
     "execution_count": 55,
     "metadata": {},
     "output_type": "execute_result"
    }
   ],
   "source": [
    "def square1(x):\n",
    "    return x **2 \n",
    "\n",
    "a2 = int(input(\"Enter range\"))\n",
    "a1 = list(map(square1,range(1,a2+1)))\n",
    "a1"
   ]
  },
  {
   "cell_type": "code",
   "execution_count": 58,
   "id": "e84cac67-1442-42af-9646-ff71a0bdcbe2",
   "metadata": {},
   "outputs": [
    {
     "data": {
      "text/plain": [
       "[1, 8, 27, 64, 125]"
      ]
     },
     "execution_count": 58,
     "metadata": {},
     "output_type": "execute_result"
    }
   ],
   "source": [
    " l = [1,2,3,4,5]\n",
    "\n",
    "def cube(x):\n",
    "    return x*x*x\n",
    "\n",
    "list(map(cube,l))"
   ]
  },
  {
   "cell_type": "code",
   "execution_count": 59,
   "id": "7373c0ec-b5f7-480a-8d62-039259a6d9f6",
   "metadata": {},
   "outputs": [
    {
     "data": {
      "text/plain": [
       "[3, 4, 5]"
      ]
     },
     "execution_count": 59,
     "metadata": {},
     "output_type": "execute_result"
    }
   ],
   "source": [
    "list(filter(lambda x:x>2,l))"
   ]
  },
  {
   "cell_type": "code",
   "execution_count": 63,
   "id": "1072b8bf-c64f-4362-9b52-7cd226552317",
   "metadata": {},
   "outputs": [
    {
     "name": "stdout",
     "output_type": "stream",
     "text": [
      "15\n"
     ]
    }
   ],
   "source": [
    "from functools import reduce\n",
    "\n",
    "new = reduce(lambda x,y:x+y,l)\n",
    "print(new)"
   ]
  },
  {
   "cell_type": "code",
   "execution_count": 64,
   "id": "b9655ccd-06e3-4db8-b9ce-dc5c9a3a9e1c",
   "metadata": {},
   "outputs": [
    {
     "name": "stdout",
     "output_type": "stream",
     "text": [
      "[6, 12, 18, 24, 30]\n"
     ]
    }
   ],
   "source": [
    "\n",
    "new_list = list(map(lambda x:x*6,range(1,6)))\n",
    "print(new_list)"
   ]
  },
  {
   "cell_type": "markdown",
   "id": "f0217926-c273-4768-9075-4761c2f6cf66",
   "metadata": {},
   "source": [
    "# map() Function :- \n",
    "* __Higher order function.(Takes a function as an argument).__\n",
    "* __Applies a function to each element in the sequence and returns new transformed sequence.__\n",
    "* __Syntax : (function, iterable).__"
   ]
  },
  {
   "cell_type": "code",
   "execution_count": 76,
   "id": "531172d1-ad65-4959-9979-3a9c6f35ea53",
   "metadata": {},
   "outputs": [
    {
     "name": "stdin",
     "output_type": "stream",
     "text": [
      " 12 34 56\n"
     ]
    },
    {
     "name": "stdout",
     "output_type": "stream",
     "text": [
      "<class 'str'>\n",
      "<class 'str'>\n",
      "<class 'str'>\n"
     ]
    }
   ],
   "source": [
    "#Input and split() together\n",
    "\n",
    "m1,m2,m3 = input().split()\n",
    "\n",
    "print(type(m1))\n",
    "print(type(m2))\n",
    "print(type(m3))\n"
   ]
  },
  {
   "cell_type": "code",
   "execution_count": 77,
   "id": "ac74ad33-6c4d-47c7-9242-7d42220b8eb1",
   "metadata": {},
   "outputs": [
    {
     "name": "stdin",
     "output_type": "stream",
     "text": [
      " 12 34 56\n"
     ]
    },
    {
     "name": "stdout",
     "output_type": "stream",
     "text": [
      "<class 'int'>\n",
      "<class 'int'>\n",
      "<class 'int'>\n"
     ]
    }
   ],
   "source": [
    "#Data typecasting using map()\n",
    "\n",
    "m1,m2,m3 = list(map(int,input().split()))\n",
    "\n",
    "print(type(m1))\n",
    "print(type(m2))\n",
    "print(type(m3))"
   ]
  },
  {
   "cell_type": "code",
   "execution_count": 83,
   "id": "d79dfc28-4862-4818-a3c0-2663b124b78c",
   "metadata": {},
   "outputs": [
    {
     "name": "stdout",
     "output_type": "stream",
     "text": [
      "Filter check :  [12, 34, 66, 88, 8886]\n",
      "Map check :  [144, 1156, 4356, 7744, 78960996]\n"
     ]
    }
   ],
   "source": [
    "#How the map function works \n",
    "\n",
    "a = [12,23,34,45,66,77,88,8886]\n",
    "\n",
    "def even_check(x):\n",
    "    return x%2==0\n",
    "\n",
    "\n",
    "filter_check = list(filter(even_check,a))\n",
    "print(\"Filter check : \",filter_check)\n",
    "\n",
    "\n",
    "def square(a):\n",
    "    return a**2\n",
    "\n",
    "x = list(map(square,filter_check))\n",
    "print(\"Map check : \",x)  #map applies to every element of sequence"
   ]
  },
  {
   "cell_type": "code",
   "execution_count": 86,
   "id": "6a7a588e-842b-4482-833c-59b71e062173",
   "metadata": {},
   "outputs": [
    {
     "name": "stdout",
     "output_type": "stream",
     "text": [
      "[9, 14, 18, 21]\n"
     ]
    }
   ],
   "source": [
    "def add(a, b,c):\n",
    "    return a + b + c\n",
    "\n",
    "numbers1 = [1, 2, 3, 4]\n",
    "numbers2 = [5, 6, 7, 8]\n",
    "num = [3, 6, 8, 9]\n",
    "sums = map(add, numbers1, numbers2, num)\n",
    "print(list(sums))"
   ]
  },
  {
   "cell_type": "code",
   "execution_count": 102,
   "id": "112e2a5e-44a7-4c08-b323-c15349665773",
   "metadata": {},
   "outputs": [
    {
     "name": "stdout",
     "output_type": "stream",
     "text": [
      "7\n",
      "4\n",
      "12\n",
      "0.75\n",
      "0\n",
      "5\n",
      "8\n",
      "True\n",
      "False\n",
      "True\n",
      "True\n",
      "False\n",
      "True\n",
      "True\n"
     ]
    }
   ],
   "source": [
    "import operator\n",
    "\n",
    "print(operator.add(4,3))\n",
    "print(operator.sub(7,3))\n",
    "print(operator.mul(3,4))\n",
    "print(operator.truediv(3,4))\n",
    "print(operator.floordiv(3,4))\n",
    "print(operator.mod(5,6))\n",
    "print(operator.pow(2,3))\n",
    "print(operator.lt(2,3)) # to check if a is less than b or not.\n",
    "print(operator.lt(3,2))\n",
    "print(operator.le(7,8)) #if a is less than or equal to b or not.\n",
    "print(operator.eq(23,23)) # if a is equal to b or not.\n",
    "print(operator.gt(21,23)) #if a is greater than b or not. \n",
    "print(operator.ge(5,4)) #if a is greater than or equal to b or not.\n",
    "print(operator.ne(12,23)) #if a is not equal to b or is equal.\n",
    "\n",
    "\n"
   ]
  },
  {
   "cell_type": "code",
   "execution_count": 109,
   "id": "e810bf12-483a-4691-9cb8-87816d877943",
   "metadata": {},
   "outputs": [
    {
     "name": "stdout",
     "output_type": "stream",
     "text": [
      "Multiplied by 3 :  [0, 3, 6, 9, 12, 15, 18, 21, 24, 27, 30]\n",
      "Squared list :  [0, 9, 36, 81, 144, 225, 324, 441, 576, 729, 900]\n"
     ]
    }
   ],
   "source": [
    "a1 = [0,1,2,3,4,5,6,7,8,9,10]\n",
    "\n",
    "def mult_3(x):\n",
    "    return x*3\n",
    "\n",
    "d = list(map(mult_3,a1))\n",
    "print(\"Multiplied by 3 : \",d)\n",
    "\n",
    "def square(a):\n",
    "    return a**2\n",
    "\n",
    "e = list(map(square,d))\n",
    "print(\"Squared list : \",e)\n",
    "\n"
   ]
  },
  {
   "cell_type": "markdown",
   "id": "154c48ae-edab-4f68-81ab-8d0b03c35569",
   "metadata": {},
   "source": [
    "# reduce()\n",
    "\n",
    "* __Required: from functools import reduce.__\n",
    "\n",
    "\n",
    "#from functools import reduce\n",
    "#import operator\n",
    "\n",
    "\n",
    "\n",
    "\n",
    "\n"
   ]
  },
  {
   "cell_type": "code",
   "execution_count": 121,
   "id": "af053fe4-dd3b-4536-9fd2-10f721d356d2",
   "metadata": {},
   "outputs": [
    {
     "name": "stdout",
     "output_type": "stream",
     "text": [
      "110\n",
      "\n",
      "\n",
      "-106\n",
      "\n",
      "\n",
      "3715891200\n",
      "\n",
      "\n",
      "1.076457782186949e-09\n",
      "\n",
      "\n",
      "465\n"
     ]
    }
   ],
   "source": [
    "l1 = [2,4,6,8,10,12,14,16,18,20]\n",
    "\n",
    "reduce_add = reduce(operator.add,l1)\n",
    "print(reduce_add)\n",
    "print(\"\\n\")\n",
    "\n",
    "reduce_sub = reduce(operator.sub,l1)\n",
    "print(reduce_sub)\n",
    "print(\"\\n\")\n",
    "\n",
    "reduce_mul = reduce(operator.mul,l1)\n",
    "print(reduce_mul)\n",
    "print(\"\\n\")\n",
    "\n",
    "# same as above(multiplication):\n",
    "# reduce_new = reduce(lambda x,y:x*y,l1)\n",
    "# print(reduce_new)\n",
    "\n",
    "reduce_truediv = reduce(operator.truediv,l1)\n",
    "print(reduce_truediv)\n",
    "print(\"\\n\")\n",
    "\n",
    "reduce_new = reduce(lambda x,y:x+y,range(1,31))\n",
    "print(reduce_new)\n",
    "\n",
    "\n"
   ]
  },
  {
   "cell_type": "code",
   "execution_count": 129,
   "id": "622ac69b-2a92-4557-84d2-bf08fa13c51e",
   "metadata": {},
   "outputs": [
    {
     "data": {
      "text/plain": [
       "'RupaliGurav'"
      ]
     },
     "execution_count": 129,
     "metadata": {},
     "output_type": "execute_result"
    }
   ],
   "source": [
    "def add(a,b):\n",
    "    return a+b\n",
    "\n",
    "reduce(add,['Rupali','Gurav'])   #Can also concatenate list "
   ]
  },
  {
   "cell_type": "code",
   "execution_count": 135,
   "id": "2496ce16-038f-4ea3-91d4-4132df985f3a",
   "metadata": {},
   "outputs": [
    {
     "name": "stdout",
     "output_type": "stream",
     "text": [
      "24\n"
     ]
    }
   ],
   "source": [
    "def multi(x,y):\n",
    " return x*y\n",
    "\n",
    "def mysrtre(n):\n",
    "    return reduce(multi,range(1,n+1))\n",
    "\n",
    "print(mysrtre(4))"
   ]
  },
  {
   "cell_type": "code",
   "execution_count": 136,
   "id": "22569d90-eca0-4558-9781-a6276d5a5809",
   "metadata": {},
   "outputs": [
    {
     "data": {
      "text/plain": [
       "24"
      ]
     },
     "execution_count": 136,
     "metadata": {},
     "output_type": "execute_result"
    }
   ],
   "source": [
    "reduce(operator.mul,range(1,5))"
   ]
  },
  {
   "cell_type": "markdown",
   "id": "73c7e08e-4bcd-45bd-a051-f291f3762d27",
   "metadata": {},
   "source": [
    "# sorted()\n",
    "* __sorted function returns sorted list of specified iterable object.__\n",
    "* __Strings are sorted alphabetically numbers numerically.__\n",
    "* __You cannot sort a list that contains BOTH string values AND numeric values.__\n",
    "* __Syntax : sorted(iterable,key=key,reverse=reverse)__\n",
    "* __[ iterable\tRequired. The sequence to sort, list, dictionary, tuple etc.__\n",
    "* __key\tOptional. A Function to execute to decide the order. Default is None__\r",
    "* __\n",
    "reverse\tOptional. A Boolean. False will sort ascending, True will sort descending. Default is Fals__]e\n",
    "* \n",
    "* "
   ]
  },
  {
   "cell_type": "code",
   "execution_count": 3,
   "id": "253d980f-7a76-493f-bbb7-679c6950c107",
   "metadata": {},
   "outputs": [
    {
     "name": "stdout",
     "output_type": "stream",
     "text": [
      "['b', 'a']\n"
     ]
    }
   ],
   "source": [
    "dict = {'a':'a','b':'b'}\n",
    "z = sorted(dict,reverse=True)\n",
    "print(z)"
   ]
  },
  {
   "cell_type": "code",
   "execution_count": 16,
   "id": "8f60d32b-a8eb-408e-a7e8-6b90fc3a5c34",
   "metadata": {},
   "outputs": [
    {
     "data": {
      "text/plain": [
       "[('Krihsna Murthy', 'D', 78), ('Isha Deol', 'B', 90), ('Meera Naik', 'C', 91)]"
      ]
     },
     "execution_count": 16,
     "metadata": {},
     "output_type": "execute_result"
    }
   ],
   "source": [
    "list1 = [\n",
    "    (\"Isha Deol\",'B',90),(\"Meera Naik\",'C',91),(\"Krihsna Murthy\",'D',78)\n",
    "]\n",
    "\n",
    "# sorted_x = sorted(list1)\n",
    "# sorted_x\n",
    "\n",
    "sorted(list1,key=lambda list1:list1[2])"
   ]
  },
  {
   "cell_type": "code",
   "execution_count": 13,
   "id": "38fb73c0-1182-4c37-8196-de98f4da9bc8",
   "metadata": {},
   "outputs": [
    {
     "name": "stdout",
     "output_type": "stream",
     "text": [
      "<class 'list'>\n"
     ]
    }
   ],
   "source": [
    "c = [(7),(8),(23)]\n",
    "print(type(c))"
   ]
  },
  {
   "cell_type": "code",
   "execution_count": 33,
   "id": "49801c64-2659-4292-87b7-077fb32ea5cb",
   "metadata": {},
   "outputs": [],
   "source": [
    "class person: \n",
    "    def __init__(self, name,age, grade, gender): \n",
    "        self.name = name\n",
    "        self.age = gender\n",
    "        self.grade = grade\n",
    "        self.gender = gender\n",
    "  \n",
    "    def __repr__(self):\n",
    "        return repr((self.name,self.age,self.grade,self.gender))\n",
    "  \n",
    "  \n",
    "# # list of objects \n",
    "gfg = [person(\"Sakshi\", 6,'b','f'), \n",
    "       person(\"Meera\", 9,'c','m'), \n",
    "       person(\"Gita\", 5,'d','f'), \n",
    "       person(\"Rupali\", 4,'a','m'), \n",
    "       person(\"Meena\", 3,'b','f')] \n",
    "  \n",
    "# # sorting objects on the basis of value  \n",
    "# # stored at variable b \n",
    "a = sorted(gfg, key=lambda x:x.name) \n",
    "\n",
    "\n",
    "\n"
   ]
  },
  {
   "cell_type": "code",
   "execution_count": 32,
   "id": "ba51db48-57c6-49d6-b60a-a7b4647e21f8",
   "metadata": {},
   "outputs": [
    {
     "ename": "TypeError",
     "evalue": "'dict' object is not callable",
     "output_type": "error",
     "traceback": [
      "\u001b[1;31m---------------------------------------------------------------------------\u001b[0m",
      "\u001b[1;31mTypeError\u001b[0m                                 Traceback (most recent call last)",
      "Cell \u001b[1;32mIn[32], line 6\u001b[0m\n\u001b[0;32m      3\u001b[0m data \u001b[38;5;241m=\u001b[39m ((\u001b[38;5;241m24\u001b[39m, \u001b[38;5;124m\"\u001b[39m\u001b[38;5;124mbobby\u001b[39m\u001b[38;5;124m\"\u001b[39m), (\u001b[38;5;241m21\u001b[39m, \u001b[38;5;124m\"\u001b[39m\u001b[38;5;124mojsawi\u001b[39m\u001b[38;5;124m\"\u001b[39m)) \n\u001b[0;32m      5\u001b[0m \u001b[38;5;66;03m# convert into dictionary \u001b[39;00m\n\u001b[1;32m----> 6\u001b[0m final \u001b[38;5;241m=\u001b[39m \u001b[38;5;28;43mdict\u001b[39;49m\u001b[43m(\u001b[49m\u001b[43m(\u001b[49m\u001b[43mvalue\u001b[49m\u001b[43m,\u001b[49m\u001b[43m \u001b[49m\u001b[43mkey\u001b[49m\u001b[43m)\u001b[49m\u001b[43m \u001b[49m\u001b[38;5;28;43;01mfor\u001b[39;49;00m\u001b[43m \u001b[49m\u001b[43mkey\u001b[49m\u001b[43m,\u001b[49m\u001b[43mvalue\u001b[49m\u001b[43m \u001b[49m\u001b[38;5;129;43;01min\u001b[39;49;00m\u001b[43m \u001b[49m\u001b[43mdata\u001b[49m\u001b[43m)\u001b[49m \n\u001b[0;32m      8\u001b[0m \u001b[38;5;66;03m# display \u001b[39;00m\n\u001b[0;32m      9\u001b[0m \u001b[38;5;28mprint\u001b[39m(final) \n",
      "\u001b[1;31mTypeError\u001b[0m: 'dict' object is not callable"
     ]
    }
   ],
   "source": [
    "# one value is age of student \n",
    "# second value is student name \n",
    "data = ((24, \"bobby\"), (21, \"ojsawi\")) \n",
    "  \n",
    "# convert into dictionary \n",
    "final = dict((value, key) for key,value in data) \n",
    "  \n",
    "# display \n",
    "print(final) "
   ]
  },
  {
   "cell_type": "code",
   "execution_count": 39,
   "id": "9bff14ce-a48f-4d33-8e2a-9455fad8ef5f",
   "metadata": {},
   "outputs": [
    {
     "name": "stdout",
     "output_type": "stream",
     "text": [
      "[('Sakshi', 6, 'b', 'f'), ('Rupali', 4, 'a', 'm'), ('Meera', 9, 'c', 'm'), ('Meena', 3, 'b', 'f'), ('Gita', 5, 'd', 'f')]\n"
     ]
    }
   ],
   "source": [
    "class person: \n",
    "    def __init__(self, name,age, grade, gender): \n",
    "        self.name = name\n",
    "        self.age = age\n",
    "        self.grade = grade\n",
    "        self.gender = gender\n",
    "  \n",
    "    def __repr__(self):\n",
    "        return repr((self.name,self.age,self.grade,self.gender))\n",
    "  \n",
    "  \n",
    "gfg = [\n",
    "    person(\"Sakshi\", 6,'b','f'), \n",
    "    person(\"Meera\", 9,'c','m'), \n",
    "    person(\"Gita\", 5,'d','f'), \n",
    "    person(\"Rupali\", 4,'a','m'), \n",
    "    person(\"Meena\", 3,'b','f')\n",
    "] \n",
    "  \n",
    "\n",
    "# a = sorted(gfg, key=lambda x:x.name,reverse=True) \n",
    "# print(a)\n",
    "\n",
    "a = sorted(gfg, key = lambda person:person.name,reverse=True) \n",
    "print(a)\n",
    "\n",
    "\n",
    "\n"
   ]
  },
  {
   "cell_type": "code",
   "execution_count": null,
   "id": "96376d5f-8ea1-4aa2-8761-f40de60cf600",
   "metadata": {},
   "outputs": [],
   "source": [
    "n = [int(input(\"Enter any number : \"))]\n",
    "\n",
    "list(map(lambda n:n**2,n))"
   ]
  },
  {
   "cell_type": "code",
   "execution_count": null,
   "id": "40f25c4e-2e5b-4083-b196-f194d7773833",
   "metadata": {},
   "outputs": [],
   "source": [
    "n = [int(input(\"Enter any number : \"))]\n",
    "\n",
    "table = list(map(lambda n:n//2,n))\n",
    "print(table)"
   ]
  },
  {
   "cell_type": "code",
   "execution_count": null,
   "id": "25d8392e-0da3-4a3f-8044-538e8df7fdd4",
   "metadata": {},
   "outputs": [],
   "source": [
    "x=int(input(\"enter\"))\n",
    "list1 = []\n",
    "\n",
    "for i in range(1,x+1):\n",
    "    list1.append(i)\n",
    "print(list1)\n",
    "\n",
    "table = map(lambda y:y**2,list1)\n",
    "print(list(table))"
   ]
  },
  {
   "cell_type": "code",
   "execution_count": null,
   "id": "1e46f63e-5cdc-4528-97ec-3bf23fbafa7b",
   "metadata": {},
   "outputs": [],
   "source": [
    "data = [1,2,3]\n",
    "squared = map(lambda x:x**3, data)\n",
    "print(list(squared))"
   ]
  },
  {
   "cell_type": "code",
   "execution_count": null,
   "id": "22a9a76f-775f-4ff8-a21a-5e35aa005c2a",
   "metadata": {},
   "outputs": [],
   "source": [
    "#Modify string using map\n",
    "\n",
    "l = ['sat','mat','cat']\n",
    "test = list(map(list,l))\n",
    "print(test)\n",
    "\n"
   ]
  },
  {
   "cell_type": "code",
   "execution_count": null,
   "id": "2b69586d-1149-43f6-89f7-6f006256509f",
   "metadata": {},
   "outputs": [],
   "source": [
    "# Add two list using map and lambda\n",
    "\n",
    "num1 = [1,2,3,4]\n",
    "num2 = [ 2,4,6,8]\n",
    "result = list(map(lambda x,y:x+y, num1,num2))\n",
    "print(result)"
   ]
  },
  {
   "cell_type": "code",
   "execution_count": null,
   "id": "18f3c7ab-47b0-4afd-ac02-868dbd8c439a",
   "metadata": {},
   "outputs": [],
   "source": [
    "#map() with lambda expression.\n",
    "\n",
    "# We can use lambda in place of addition() function to get same results.  \n",
    "\n",
    "numbers = [1,2,3,4,5,6]\n",
    "result = list(map(lambda x:x+x, numbers))\n",
    "print(result)"
   ]
  },
  {
   "cell_type": "code",
   "execution_count": null,
   "id": "f34078ee-bb2a-4bd7-8633-d5a85ef65aae",
   "metadata": {},
   "outputs": [],
   "source": [
    "#Python program to demonstrate working of map : \n",
    "\n",
    "def addition(n):\n",
    "    return n+n\n",
    "\n",
    "numbers = [1,2,3,4,5,6]\n",
    "result = list(map(addition,numbers))\n",
    "print(result)"
   ]
  }
 ],
 "metadata": {
  "kernelspec": {
   "display_name": "Python 3 (ipykernel)",
   "language": "python",
   "name": "python3"
  },
  "language_info": {
   "codemirror_mode": {
    "name": "ipython",
    "version": 3
   },
   "file_extension": ".py",
   "mimetype": "text/x-python",
   "name": "python",
   "nbconvert_exporter": "python",
   "pygments_lexer": "ipython3",
   "version": "3.12.4"
  }
 },
 "nbformat": 4,
 "nbformat_minor": 5
}
